{
 "cells": [
  {
   "cell_type": "code",
   "execution_count": 1,
   "metadata": {},
   "outputs": [],
   "source": [
    "import numpy as np\n",
    "import pandas as pd\n",
    "import plotly.express as px\n",
    "import plotly.graph_objects as go\n",
    "import matplotlib.pyplot as plt"
   ]
  },
  {
   "cell_type": "code",
   "execution_count": 2,
   "metadata": {},
   "outputs": [
    {
     "data": {
      "text/html": [
       "<div>\n",
       "<style scoped>\n",
       "    .dataframe tbody tr th:only-of-type {\n",
       "        vertical-align: middle;\n",
       "    }\n",
       "\n",
       "    .dataframe tbody tr th {\n",
       "        vertical-align: top;\n",
       "    }\n",
       "\n",
       "    .dataframe thead th {\n",
       "        text-align: right;\n",
       "    }\n",
       "</style>\n",
       "<table border=\"1\" class=\"dataframe\">\n",
       "  <thead>\n",
       "    <tr style=\"text-align: right;\">\n",
       "      <th></th>\n",
       "      <th>Row ID</th>\n",
       "      <th>Order ID</th>\n",
       "      <th>Order Date</th>\n",
       "      <th>Ship Date</th>\n",
       "      <th>Ship Mode</th>\n",
       "      <th>Customer ID</th>\n",
       "      <th>Customer Name</th>\n",
       "      <th>Segment</th>\n",
       "      <th>Country</th>\n",
       "      <th>City</th>\n",
       "      <th>...</th>\n",
       "      <th>Postal Code</th>\n",
       "      <th>Region</th>\n",
       "      <th>Product ID</th>\n",
       "      <th>Category</th>\n",
       "      <th>Sub-Category</th>\n",
       "      <th>Product Name</th>\n",
       "      <th>Sales</th>\n",
       "      <th>Quantity</th>\n",
       "      <th>Discount</th>\n",
       "      <th>Profit</th>\n",
       "    </tr>\n",
       "  </thead>\n",
       "  <tbody>\n",
       "    <tr>\n",
       "      <th>0</th>\n",
       "      <td>1</td>\n",
       "      <td>CA-2016-152156</td>\n",
       "      <td>11/8/2016</td>\n",
       "      <td>11/11/2016</td>\n",
       "      <td>Second Class</td>\n",
       "      <td>CG-12520</td>\n",
       "      <td>Claire Gute</td>\n",
       "      <td>Consumer</td>\n",
       "      <td>United States</td>\n",
       "      <td>Henderson</td>\n",
       "      <td>...</td>\n",
       "      <td>42420</td>\n",
       "      <td>South</td>\n",
       "      <td>FUR-BO-10001798</td>\n",
       "      <td>Furniture</td>\n",
       "      <td>Bookcases</td>\n",
       "      <td>Bush Somerset Collection Bookcase</td>\n",
       "      <td>261.9600</td>\n",
       "      <td>2</td>\n",
       "      <td>0.00</td>\n",
       "      <td>41.9136</td>\n",
       "    </tr>\n",
       "    <tr>\n",
       "      <th>1</th>\n",
       "      <td>2</td>\n",
       "      <td>CA-2016-152156</td>\n",
       "      <td>11/8/2016</td>\n",
       "      <td>11/11/2016</td>\n",
       "      <td>Second Class</td>\n",
       "      <td>CG-12520</td>\n",
       "      <td>Claire Gute</td>\n",
       "      <td>Consumer</td>\n",
       "      <td>United States</td>\n",
       "      <td>Henderson</td>\n",
       "      <td>...</td>\n",
       "      <td>42420</td>\n",
       "      <td>South</td>\n",
       "      <td>FUR-CH-10000454</td>\n",
       "      <td>Furniture</td>\n",
       "      <td>Chairs</td>\n",
       "      <td>Hon Deluxe Fabric Upholstered Stacking Chairs,...</td>\n",
       "      <td>731.9400</td>\n",
       "      <td>3</td>\n",
       "      <td>0.00</td>\n",
       "      <td>219.5820</td>\n",
       "    </tr>\n",
       "    <tr>\n",
       "      <th>2</th>\n",
       "      <td>4</td>\n",
       "      <td>US-2015-108966</td>\n",
       "      <td>10/11/2015</td>\n",
       "      <td>10/18/2015</td>\n",
       "      <td>Standard Class</td>\n",
       "      <td>SO-20335</td>\n",
       "      <td>Sean O'Donnell</td>\n",
       "      <td>Consumer</td>\n",
       "      <td>United States</td>\n",
       "      <td>Fort Lauderdale</td>\n",
       "      <td>...</td>\n",
       "      <td>33311</td>\n",
       "      <td>South</td>\n",
       "      <td>FUR-TA-10000577</td>\n",
       "      <td>Furniture</td>\n",
       "      <td>Tables</td>\n",
       "      <td>Bretford CR4500 Series Slim Rectangular Table</td>\n",
       "      <td>957.5775</td>\n",
       "      <td>5</td>\n",
       "      <td>0.45</td>\n",
       "      <td>-383.0310</td>\n",
       "    </tr>\n",
       "    <tr>\n",
       "      <th>3</th>\n",
       "      <td>6</td>\n",
       "      <td>CA-2014-115812</td>\n",
       "      <td>6/9/2014</td>\n",
       "      <td>6/14/2014</td>\n",
       "      <td>Standard Class</td>\n",
       "      <td>BH-11710</td>\n",
       "      <td>Brosina Hoffman</td>\n",
       "      <td>Consumer</td>\n",
       "      <td>United States</td>\n",
       "      <td>Los Angeles</td>\n",
       "      <td>...</td>\n",
       "      <td>90032</td>\n",
       "      <td>West</td>\n",
       "      <td>FUR-FU-10001487</td>\n",
       "      <td>Furniture</td>\n",
       "      <td>Furnishings</td>\n",
       "      <td>Eldon Expressions Wood and Plastic Desk Access...</td>\n",
       "      <td>48.8600</td>\n",
       "      <td>7</td>\n",
       "      <td>0.00</td>\n",
       "      <td>14.1694</td>\n",
       "    </tr>\n",
       "    <tr>\n",
       "      <th>4</th>\n",
       "      <td>11</td>\n",
       "      <td>CA-2014-115812</td>\n",
       "      <td>6/9/2014</td>\n",
       "      <td>6/14/2014</td>\n",
       "      <td>Standard Class</td>\n",
       "      <td>BH-11710</td>\n",
       "      <td>Brosina Hoffman</td>\n",
       "      <td>Consumer</td>\n",
       "      <td>United States</td>\n",
       "      <td>Los Angeles</td>\n",
       "      <td>...</td>\n",
       "      <td>90032</td>\n",
       "      <td>West</td>\n",
       "      <td>FUR-TA-10001539</td>\n",
       "      <td>Furniture</td>\n",
       "      <td>Tables</td>\n",
       "      <td>Chromcraft Rectangular Conference Tables</td>\n",
       "      <td>1706.1840</td>\n",
       "      <td>9</td>\n",
       "      <td>0.20</td>\n",
       "      <td>85.3092</td>\n",
       "    </tr>\n",
       "    <tr>\n",
       "      <th>...</th>\n",
       "      <td>...</td>\n",
       "      <td>...</td>\n",
       "      <td>...</td>\n",
       "      <td>...</td>\n",
       "      <td>...</td>\n",
       "      <td>...</td>\n",
       "      <td>...</td>\n",
       "      <td>...</td>\n",
       "      <td>...</td>\n",
       "      <td>...</td>\n",
       "      <td>...</td>\n",
       "      <td>...</td>\n",
       "      <td>...</td>\n",
       "      <td>...</td>\n",
       "      <td>...</td>\n",
       "      <td>...</td>\n",
       "      <td>...</td>\n",
       "      <td>...</td>\n",
       "      <td>...</td>\n",
       "      <td>...</td>\n",
       "      <td>...</td>\n",
       "    </tr>\n",
       "    <tr>\n",
       "      <th>2116</th>\n",
       "      <td>9963</td>\n",
       "      <td>CA-2015-168088</td>\n",
       "      <td>3/19/2015</td>\n",
       "      <td>3/22/2015</td>\n",
       "      <td>First Class</td>\n",
       "      <td>CM-12655</td>\n",
       "      <td>Corinna Mitchell</td>\n",
       "      <td>Home Office</td>\n",
       "      <td>United States</td>\n",
       "      <td>Houston</td>\n",
       "      <td>...</td>\n",
       "      <td>77041</td>\n",
       "      <td>Central</td>\n",
       "      <td>FUR-BO-10004218</td>\n",
       "      <td>Furniture</td>\n",
       "      <td>Bookcases</td>\n",
       "      <td>Bush Heritage Pine Collection 5-Shelf Bookcase...</td>\n",
       "      <td>383.4656</td>\n",
       "      <td>4</td>\n",
       "      <td>0.32</td>\n",
       "      <td>-67.6704</td>\n",
       "    </tr>\n",
       "    <tr>\n",
       "      <th>2117</th>\n",
       "      <td>9965</td>\n",
       "      <td>CA-2016-146374</td>\n",
       "      <td>12/5/2016</td>\n",
       "      <td>12/10/2016</td>\n",
       "      <td>Second Class</td>\n",
       "      <td>HE-14800</td>\n",
       "      <td>Harold Engle</td>\n",
       "      <td>Corporate</td>\n",
       "      <td>United States</td>\n",
       "      <td>Newark</td>\n",
       "      <td>...</td>\n",
       "      <td>19711</td>\n",
       "      <td>East</td>\n",
       "      <td>FUR-FU-10002671</td>\n",
       "      <td>Furniture</td>\n",
       "      <td>Furnishings</td>\n",
       "      <td>Electrix 20W Halogen Replacement Bulb for Zoom...</td>\n",
       "      <td>13.4000</td>\n",
       "      <td>1</td>\n",
       "      <td>0.00</td>\n",
       "      <td>6.4320</td>\n",
       "    </tr>\n",
       "    <tr>\n",
       "      <th>2118</th>\n",
       "      <td>9981</td>\n",
       "      <td>US-2015-151435</td>\n",
       "      <td>9/6/2015</td>\n",
       "      <td>9/9/2015</td>\n",
       "      <td>Second Class</td>\n",
       "      <td>SW-20455</td>\n",
       "      <td>Shaun Weien</td>\n",
       "      <td>Consumer</td>\n",
       "      <td>United States</td>\n",
       "      <td>Lafayette</td>\n",
       "      <td>...</td>\n",
       "      <td>70506</td>\n",
       "      <td>South</td>\n",
       "      <td>FUR-TA-10001039</td>\n",
       "      <td>Furniture</td>\n",
       "      <td>Tables</td>\n",
       "      <td>KI Adjustable-Height Table</td>\n",
       "      <td>85.9800</td>\n",
       "      <td>1</td>\n",
       "      <td>0.00</td>\n",
       "      <td>22.3548</td>\n",
       "    </tr>\n",
       "    <tr>\n",
       "      <th>2119</th>\n",
       "      <td>9990</td>\n",
       "      <td>CA-2014-110422</td>\n",
       "      <td>1/21/2014</td>\n",
       "      <td>1/23/2014</td>\n",
       "      <td>Second Class</td>\n",
       "      <td>TB-21400</td>\n",
       "      <td>Tom Boeckenhauer</td>\n",
       "      <td>Consumer</td>\n",
       "      <td>United States</td>\n",
       "      <td>Miami</td>\n",
       "      <td>...</td>\n",
       "      <td>33180</td>\n",
       "      <td>South</td>\n",
       "      <td>FUR-FU-10001889</td>\n",
       "      <td>Furniture</td>\n",
       "      <td>Furnishings</td>\n",
       "      <td>Ultra Door Pull Handle</td>\n",
       "      <td>25.2480</td>\n",
       "      <td>3</td>\n",
       "      <td>0.20</td>\n",
       "      <td>4.1028</td>\n",
       "    </tr>\n",
       "    <tr>\n",
       "      <th>2120</th>\n",
       "      <td>9991</td>\n",
       "      <td>CA-2017-121258</td>\n",
       "      <td>2/26/2017</td>\n",
       "      <td>3/3/2017</td>\n",
       "      <td>Standard Class</td>\n",
       "      <td>DB-13060</td>\n",
       "      <td>Dave Brooks</td>\n",
       "      <td>Consumer</td>\n",
       "      <td>United States</td>\n",
       "      <td>Costa Mesa</td>\n",
       "      <td>...</td>\n",
       "      <td>92627</td>\n",
       "      <td>West</td>\n",
       "      <td>FUR-FU-10000747</td>\n",
       "      <td>Furniture</td>\n",
       "      <td>Furnishings</td>\n",
       "      <td>Tenex B1-RE Series Chair Mats for Low Pile Car...</td>\n",
       "      <td>91.9600</td>\n",
       "      <td>2</td>\n",
       "      <td>0.00</td>\n",
       "      <td>15.6332</td>\n",
       "    </tr>\n",
       "  </tbody>\n",
       "</table>\n",
       "<p>2121 rows × 21 columns</p>\n",
       "</div>"
      ],
      "text/plain": [
       "      Row ID        Order ID  Order Date   Ship Date       Ship Mode  \\\n",
       "0          1  CA-2016-152156   11/8/2016  11/11/2016    Second Class   \n",
       "1          2  CA-2016-152156   11/8/2016  11/11/2016    Second Class   \n",
       "2          4  US-2015-108966  10/11/2015  10/18/2015  Standard Class   \n",
       "3          6  CA-2014-115812    6/9/2014   6/14/2014  Standard Class   \n",
       "4         11  CA-2014-115812    6/9/2014   6/14/2014  Standard Class   \n",
       "...      ...             ...         ...         ...             ...   \n",
       "2116    9963  CA-2015-168088   3/19/2015   3/22/2015     First Class   \n",
       "2117    9965  CA-2016-146374   12/5/2016  12/10/2016    Second Class   \n",
       "2118    9981  US-2015-151435    9/6/2015    9/9/2015    Second Class   \n",
       "2119    9990  CA-2014-110422   1/21/2014   1/23/2014    Second Class   \n",
       "2120    9991  CA-2017-121258   2/26/2017    3/3/2017  Standard Class   \n",
       "\n",
       "     Customer ID     Customer Name      Segment        Country  \\\n",
       "0       CG-12520       Claire Gute     Consumer  United States   \n",
       "1       CG-12520       Claire Gute     Consumer  United States   \n",
       "2       SO-20335    Sean O'Donnell     Consumer  United States   \n",
       "3       BH-11710   Brosina Hoffman     Consumer  United States   \n",
       "4       BH-11710   Brosina Hoffman     Consumer  United States   \n",
       "...          ...               ...          ...            ...   \n",
       "2116    CM-12655  Corinna Mitchell  Home Office  United States   \n",
       "2117    HE-14800      Harold Engle    Corporate  United States   \n",
       "2118    SW-20455       Shaun Weien     Consumer  United States   \n",
       "2119    TB-21400  Tom Boeckenhauer     Consumer  United States   \n",
       "2120    DB-13060       Dave Brooks     Consumer  United States   \n",
       "\n",
       "                 City  ... Postal Code   Region       Product ID   Category  \\\n",
       "0           Henderson  ...       42420    South  FUR-BO-10001798  Furniture   \n",
       "1           Henderson  ...       42420    South  FUR-CH-10000454  Furniture   \n",
       "2     Fort Lauderdale  ...       33311    South  FUR-TA-10000577  Furniture   \n",
       "3         Los Angeles  ...       90032     West  FUR-FU-10001487  Furniture   \n",
       "4         Los Angeles  ...       90032     West  FUR-TA-10001539  Furniture   \n",
       "...               ...  ...         ...      ...              ...        ...   \n",
       "2116          Houston  ...       77041  Central  FUR-BO-10004218  Furniture   \n",
       "2117           Newark  ...       19711     East  FUR-FU-10002671  Furniture   \n",
       "2118        Lafayette  ...       70506    South  FUR-TA-10001039  Furniture   \n",
       "2119            Miami  ...       33180    South  FUR-FU-10001889  Furniture   \n",
       "2120       Costa Mesa  ...       92627     West  FUR-FU-10000747  Furniture   \n",
       "\n",
       "     Sub-Category                                       Product Name  \\\n",
       "0       Bookcases                  Bush Somerset Collection Bookcase   \n",
       "1          Chairs  Hon Deluxe Fabric Upholstered Stacking Chairs,...   \n",
       "2          Tables      Bretford CR4500 Series Slim Rectangular Table   \n",
       "3     Furnishings  Eldon Expressions Wood and Plastic Desk Access...   \n",
       "4          Tables           Chromcraft Rectangular Conference Tables   \n",
       "...           ...                                                ...   \n",
       "2116    Bookcases  Bush Heritage Pine Collection 5-Shelf Bookcase...   \n",
       "2117  Furnishings  Electrix 20W Halogen Replacement Bulb for Zoom...   \n",
       "2118       Tables                         KI Adjustable-Height Table   \n",
       "2119  Furnishings                             Ultra Door Pull Handle   \n",
       "2120  Furnishings  Tenex B1-RE Series Chair Mats for Low Pile Car...   \n",
       "\n",
       "          Sales  Quantity  Discount    Profit  \n",
       "0      261.9600         2      0.00   41.9136  \n",
       "1      731.9400         3      0.00  219.5820  \n",
       "2      957.5775         5      0.45 -383.0310  \n",
       "3       48.8600         7      0.00   14.1694  \n",
       "4     1706.1840         9      0.20   85.3092  \n",
       "...         ...       ...       ...       ...  \n",
       "2116   383.4656         4      0.32  -67.6704  \n",
       "2117    13.4000         1      0.00    6.4320  \n",
       "2118    85.9800         1      0.00   22.3548  \n",
       "2119    25.2480         3      0.20    4.1028  \n",
       "2120    91.9600         2      0.00   15.6332  \n",
       "\n",
       "[2121 rows x 21 columns]"
      ]
     },
     "execution_count": 2,
     "metadata": {},
     "output_type": "execute_result"
    }
   ],
   "source": [
    "df = pd.read_csv('data/quest.csv')\n",
    "df"
   ]
  },
  {
   "cell_type": "markdown",
   "metadata": {},
   "source": [
    "## Checking the data to see datatyppes and if there are any null values."
   ]
  },
  {
   "cell_type": "code",
   "execution_count": 3,
   "metadata": {},
   "outputs": [
    {
     "name": "stdout",
     "output_type": "stream",
     "text": [
      "<class 'pandas.core.frame.DataFrame'>\n",
      "RangeIndex: 2121 entries, 0 to 2120\n",
      "Data columns (total 21 columns):\n",
      " #   Column         Non-Null Count  Dtype  \n",
      "---  ------         --------------  -----  \n",
      " 0   Row ID         2121 non-null   int64  \n",
      " 1   Order ID       2121 non-null   object \n",
      " 2   Order Date     2121 non-null   object \n",
      " 3   Ship Date      2121 non-null   object \n",
      " 4   Ship Mode      2121 non-null   object \n",
      " 5   Customer ID    2121 non-null   object \n",
      " 6   Customer Name  2121 non-null   object \n",
      " 7   Segment        2121 non-null   object \n",
      " 8   Country        2121 non-null   object \n",
      " 9   City           2121 non-null   object \n",
      " 10  State          2121 non-null   object \n",
      " 11  Postal Code    2121 non-null   int64  \n",
      " 12  Region         2121 non-null   object \n",
      " 13  Product ID     2121 non-null   object \n",
      " 14  Category       2121 non-null   object \n",
      " 15  Sub-Category   2121 non-null   object \n",
      " 16  Product Name   2121 non-null   object \n",
      " 17  Sales          2015 non-null   float64\n",
      " 18  Quantity       2121 non-null   int64  \n",
      " 19  Discount       2015 non-null   float64\n",
      " 20  Profit         2121 non-null   float64\n",
      "dtypes: float64(3), int64(3), object(15)\n",
      "memory usage: 348.1+ KB\n"
     ]
    }
   ],
   "source": [
    "df.info()"
   ]
  },
  {
   "cell_type": "markdown",
   "metadata": {},
   "source": [
    "As we can see two columns have missing values<br>\n",
    "So we have to handle missing data but which approach would we take?<br>\n",
    "since the columns with missing values are 'floats' and are also of such nature being the record of 'Sales' and 'Discount' we are going to drop the row that have the missing valaues. "
   ]
  },
  {
   "cell_type": "code",
   "execution_count": 4,
   "metadata": {},
   "outputs": [
    {
     "data": {
      "text/plain": [
       "Row ID             0\n",
       "Order ID           0\n",
       "Order Date         0\n",
       "Ship Date          0\n",
       "Ship Mode          0\n",
       "Customer ID        0\n",
       "Customer Name      0\n",
       "Segment            0\n",
       "Country            0\n",
       "City               0\n",
       "State              0\n",
       "Postal Code        0\n",
       "Region             0\n",
       "Product ID         0\n",
       "Category           0\n",
       "Sub-Category       0\n",
       "Product Name       0\n",
       "Sales            106\n",
       "Quantity           0\n",
       "Discount         106\n",
       "Profit             0\n",
       "dtype: int64"
      ]
     },
     "execution_count": 4,
     "metadata": {},
     "output_type": "execute_result"
    }
   ],
   "source": [
    "df.isna().sum()"
   ]
  },
  {
   "cell_type": "code",
   "execution_count": 5,
   "metadata": {},
   "outputs": [
    {
     "name": "stdout",
     "output_type": "stream",
     "text": [
      "<class 'pandas.core.frame.DataFrame'>\n",
      "Index: 2015 entries, 0 to 2120\n",
      "Data columns (total 21 columns):\n",
      " #   Column         Non-Null Count  Dtype  \n",
      "---  ------         --------------  -----  \n",
      " 0   Row ID         2015 non-null   int64  \n",
      " 1   Order ID       2015 non-null   object \n",
      " 2   Order Date     2015 non-null   object \n",
      " 3   Ship Date      2015 non-null   object \n",
      " 4   Ship Mode      2015 non-null   object \n",
      " 5   Customer ID    2015 non-null   object \n",
      " 6   Customer Name  2015 non-null   object \n",
      " 7   Segment        2015 non-null   object \n",
      " 8   Country        2015 non-null   object \n",
      " 9   City           2015 non-null   object \n",
      " 10  State          2015 non-null   object \n",
      " 11  Postal Code    2015 non-null   int64  \n",
      " 12  Region         2015 non-null   object \n",
      " 13  Product ID     2015 non-null   object \n",
      " 14  Category       2015 non-null   object \n",
      " 15  Sub-Category   2015 non-null   object \n",
      " 16  Product Name   2015 non-null   object \n",
      " 17  Sales          2015 non-null   float64\n",
      " 18  Quantity       2015 non-null   int64  \n",
      " 19  Discount       2015 non-null   float64\n",
      " 20  Profit         2015 non-null   float64\n",
      "dtypes: float64(3), int64(3), object(15)\n",
      "memory usage: 346.3+ KB\n"
     ]
    }
   ],
   "source": [
    "nan_columns = ['Sales', 'Discount']\n",
    "\n",
    "df = df.dropna()\n",
    "df.info()"
   ]
  },
  {
   "cell_type": "code",
   "execution_count": 6,
   "metadata": {},
   "outputs": [
    {
     "data": {
      "text/plain": [
       "Row ID           0\n",
       "Order ID         0\n",
       "Order Date       0\n",
       "Ship Date        0\n",
       "Ship Mode        0\n",
       "Customer ID      0\n",
       "Customer Name    0\n",
       "Segment          0\n",
       "Country          0\n",
       "City             0\n",
       "State            0\n",
       "Postal Code      0\n",
       "Region           0\n",
       "Product ID       0\n",
       "Category         0\n",
       "Sub-Category     0\n",
       "Product Name     0\n",
       "Sales            0\n",
       "Quantity         0\n",
       "Discount         0\n",
       "Profit           0\n",
       "dtype: int64"
      ]
     },
     "execution_count": 6,
     "metadata": {},
     "output_type": "execute_result"
    }
   ],
   "source": [
    "df.isna().sum()"
   ]
  },
  {
   "cell_type": "markdown",
   "metadata": {},
   "source": [
    "# As we can see all the columns are now the same with no missing values."
   ]
  },
  {
   "cell_type": "markdown",
   "metadata": {},
   "source": [
    "Analyse the trend of total sales and profits over time. "
   ]
  },
  {
   "cell_type": "code",
   "execution_count": 7,
   "metadata": {},
   "outputs": [
    {
     "data": {
      "application/vnd.plotly.v1+json": {
       "config": {
        "plotlyServerURL": "https://plot.ly"
       },
       "data": [
        {
         "hovertemplate": "variable=Sales<br>Order Date=%{x}<br>value=%{y}<extra></extra>",
         "legendgroup": "Sales",
         "line": {
          "color": "#636efa",
          "dash": "solid"
         },
         "marker": {
          "symbol": "circle"
         },
         "mode": "lines",
         "name": "Sales",
         "showlegend": true,
         "type": "scattergl",
         "x": [
          "9/9/2017",
          "9/9/2016",
          "9/9/2014",
          "9/8/2017",
          "9/8/2016",
          "9/8/2015",
          "9/8/2014",
          "9/7/2017",
          "9/7/2015",
          "9/7/2014",
          "9/6/2016",
          "9/6/2015",
          "9/6/2014",
          "9/5/2016",
          "9/5/2015",
          "9/5/2014",
          "9/4/2017",
          "9/4/2016",
          "9/30/2016",
          "9/30/2014",
          "9/3/2017",
          "9/3/2016",
          "9/3/2015",
          "9/29/2017",
          "9/29/2014",
          "9/28/2017",
          "9/28/2014",
          "9/27/2016",
          "9/27/2015",
          "9/27/2014",
          "9/26/2017",
          "9/26/2016",
          "9/26/2014",
          "9/25/2017",
          "9/25/2016",
          "9/25/2015",
          "9/25/2014",
          "9/24/2017",
          "9/24/2016",
          "9/24/2015",
          "9/23/2017",
          "9/23/2016",
          "9/23/2014",
          "9/22/2017",
          "9/22/2016",
          "9/22/2015",
          "9/22/2014",
          "9/21/2015",
          "9/21/2014",
          "9/20/2017",
          "9/20/2016",
          "9/20/2014",
          "9/2/2017",
          "9/2/2016",
          "9/2/2014",
          "9/19/2017",
          "9/19/2016",
          "9/19/2015",
          "9/19/2014",
          "9/18/2017",
          "9/18/2016",
          "9/18/2015",
          "9/17/2017",
          "9/17/2016",
          "9/17/2015",
          "9/17/2014",
          "9/16/2017",
          "9/16/2016",
          "9/15/2017",
          "9/15/2016",
          "9/15/2015",
          "9/15/2014",
          "9/14/2017",
          "9/14/2015",
          "9/14/2014",
          "9/13/2016",
          "9/13/2015",
          "9/13/2014",
          "9/12/2016",
          "9/12/2014",
          "9/11/2017",
          "9/11/2015",
          "9/11/2014",
          "9/10/2017",
          "9/10/2016",
          "9/10/2015",
          "9/10/2014",
          "9/1/2017",
          "9/1/2016",
          "9/1/2015",
          "8/9/2015",
          "8/8/2015",
          "8/8/2014",
          "8/7/2017",
          "8/7/2015",
          "8/6/2017",
          "8/6/2015",
          "8/5/2015",
          "8/5/2014",
          "8/4/2016",
          "8/31/2017",
          "8/31/2015",
          "8/30/2016",
          "8/3/2017",
          "8/3/2014",
          "8/29/2017",
          "8/29/2016",
          "8/29/2014",
          "8/28/2017",
          "8/28/2016",
          "8/28/2015",
          "8/27/2017",
          "8/27/2016",
          "8/27/2014",
          "8/26/2017",
          "8/26/2016",
          "8/25/2017",
          "8/25/2015",
          "8/25/2014",
          "8/24/2015",
          "8/24/2014",
          "8/23/2017",
          "8/23/2016",
          "8/23/2014",
          "8/22/2017",
          "8/22/2016",
          "8/21/2017",
          "8/21/2016",
          "8/21/2015",
          "8/20/2014",
          "8/2/2015",
          "8/19/2014",
          "8/18/2017",
          "8/18/2016",
          "8/17/2017",
          "8/16/2016",
          "8/16/2015",
          "8/16/2014",
          "8/15/2016",
          "8/15/2015",
          "8/15/2014",
          "8/14/2017",
          "8/13/2017",
          "8/13/2016",
          "8/13/2015",
          "8/12/2017",
          "8/12/2016",
          "8/12/2014",
          "8/11/2015",
          "8/11/2014",
          "8/10/2017",
          "8/1/2016",
          "8/1/2015",
          "8/1/2014",
          "7/9/2017",
          "7/9/2016",
          "7/9/2015",
          "7/9/2014",
          "7/8/2017",
          "7/8/2016",
          "7/8/2014",
          "7/7/2017",
          "7/7/2016",
          "7/7/2014",
          "7/6/2017",
          "7/6/2015",
          "7/6/2014",
          "7/5/2017",
          "7/5/2015",
          "7/5/2014",
          "7/4/2016",
          "7/31/2017",
          "7/31/2016",
          "7/31/2015",
          "7/30/2015",
          "7/30/2014",
          "7/3/2017",
          "7/3/2015",
          "7/29/2017",
          "7/28/2016",
          "7/28/2014",
          "7/27/2017",
          "7/26/2015",
          "7/26/2014",
          "7/25/2017",
          "7/25/2016",
          "7/25/2015",
          "7/25/2014",
          "7/24/2016",
          "7/24/2015",
          "7/23/2015",
          "7/22/2017",
          "7/22/2016",
          "7/22/2014",
          "7/21/2017",
          "7/21/2016",
          "7/21/2014",
          "7/20/2017",
          "7/20/2015",
          "7/20/2014",
          "7/2/2016",
          "7/2/2015",
          "7/19/2016",
          "7/19/2014",
          "7/18/2017",
          "7/18/2016",
          "7/18/2014",
          "7/17/2017",
          "7/17/2016",
          "7/17/2015",
          "7/16/2017",
          "7/16/2016",
          "7/16/2015",
          "7/15/2017",
          "7/15/2016",
          "7/14/2017",
          "7/14/2016",
          "7/14/2015",
          "7/14/2014",
          "7/13/2017",
          "7/13/2015",
          "7/13/2014",
          "7/12/2015",
          "7/12/2014",
          "7/11/2015",
          "7/11/2014",
          "7/10/2017",
          "6/9/2017",
          "6/9/2016",
          "6/9/2015",
          "6/9/2014",
          "6/8/2017",
          "6/8/2015",
          "6/8/2014",
          "6/7/2014",
          "6/6/2017",
          "6/6/2016",
          "6/6/2014",
          "6/5/2015",
          "6/4/2017",
          "6/4/2016",
          "6/4/2015",
          "6/4/2014",
          "6/30/2017",
          "6/30/2016",
          "6/3/2017",
          "6/3/2016",
          "6/3/2014",
          "6/29/2017",
          "6/29/2015",
          "6/28/2016",
          "6/28/2015",
          "6/28/2014",
          "6/27/2017",
          "6/27/2016",
          "6/27/2014",
          "6/26/2017",
          "6/26/2016",
          "6/26/2015",
          "6/25/2017",
          "6/25/2016",
          "6/25/2015",
          "6/25/2014",
          "6/24/2017",
          "6/24/2014",
          "6/22/2017",
          "6/22/2015",
          "6/22/2014",
          "6/21/2017",
          "6/21/2014",
          "6/20/2016",
          "6/20/2015",
          "6/20/2014",
          "6/2/2014",
          "6/19/2017",
          "6/19/2015",
          "6/18/2017",
          "6/18/2015",
          "6/17/2017",
          "6/17/2016",
          "6/17/2014",
          "6/16/2017",
          "6/16/2015",
          "6/16/2014",
          "6/15/2017",
          "6/15/2015",
          "6/15/2014",
          "6/14/2016",
          "6/14/2015",
          "6/14/2014",
          "6/13/2017",
          "6/12/2017",
          "6/12/2016",
          "6/12/2015",
          "6/11/2017",
          "6/11/2016",
          "6/11/2015",
          "6/10/2017",
          "6/10/2016",
          "6/1/2017",
          "6/1/2014",
          "5/9/2017",
          "5/8/2017",
          "5/8/2016",
          "5/8/2015",
          "5/7/2017",
          "5/7/2016",
          "5/7/2015",
          "5/7/2014",
          "5/6/2017",
          "5/6/2016",
          "5/5/2017",
          "5/5/2016",
          "5/5/2014",
          "5/4/2017",
          "5/4/2015",
          "5/4/2014",
          "5/31/2016",
          "5/31/2015",
          "5/30/2017",
          "5/30/2016",
          "5/30/2014",
          "5/3/2017",
          "5/3/2016",
          "5/3/2015",
          "5/29/2017",
          "5/29/2016",
          "5/29/2015",
          "5/28/2017",
          "5/28/2016",
          "5/27/2017",
          "5/27/2016",
          "5/27/2014",
          "5/26/2016",
          "5/26/2015",
          "5/26/2014",
          "5/25/2017",
          "5/25/2016",
          "5/25/2015",
          "5/25/2014",
          "5/24/2015",
          "5/23/2017",
          "5/23/2016",
          "5/23/2015",
          "5/22/2017",
          "5/22/2016",
          "5/21/2017",
          "5/21/2014",
          "5/20/2017",
          "5/20/2016",
          "5/20/2015",
          "5/20/2014",
          "5/2/2017",
          "5/2/2016",
          "5/19/2017",
          "5/19/2016",
          "5/18/2017",
          "5/18/2014",
          "5/17/2016",
          "5/16/2016",
          "5/16/2014",
          "5/15/2017",
          "5/14/2017",
          "5/14/2016",
          "5/14/2015",
          "5/14/2014",
          "5/13/2017",
          "5/13/2014",
          "5/12/2017",
          "5/12/2016",
          "5/12/2015",
          "5/12/2014",
          "5/11/2017",
          "5/11/2015",
          "5/11/2014",
          "5/10/2014",
          "5/1/2017",
          "5/1/2016",
          "5/1/2015",
          "4/9/2016",
          "4/9/2015",
          "4/8/2017",
          "4/8/2016",
          "4/8/2014",
          "4/7/2017",
          "4/7/2016",
          "4/7/2014",
          "4/6/2014",
          "4/5/2015",
          "4/4/2016",
          "4/4/2015",
          "4/4/2014",
          "4/30/2017",
          "4/30/2016",
          "4/30/2015",
          "4/3/2017",
          "4/3/2016",
          "4/29/2017",
          "4/29/2014",
          "4/28/2016",
          "4/27/2017",
          "4/27/2015",
          "4/26/2017",
          "4/26/2016",
          "4/26/2015",
          "4/26/2014",
          "4/25/2017",
          "4/25/2015",
          "4/25/2014",
          "4/24/2016",
          "4/23/2017",
          "4/23/2014",
          "4/22/2017",
          "4/22/2016",
          "4/21/2017",
          "4/21/2015",
          "4/20/2017",
          "4/20/2015",
          "4/20/2014",
          "4/2/2017",
          "4/2/2016",
          "4/2/2014",
          "4/19/2016",
          "4/19/2014",
          "4/18/2016",
          "4/18/2015",
          "4/18/2014",
          "4/17/2017",
          "4/17/2016",
          "4/16/2017",
          "4/16/2016",
          "4/16/2015",
          "4/15/2017",
          "4/15/2016",
          "4/15/2014",
          "4/14/2017",
          "4/14/2016",
          "4/13/2017",
          "4/13/2015",
          "4/12/2016",
          "4/12/2014",
          "4/11/2015",
          "4/10/2017",
          "4/1/2017",
          "4/1/2016",
          "3/9/2016",
          "3/8/2016",
          "3/8/2015",
          "3/7/2014",
          "3/6/2017",
          "3/6/2016",
          "3/6/2015",
          "3/5/2015",
          "3/4/2017",
          "3/31/2017",
          "3/31/2016",
          "3/31/2015",
          "3/31/2014",
          "3/30/2015",
          "3/30/2014",
          "3/3/2017",
          "3/3/2016",
          "3/3/2014",
          "3/29/2016",
          "3/29/2015",
          "3/29/2014",
          "3/28/2017",
          "3/28/2014",
          "3/27/2017",
          "3/27/2016",
          "3/26/2017",
          "3/26/2015",
          "3/25/2017",
          "3/25/2014",
          "3/24/2017",
          "3/24/2016",
          "3/24/2015",
          "3/24/2014",
          "3/23/2017",
          "3/23/2015",
          "3/22/2016",
          "3/22/2015",
          "3/22/2014",
          "3/21/2017",
          "3/21/2016",
          "3/21/2014",
          "3/20/2017",
          "3/20/2016",
          "3/2/2017",
          "3/2/2015",
          "3/19/2017",
          "3/19/2016",
          "3/19/2015",
          "3/19/2014",
          "3/18/2017",
          "3/18/2016",
          "3/18/2014",
          "3/17/2016",
          "3/17/2014",
          "3/16/2017",
          "3/16/2015",
          "3/15/2016",
          "3/15/2014",
          "3/14/2016",
          "3/14/2014",
          "3/13/2017",
          "3/13/2016",
          "3/13/2015",
          "3/12/2016",
          "3/12/2015",
          "3/11/2017",
          "3/11/2016",
          "3/11/2014",
          "3/10/2017",
          "3/10/2016",
          "3/1/2016",
          "3/1/2015",
          "3/1/2014",
          "2/9/2017",
          "2/9/2015",
          "2/8/2016",
          "2/8/2014",
          "2/6/2017",
          "2/6/2016",
          "2/6/2015",
          "2/5/2016",
          "2/4/2016",
          "2/3/2017",
          "2/3/2016",
          "2/3/2015",
          "2/28/2015",
          "2/27/2016",
          "2/27/2015",
          "2/26/2017",
          "2/25/2017",
          "2/21/2016",
          "2/20/2017",
          "2/20/2014",
          "2/2/2017",
          "2/2/2016",
          "2/19/2017",
          "2/19/2016",
          "2/18/2015",
          "2/18/2014",
          "2/17/2017",
          "2/16/2017",
          "2/16/2016",
          "2/14/2016",
          "2/13/2017",
          "2/12/2014",
          "2/11/2017",
          "2/11/2014",
          "2/10/2017",
          "12/9/2017",
          "12/9/2016",
          "12/8/2017",
          "12/8/2016",
          "12/8/2014",
          "12/7/2017",
          "12/7/2015",
          "12/6/2015",
          "12/6/2014",
          "12/5/2017",
          "12/5/2016",
          "12/5/2015",
          "12/4/2017",
          "12/4/2016",
          "12/4/2015",
          "12/31/2015",
          "12/31/2014",
          "12/30/2017",
          "12/30/2016",
          "12/30/2014",
          "12/3/2017",
          "12/3/2016",
          "12/3/2015",
          "12/29/2017",
          "12/29/2016",
          "12/29/2014",
          "12/28/2017",
          "12/27/2016",
          "12/27/2015",
          "12/27/2014",
          "12/26/2016",
          "12/26/2015",
          "12/26/2014",
          "12/25/2017",
          "12/25/2016",
          "12/25/2015",
          "12/24/2017",
          "12/24/2016",
          "12/24/2015",
          "12/24/2014",
          "12/23/2017",
          "12/23/2016",
          "12/23/2014",
          "12/22/2017",
          "12/22/2016",
          "12/22/2015",
          "12/21/2017",
          "12/21/2015",
          "12/21/2014",
          "12/20/2016",
          "12/20/2015",
          "12/20/2014",
          "12/2/2017",
          "12/2/2016",
          "12/2/2014",
          "12/19/2017",
          "12/19/2016",
          "12/19/2015",
          "12/19/2014",
          "12/18/2017",
          "12/18/2016",
          "12/18/2015",
          "12/17/2017",
          "12/17/2016",
          "12/17/2015",
          "12/16/2017",
          "12/16/2016",
          "12/16/2014",
          "12/15/2017",
          "12/15/2016",
          "12/15/2015",
          "12/15/2014",
          "12/14/2017",
          "12/14/2016",
          "12/14/2015",
          "12/14/2014",
          "12/13/2017",
          "12/13/2016",
          "12/13/2014",
          "12/12/2016",
          "12/12/2015",
          "12/12/2014",
          "12/11/2017",
          "12/11/2016",
          "12/11/2015",
          "12/10/2017",
          "12/10/2016",
          "12/10/2015",
          "12/10/2014",
          "12/1/2017",
          "12/1/2016",
          "12/1/2015",
          "12/1/2014",
          "11/9/2017",
          "11/9/2015",
          "11/9/2014",
          "11/8/2017",
          "11/8/2016",
          "11/8/2015",
          "11/7/2017",
          "11/7/2016",
          "11/7/2015",
          "11/7/2014",
          "11/6/2017",
          "11/6/2016",
          "11/5/2017",
          "11/5/2016",
          "11/5/2015",
          "11/5/2014",
          "11/4/2017",
          "11/4/2016",
          "11/4/2014",
          "11/30/2017",
          "11/30/2016",
          "11/30/2015",
          "11/3/2017",
          "11/3/2016",
          "11/3/2015",
          "11/3/2014",
          "11/29/2017",
          "11/29/2016",
          "11/29/2015",
          "11/28/2017",
          "11/28/2016",
          "11/28/2015",
          "11/28/2014",
          "11/27/2017",
          "11/27/2016",
          "11/27/2015",
          "11/27/2014",
          "11/26/2017",
          "11/26/2016",
          "11/26/2015",
          "11/26/2014",
          "11/25/2017",
          "11/25/2016",
          "11/25/2014",
          "11/24/2017",
          "11/24/2016",
          "11/24/2015",
          "11/24/2014",
          "11/23/2017",
          "11/23/2016",
          "11/23/2014",
          "11/22/2016",
          "11/22/2015",
          "11/21/2017",
          "11/21/2016",
          "11/21/2015",
          "11/20/2017",
          "11/20/2016",
          "11/20/2015",
          "11/2/2017",
          "11/2/2015",
          "11/2/2014",
          "11/19/2017",
          "11/19/2016",
          "11/19/2015",
          "11/19/2014",
          "11/18/2017",
          "11/18/2016",
          "11/18/2014",
          "11/17/2017",
          "11/17/2015",
          "11/17/2014",
          "11/16/2017",
          "11/16/2015",
          "11/16/2014",
          "11/15/2017",
          "11/15/2016",
          "11/15/2015",
          "11/15/2014",
          "11/14/2017",
          "11/14/2016",
          "11/14/2015",
          "11/14/2014",
          "11/13/2017",
          "11/13/2016",
          "11/13/2015",
          "11/12/2017",
          "11/12/2016",
          "11/12/2015",
          "11/12/2014",
          "11/11/2017",
          "11/11/2016",
          "11/11/2014",
          "11/10/2017",
          "11/10/2016",
          "11/10/2015",
          "11/10/2014",
          "11/1/2017",
          "11/1/2015",
          "11/1/2014",
          "10/9/2017",
          "10/9/2016",
          "10/9/2015",
          "10/8/2017",
          "10/8/2016",
          "10/8/2015",
          "10/7/2017",
          "10/7/2014",
          "10/5/2017",
          "10/5/2015",
          "10/4/2017",
          "10/4/2016",
          "10/4/2015",
          "10/4/2014",
          "10/31/2016",
          "10/31/2015",
          "10/31/2014",
          "10/30/2017",
          "10/30/2015",
          "10/3/2017",
          "10/3/2016",
          "10/3/2015",
          "10/3/2014",
          "10/29/2016",
          "10/28/2017",
          "10/28/2016",
          "10/28/2015",
          "10/28/2014",
          "10/27/2017",
          "10/27/2016",
          "10/26/2017",
          "10/26/2014",
          "10/25/2015",
          "10/24/2017",
          "10/24/2015",
          "10/23/2017",
          "10/23/2016",
          "10/23/2015",
          "10/22/2017",
          "10/22/2016",
          "10/22/2014",
          "10/21/2017",
          "10/21/2016",
          "10/21/2014",
          "10/20/2017",
          "10/20/2016",
          "10/20/2015",
          "10/20/2014",
          "10/2/2017",
          "10/2/2015",
          "10/19/2017",
          "10/18/2016",
          "10/18/2015",
          "10/18/2014",
          "10/17/2016",
          "10/17/2014",
          "10/16/2017",
          "10/16/2016",
          "10/15/2017",
          "10/15/2015",
          "10/15/2014",
          "10/14/2017",
          "10/14/2016",
          "10/14/2014",
          "10/13/2017",
          "10/13/2016",
          "10/13/2015",
          "10/13/2014",
          "10/12/2017",
          "10/12/2015",
          "10/11/2015",
          "10/11/2014",
          "10/10/2017",
          "10/10/2016",
          "10/10/2015",
          "10/10/2014",
          "10/1/2017",
          "10/1/2016",
          "1/9/2016",
          "1/8/2017",
          "1/8/2016",
          "1/7/2016",
          "1/7/2014",
          "1/6/2014",
          "1/5/2015",
          "1/4/2015",
          "1/31/2015",
          "1/31/2014",
          "1/30/2017",
          "1/30/2016",
          "1/3/2016",
          "1/3/2015",
          "1/29/2017",
          "1/28/2015",
          "1/27/2015",
          "1/26/2017",
          "1/26/2014",
          "1/25/2016",
          "1/23/2017",
          "1/23/2016",
          "1/22/2016",
          "1/21/2017",
          "1/21/2016",
          "1/21/2014",
          "1/20/2017",
          "1/20/2014",
          "1/2/2017",
          "1/2/2016",
          "1/2/2015",
          "1/19/2017",
          "1/19/2015",
          "1/19/2014",
          "1/17/2016",
          "1/17/2015",
          "1/16/2017",
          "1/16/2014",
          "1/15/2016",
          "1/14/2017",
          "1/14/2016",
          "1/14/2014",
          "1/13/2017",
          "1/13/2015",
          "1/13/2014",
          "1/11/2016",
          "1/11/2014",
          "1/10/2016",
          "1/10/2015",
          "1/10/2014",
          "1/1/2017"
         ],
         "xaxis": "x",
         "y": [
          468.428,
          15.008,
          864.024,
          1000.239,
          3374.9816,
          21.36,
          3855.444,
          470.68800000000005,
          508.59,
          1552.6329999999998,
          722.352,
          549.564,
          41.88,
          3403.669,
          772.491,
          31.984,
          3722.982,
          130.81,
          523.92,
          15.24,
          620.631,
          642.396,
          367.72,
          209.46800000000002,
          3153.3880000000004,
          42.016000000000005,
          337.088,
          956.6648,
          24.288,
          691.4599999999999,
          428.37600000000003,
          1627.4805,
          752.304,
          805.7360000000001,
          1422.607,
          1454.3480000000002,
          300.5328,
          1427.24,
          931.202,
          1940.51,
          804.732,
          1114.426,
          435.999,
          254.03,
          100.672,
          252.57999999999998,
          676.9680000000001,
          3119.064,
          8.544,
          5496.174,
          279.36,
          2453.94,
          2527.552,
          1476.154,
          70.71,
          481.804,
          1599.324,
          122.80000000000001,
          961.0179999999999,
          30.14,
          3119.368,
          24.4,
          1611.3700000000001,
          320.528,
          10006.173999999999,
          35.34,
          22.512,
          395.446,
          2612.768,
          1128.39,
          1976.884,
          118.49600000000001,
          830.718,
          1082.886,
          629.78,
          1336.44,
          2917.822,
          354.306,
          1664.6399999999999,
          3825.852,
          2810.894,
          244.24,
          127.95,
          362.352,
          300.93,
          468.64,
          254.9,
          896.72,
          191.82,
          185.1,
          1755.876,
          144.784,
          658.472,
          258.93399999999997,
          212.94,
          161.14000000000001,
          369.1992,
          14.76,
          1962.724,
          109.8,
          569.568,
          1552.831,
          833.784,
          307.332,
          218.75,
          148.02,
          163.88,
          174.0585,
          1137.75,
          156.3728,
          415.307,
          2037.74,
          244.615,
          1232.06,
          64.96,
          1789.676,
          130.98,
          68.768,
          6.28,
          1218.059,
          13.28,
          2.784,
          555.3119999999999,
          4.224,
          524.54,
          98.328,
          2068.424,
          4275.522,
          1754.848,
          921.6120000000001,
          388.48,
          928.0600000000001,
          204.38,
          14.896,
          4953.33,
          161.28,
          555.822,
          853.092,
          537.326,
          104.23,
          195.136,
          418.296,
          455.632,
          241.96,
          31.56,
          1834.8200000000002,
          917.2045,
          85.44,
          46.152,
          12.35,
          121.3,
          19.312,
          1004.976,
          44.128,
          526.45,
          408.006,
          181.96,
          119.833,
          484.1,
          662.88,
          566.37,
          87.21,
          348.25600000000003,
          241.19400000000002,
          361.376,
          628.132,
          478.48,
          332.028,
          9.856,
          232.73600000000002,
          1304.565,
          36.96,
          1136.068,
          1090.782,
          161.16,
          1367.84,
          1016.678,
          522.332,
          418.63,
          202.14999999999998,
          129.888,
          324.65,
          659.517,
          919.448,
          318.212,
          3426.168,
          1625.048,
          77.92,
          253.764,
          20.94,
          128.82,
          526.344,
          39.068,
          888.072,
          661.44,
          363.92,
          1732.346,
          539.4159999999999,
          1298.374,
          1041.132,
          528.43,
          950.378,
          690.48,
          70.56,
          1473.888,
          1398.3600000000001,
          259.136,
          1241.149,
          37.17,
          427.38599999999997,
          313.724,
          9.552,
          2199.836,
          1537.086,
          230.28,
          692.45,
          661.6859999999999,
          569.684,
          31.984,
          91.008,
          1931.04,
          351.216,
          391.367,
          1333.846,
          856.4680000000001,
          979.0500000000001,
          18.84,
          132.901,
          815.292,
          355.36,
          3233.7439999999997,
          1497.666,
          173.208,
          755.904,
          268.935,
          4.95,
          548.96,
          991.764,
          1522.638,
          62.32,
          810.5409999999999,
          35.28,
          424.48799999999994,
          2105.661,
          1266.86,
          661.504,
          71.088,
          577.424,
          1381.2932,
          137.986,
          121.96,
          482.94,
          1228.465,
          317.94599999999997,
          539.658,
          85.98,
          800.0020000000001,
          59.88,
          332.94,
          1272.184,
          540.016,
          204.85,
          447.84,
          449.454,
          4.272,
          487.96,
          796.425,
          1023.9879999999999,
          17.92,
          107.994,
          219.258,
          257.64,
          193.0656,
          73.32,
          1306.705,
          12.56,
          917.9235,
          779.336,
          155.25,
          1685.43,
          6.24,
          1514.92,
          197.372,
          647.84,
          152.128,
          404.96000000000004,
          897.862,
          3353.7290000000003,
          51.072,
          212.94,
          761.4380000000001,
          1337.124,
          426.41200000000003,
          43.296,
          455.212,
          12.544,
          1201.7520000000002,
          514.165,
          1335.68,
          1925.88,
          2024.06,
          493.85,
          176.04999999999998,
          211.96,
          339.51599999999996,
          1962.0900000000001,
          506.444,
          244.006,
          1066.5700000000002,
          623.4648,
          41.6,
          89.991,
          386.584,
          127.869,
          300.904,
          22.288,
          27.46,
          223.143,
          1488.8999999999999,
          468.2284,
          3292.308,
          355.455,
          405.918,
          51.968,
          1509.996,
          71.664,
          44.76,
          358.626,
          799.689,
          390.272,
          512.3,
          3535.6600000000003,
          567.12,
          941.4440000000001,
          230.856,
          875.7339999999999,
          18.84,
          24.96,
          14.73,
          29.32,
          602.651,
          171.288,
          37.05,
          75.33,
          181.986,
          174.286,
          520.05,
          107.772,
          518.272,
          1049.2,
          163.136,
          150.192,
          129.93,
          781.0600000000001,
          2624.58,
          717.64,
          342,
          149.232,
          195.848,
          282.84,
          232.88,
          303.544,
          917.7099999999999,
          109.576,
          1452.7875,
          310.88,
          458.43,
          279.456,
          328.33000000000004,
          10.02,
          21.968,
          734.846,
          217.97500000000002,
          191.968,
          1279.0720000000001,
          606.749,
          3118.272,
          370.62,
          63.552,
          556.665,
          369.912,
          637.1399999999999,
          1024.2079999999999,
          1487.622,
          854.4745,
          658.746,
          8.96,
          933.384,
          1799.394,
          82.64,
          108.4,
          5.47,
          309.344,
          134.496,
          278.295,
          25.472,
          71.12,
          1048.35,
          631.0039999999999,
          71.912,
          220.2656,
          1267.53,
          1.988,
          434.646,
          1592.8495,
          230.28,
          344.981,
          128.058,
          1790.29,
          1325.76,
          567.2520000000001,
          585.08,
          272.632,
          1414.3700000000001,
          1071.42,
          401.84000000000003,
          153.336,
          595.38,
          1205.61,
          436.91,
          1454.9,
          177.68,
          205.176,
          76.14,
          472.252,
          152.83599999999998,
          317.058,
          278.664,
          355.24300000000005,
          102.833,
          9.96,
          1847.8839999999998,
          196.45,
          1121.568,
          187.76,
          515.074,
          383.8,
          436.704,
          1600.06,
          1176.5600000000002,
          308.499,
          121.888,
          48.992,
          828.966,
          1324.532,
          354.9,
          215.95999999999998,
          1746.95,
          966.9839999999999,
          71.97,
          305.02,
          435.26,
          521.259,
          103.5,
          296.1128,
          327.996,
          22.38,
          1125.488,
          366.744,
          127.302,
          580.652,
          1236.606,
          928.8019999999999,
          1558.091,
          1186.8400000000001,
          890.841,
          48.04,
          1515.308,
          2142.244,
          60.16,
          318.408,
          3393.68,
          1986.52,
          366.786,
          479.61,
          301.47,
          405.95799999999997,
          40.48,
          211.84,
          107.772,
          167.888,
          91.96,
          314.352,
          1828.0200000000002,
          627.8019999999999,
          251.328,
          2.91,
          697.16,
          441.96,
          787.53,
          728.0899999999999,
          107.594,
          383.4656,
          25.008,
          82.524,
          189.882,
          1462.4499999999998,
          971.5,
          3265.23,
          51.264,
          215.09,
          1880.462,
          45.696,
          476.736,
          1139.92,
          89.768,
          1100.4250000000002,
          1057.096,
          770.352,
          37.288,
          154.764,
          320.926,
          8.32,
          983.976,
          176.784,
          836.592,
          1412.7504,
          1893.995,
          25.104,
          203.92,
          241.5,
          14.56,
          600.754,
          132.224,
          1552.74,
          239.98,
          14.368,
          22.2,
          866.4,
          256.202,
          551.264,
          16.192,
          493.92,
          984.1840000000001,
          428.70399999999995,
          204.75,
          477.84400000000005,
          20.32,
          296.84000000000003,
          92.474,
          44.67,
          44.46,
          35.544,
          25.16,
          1955.5704,
          600.558,
          935.644,
          560.991,
          107.53,
          129.568,
          1110.704,
          1650.05,
          203.983,
          1927.233,
          1136.8339999999998,
          3368.265,
          2698.454,
          723.24,
          82.38,
          363.84000000000003,
          390.718,
          525.192,
          262.8,
          2239,
          306.53,
          689.842,
          113.79,
          1200.268,
          14.76,
          2584.5280000000002,
          323.136,
          170.786,
          523.764,
          591.84,
          2140.888,
          440.411,
          2330.718,
          825.01,
          143.172,
          551.2568,
          845.488,
          2424.5512,
          1212.798,
          1262.004,
          51.588,
          1353.158,
          832.454,
          6636.862999999999,
          1433.5639999999999,
          1393.4940000000001,
          843.52,
          1554.3139999999999,
          346.622,
          254.654,
          1002.84,
          118.10000000000001,
          4086.456,
          919.3040000000001,
          422.625,
          15.92,
          1670.126,
          1897.92,
          18.92,
          373.426,
          3342.362,
          3527.504,
          868.8040000000001,
          1042.96,
          115.378,
          759.8900000000001,
          1053.164,
          1819.86,
          1380.6810000000003,
          1183.99,
          20.32,
          629.26,
          2003.52,
          1245.6419999999998,
          197.712,
          563.92,
          2798.4320000000002,
          22.77,
          2231.895,
          262.864,
          1223.786,
          1852.5320000000002,
          611.724,
          324.188,
          136.53,
          489.01599999999996,
          1114.272,
          87.96,
          93.83,
          515.428,
          4652.2905,
          1448.529,
          2097.876,
          541.862,
          2102.264,
          1746.468,
          1536.8600000000001,
          338.352,
          2542.292,
          1801.2649999999999,
          6600.68,
          4513.606,
          835.898,
          1024.38,
          279.186,
          274.2,
          993.9000000000001,
          5252.4259999999995,
          623.322,
          1662.416,
          970.8800000000001,
          683.144,
          2681.362,
          563.5360000000001,
          396.024,
          2964.4408,
          207,
          443.50800000000004,
          523.764,
          2007.59,
          744.9499999999999,
          4129.728,
          389.97,
          1115.2,
          2524.05,
          1554.779,
          1491.4199999999998,
          1355.388,
          491.888,
          242.176,
          1408.8700000000001,
          4659.14,
          530.472,
          625.962,
          397.6,
          65.78,
          362.583,
          1315.3955,
          199.9,
          1249.3,
          4315.22,
          692.472,
          19.3,
          2639.309,
          1762.962,
          2302.967,
          1734.028,
          2324.632,
          79.76,
          1029.808,
          186.697,
          14.368,
          1147.1,
          39.88,
          206.962,
          98.4,
          386.656,
          2055.7748,
          880.862,
          702.0360000000001,
          1656.7,
          1159.624,
          4379.385,
          89.34,
          2603.165,
          34.288000000000004,
          141.96,
          1025.88,
          152.966,
          557.068,
          2191.732,
          515.4928,
          1667.028,
          5145.67,
          272.28,
          1784.164,
          343.27049999999997,
          559.2,
          630.024,
          39.96,
          10.11,
          321.568,
          856.56,
          1190.332,
          69.264,
          2765.6532,
          49.9,
          1781.1372000000001,
          250.304,
          4158.352,
          670.0559999999999,
          722.1852,
          123.84,
          3472.65,
          2071.424,
          1482.52,
          1004.988,
          29.22,
          657.0200000000001,
          2665.62,
          1094.388,
          100.38399999999999,
          1333.393,
          502.4,
          389.97,
          145.764,
          51.712,
          218.68,
          462.43,
          129.92,
          935.802,
          291.168,
          19.98,
          250.94000000000003,
          457.884,
          589.41,
          2265.7250000000004,
          748.969,
          3444.6800000000003,
          1204.19,
          15.488,
          255.20800000000003,
          1552.508,
          156.156,
          555.8389999999999,
          67,
          77.952,
          1063.416,
          57.21,
          616.998,
          746.241,
          758.8240000000001,
          356.85,
          63.92,
          1126.612,
          517.405,
          801.633,
          1193.4,
          16.156,
          1275.1039999999998,
          1005.3409999999999,
          173.26,
          223.808,
          1470.238,
          2012.7600000000002,
          1000.9100000000001,
          328.29999999999995,
          504.922,
          455.55600000000004,
          328.59,
          2758.4640000000004,
          11.032,
          531.1622,
          307.92,
          10.11,
          605.34,
          241.64600000000002,
          5.312,
          2422.558,
          142.182,
          532.96,
          2470.5699999999997,
          15.384,
          9.46,
          102.592,
          1628.82,
          1514.996,
          1017.71,
          287.94,
          1544.53,
          3123.328,
          1735.158,
          957.5775,
          505.958,
          239.358,
          225.666,
          362.136,
          169.224,
          559.76,
          567.2860000000001,
          15.168,
          892.98,
          1565.88,
          23.076,
          76.728,
          2573.82,
          61.584,
          192.22,
          53.34,
          290.666,
          643.875,
          1109.848,
          1592.85,
          1352.3976,
          14.91,
          4297.644,
          2985.906,
          62.72,
          217.2,
          45.98,
          210.98,
          59.99,
          575.308,
          84.98,
          1167.056,
          25.248,
          207.846,
          1374.91,
          913.43,
          173.94,
          452.45,
          919.2389999999999,
          102.438,
          181.47,
          322.59,
          254.744,
          730.2620000000001,
          127.104,
          181.797,
          18.96,
          315.776,
          61.96,
          212.94,
          464.85,
          879.9390000000001,
          54.992,
          9.94,
          104.77000000000001,
          1018.104,
          51.94,
          975.49
         ],
         "yaxis": "y"
        },
        {
         "hovertemplate": "variable=Profit<br>Order Date=%{x}<br>value=%{y}<extra></extra>",
         "legendgroup": "Profit",
         "line": {
          "color": "#EF553B",
          "dash": "solid"
         },
         "marker": {
          "symbol": "circle"
         },
         "mode": "lines",
         "name": "Profit",
         "showlegend": true,
         "type": "scattergl",
         "x": [
          "9/9/2017",
          "9/9/2016",
          "9/9/2014",
          "9/8/2017",
          "9/8/2016",
          "9/8/2015",
          "9/8/2014",
          "9/7/2017",
          "9/7/2015",
          "9/7/2014",
          "9/6/2016",
          "9/6/2015",
          "9/6/2014",
          "9/5/2016",
          "9/5/2015",
          "9/5/2014",
          "9/4/2017",
          "9/4/2016",
          "9/30/2016",
          "9/30/2014",
          "9/3/2017",
          "9/3/2016",
          "9/3/2015",
          "9/29/2017",
          "9/29/2014",
          "9/28/2017",
          "9/28/2014",
          "9/27/2016",
          "9/27/2015",
          "9/27/2014",
          "9/26/2017",
          "9/26/2016",
          "9/26/2014",
          "9/25/2017",
          "9/25/2016",
          "9/25/2015",
          "9/25/2014",
          "9/24/2017",
          "9/24/2016",
          "9/24/2015",
          "9/23/2017",
          "9/23/2016",
          "9/23/2014",
          "9/22/2017",
          "9/22/2016",
          "9/22/2015",
          "9/22/2014",
          "9/21/2015",
          "9/21/2014",
          "9/20/2017",
          "9/20/2016",
          "9/20/2014",
          "9/2/2017",
          "9/2/2016",
          "9/2/2014",
          "9/19/2017",
          "9/19/2016",
          "9/19/2015",
          "9/19/2014",
          "9/18/2017",
          "9/18/2016",
          "9/18/2015",
          "9/17/2017",
          "9/17/2016",
          "9/17/2015",
          "9/17/2014",
          "9/16/2017",
          "9/16/2016",
          "9/15/2017",
          "9/15/2016",
          "9/15/2015",
          "9/15/2014",
          "9/14/2017",
          "9/14/2015",
          "9/14/2014",
          "9/13/2016",
          "9/13/2015",
          "9/13/2014",
          "9/12/2016",
          "9/12/2014",
          "9/11/2017",
          "9/11/2015",
          "9/11/2014",
          "9/10/2017",
          "9/10/2016",
          "9/10/2015",
          "9/10/2014",
          "9/1/2017",
          "9/1/2016",
          "9/1/2015",
          "8/9/2015",
          "8/8/2015",
          "8/8/2014",
          "8/7/2017",
          "8/7/2015",
          "8/6/2017",
          "8/6/2015",
          "8/5/2015",
          "8/5/2014",
          "8/4/2016",
          "8/31/2017",
          "8/31/2015",
          "8/30/2016",
          "8/3/2017",
          "8/3/2014",
          "8/29/2017",
          "8/29/2016",
          "8/29/2014",
          "8/28/2017",
          "8/28/2016",
          "8/28/2015",
          "8/27/2017",
          "8/27/2016",
          "8/27/2014",
          "8/26/2017",
          "8/26/2016",
          "8/25/2017",
          "8/25/2015",
          "8/25/2014",
          "8/24/2015",
          "8/24/2014",
          "8/23/2017",
          "8/23/2016",
          "8/23/2014",
          "8/22/2017",
          "8/22/2016",
          "8/21/2017",
          "8/21/2016",
          "8/21/2015",
          "8/20/2014",
          "8/2/2015",
          "8/19/2014",
          "8/18/2017",
          "8/18/2016",
          "8/17/2017",
          "8/16/2016",
          "8/16/2015",
          "8/16/2014",
          "8/15/2016",
          "8/15/2015",
          "8/15/2014",
          "8/14/2017",
          "8/13/2017",
          "8/13/2016",
          "8/13/2015",
          "8/12/2017",
          "8/12/2016",
          "8/12/2014",
          "8/11/2015",
          "8/11/2014",
          "8/10/2017",
          "8/1/2016",
          "8/1/2015",
          "8/1/2014",
          "7/9/2017",
          "7/9/2016",
          "7/9/2015",
          "7/9/2014",
          "7/8/2017",
          "7/8/2016",
          "7/8/2014",
          "7/7/2017",
          "7/7/2016",
          "7/7/2014",
          "7/6/2017",
          "7/6/2015",
          "7/6/2014",
          "7/5/2017",
          "7/5/2015",
          "7/5/2014",
          "7/4/2016",
          "7/31/2017",
          "7/31/2016",
          "7/31/2015",
          "7/30/2015",
          "7/30/2014",
          "7/3/2017",
          "7/3/2015",
          "7/29/2017",
          "7/28/2016",
          "7/28/2014",
          "7/27/2017",
          "7/26/2015",
          "7/26/2014",
          "7/25/2017",
          "7/25/2016",
          "7/25/2015",
          "7/25/2014",
          "7/24/2016",
          "7/24/2015",
          "7/23/2015",
          "7/22/2017",
          "7/22/2016",
          "7/22/2014",
          "7/21/2017",
          "7/21/2016",
          "7/21/2014",
          "7/20/2017",
          "7/20/2015",
          "7/20/2014",
          "7/2/2016",
          "7/2/2015",
          "7/19/2016",
          "7/19/2014",
          "7/18/2017",
          "7/18/2016",
          "7/18/2014",
          "7/17/2017",
          "7/17/2016",
          "7/17/2015",
          "7/16/2017",
          "7/16/2016",
          "7/16/2015",
          "7/15/2017",
          "7/15/2016",
          "7/14/2017",
          "7/14/2016",
          "7/14/2015",
          "7/14/2014",
          "7/13/2017",
          "7/13/2015",
          "7/13/2014",
          "7/12/2015",
          "7/12/2014",
          "7/11/2015",
          "7/11/2014",
          "7/10/2017",
          "6/9/2017",
          "6/9/2016",
          "6/9/2015",
          "6/9/2014",
          "6/8/2017",
          "6/8/2015",
          "6/8/2014",
          "6/7/2014",
          "6/6/2017",
          "6/6/2016",
          "6/6/2014",
          "6/5/2015",
          "6/4/2017",
          "6/4/2016",
          "6/4/2015",
          "6/4/2014",
          "6/30/2017",
          "6/30/2016",
          "6/3/2017",
          "6/3/2016",
          "6/3/2014",
          "6/29/2017",
          "6/29/2015",
          "6/28/2016",
          "6/28/2015",
          "6/28/2014",
          "6/27/2017",
          "6/27/2016",
          "6/27/2014",
          "6/26/2017",
          "6/26/2016",
          "6/26/2015",
          "6/25/2017",
          "6/25/2016",
          "6/25/2015",
          "6/25/2014",
          "6/24/2017",
          "6/24/2014",
          "6/22/2017",
          "6/22/2015",
          "6/22/2014",
          "6/21/2017",
          "6/21/2014",
          "6/20/2016",
          "6/20/2015",
          "6/20/2014",
          "6/2/2014",
          "6/19/2017",
          "6/19/2015",
          "6/18/2017",
          "6/18/2015",
          "6/17/2017",
          "6/17/2016",
          "6/17/2014",
          "6/16/2017",
          "6/16/2015",
          "6/16/2014",
          "6/15/2017",
          "6/15/2015",
          "6/15/2014",
          "6/14/2016",
          "6/14/2015",
          "6/14/2014",
          "6/13/2017",
          "6/12/2017",
          "6/12/2016",
          "6/12/2015",
          "6/11/2017",
          "6/11/2016",
          "6/11/2015",
          "6/10/2017",
          "6/10/2016",
          "6/1/2017",
          "6/1/2014",
          "5/9/2017",
          "5/8/2017",
          "5/8/2016",
          "5/8/2015",
          "5/7/2017",
          "5/7/2016",
          "5/7/2015",
          "5/7/2014",
          "5/6/2017",
          "5/6/2016",
          "5/5/2017",
          "5/5/2016",
          "5/5/2014",
          "5/4/2017",
          "5/4/2015",
          "5/4/2014",
          "5/31/2016",
          "5/31/2015",
          "5/30/2017",
          "5/30/2016",
          "5/30/2014",
          "5/3/2017",
          "5/3/2016",
          "5/3/2015",
          "5/29/2017",
          "5/29/2016",
          "5/29/2015",
          "5/28/2017",
          "5/28/2016",
          "5/27/2017",
          "5/27/2016",
          "5/27/2014",
          "5/26/2016",
          "5/26/2015",
          "5/26/2014",
          "5/25/2017",
          "5/25/2016",
          "5/25/2015",
          "5/25/2014",
          "5/24/2015",
          "5/23/2017",
          "5/23/2016",
          "5/23/2015",
          "5/22/2017",
          "5/22/2016",
          "5/21/2017",
          "5/21/2014",
          "5/20/2017",
          "5/20/2016",
          "5/20/2015",
          "5/20/2014",
          "5/2/2017",
          "5/2/2016",
          "5/19/2017",
          "5/19/2016",
          "5/18/2017",
          "5/18/2014",
          "5/17/2016",
          "5/16/2016",
          "5/16/2014",
          "5/15/2017",
          "5/14/2017",
          "5/14/2016",
          "5/14/2015",
          "5/14/2014",
          "5/13/2017",
          "5/13/2014",
          "5/12/2017",
          "5/12/2016",
          "5/12/2015",
          "5/12/2014",
          "5/11/2017",
          "5/11/2015",
          "5/11/2014",
          "5/10/2014",
          "5/1/2017",
          "5/1/2016",
          "5/1/2015",
          "4/9/2016",
          "4/9/2015",
          "4/8/2017",
          "4/8/2016",
          "4/8/2014",
          "4/7/2017",
          "4/7/2016",
          "4/7/2014",
          "4/6/2014",
          "4/5/2015",
          "4/4/2016",
          "4/4/2015",
          "4/4/2014",
          "4/30/2017",
          "4/30/2016",
          "4/30/2015",
          "4/3/2017",
          "4/3/2016",
          "4/29/2017",
          "4/29/2014",
          "4/28/2016",
          "4/27/2017",
          "4/27/2015",
          "4/26/2017",
          "4/26/2016",
          "4/26/2015",
          "4/26/2014",
          "4/25/2017",
          "4/25/2015",
          "4/25/2014",
          "4/24/2016",
          "4/23/2017",
          "4/23/2014",
          "4/22/2017",
          "4/22/2016",
          "4/21/2017",
          "4/21/2015",
          "4/20/2017",
          "4/20/2015",
          "4/20/2014",
          "4/2/2017",
          "4/2/2016",
          "4/2/2014",
          "4/19/2016",
          "4/19/2014",
          "4/18/2016",
          "4/18/2015",
          "4/18/2014",
          "4/17/2017",
          "4/17/2016",
          "4/16/2017",
          "4/16/2016",
          "4/16/2015",
          "4/15/2017",
          "4/15/2016",
          "4/15/2014",
          "4/14/2017",
          "4/14/2016",
          "4/13/2017",
          "4/13/2015",
          "4/12/2016",
          "4/12/2014",
          "4/11/2015",
          "4/10/2017",
          "4/1/2017",
          "4/1/2016",
          "3/9/2016",
          "3/8/2016",
          "3/8/2015",
          "3/7/2014",
          "3/6/2017",
          "3/6/2016",
          "3/6/2015",
          "3/5/2015",
          "3/4/2017",
          "3/31/2017",
          "3/31/2016",
          "3/31/2015",
          "3/31/2014",
          "3/30/2015",
          "3/30/2014",
          "3/3/2017",
          "3/3/2016",
          "3/3/2014",
          "3/29/2016",
          "3/29/2015",
          "3/29/2014",
          "3/28/2017",
          "3/28/2014",
          "3/27/2017",
          "3/27/2016",
          "3/26/2017",
          "3/26/2015",
          "3/25/2017",
          "3/25/2014",
          "3/24/2017",
          "3/24/2016",
          "3/24/2015",
          "3/24/2014",
          "3/23/2017",
          "3/23/2015",
          "3/22/2016",
          "3/22/2015",
          "3/22/2014",
          "3/21/2017",
          "3/21/2016",
          "3/21/2014",
          "3/20/2017",
          "3/20/2016",
          "3/2/2017",
          "3/2/2015",
          "3/19/2017",
          "3/19/2016",
          "3/19/2015",
          "3/19/2014",
          "3/18/2017",
          "3/18/2016",
          "3/18/2014",
          "3/17/2016",
          "3/17/2014",
          "3/16/2017",
          "3/16/2015",
          "3/15/2016",
          "3/15/2014",
          "3/14/2016",
          "3/14/2014",
          "3/13/2017",
          "3/13/2016",
          "3/13/2015",
          "3/12/2016",
          "3/12/2015",
          "3/11/2017",
          "3/11/2016",
          "3/11/2014",
          "3/10/2017",
          "3/10/2016",
          "3/1/2016",
          "3/1/2015",
          "3/1/2014",
          "2/9/2017",
          "2/9/2015",
          "2/8/2016",
          "2/8/2014",
          "2/6/2017",
          "2/6/2016",
          "2/6/2015",
          "2/5/2016",
          "2/4/2016",
          "2/3/2017",
          "2/3/2016",
          "2/3/2015",
          "2/28/2015",
          "2/27/2016",
          "2/27/2015",
          "2/26/2017",
          "2/25/2017",
          "2/21/2016",
          "2/20/2017",
          "2/20/2014",
          "2/2/2017",
          "2/2/2016",
          "2/19/2017",
          "2/19/2016",
          "2/18/2015",
          "2/18/2014",
          "2/17/2017",
          "2/16/2017",
          "2/16/2016",
          "2/14/2016",
          "2/13/2017",
          "2/12/2014",
          "2/11/2017",
          "2/11/2014",
          "2/10/2017",
          "12/9/2017",
          "12/9/2016",
          "12/8/2017",
          "12/8/2016",
          "12/8/2014",
          "12/7/2017",
          "12/7/2015",
          "12/6/2015",
          "12/6/2014",
          "12/5/2017",
          "12/5/2016",
          "12/5/2015",
          "12/4/2017",
          "12/4/2016",
          "12/4/2015",
          "12/31/2015",
          "12/31/2014",
          "12/30/2017",
          "12/30/2016",
          "12/30/2014",
          "12/3/2017",
          "12/3/2016",
          "12/3/2015",
          "12/29/2017",
          "12/29/2016",
          "12/29/2014",
          "12/28/2017",
          "12/27/2016",
          "12/27/2015",
          "12/27/2014",
          "12/26/2016",
          "12/26/2015",
          "12/26/2014",
          "12/25/2017",
          "12/25/2016",
          "12/25/2015",
          "12/24/2017",
          "12/24/2016",
          "12/24/2015",
          "12/24/2014",
          "12/23/2017",
          "12/23/2016",
          "12/23/2014",
          "12/22/2017",
          "12/22/2016",
          "12/22/2015",
          "12/21/2017",
          "12/21/2015",
          "12/21/2014",
          "12/20/2016",
          "12/20/2015",
          "12/20/2014",
          "12/2/2017",
          "12/2/2016",
          "12/2/2014",
          "12/19/2017",
          "12/19/2016",
          "12/19/2015",
          "12/19/2014",
          "12/18/2017",
          "12/18/2016",
          "12/18/2015",
          "12/17/2017",
          "12/17/2016",
          "12/17/2015",
          "12/16/2017",
          "12/16/2016",
          "12/16/2014",
          "12/15/2017",
          "12/15/2016",
          "12/15/2015",
          "12/15/2014",
          "12/14/2017",
          "12/14/2016",
          "12/14/2015",
          "12/14/2014",
          "12/13/2017",
          "12/13/2016",
          "12/13/2014",
          "12/12/2016",
          "12/12/2015",
          "12/12/2014",
          "12/11/2017",
          "12/11/2016",
          "12/11/2015",
          "12/10/2017",
          "12/10/2016",
          "12/10/2015",
          "12/10/2014",
          "12/1/2017",
          "12/1/2016",
          "12/1/2015",
          "12/1/2014",
          "11/9/2017",
          "11/9/2015",
          "11/9/2014",
          "11/8/2017",
          "11/8/2016",
          "11/8/2015",
          "11/7/2017",
          "11/7/2016",
          "11/7/2015",
          "11/7/2014",
          "11/6/2017",
          "11/6/2016",
          "11/5/2017",
          "11/5/2016",
          "11/5/2015",
          "11/5/2014",
          "11/4/2017",
          "11/4/2016",
          "11/4/2014",
          "11/30/2017",
          "11/30/2016",
          "11/30/2015",
          "11/3/2017",
          "11/3/2016",
          "11/3/2015",
          "11/3/2014",
          "11/29/2017",
          "11/29/2016",
          "11/29/2015",
          "11/28/2017",
          "11/28/2016",
          "11/28/2015",
          "11/28/2014",
          "11/27/2017",
          "11/27/2016",
          "11/27/2015",
          "11/27/2014",
          "11/26/2017",
          "11/26/2016",
          "11/26/2015",
          "11/26/2014",
          "11/25/2017",
          "11/25/2016",
          "11/25/2014",
          "11/24/2017",
          "11/24/2016",
          "11/24/2015",
          "11/24/2014",
          "11/23/2017",
          "11/23/2016",
          "11/23/2014",
          "11/22/2016",
          "11/22/2015",
          "11/21/2017",
          "11/21/2016",
          "11/21/2015",
          "11/20/2017",
          "11/20/2016",
          "11/20/2015",
          "11/2/2017",
          "11/2/2015",
          "11/2/2014",
          "11/19/2017",
          "11/19/2016",
          "11/19/2015",
          "11/19/2014",
          "11/18/2017",
          "11/18/2016",
          "11/18/2014",
          "11/17/2017",
          "11/17/2015",
          "11/17/2014",
          "11/16/2017",
          "11/16/2015",
          "11/16/2014",
          "11/15/2017",
          "11/15/2016",
          "11/15/2015",
          "11/15/2014",
          "11/14/2017",
          "11/14/2016",
          "11/14/2015",
          "11/14/2014",
          "11/13/2017",
          "11/13/2016",
          "11/13/2015",
          "11/12/2017",
          "11/12/2016",
          "11/12/2015",
          "11/12/2014",
          "11/11/2017",
          "11/11/2016",
          "11/11/2014",
          "11/10/2017",
          "11/10/2016",
          "11/10/2015",
          "11/10/2014",
          "11/1/2017",
          "11/1/2015",
          "11/1/2014",
          "10/9/2017",
          "10/9/2016",
          "10/9/2015",
          "10/8/2017",
          "10/8/2016",
          "10/8/2015",
          "10/7/2017",
          "10/7/2014",
          "10/5/2017",
          "10/5/2015",
          "10/4/2017",
          "10/4/2016",
          "10/4/2015",
          "10/4/2014",
          "10/31/2016",
          "10/31/2015",
          "10/31/2014",
          "10/30/2017",
          "10/30/2015",
          "10/3/2017",
          "10/3/2016",
          "10/3/2015",
          "10/3/2014",
          "10/29/2016",
          "10/28/2017",
          "10/28/2016",
          "10/28/2015",
          "10/28/2014",
          "10/27/2017",
          "10/27/2016",
          "10/26/2017",
          "10/26/2014",
          "10/25/2015",
          "10/24/2017",
          "10/24/2015",
          "10/23/2017",
          "10/23/2016",
          "10/23/2015",
          "10/22/2017",
          "10/22/2016",
          "10/22/2014",
          "10/21/2017",
          "10/21/2016",
          "10/21/2014",
          "10/20/2017",
          "10/20/2016",
          "10/20/2015",
          "10/20/2014",
          "10/2/2017",
          "10/2/2015",
          "10/19/2017",
          "10/18/2016",
          "10/18/2015",
          "10/18/2014",
          "10/17/2016",
          "10/17/2014",
          "10/16/2017",
          "10/16/2016",
          "10/15/2017",
          "10/15/2015",
          "10/15/2014",
          "10/14/2017",
          "10/14/2016",
          "10/14/2014",
          "10/13/2017",
          "10/13/2016",
          "10/13/2015",
          "10/13/2014",
          "10/12/2017",
          "10/12/2015",
          "10/11/2015",
          "10/11/2014",
          "10/10/2017",
          "10/10/2016",
          "10/10/2015",
          "10/10/2014",
          "10/1/2017",
          "10/1/2016",
          "1/9/2016",
          "1/8/2017",
          "1/8/2016",
          "1/7/2016",
          "1/7/2014",
          "1/6/2014",
          "1/5/2015",
          "1/4/2015",
          "1/31/2015",
          "1/31/2014",
          "1/30/2017",
          "1/30/2016",
          "1/3/2016",
          "1/3/2015",
          "1/29/2017",
          "1/28/2015",
          "1/27/2015",
          "1/26/2017",
          "1/26/2014",
          "1/25/2016",
          "1/23/2017",
          "1/23/2016",
          "1/22/2016",
          "1/21/2017",
          "1/21/2016",
          "1/21/2014",
          "1/20/2017",
          "1/20/2014",
          "1/2/2017",
          "1/2/2016",
          "1/2/2015",
          "1/19/2017",
          "1/19/2015",
          "1/19/2014",
          "1/17/2016",
          "1/17/2015",
          "1/16/2017",
          "1/16/2014",
          "1/15/2016",
          "1/14/2017",
          "1/14/2016",
          "1/14/2014",
          "1/13/2017",
          "1/13/2015",
          "1/13/2014",
          "1/11/2016",
          "1/11/2014",
          "1/10/2016",
          "1/10/2015",
          "1/10/2014",
          "1/1/2017"
         ],
         "xaxis": "x",
         "y": [
          -71.1034,
          -12.0064,
          230.1036,
          -617.8507,
          -609.8617,
          8.1168,
          96.75919999999999,
          65.6858,
          -134.4579,
          334.6413,
          90.294,
          157.5566,
          12.1452,
          236.78970000000004,
          -13.3028,
          1.999,
          -118.59240000000001,
          50.2878,
          -26.196,
          5.1816,
          -85.5458,
          -54.9234,
          76.3502,
          7.4952000000000005,
          389.8266,
          7.7128,
          16.8544,
          -225.0976,
          -12.7512,
          82.9362,
          -54.6744,
          -212.60609999999997,
          77.9604,
          158.8975,
          -42.599799999999995,
          235.58610000000002,
          -97.2312,
          262.70939999999996,
          95.6459,
          554.1401,
          -177.63639999999998,
          41.4536,
          20.5176,
          45.1163,
          22.5124,
          64.2314,
          118.788,
          607.7882,
          -7.476,
          1011.7262,
          30.968899999999998,
          147.08859999999999,
          255.34930000000003,
          -158.4994,
          4.9497,
          -66.85640000000001,
          197.99639999999997,
          23.806,
          131.5933,
          10.1494,
          35.504099999999994,
          10.248,
          0.24340000000000828,
          77.572,
          -1620.807,
          13.4292,
          2.2512,
          17.5666,
          474.72290000000004,
          259.5297,
          508.5934,
          23.1504,
          -30.9042,
          110.1507,
          -58.5955,
          387.5676,
          559.1615,
          -4.1834999999999996,
          383.0198,
          433.5672,
          217.49720000000002,
          58.492000000000004,
          21.7515,
          27.1764,
          -34.392,
          116.32159999999999,
          76.47,
          218.9658,
          61.3824,
          42.544200000000004,
          57.645799999999994,
          10.8588,
          103.5952,
          41.423,
          34.0704,
          30.7104,
          -114.0174,
          -11.439,
          357.86400000000003,
          46.116,
          7.1196,
          200.9546,
          -242.50799999999998,
          -25.518,
          -161.875,
          41.4456,
          -81.94,
          -110.7645,
          250.305,
          -52.8908,
          14.442700000000002,
          -142.26839999999999,
          20.967,
          313.2566,
          -43.848,
          141.2348,
          -89.0664,
          -15.937599999999998,
          2.6376,
          -189.3378,
          6.3744,
          0.4176,
          -50.126400000000004,
          1.2672,
          -81.2501,
          9.8328,
          341.3272,
          -95.57799999999997,
          28.650000000000002,
          139.05,
          -173.16279999999998,
          198.513,
          68.5744,
          -5.9584,
          -535.3607999999999,
          12.096,
          -204.9996,
          -227.4912,
          66.21379999999999,
          28.1421,
          -12.196,
          5.2287,
          47.6604,
          24.196,
          10.4148,
          393.5502,
          -329.9157,
          31.6128,
          12.1149,
          5.434,
          25.473,
          3.1382,
          -175.8708,
          12.1352,
          31.587,
          72.5344,
          20.0156,
          7.049,
          181.9472,
          74.574,
          -77.2884,
          -45.3492,
          -30.7292,
          -34.6598,
          10.1837,
          107.24300000000001,
          47.848,
          -348.6294,
          1.4784,
          21.3592,
          234.371,
          11.4576,
          -2.3439000000000014,
          -290.8752,
          41.2932,
          259.8896,
          97.0998,
          32.065,
          98.152,
          -87.958,
          12.9888,
          24.4297,
          -191.1282,
          -55.87650000000001,
          -1.2443999999999997,
          613.236,
          123.91420000000001,
          34.2848,
          31.0156,
          6.0726,
          50.2398,
          -75.192,
          12.671600000000002,
          90.9366,
          74.75139999999999,
          0,
          -16.60719999999999,
          78.467,
          -178.67759999999998,
          -138.93779999999998,
          0,
          -52.68019999999999,
          202.31279999999998,
          -4.032,
          -495.89070000000004,
          51.480000000000004,
          -25.9136,
          227.3682,
          15.3612,
          -7.999599999999999,
          14.1274,
          -3.8208,
          -96.6131,
          245.68200000000002,
          23.028,
          206.562,
          47.4066,
          -141.92999999999998,
          1.1994,
          19.3392,
          321.84,
          4.3902,
          -7.6141000000000005,
          -18.244799999999998,
          -70.5786,
          265.8612,
          7.9128,
          -86.2761,
          186.99960000000002,
          92.3936,
          358.7116,
          140.9568,
          45.4671,
          83.84100000000001,
          -209.7693,
          2.178,
          34.974,
          -347.1174,
          169.182,
          -15.4442,
          -458.83680000000004,
          11.9952,
          -16.419999999999998,
          -464.8591,
          291.3778,
          -105.7592,
          -1.7772,
          73.49000000000001,
          57.83000000000001,
          3.0689,
          20.7332,
          -376.6932,
          0,
          72.357,
          -7.7094,
          22.3548,
          17.909399999999998,
          19.252200000000002,
          79.9056,
          143.1282,
          -50.3468,
          57.358,
          11.196,
          82.4374,
          0.9612,
          146.388,
          -525.6405,
          -4.8588,
          2.464,
          15.2088,
          15.574499999999999,
          100.4796,
          -19.8744,
          21.996,
          -99.9903,
          4.0192,
          75.5937,
          96.4672,
          46.575,
          -151.3262,
          2.6208,
          181.56,
          -25.3764,
          32.392,
          -18.8736,
          -25.4,
          -75.5522,
          336.7305,
          5.1072,
          57.4938,
          -112.81620000000001,
          205.1856,
          -100.8856,
          4.3296,
          76.9598,
          -9.0944,
          -164.547,
          -30.245,
          -217.048,
          539.2464,
          589.6414,
          88.982,
          -25.839,
          42.392,
          63.8904,
          549.6677,
          87.0544,
          -31.3722,
          205.3996,
          -119.1918,
          14.144,
          -152.9847,
          9.036200000000001,
          -9.1335,
          11.2839,
          -8.9152,
          9.8856,
          -51.0414,
          90.89680000000001,
          30.5588,
          470.0118,
          -184.8366,
          -104.7402,
          10.3936,
          70.3644,
          -49.718399999999995,
          14.547,
          -90.2154,
          50.60669999999999,
          -24.392,
          153.117,
          665.9466,
          -28.356,
          -144.917,
          -25.2896,
          44.7468,
          6.0288,
          6.24,
          4.8609,
          -24.189,
          -163.5767,
          -6.4233,
          16.302,
          19.5858,
          -54.5958,
          -19.9184,
          72.807,
          -29.2524,
          -97.176,
          272.792,
          20.392,
          54.1989,
          12.993,
          -10.579999999999998,
          381.852,
          207.1608,
          70.8289,
          3.7308,
          7.150400000000001,
          19.7988,
          17.466,
          46.303200000000004,
          -6.6338,
          38.071799999999996,
          151.5779,
          23.316,
          -124.431,
          20.9592,
          4.7204999999999995,
          4.4088,
          -15.9268,
          -119.22550000000001,
          -363.9608,
          16.7972,
          -153.6048,
          -184.88029999999998,
          -15.7176,
          -142.071,
          14.2992,
          6.549,
          -13.8717,
          166.78199999999998,
          122.1106,
          223.9685,
          -350.29380000000003,
          146.388,
          2.7776,
          103.53799999999998,
          -188.2696,
          7.4376,
          22.764,
          2.3521,
          19.376400000000004,
          12.204,
          12.2065,
          7.6416,
          22.0472,
          -69.89,
          89.1244,
          -29.2632,
          -42.1096,
          316.8825,
          -1.4413,
          62.7822,
          -189.22539999999998,
          23.028,
          28.4102,
          -23.7822,
          212.3865,
          149.148,
          11.6532,
          -16.3,
          6.2152,
          -788.3384,
          261.351,
          87.50880000000001,
          -38.4226,
          297.69,
          -200.05780000000001,
          76.5346,
          378.274,
          46.1968,
          -58.1332,
          26.649,
          -160.6094,
          -0.19010000000000105,
          -18.1176,
          -13.828499999999998,
          44.3668,
          -6.049,
          3.2868,
          248.10760000000002,
          70.722,
          0,
          76.9816,
          -3.0294999999999987,
          38.38,
          -38.2116,
          -210.2938,
          7.307000000000002,
          -18.147,
          24.4176,
          8.265600000000001,
          87.8217,
          295.8736,
          88.725,
          40.465500000000006,
          368.94079999999997,
          81.49170000000001,
          16.5531,
          -294.09040000000005,
          95.7572,
          49.496900000000004,
          -77.625,
          -2.5745999999999967,
          54.666,
          -7.833,
          98.4802,
          -110.0232,
          -9.093,
          32.067099999999996,
          -171.927,
          -223.1052,
          -79.96239999999999,
          140.8401,
          -152.7156,
          16.9616,
          -36.629999999999995,
          -45.148199999999996,
          19.8808,
          -5.857200000000002,
          610.8624,
          482.5819,
          65.2064,
          62.70140000000001,
          -241.176,
          -22.7738,
          14.5728,
          76.2624,
          -29.2524,
          14.6902,
          15.6332,
          -35.3646,
          530.1258,
          -1.4196,
          -4.328399999999999,
          1.3677,
          146.4036,
          101.6508,
          165.3813,
          21.3958,
          -85.0022,
          -67.6704,
          6.8772,
          -41.262,
          -94.941,
          108.29059999999998,
          252.59,
          -1124.0239,
          7.6896,
          62.824200000000005,
          -58.929000000000016,
          5.1408,
          -25.691300000000002,
          284.98,
          -2.5648,
          42.7504,
          142.70159999999998,
          77.0352,
          5.3018,
          -46.4292,
          0.16499999999999915,
          2.288,
          -161.3286,
          -22.098,
          -264.9208,
          -56.90220000000001,
          -198.624,
          3.858,
          22.941,
          0,
          5.5328,
          109.2914,
          -18.1808,
          348.789,
          52.7956,
          3.9512,
          -26.085,
          225.264,
          67.299,
          15.566400000000002,
          -6.8816,
          -28.224,
          104.8556,
          -16.340200000000003,
          95.501,
          -162.0637,
          6.9088,
          41.9632,
          -70.37100000000001,
          12.0609,
          14.6718,
          -0.8886,
          -11.322,
          -397.3174,
          -8.5794,
          108.6876,
          -42.5334,
          21.506,
          -24.294,
          104.6636,
          143.86610000000002,
          16.7986,
          259.2456,
          129.2052,
          -67.6579,
          -134.17039999999997,
          85.05879999999999,
          25.5378,
          99.75120000000001,
          66.8668,
          -310.4106,
          56.962199999999996,
          687.2788,
          38.437799999999996,
          43.6783,
          20.4822,
          140.5482,
          -11.439,
          450.1908,
          12.1176,
          0,
          -192.0468,
          89.4736,
          108.09519999999998,
          -16.1616,
          492.6236,
          84.3464,
          -23.266199999999998,
          -49.668,
          -12.0784,
          -518.6264,
          146.989,
          53.91630000000001,
          -15.4764,
          66.98460000000001,
          -7.076300000000009,
          1172.109,
          55.631,
          222.9092,
          226.3488,
          -666.4920000000001,
          32.5132,
          57.2943,
          234.2568,
          -13.070799999999998,
          281.65540000000004,
          221.11200000000002,
          0,
          7.0048,
          322.40000000000003,
          184.908,
          7.3788,
          -67.8604,
          593.5846,
          -87.3116,
          -108.41460000000001,
          -135.5882,
          -179.62439999999998,
          -249.2576,
          -105.3164,
          163.7874,
          158.4025,
          -71.71499999999999,
          3.556,
          108.14320000000001,
          -325.572,
          218.68449999999999,
          22.8344,
          7.049,
          136.5506,
          9.7911,
          -68.9733,
          69.0018,
          -135.579,
          -460.19579999999996,
          247.987,
          30.2684,
          -52.3365,
          61.480199999999996,
          41.7852,
          7.6965,
          28.6203,
          56.537800000000004,
          251.9412,
          -522.1774,
          -142.56449999999998,
          -365.9028,
          165.5856,
          384.36220000000003,
          374.2876,
          4.2294,
          399.474,
          196.1623,
          790.7134000000001,
          651.4054000000001,
          90.18209999999999,
          215.1198,
          31.956,
          112.422,
          261.49559999999997,
          1197.8679,
          -96.46560000000002,
          88.63640000000001,
          106.272,
          0,
          252.1122,
          -5.736600000000001,
          -3.866799999999998,
          -228.51799999999997,
          25.875,
          15.0946,
          -192.0468,
          -433.6915,
          -26.958399999999997,
          -396.7551,
          35.0973,
          97.98240000000001,
          102.6417,
          125.96580000000003,
          225.888,
          -350.55539999999996,
          67.831,
          -302.72,
          209.3285,
          -276.64979999999997,
          28.1313,
          -88.60180000000001,
          43.736,
          25.2742,
          -103.9386,
          -102.1019,
          39.98,
          355.128,
          337.9528,
          190.4298,
          -14.475,
          33.0256,
          348.8433,
          -78.7465,
          164.9872,
          341.0816,
          22.3328,
          32.8624,
          -16.783099999999997,
          3.9512,
          -82.1618,
          11.1664,
          -32.5226,
          31.8264,
          16.1708,
          -521.6124,
          -27.9354,
          -118.00460000000001,
          -308.4986,
          268.4332,
          617.6584,
          24.1218,
          -134.17200000000003,
          0.8414,
          22.7136,
          235.9524,
          -14.4426,
          14.9936,
          -113.8537,
          62.522800000000004,
          431.2682,
          -62.504999999999995,
          52.245599999999996,
          368.2398,
          24.1323,
          55.016,
          -199.5076,
          14.3856,
          3.2352,
          28.1372,
          67.10560000000001,
          146.23680000000002,
          14.6224,
          154.01940000000002,
          20.2846,
          9.218400000000003,
          -13.4204,
          -50.8692,
          -55.5987,
          11.5443,
          26.3223,
          260.3728,
          -220.9558,
          -609.7732,
          295.98220000000003,
          12.8568,
          138.8504,
          239.9058,
          187.2862,
          26.137999999999998,
          -512.4744000000001,
          -24.9624,
          35.0973,
          3.2392,
          -32.32,
          -8.223499999999994,
          -50.59,
          21.112,
          -25.244,
          -14.5584,
          8.5914,
          -21.334400000000002,
          49.7178,
          -6.549,
          137.2884,
          40.235200000000006,
          -301.6089999999999,
          -48.7573,
          3.6784,
          15.395899999999997,
          166.664,
          2.839199999999998,
          -71.81949999999999,
          32.16,
          15.5904,
          154.966,
          22.0709,
          -36.294,
          16.0278,
          175.72799999999998,
          60.6645,
          3.196,
          14.922200000000007,
          -81.3065,
          -143.2914,
          -47.059200000000004,
          -12.117,
          86.003,
          -94.69420000000001,
          51.8076,
          23.303199999999997,
          158.6422,
          67.3864,
          -10.526199999999989,
          -69.7892,
          8.592799999999999,
          57.369,
          -147.8655,
          -1312.4973,
          3.0338,
          -137.55669999999998,
          -34.641,
          3.2352,
          145.2816,
          33.392,
          -1.5936,
          -793.7473,
          -37.9152,
          15.693200000000001,
          -344.31960000000004,
          4.0383,
          3.6894,
          10.2592,
          260.6112,
          339.2302,
          -557.1898,
          77.7438,
          338.7098,
          51.56080000000003,
          145.3904,
          -383.031,
          -42.06940000000001,
          -47.8716,
          -183.56400000000002,
          -54.3204,
          17.28,
          9.5032,
          -92.6468,
          3.792,
          80.3682,
          407.1288,
          -10.9611,
          -53.7096,
          746.4078,
          -6.9282,
          69.1992,
          16.5354,
          3.4196,
          -114.3492,
          -590.5088000000001,
          350.427,
          -437.5404,
          4.6221,
          -1862.3124,
          -54.5958,
          24.4608,
          75.0018,
          7.8166,
          21.098,
          21.5964,
          -26.022800000000004,
          18.6956,
          70.25280000000001,
          4.1028,
          2.3094,
          264.9417,
          -169.637,
          38.2668,
          -244.323,
          -56.9829,
          -13.1706,
          -320.597,
          64.518,
          -312.0614,
          65.7499,
          28.5984,
          -15.5826,
          8.532,
          31.5776,
          -53.2856,
          53.235,
          92.97,
          91.2798,
          8.9362,
          3.0814,
          42.0691,
          -373.3048,
          21.2954,
          -6.199299999999969
         ],
         "yaxis": "y"
        }
       ],
       "layout": {
        "height": 500,
        "legend": {
         "title": {
          "text": "variable"
         },
         "tracegroupgap": 0
        },
        "margin": {
         "t": 60
        },
        "template": {
         "data": {
          "bar": [
           {
            "error_x": {
             "color": "#2a3f5f"
            },
            "error_y": {
             "color": "#2a3f5f"
            },
            "marker": {
             "line": {
              "color": "#E5ECF6",
              "width": 0.5
             },
             "pattern": {
              "fillmode": "overlay",
              "size": 10,
              "solidity": 0.2
             }
            },
            "type": "bar"
           }
          ],
          "barpolar": [
           {
            "marker": {
             "line": {
              "color": "#E5ECF6",
              "width": 0.5
             },
             "pattern": {
              "fillmode": "overlay",
              "size": 10,
              "solidity": 0.2
             }
            },
            "type": "barpolar"
           }
          ],
          "carpet": [
           {
            "aaxis": {
             "endlinecolor": "#2a3f5f",
             "gridcolor": "white",
             "linecolor": "white",
             "minorgridcolor": "white",
             "startlinecolor": "#2a3f5f"
            },
            "baxis": {
             "endlinecolor": "#2a3f5f",
             "gridcolor": "white",
             "linecolor": "white",
             "minorgridcolor": "white",
             "startlinecolor": "#2a3f5f"
            },
            "type": "carpet"
           }
          ],
          "choropleth": [
           {
            "colorbar": {
             "outlinewidth": 0,
             "ticks": ""
            },
            "type": "choropleth"
           }
          ],
          "contour": [
           {
            "colorbar": {
             "outlinewidth": 0,
             "ticks": ""
            },
            "colorscale": [
             [
              0,
              "#0d0887"
             ],
             [
              0.1111111111111111,
              "#46039f"
             ],
             [
              0.2222222222222222,
              "#7201a8"
             ],
             [
              0.3333333333333333,
              "#9c179e"
             ],
             [
              0.4444444444444444,
              "#bd3786"
             ],
             [
              0.5555555555555556,
              "#d8576b"
             ],
             [
              0.6666666666666666,
              "#ed7953"
             ],
             [
              0.7777777777777778,
              "#fb9f3a"
             ],
             [
              0.8888888888888888,
              "#fdca26"
             ],
             [
              1,
              "#f0f921"
             ]
            ],
            "type": "contour"
           }
          ],
          "contourcarpet": [
           {
            "colorbar": {
             "outlinewidth": 0,
             "ticks": ""
            },
            "type": "contourcarpet"
           }
          ],
          "heatmap": [
           {
            "colorbar": {
             "outlinewidth": 0,
             "ticks": ""
            },
            "colorscale": [
             [
              0,
              "#0d0887"
             ],
             [
              0.1111111111111111,
              "#46039f"
             ],
             [
              0.2222222222222222,
              "#7201a8"
             ],
             [
              0.3333333333333333,
              "#9c179e"
             ],
             [
              0.4444444444444444,
              "#bd3786"
             ],
             [
              0.5555555555555556,
              "#d8576b"
             ],
             [
              0.6666666666666666,
              "#ed7953"
             ],
             [
              0.7777777777777778,
              "#fb9f3a"
             ],
             [
              0.8888888888888888,
              "#fdca26"
             ],
             [
              1,
              "#f0f921"
             ]
            ],
            "type": "heatmap"
           }
          ],
          "heatmapgl": [
           {
            "colorbar": {
             "outlinewidth": 0,
             "ticks": ""
            },
            "colorscale": [
             [
              0,
              "#0d0887"
             ],
             [
              0.1111111111111111,
              "#46039f"
             ],
             [
              0.2222222222222222,
              "#7201a8"
             ],
             [
              0.3333333333333333,
              "#9c179e"
             ],
             [
              0.4444444444444444,
              "#bd3786"
             ],
             [
              0.5555555555555556,
              "#d8576b"
             ],
             [
              0.6666666666666666,
              "#ed7953"
             ],
             [
              0.7777777777777778,
              "#fb9f3a"
             ],
             [
              0.8888888888888888,
              "#fdca26"
             ],
             [
              1,
              "#f0f921"
             ]
            ],
            "type": "heatmapgl"
           }
          ],
          "histogram": [
           {
            "marker": {
             "pattern": {
              "fillmode": "overlay",
              "size": 10,
              "solidity": 0.2
             }
            },
            "type": "histogram"
           }
          ],
          "histogram2d": [
           {
            "colorbar": {
             "outlinewidth": 0,
             "ticks": ""
            },
            "colorscale": [
             [
              0,
              "#0d0887"
             ],
             [
              0.1111111111111111,
              "#46039f"
             ],
             [
              0.2222222222222222,
              "#7201a8"
             ],
             [
              0.3333333333333333,
              "#9c179e"
             ],
             [
              0.4444444444444444,
              "#bd3786"
             ],
             [
              0.5555555555555556,
              "#d8576b"
             ],
             [
              0.6666666666666666,
              "#ed7953"
             ],
             [
              0.7777777777777778,
              "#fb9f3a"
             ],
             [
              0.8888888888888888,
              "#fdca26"
             ],
             [
              1,
              "#f0f921"
             ]
            ],
            "type": "histogram2d"
           }
          ],
          "histogram2dcontour": [
           {
            "colorbar": {
             "outlinewidth": 0,
             "ticks": ""
            },
            "colorscale": [
             [
              0,
              "#0d0887"
             ],
             [
              0.1111111111111111,
              "#46039f"
             ],
             [
              0.2222222222222222,
              "#7201a8"
             ],
             [
              0.3333333333333333,
              "#9c179e"
             ],
             [
              0.4444444444444444,
              "#bd3786"
             ],
             [
              0.5555555555555556,
              "#d8576b"
             ],
             [
              0.6666666666666666,
              "#ed7953"
             ],
             [
              0.7777777777777778,
              "#fb9f3a"
             ],
             [
              0.8888888888888888,
              "#fdca26"
             ],
             [
              1,
              "#f0f921"
             ]
            ],
            "type": "histogram2dcontour"
           }
          ],
          "mesh3d": [
           {
            "colorbar": {
             "outlinewidth": 0,
             "ticks": ""
            },
            "type": "mesh3d"
           }
          ],
          "parcoords": [
           {
            "line": {
             "colorbar": {
              "outlinewidth": 0,
              "ticks": ""
             }
            },
            "type": "parcoords"
           }
          ],
          "pie": [
           {
            "automargin": true,
            "type": "pie"
           }
          ],
          "scatter": [
           {
            "fillpattern": {
             "fillmode": "overlay",
             "size": 10,
             "solidity": 0.2
            },
            "type": "scatter"
           }
          ],
          "scatter3d": [
           {
            "line": {
             "colorbar": {
              "outlinewidth": 0,
              "ticks": ""
             }
            },
            "marker": {
             "colorbar": {
              "outlinewidth": 0,
              "ticks": ""
             }
            },
            "type": "scatter3d"
           }
          ],
          "scattercarpet": [
           {
            "marker": {
             "colorbar": {
              "outlinewidth": 0,
              "ticks": ""
             }
            },
            "type": "scattercarpet"
           }
          ],
          "scattergeo": [
           {
            "marker": {
             "colorbar": {
              "outlinewidth": 0,
              "ticks": ""
             }
            },
            "type": "scattergeo"
           }
          ],
          "scattergl": [
           {
            "marker": {
             "colorbar": {
              "outlinewidth": 0,
              "ticks": ""
             }
            },
            "type": "scattergl"
           }
          ],
          "scattermapbox": [
           {
            "marker": {
             "colorbar": {
              "outlinewidth": 0,
              "ticks": ""
             }
            },
            "type": "scattermapbox"
           }
          ],
          "scatterpolar": [
           {
            "marker": {
             "colorbar": {
              "outlinewidth": 0,
              "ticks": ""
             }
            },
            "type": "scatterpolar"
           }
          ],
          "scatterpolargl": [
           {
            "marker": {
             "colorbar": {
              "outlinewidth": 0,
              "ticks": ""
             }
            },
            "type": "scatterpolargl"
           }
          ],
          "scatterternary": [
           {
            "marker": {
             "colorbar": {
              "outlinewidth": 0,
              "ticks": ""
             }
            },
            "type": "scatterternary"
           }
          ],
          "surface": [
           {
            "colorbar": {
             "outlinewidth": 0,
             "ticks": ""
            },
            "colorscale": [
             [
              0,
              "#0d0887"
             ],
             [
              0.1111111111111111,
              "#46039f"
             ],
             [
              0.2222222222222222,
              "#7201a8"
             ],
             [
              0.3333333333333333,
              "#9c179e"
             ],
             [
              0.4444444444444444,
              "#bd3786"
             ],
             [
              0.5555555555555556,
              "#d8576b"
             ],
             [
              0.6666666666666666,
              "#ed7953"
             ],
             [
              0.7777777777777778,
              "#fb9f3a"
             ],
             [
              0.8888888888888888,
              "#fdca26"
             ],
             [
              1,
              "#f0f921"
             ]
            ],
            "type": "surface"
           }
          ],
          "table": [
           {
            "cells": {
             "fill": {
              "color": "#EBF0F8"
             },
             "line": {
              "color": "white"
             }
            },
            "header": {
             "fill": {
              "color": "#C8D4E3"
             },
             "line": {
              "color": "white"
             }
            },
            "type": "table"
           }
          ]
         },
         "layout": {
          "annotationdefaults": {
           "arrowcolor": "#2a3f5f",
           "arrowhead": 0,
           "arrowwidth": 1
          },
          "autotypenumbers": "strict",
          "coloraxis": {
           "colorbar": {
            "outlinewidth": 0,
            "ticks": ""
           }
          },
          "colorscale": {
           "diverging": [
            [
             0,
             "#8e0152"
            ],
            [
             0.1,
             "#c51b7d"
            ],
            [
             0.2,
             "#de77ae"
            ],
            [
             0.3,
             "#f1b6da"
            ],
            [
             0.4,
             "#fde0ef"
            ],
            [
             0.5,
             "#f7f7f7"
            ],
            [
             0.6,
             "#e6f5d0"
            ],
            [
             0.7,
             "#b8e186"
            ],
            [
             0.8,
             "#7fbc41"
            ],
            [
             0.9,
             "#4d9221"
            ],
            [
             1,
             "#276419"
            ]
           ],
           "sequential": [
            [
             0,
             "#0d0887"
            ],
            [
             0.1111111111111111,
             "#46039f"
            ],
            [
             0.2222222222222222,
             "#7201a8"
            ],
            [
             0.3333333333333333,
             "#9c179e"
            ],
            [
             0.4444444444444444,
             "#bd3786"
            ],
            [
             0.5555555555555556,
             "#d8576b"
            ],
            [
             0.6666666666666666,
             "#ed7953"
            ],
            [
             0.7777777777777778,
             "#fb9f3a"
            ],
            [
             0.8888888888888888,
             "#fdca26"
            ],
            [
             1,
             "#f0f921"
            ]
           ],
           "sequentialminus": [
            [
             0,
             "#0d0887"
            ],
            [
             0.1111111111111111,
             "#46039f"
            ],
            [
             0.2222222222222222,
             "#7201a8"
            ],
            [
             0.3333333333333333,
             "#9c179e"
            ],
            [
             0.4444444444444444,
             "#bd3786"
            ],
            [
             0.5555555555555556,
             "#d8576b"
            ],
            [
             0.6666666666666666,
             "#ed7953"
            ],
            [
             0.7777777777777778,
             "#fb9f3a"
            ],
            [
             0.8888888888888888,
             "#fdca26"
            ],
            [
             1,
             "#f0f921"
            ]
           ]
          },
          "colorway": [
           "#636efa",
           "#EF553B",
           "#00cc96",
           "#ab63fa",
           "#FFA15A",
           "#19d3f3",
           "#FF6692",
           "#B6E880",
           "#FF97FF",
           "#FECB52"
          ],
          "font": {
           "color": "#2a3f5f"
          },
          "geo": {
           "bgcolor": "white",
           "lakecolor": "white",
           "landcolor": "#E5ECF6",
           "showlakes": true,
           "showland": true,
           "subunitcolor": "white"
          },
          "hoverlabel": {
           "align": "left"
          },
          "hovermode": "closest",
          "mapbox": {
           "style": "light"
          },
          "paper_bgcolor": "white",
          "plot_bgcolor": "#E5ECF6",
          "polar": {
           "angularaxis": {
            "gridcolor": "white",
            "linecolor": "white",
            "ticks": ""
           },
           "bgcolor": "#E5ECF6",
           "radialaxis": {
            "gridcolor": "white",
            "linecolor": "white",
            "ticks": ""
           }
          },
          "scene": {
           "xaxis": {
            "backgroundcolor": "#E5ECF6",
            "gridcolor": "white",
            "gridwidth": 2,
            "linecolor": "white",
            "showbackground": true,
            "ticks": "",
            "zerolinecolor": "white"
           },
           "yaxis": {
            "backgroundcolor": "#E5ECF6",
            "gridcolor": "white",
            "gridwidth": 2,
            "linecolor": "white",
            "showbackground": true,
            "ticks": "",
            "zerolinecolor": "white"
           },
           "zaxis": {
            "backgroundcolor": "#E5ECF6",
            "gridcolor": "white",
            "gridwidth": 2,
            "linecolor": "white",
            "showbackground": true,
            "ticks": "",
            "zerolinecolor": "white"
           }
          },
          "shapedefaults": {
           "line": {
            "color": "#2a3f5f"
           }
          },
          "ternary": {
           "aaxis": {
            "gridcolor": "white",
            "linecolor": "white",
            "ticks": ""
           },
           "baxis": {
            "gridcolor": "white",
            "linecolor": "white",
            "ticks": ""
           },
           "bgcolor": "#E5ECF6",
           "caxis": {
            "gridcolor": "white",
            "linecolor": "white",
            "ticks": ""
           }
          },
          "title": {
           "x": 0.05
          },
          "xaxis": {
           "automargin": true,
           "gridcolor": "white",
           "linecolor": "white",
           "ticks": "",
           "title": {
            "standoff": 15
           },
           "zerolinecolor": "white",
           "zerolinewidth": 2
          },
          "yaxis": {
           "automargin": true,
           "gridcolor": "white",
           "linecolor": "white",
           "ticks": "",
           "title": {
            "standoff": 15
           },
           "zerolinecolor": "white",
           "zerolinewidth": 2
          }
         }
        },
        "width": 800,
        "xaxis": {
         "anchor": "y",
         "domain": [
          0,
          1
         ],
         "title": {
          "text": "Order Date"
         }
        },
        "yaxis": {
         "anchor": "x",
         "domain": [
          0,
          1
         ],
         "title": {
          "text": "value"
         }
        }
       }
      }
     },
     "metadata": {},
     "output_type": "display_data"
    }
   ],
   "source": [
    "# Graph Logic\n",
    "chosen_cols1 = ['Sales', 'Profit']\n",
    "total_sales = df.groupby('Order Date')[chosen_cols1].sum().reset_index().sort_values(by='Order Date', ascending=False)\n",
    "total_sales\n",
    "\n",
    "# Graph plotting\n",
    "fig = px.line(total_sales, x='Order Date', y=chosen_cols1, width=800, height=500)\n",
    "\n",
    "# Plot Settings\n",
    "fig.write_image(\"line_plot.jpg\")\n",
    "fig.show()"
   ]
  },
  {
   "cell_type": "markdown",
   "metadata": {},
   "source": [
    "Compare the sales and profits of different states."
   ]
  },
  {
   "cell_type": "code",
   "execution_count": 8,
   "metadata": {},
   "outputs": [
    {
     "data": {
      "application/vnd.plotly.v1+json": {
       "config": {
        "plotlyServerURL": "https://plot.ly"
       },
       "data": [
        {
         "hovertemplate": "variable=Sales<br>value=%{x}<br>State=%{y}<extra></extra>",
         "legendgroup": "Sales",
         "line": {
          "color": "#636efa",
          "dash": "solid"
         },
         "marker": {
          "symbol": "circle"
         },
         "mode": "lines",
         "name": "Sales",
         "orientation": "h",
         "showlegend": true,
         "type": "scatter",
         "x": [
          1603.136,
          17054.65,
          673.344,
          47766.644,
          24866.85,
          5120.099999999999,
          4822.35,
          58081.4078,
          13439.244,
          324.9,
          3078.25,
          5918.756,
          38815.390999999996,
          4784.796,
          8122.14,
          23389.915,
          14379.404,
          92433.33899999999,
          1701.412,
          6004.102,
          1886.474,
          2949.292,
          1944.7,
          63.98,
          2800.4700000000003,
          4231.400000000001,
          5037.349999999999,
          21873.26,
          10892.344000000001,
          8622.293,
          2963.0299999999997,
          11986.03,
          111.12,
          2642.31,
          11496.710000000001,
          26984.272,
          2553.522,
          7551.3,
          21561.448,
          1308.8999999999999,
          4313.786,
          5147.527,
          13227.805,
          150184.7855,
          3148.9500000000003,
          11727.643,
          5786.6
         ],
         "xaxis": "x",
         "y": [
          "Wyoming",
          "Wisconsin",
          "West Virginia",
          "Washington",
          "Virginia",
          "Vermont",
          "Utah",
          "Texas",
          "Tennessee",
          "South Dakota",
          "South Carolina",
          "Rhode Island",
          "Pennsylvania",
          "Oregon",
          "Oklahoma",
          "Ohio",
          "North Carolina",
          "New York",
          "New Mexico",
          "New Jersey",
          "New Hampshire",
          "Nevada",
          "Nebraska",
          "Montana",
          "Missouri",
          "Mississippi",
          "Minnesota",
          "Michigan",
          "Massachusetts",
          "Maryland",
          "Louisiana",
          "Kentucky",
          "Kansas",
          "Iowa",
          "Indiana",
          "Illinois",
          "Idaho",
          "Georgia",
          "Florida",
          "District of Columbia",
          "Delaware",
          "Connecticut",
          "Colorado",
          "California",
          "Arkansas",
          "Arizona",
          "Alabama"
         ],
         "yaxis": "y"
        },
        {
         "hovertemplate": "variable=Profit<br>value=%{x}<br>State=%{y}<extra></extra>",
         "legendgroup": "Profit",
         "line": {
          "color": "#EF553B",
          "dash": "solid"
         },
         "marker": {
          "symbol": "circle"
         },
         "mode": "lines",
         "name": "Profit",
         "orientation": "h",
         "showlegend": true,
         "type": "scatter",
         "x": [
          100.196,
          3788.4645,
          -76.9536,
          7155.3982,
          5104.2045,
          1191.927,
          631.7557,
          -9706.3017,
          -2228.8755,
          67.1898,
          612.8439,
          913.3770000000001,
          -7139.0829,
          -1532.4203,
          2108.5134,
          -4004.5587,
          -3534.9533,
          5946.450400000001,
          251.5917,
          914.1529,
          153.937,
          204.2533,
          518.4364,
          21.7532,
          581.0257,
          906.7815999999999,
          1250.5783,
          4577.0268,
          1078.3159,
          1808.9397999999999,
          685.9946,
          3171.5664,
          36.9696,
          520.0385,
          2181.2753000000002,
          -8589.8651,
          531.0292999999999,
          1844.7568,
          -1824.5928999999999,
          334.2579,
          900.5035,
          1216.3949,
          -2684.8478,
          8592.5149,
          769.8752,
          -2854.166,
          1160.4238
         ],
         "xaxis": "x",
         "y": [
          "Wyoming",
          "Wisconsin",
          "West Virginia",
          "Washington",
          "Virginia",
          "Vermont",
          "Utah",
          "Texas",
          "Tennessee",
          "South Dakota",
          "South Carolina",
          "Rhode Island",
          "Pennsylvania",
          "Oregon",
          "Oklahoma",
          "Ohio",
          "North Carolina",
          "New York",
          "New Mexico",
          "New Jersey",
          "New Hampshire",
          "Nevada",
          "Nebraska",
          "Montana",
          "Missouri",
          "Mississippi",
          "Minnesota",
          "Michigan",
          "Massachusetts",
          "Maryland",
          "Louisiana",
          "Kentucky",
          "Kansas",
          "Iowa",
          "Indiana",
          "Illinois",
          "Idaho",
          "Georgia",
          "Florida",
          "District of Columbia",
          "Delaware",
          "Connecticut",
          "Colorado",
          "California",
          "Arkansas",
          "Arizona",
          "Alabama"
         ],
         "yaxis": "y"
        }
       ],
       "layout": {
        "height": 500,
        "legend": {
         "title": {
          "text": "variable"
         },
         "tracegroupgap": 0
        },
        "margin": {
         "t": 60
        },
        "template": {
         "data": {
          "bar": [
           {
            "error_x": {
             "color": "#2a3f5f"
            },
            "error_y": {
             "color": "#2a3f5f"
            },
            "marker": {
             "line": {
              "color": "#E5ECF6",
              "width": 0.5
             },
             "pattern": {
              "fillmode": "overlay",
              "size": 10,
              "solidity": 0.2
             }
            },
            "type": "bar"
           }
          ],
          "barpolar": [
           {
            "marker": {
             "line": {
              "color": "#E5ECF6",
              "width": 0.5
             },
             "pattern": {
              "fillmode": "overlay",
              "size": 10,
              "solidity": 0.2
             }
            },
            "type": "barpolar"
           }
          ],
          "carpet": [
           {
            "aaxis": {
             "endlinecolor": "#2a3f5f",
             "gridcolor": "white",
             "linecolor": "white",
             "minorgridcolor": "white",
             "startlinecolor": "#2a3f5f"
            },
            "baxis": {
             "endlinecolor": "#2a3f5f",
             "gridcolor": "white",
             "linecolor": "white",
             "minorgridcolor": "white",
             "startlinecolor": "#2a3f5f"
            },
            "type": "carpet"
           }
          ],
          "choropleth": [
           {
            "colorbar": {
             "outlinewidth": 0,
             "ticks": ""
            },
            "type": "choropleth"
           }
          ],
          "contour": [
           {
            "colorbar": {
             "outlinewidth": 0,
             "ticks": ""
            },
            "colorscale": [
             [
              0,
              "#0d0887"
             ],
             [
              0.1111111111111111,
              "#46039f"
             ],
             [
              0.2222222222222222,
              "#7201a8"
             ],
             [
              0.3333333333333333,
              "#9c179e"
             ],
             [
              0.4444444444444444,
              "#bd3786"
             ],
             [
              0.5555555555555556,
              "#d8576b"
             ],
             [
              0.6666666666666666,
              "#ed7953"
             ],
             [
              0.7777777777777778,
              "#fb9f3a"
             ],
             [
              0.8888888888888888,
              "#fdca26"
             ],
             [
              1,
              "#f0f921"
             ]
            ],
            "type": "contour"
           }
          ],
          "contourcarpet": [
           {
            "colorbar": {
             "outlinewidth": 0,
             "ticks": ""
            },
            "type": "contourcarpet"
           }
          ],
          "heatmap": [
           {
            "colorbar": {
             "outlinewidth": 0,
             "ticks": ""
            },
            "colorscale": [
             [
              0,
              "#0d0887"
             ],
             [
              0.1111111111111111,
              "#46039f"
             ],
             [
              0.2222222222222222,
              "#7201a8"
             ],
             [
              0.3333333333333333,
              "#9c179e"
             ],
             [
              0.4444444444444444,
              "#bd3786"
             ],
             [
              0.5555555555555556,
              "#d8576b"
             ],
             [
              0.6666666666666666,
              "#ed7953"
             ],
             [
              0.7777777777777778,
              "#fb9f3a"
             ],
             [
              0.8888888888888888,
              "#fdca26"
             ],
             [
              1,
              "#f0f921"
             ]
            ],
            "type": "heatmap"
           }
          ],
          "heatmapgl": [
           {
            "colorbar": {
             "outlinewidth": 0,
             "ticks": ""
            },
            "colorscale": [
             [
              0,
              "#0d0887"
             ],
             [
              0.1111111111111111,
              "#46039f"
             ],
             [
              0.2222222222222222,
              "#7201a8"
             ],
             [
              0.3333333333333333,
              "#9c179e"
             ],
             [
              0.4444444444444444,
              "#bd3786"
             ],
             [
              0.5555555555555556,
              "#d8576b"
             ],
             [
              0.6666666666666666,
              "#ed7953"
             ],
             [
              0.7777777777777778,
              "#fb9f3a"
             ],
             [
              0.8888888888888888,
              "#fdca26"
             ],
             [
              1,
              "#f0f921"
             ]
            ],
            "type": "heatmapgl"
           }
          ],
          "histogram": [
           {
            "marker": {
             "pattern": {
              "fillmode": "overlay",
              "size": 10,
              "solidity": 0.2
             }
            },
            "type": "histogram"
           }
          ],
          "histogram2d": [
           {
            "colorbar": {
             "outlinewidth": 0,
             "ticks": ""
            },
            "colorscale": [
             [
              0,
              "#0d0887"
             ],
             [
              0.1111111111111111,
              "#46039f"
             ],
             [
              0.2222222222222222,
              "#7201a8"
             ],
             [
              0.3333333333333333,
              "#9c179e"
             ],
             [
              0.4444444444444444,
              "#bd3786"
             ],
             [
              0.5555555555555556,
              "#d8576b"
             ],
             [
              0.6666666666666666,
              "#ed7953"
             ],
             [
              0.7777777777777778,
              "#fb9f3a"
             ],
             [
              0.8888888888888888,
              "#fdca26"
             ],
             [
              1,
              "#f0f921"
             ]
            ],
            "type": "histogram2d"
           }
          ],
          "histogram2dcontour": [
           {
            "colorbar": {
             "outlinewidth": 0,
             "ticks": ""
            },
            "colorscale": [
             [
              0,
              "#0d0887"
             ],
             [
              0.1111111111111111,
              "#46039f"
             ],
             [
              0.2222222222222222,
              "#7201a8"
             ],
             [
              0.3333333333333333,
              "#9c179e"
             ],
             [
              0.4444444444444444,
              "#bd3786"
             ],
             [
              0.5555555555555556,
              "#d8576b"
             ],
             [
              0.6666666666666666,
              "#ed7953"
             ],
             [
              0.7777777777777778,
              "#fb9f3a"
             ],
             [
              0.8888888888888888,
              "#fdca26"
             ],
             [
              1,
              "#f0f921"
             ]
            ],
            "type": "histogram2dcontour"
           }
          ],
          "mesh3d": [
           {
            "colorbar": {
             "outlinewidth": 0,
             "ticks": ""
            },
            "type": "mesh3d"
           }
          ],
          "parcoords": [
           {
            "line": {
             "colorbar": {
              "outlinewidth": 0,
              "ticks": ""
             }
            },
            "type": "parcoords"
           }
          ],
          "pie": [
           {
            "automargin": true,
            "type": "pie"
           }
          ],
          "scatter": [
           {
            "fillpattern": {
             "fillmode": "overlay",
             "size": 10,
             "solidity": 0.2
            },
            "type": "scatter"
           }
          ],
          "scatter3d": [
           {
            "line": {
             "colorbar": {
              "outlinewidth": 0,
              "ticks": ""
             }
            },
            "marker": {
             "colorbar": {
              "outlinewidth": 0,
              "ticks": ""
             }
            },
            "type": "scatter3d"
           }
          ],
          "scattercarpet": [
           {
            "marker": {
             "colorbar": {
              "outlinewidth": 0,
              "ticks": ""
             }
            },
            "type": "scattercarpet"
           }
          ],
          "scattergeo": [
           {
            "marker": {
             "colorbar": {
              "outlinewidth": 0,
              "ticks": ""
             }
            },
            "type": "scattergeo"
           }
          ],
          "scattergl": [
           {
            "marker": {
             "colorbar": {
              "outlinewidth": 0,
              "ticks": ""
             }
            },
            "type": "scattergl"
           }
          ],
          "scattermapbox": [
           {
            "marker": {
             "colorbar": {
              "outlinewidth": 0,
              "ticks": ""
             }
            },
            "type": "scattermapbox"
           }
          ],
          "scatterpolar": [
           {
            "marker": {
             "colorbar": {
              "outlinewidth": 0,
              "ticks": ""
             }
            },
            "type": "scatterpolar"
           }
          ],
          "scatterpolargl": [
           {
            "marker": {
             "colorbar": {
              "outlinewidth": 0,
              "ticks": ""
             }
            },
            "type": "scatterpolargl"
           }
          ],
          "scatterternary": [
           {
            "marker": {
             "colorbar": {
              "outlinewidth": 0,
              "ticks": ""
             }
            },
            "type": "scatterternary"
           }
          ],
          "surface": [
           {
            "colorbar": {
             "outlinewidth": 0,
             "ticks": ""
            },
            "colorscale": [
             [
              0,
              "#0d0887"
             ],
             [
              0.1111111111111111,
              "#46039f"
             ],
             [
              0.2222222222222222,
              "#7201a8"
             ],
             [
              0.3333333333333333,
              "#9c179e"
             ],
             [
              0.4444444444444444,
              "#bd3786"
             ],
             [
              0.5555555555555556,
              "#d8576b"
             ],
             [
              0.6666666666666666,
              "#ed7953"
             ],
             [
              0.7777777777777778,
              "#fb9f3a"
             ],
             [
              0.8888888888888888,
              "#fdca26"
             ],
             [
              1,
              "#f0f921"
             ]
            ],
            "type": "surface"
           }
          ],
          "table": [
           {
            "cells": {
             "fill": {
              "color": "#EBF0F8"
             },
             "line": {
              "color": "white"
             }
            },
            "header": {
             "fill": {
              "color": "#C8D4E3"
             },
             "line": {
              "color": "white"
             }
            },
            "type": "table"
           }
          ]
         },
         "layout": {
          "annotationdefaults": {
           "arrowcolor": "#2a3f5f",
           "arrowhead": 0,
           "arrowwidth": 1
          },
          "autotypenumbers": "strict",
          "coloraxis": {
           "colorbar": {
            "outlinewidth": 0,
            "ticks": ""
           }
          },
          "colorscale": {
           "diverging": [
            [
             0,
             "#8e0152"
            ],
            [
             0.1,
             "#c51b7d"
            ],
            [
             0.2,
             "#de77ae"
            ],
            [
             0.3,
             "#f1b6da"
            ],
            [
             0.4,
             "#fde0ef"
            ],
            [
             0.5,
             "#f7f7f7"
            ],
            [
             0.6,
             "#e6f5d0"
            ],
            [
             0.7,
             "#b8e186"
            ],
            [
             0.8,
             "#7fbc41"
            ],
            [
             0.9,
             "#4d9221"
            ],
            [
             1,
             "#276419"
            ]
           ],
           "sequential": [
            [
             0,
             "#0d0887"
            ],
            [
             0.1111111111111111,
             "#46039f"
            ],
            [
             0.2222222222222222,
             "#7201a8"
            ],
            [
             0.3333333333333333,
             "#9c179e"
            ],
            [
             0.4444444444444444,
             "#bd3786"
            ],
            [
             0.5555555555555556,
             "#d8576b"
            ],
            [
             0.6666666666666666,
             "#ed7953"
            ],
            [
             0.7777777777777778,
             "#fb9f3a"
            ],
            [
             0.8888888888888888,
             "#fdca26"
            ],
            [
             1,
             "#f0f921"
            ]
           ],
           "sequentialminus": [
            [
             0,
             "#0d0887"
            ],
            [
             0.1111111111111111,
             "#46039f"
            ],
            [
             0.2222222222222222,
             "#7201a8"
            ],
            [
             0.3333333333333333,
             "#9c179e"
            ],
            [
             0.4444444444444444,
             "#bd3786"
            ],
            [
             0.5555555555555556,
             "#d8576b"
            ],
            [
             0.6666666666666666,
             "#ed7953"
            ],
            [
             0.7777777777777778,
             "#fb9f3a"
            ],
            [
             0.8888888888888888,
             "#fdca26"
            ],
            [
             1,
             "#f0f921"
            ]
           ]
          },
          "colorway": [
           "#636efa",
           "#EF553B",
           "#00cc96",
           "#ab63fa",
           "#FFA15A",
           "#19d3f3",
           "#FF6692",
           "#B6E880",
           "#FF97FF",
           "#FECB52"
          ],
          "font": {
           "color": "#2a3f5f"
          },
          "geo": {
           "bgcolor": "white",
           "lakecolor": "white",
           "landcolor": "#E5ECF6",
           "showlakes": true,
           "showland": true,
           "subunitcolor": "white"
          },
          "hoverlabel": {
           "align": "left"
          },
          "hovermode": "closest",
          "mapbox": {
           "style": "light"
          },
          "paper_bgcolor": "white",
          "plot_bgcolor": "#E5ECF6",
          "polar": {
           "angularaxis": {
            "gridcolor": "white",
            "linecolor": "white",
            "ticks": ""
           },
           "bgcolor": "#E5ECF6",
           "radialaxis": {
            "gridcolor": "white",
            "linecolor": "white",
            "ticks": ""
           }
          },
          "scene": {
           "xaxis": {
            "backgroundcolor": "#E5ECF6",
            "gridcolor": "white",
            "gridwidth": 2,
            "linecolor": "white",
            "showbackground": true,
            "ticks": "",
            "zerolinecolor": "white"
           },
           "yaxis": {
            "backgroundcolor": "#E5ECF6",
            "gridcolor": "white",
            "gridwidth": 2,
            "linecolor": "white",
            "showbackground": true,
            "ticks": "",
            "zerolinecolor": "white"
           },
           "zaxis": {
            "backgroundcolor": "#E5ECF6",
            "gridcolor": "white",
            "gridwidth": 2,
            "linecolor": "white",
            "showbackground": true,
            "ticks": "",
            "zerolinecolor": "white"
           }
          },
          "shapedefaults": {
           "line": {
            "color": "#2a3f5f"
           }
          },
          "ternary": {
           "aaxis": {
            "gridcolor": "white",
            "linecolor": "white",
            "ticks": ""
           },
           "baxis": {
            "gridcolor": "white",
            "linecolor": "white",
            "ticks": ""
           },
           "bgcolor": "#E5ECF6",
           "caxis": {
            "gridcolor": "white",
            "linecolor": "white",
            "ticks": ""
           }
          },
          "title": {
           "x": 0.05
          },
          "xaxis": {
           "automargin": true,
           "gridcolor": "white",
           "linecolor": "white",
           "ticks": "",
           "title": {
            "standoff": 15
           },
           "zerolinecolor": "white",
           "zerolinewidth": 2
          },
          "yaxis": {
           "automargin": true,
           "gridcolor": "white",
           "linecolor": "white",
           "ticks": "",
           "title": {
            "standoff": 15
           },
           "zerolinecolor": "white",
           "zerolinewidth": 2
          }
         }
        },
        "width": 800,
        "xaxis": {
         "anchor": "y",
         "domain": [
          0,
          1
         ],
         "title": {
          "text": "value"
         }
        },
        "yaxis": {
         "anchor": "x",
         "domain": [
          0,
          1
         ],
         "title": {
          "text": "State"
         }
        }
       }
      }
     },
     "metadata": {},
     "output_type": "display_data"
    }
   ],
   "source": [
    "chosen_cols2 = ['Sales', 'Profit']\n",
    "sales = df.groupby('State')[chosen_cols1].sum().reset_index().sort_values(by='State', ascending=False)\n",
    "sales\n",
    "\n",
    "fig = px.line(sales, x=chosen_cols2, y='State', width=800, height=500)\n",
    "\n",
    "# Plot Settings\n",
    "fig.write_image(\"line_plot.jpg\")\n",
    "fig.show()"
   ]
  },
  {
   "cell_type": "markdown",
   "metadata": {},
   "source": [
    "Investigate the relationship between Discount and Profit. Create a scatter plot to visualise this relationship. "
   ]
  },
  {
   "cell_type": "code",
   "execution_count": 9,
   "metadata": {},
   "outputs": [
    {
     "data": {
      "application/vnd.plotly.v1+json": {
       "config": {
        "plotlyServerURL": "https://plot.ly"
       },
       "data": [
        {
         "hovertemplate": "Discount=%{x}<br>Profit=%{y}<extra></extra>",
         "legendgroup": "",
         "marker": {
          "color": "#636efa",
          "symbol": "circle"
         },
         "mode": "markers",
         "name": "",
         "showlegend": false,
         "type": "scattergl",
         "x": [
          0,
          0,
          0.45,
          0,
          0.2,
          0.3,
          0,
          0.5,
          0.2,
          0.6,
          0.32,
          0.3,
          0,
          0,
          0.1,
          0,
          0.3,
          0.2,
          0.2,
          0.6,
          0.6,
          0,
          0,
          0,
          0.2,
          0,
          0,
          0,
          0.3,
          0.2,
          0,
          0,
          0.2,
          0.2,
          0,
          0.2,
          0.3,
          0.2,
          0.3,
          0.2,
          0.2,
          0.5,
          0.2,
          0.5,
          0.2,
          0,
          0.2,
          0.2,
          0.45,
          0.45,
          0.6,
          0.6,
          0.5,
          0.6,
          0,
          0.2,
          0.6,
          0,
          0.2,
          0.5,
          0.2,
          0.2,
          0.2,
          0,
          0.5,
          0.2,
          0.2,
          0,
          0.1,
          0.2,
          0.3,
          0.2,
          0.2,
          0.1,
          0,
          0,
          0.3,
          0.45,
          0.2,
          0.32,
          0.2,
          0.15,
          0.2,
          0.2,
          0.2,
          0,
          0,
          0,
          0.1,
          0,
          0,
          0,
          0.4,
          0.2,
          0.3,
          0.2,
          0.5,
          0.6,
          0.32,
          0.15,
          0,
          0.15,
          0.4,
          0,
          0.2,
          0.2,
          0,
          0.2,
          0.2,
          0.2,
          0,
          0,
          0.6,
          0.2,
          0.2,
          0.2,
          0,
          0.2,
          0.2,
          0.6,
          0,
          0,
          0.2,
          0,
          0,
          0,
          0,
          0,
          0,
          0,
          0,
          0,
          0.3,
          0.3,
          0.2,
          0.6,
          0.5,
          0.6,
          0.2,
          0,
          0.2,
          0,
          0.2,
          0.2,
          0,
          0.2,
          0,
          0,
          0.2,
          0.4,
          0.1,
          0,
          0.2,
          0,
          0,
          0.45,
          0.2,
          0,
          0,
          0.2,
          0.5,
          0.2,
          0,
          0.2,
          0,
          0,
          0,
          0,
          0,
          0.3,
          0,
          0.2,
          0,
          0.2,
          0,
          0,
          0,
          0.1,
          0,
          0,
          0.2,
          0,
          0,
          0.3,
          0.3,
          0.2,
          0.5,
          0.2,
          0.2,
          0.4,
          0.2,
          0.32,
          0,
          0.2,
          0.2,
          0.1,
          0.2,
          0,
          0.2,
          0,
          0,
          0.4,
          0,
          0,
          0,
          0,
          0,
          0,
          0,
          0,
          0,
          0.2,
          0.3,
          0.2,
          0.2,
          0.2,
          0,
          0.3,
          0.2,
          0,
          0.4,
          0.2,
          0.2,
          0,
          0.6,
          0.15,
          0,
          0,
          0,
          0.2,
          0,
          0,
          0,
          0.2,
          0.2,
          0.2,
          0.3,
          0.2,
          0.2,
          0.2,
          0.3,
          0.2,
          0,
          0,
          0.2,
          0.2,
          0,
          0.2,
          0.2,
          0.15,
          0.1,
          0.2,
          0.2,
          0,
          0.2,
          0.2,
          0.3,
          0,
          0,
          0,
          0,
          0,
          0.2,
          0.3,
          0,
          0.2,
          0,
          0,
          0,
          0.3,
          0.2,
          0.6,
          0.2,
          0.2,
          0,
          0.7,
          0,
          0.6,
          0,
          0.5,
          0.5,
          0.4,
          0.4,
          0,
          0.5,
          0.1,
          0.6,
          0,
          0.3,
          0.3,
          0,
          0,
          0.3,
          0.2,
          0,
          0.6,
          0,
          0.1,
          0,
          0,
          0.2,
          0.3,
          0,
          0.2,
          0.2,
          0.15,
          0,
          0.2,
          0.2,
          0,
          0.4,
          0.2,
          0.2,
          0.3,
          0.4,
          0,
          0,
          0.3,
          0.3,
          0,
          0.6,
          0,
          0.15,
          0,
          0,
          0.2,
          0,
          0,
          0.4,
          0.6,
          0.2,
          0,
          0.2,
          0.4,
          0.2,
          0,
          0.1,
          0.2,
          0.5,
          0.15,
          0,
          0,
          0.3,
          0.4,
          0.2,
          0.3,
          0,
          0.15,
          0.15,
          0,
          0,
          0.6,
          0,
          0.2,
          0.2,
          0.2,
          0.6,
          0.3,
          0.2,
          0.2,
          0,
          0.2,
          0.2,
          0.2,
          0.2,
          0.5,
          0.2,
          0,
          0.2,
          0.2,
          0,
          0.2,
          0.2,
          0.1,
          0,
          0.4,
          0.45,
          0.2,
          0,
          0,
          0.1,
          0,
          0,
          0,
          0.2,
          0,
          0.4,
          0.1,
          0,
          0,
          0.6,
          0,
          0.3,
          0,
          0,
          0,
          0,
          0.2,
          0.2,
          0.3,
          0.2,
          0,
          0,
          0,
          0.2,
          0.2,
          0,
          0.2,
          0,
          0.2,
          0.2,
          0.15,
          0.4,
          0.2,
          0,
          0.2,
          0,
          0.6,
          0.4,
          0.3,
          0.3,
          0.6,
          0.2,
          0.6,
          0.3,
          0.1,
          0,
          0,
          0,
          0,
          0.2,
          0,
          0.2,
          0.3,
          0.7,
          0.4,
          0,
          0.6,
          0.2,
          0,
          0,
          0.2,
          0.2,
          0,
          0.2,
          0,
          0,
          0,
          0,
          0,
          0.3,
          0.2,
          0,
          0.2,
          0.2,
          0,
          0.3,
          0.15,
          0.4,
          0.4,
          0.4,
          0,
          0.2,
          0.2,
          0.6,
          0,
          0.32,
          0,
          0.2,
          0,
          0,
          0.4,
          0.6,
          0,
          0.1,
          0,
          0.5,
          0.2,
          0.3,
          0.3,
          0.2,
          0.2,
          0.2,
          0.2,
          0,
          0.3,
          0,
          0,
          0.3,
          0,
          0.3,
          0.2,
          0.2,
          0.2,
          0,
          0.15,
          0,
          0.6,
          0,
          0,
          0,
          0,
          0,
          0,
          0.6,
          0.5,
          0.2,
          0,
          0.3,
          0.6,
          0.2,
          0.2,
          0,
          0.2,
          0.2,
          0.2,
          0.1,
          0.2,
          0,
          0,
          0.15,
          0,
          0.2,
          0.4,
          0.2,
          0,
          0,
          0.2,
          0.2,
          0.2,
          0.2,
          0.6,
          0.4,
          0,
          0,
          0,
          0,
          0.3,
          0.2,
          0.2,
          0,
          0.2,
          0.15,
          0.2,
          0.2,
          0.6,
          0.6,
          0.15,
          0,
          0,
          0.2,
          0,
          0,
          0,
          0,
          0,
          0.2,
          0.32,
          0,
          0.3,
          0,
          0,
          0,
          0.2,
          0.2,
          0,
          0.2,
          0.2,
          0.2,
          0.2,
          0,
          0.2,
          0,
          0,
          0.3,
          0.3,
          0.2,
          0,
          0,
          0,
          0.2,
          0,
          0,
          0,
          0,
          0,
          0,
          0.2,
          0.2,
          0.1,
          0.2,
          0.2,
          0,
          0.6,
          0.2,
          0.3,
          0.3,
          0,
          0.2,
          0.2,
          0.5,
          0,
          0.2,
          0,
          0.4,
          0.6,
          0,
          0.32,
          0.2,
          0,
          0,
          0.2,
          0,
          0.2,
          0.2,
          0.2,
          0,
          0,
          0.2,
          0.15,
          0.6,
          0.3,
          0.6,
          0,
          0.32,
          0.2,
          0,
          0.2,
          0.2,
          0.2,
          0,
          0.2,
          0,
          0.6,
          0.3,
          0.2,
          0.2,
          0.4,
          0,
          0.2,
          0.3,
          0.7,
          0,
          0.2,
          0,
          0,
          0,
          0.3,
          0.3,
          0.6,
          0.3,
          0.2,
          0.2,
          0.4,
          0.2,
          0,
          0,
          0.2,
          0.2,
          0.1,
          0.6,
          0.2,
          0,
          0.6,
          0,
          0.2,
          0.3,
          0.15,
          0.3,
          0,
          0.6,
          0.15,
          0,
          0,
          0.1,
          0.1,
          0.2,
          0.1,
          0.4,
          0.6,
          0.6,
          0.3,
          0.3,
          0.2,
          0.1,
          0,
          0.4,
          0,
          0.6,
          0.6,
          0.3,
          0.2,
          0,
          0,
          0,
          0,
          0.2,
          0,
          0,
          0,
          0.3,
          0.3,
          0,
          0.32,
          0.3,
          0.5,
          0.2,
          0,
          0.3,
          0.6,
          0,
          0,
          0,
          0.2,
          0.3,
          0,
          0.3,
          0,
          0.2,
          0.2,
          0.2,
          0.2,
          0.3,
          0,
          0,
          0.2,
          0,
          0,
          0.2,
          0.6,
          0.2,
          0,
          0.2,
          0,
          0,
          0,
          0,
          0.2,
          0.3,
          0,
          0,
          0.3,
          0.2,
          0.2,
          0,
          0.4,
          0.2,
          0.2,
          0.2,
          0,
          0,
          0.2,
          0,
          0,
          0,
          0,
          0.3,
          0.2,
          0,
          0.2,
          0.15,
          0,
          0,
          0.5,
          0.6,
          0.2,
          0.2,
          0.2,
          0.2,
          0.2,
          0.2,
          0.2,
          0.2,
          0.5,
          0,
          0.5,
          0.2,
          0.2,
          0,
          0.32,
          0.3,
          0,
          0,
          0.3,
          0,
          0,
          0.2,
          0,
          0,
          0,
          0.4,
          0,
          0.2,
          0.15,
          0.2,
          0,
          0.2,
          0,
          0,
          0,
          0.2,
          0,
          0.3,
          0,
          0.3,
          0.3,
          0.15,
          0,
          0,
          0,
          0,
          0,
          0.1,
          0.4,
          0.4,
          0.2,
          0.32,
          0.2,
          0.2,
          0,
          0,
          0.4,
          0,
          0.2,
          0.2,
          0.2,
          0,
          0.2,
          0,
          0,
          0,
          0,
          0,
          0,
          0.3,
          0.15,
          0,
          0.2,
          0.6,
          0,
          0,
          0,
          0.1,
          0.6,
          0.2,
          0.3,
          0.32,
          0,
          0.2,
          0,
          0,
          0.1,
          0.32,
          0.2,
          0.5,
          0,
          0.2,
          0,
          0.2,
          0,
          0.2,
          0.1,
          0,
          0.6,
          0.3,
          0,
          0.2,
          0.2,
          0.3,
          0.3,
          0.2,
          0.3,
          0.2,
          0,
          0.2,
          0,
          0,
          0,
          0,
          0,
          0.15,
          0.2,
          0.2,
          0.2,
          0.3,
          0.3,
          0.2,
          0,
          0.2,
          0.2,
          0.3,
          0.15,
          0,
          0.2,
          0,
          0,
          0,
          0,
          0,
          0.1,
          0.2,
          0,
          0.3,
          0.3,
          0.6,
          0.2,
          0.2,
          0.3,
          0,
          0.2,
          0,
          0,
          0.2,
          0,
          0.2,
          0.2,
          0,
          0,
          0,
          0,
          0.15,
          0.2,
          0.1,
          0.1,
          0.3,
          0,
          0.32,
          0,
          0.2,
          0.5,
          0.2,
          0,
          0,
          0,
          0,
          0.6,
          0,
          0.6,
          0,
          0.5,
          0.2,
          0,
          0.1,
          0.2,
          0,
          0.2,
          0.6,
          0.1,
          0.3,
          0.7,
          0.2,
          0.2,
          0.5,
          0,
          0.2,
          0.2,
          0.3,
          0.2,
          0.2,
          0,
          0.2,
          0,
          0,
          0,
          0.2,
          0,
          0,
          0.3,
          0.3,
          0,
          0.5,
          0,
          0.15,
          0,
          0,
          0,
          0,
          0.2,
          0,
          0.2,
          0.2,
          0.2,
          0.2,
          0.7,
          0.2,
          0,
          0,
          0,
          0,
          0,
          0,
          0.3,
          0,
          0.32,
          0,
          0.4,
          0,
          0.3,
          0.3,
          0.15,
          0.5,
          0.6,
          0.6,
          0.4,
          0,
          0,
          0.1,
          0,
          0.2,
          0.2,
          0,
          0.3,
          0.6,
          0,
          0,
          0.2,
          0,
          0,
          0.32,
          0,
          0,
          0,
          0,
          0,
          0,
          0.2,
          0,
          0,
          0.2,
          0,
          0,
          0.3,
          0.2,
          0.3,
          0,
          0,
          0.2,
          0,
          0.3,
          0.7,
          0.3,
          0.4,
          0,
          0,
          0.3,
          0.6,
          0,
          0.3,
          0,
          0.2,
          0.2,
          0.2,
          0.4,
          0.2,
          0,
          0,
          0.2,
          0.2,
          0,
          0,
          0,
          0.3,
          0,
          0,
          0.15,
          0,
          0.15,
          0.2,
          0.2,
          0.2,
          0,
          0,
          0.2,
          0,
          0.7,
          0.2,
          0.2,
          0.2,
          0.7,
          0.2,
          0.2,
          0.1,
          0.2,
          0,
          0.3,
          0.2,
          0.3,
          0.5,
          0,
          0.32,
          0,
          0,
          0.3,
          0.2,
          0,
          0,
          0,
          0.2,
          0.2,
          0.2,
          0,
          0,
          0,
          0.2,
          0.4,
          0,
          0,
          0.2,
          0.2,
          0,
          0,
          0,
          0.15,
          0.5,
          0.2,
          0,
          0.6,
          0.2,
          0,
          0.2,
          0.4,
          0,
          0.1,
          0,
          0,
          0,
          0,
          0,
          0,
          0.5,
          0,
          0.2,
          0,
          0.1,
          0,
          0.2,
          0.2,
          0.7,
          0.2,
          0.2,
          0,
          0,
          0.3,
          0.32,
          0.2,
          0,
          0.2,
          0.1,
          0.1,
          0,
          0,
          0.2,
          0,
          0,
          0.2,
          0,
          0,
          0.6,
          0.15,
          0,
          0,
          0.2,
          0.2,
          0,
          0.2,
          0.2,
          0,
          0,
          0,
          0,
          0.1,
          0.2,
          0.2,
          0.4,
          0,
          0,
          0.5,
          0,
          0,
          0.2,
          0.5,
          0.2,
          0,
          0,
          0.2,
          0,
          0,
          0,
          0.2,
          0.3,
          0.4,
          0.2,
          0.2,
          0,
          0.1,
          0,
          0,
          0,
          0.2,
          0,
          0,
          0,
          0.2,
          0.2,
          0.2,
          0,
          0.2,
          0.2,
          0,
          0.6,
          0,
          0.1,
          0.1,
          0.1,
          0.1,
          0.4,
          0.3,
          0.3,
          0.3,
          0.2,
          0.7,
          0.1,
          0.1,
          0.2,
          0.2,
          0,
          0.15,
          0.2,
          0.2,
          0.2,
          0.2,
          0,
          0.2,
          0,
          0.2,
          0.2,
          0.3,
          0,
          0,
          0.2,
          0.2,
          0.2,
          0,
          0,
          0,
          0,
          0,
          0.2,
          0,
          0,
          0.2,
          0.2,
          0.4,
          0.2,
          0.2,
          0,
          0,
          0.2,
          0.2,
          0,
          0,
          0,
          0,
          0.1,
          0.6,
          0.6,
          0.2,
          0,
          0.2,
          0,
          0.5,
          0,
          0,
          0,
          0.2,
          0.3,
          0,
          0.2,
          0.4,
          0.2,
          0,
          0.3,
          0.1,
          0,
          0.6,
          0,
          0,
          0,
          0.5,
          0.2,
          0.4,
          0.2,
          0.2,
          0,
          0.2,
          0.2,
          0,
          0,
          0.2,
          0.4,
          0,
          0,
          0.3,
          0,
          0.1,
          0.1,
          0.3,
          0,
          0.3,
          0,
          0,
          0,
          0,
          0.2,
          0,
          0,
          0.15,
          0,
          0,
          0.3,
          0.2,
          0,
          0.4,
          0.5,
          0.6,
          0.3,
          0.2,
          0.5,
          0,
          0,
          0,
          0.2,
          0,
          0.6,
          0.2,
          0.2,
          0.2,
          0.2,
          0.6,
          0.6,
          0,
          0.2,
          0.2,
          0.3,
          0.2,
          0,
          0,
          0,
          0.1,
          0.6,
          0,
          0,
          0.2,
          0,
          0,
          0.6,
          0.6,
          0.6,
          0.5,
          0.2,
          0.6,
          0.3,
          0.2,
          0,
          0.6,
          0.3,
          0.6,
          0,
          0.2,
          0,
          0,
          0.2,
          0,
          0,
          0.2,
          0.2,
          0,
          0.2,
          0,
          0,
          0.3,
          0,
          0,
          0.2,
          0.2,
          0.2,
          0.6,
          0.2,
          0.3,
          0.4,
          0,
          0,
          0,
          0.3,
          0,
          0.1,
          0.6,
          0.3,
          0.2,
          0.15,
          0.2,
          0.1,
          0.2,
          0,
          0.3,
          0.2,
          0.2,
          0.4,
          0.3,
          0.2,
          0,
          0,
          0,
          0,
          0,
          0,
          0.2,
          0,
          0,
          0.4,
          0,
          0.5,
          0,
          0.2,
          0.2,
          0.1,
          0,
          0.3,
          0.2,
          0,
          0.45,
          0,
          0.6,
          0,
          0,
          0,
          0,
          0,
          0,
          0.3,
          0.5,
          0,
          0.3,
          0.2,
          0.15,
          0,
          0.2,
          0,
          0,
          0,
          0.5,
          0.6,
          0.3,
          0.2,
          0.3,
          0.2,
          0.4,
          0,
          0,
          0,
          0.6,
          0.2,
          0.2,
          0.2,
          0.1,
          0,
          0,
          0.45,
          0.2,
          0.2,
          0.4,
          0.2,
          0.3,
          0,
          0.2,
          0.2,
          0.4,
          0.1,
          0,
          0.15,
          0,
          0.2,
          0.2,
          0,
          0.4,
          0.2,
          0.3,
          0.2,
          0.3,
          0.6,
          0,
          0.2,
          0.6,
          0.2,
          0.3,
          0,
          0,
          0,
          0,
          0,
          0.3,
          0.3,
          0,
          0.3,
          0,
          0,
          0.2,
          0.3,
          0,
          0.2,
          0.2,
          0.2,
          0.2,
          0.6,
          0.7,
          0.2,
          0.2,
          0.6,
          0.5,
          0,
          0.3,
          0.3,
          0.2,
          0,
          0,
          0,
          0.1,
          0.3,
          0.3,
          0.6,
          0.6,
          0,
          0.2,
          0.2,
          0,
          0.3,
          0,
          0,
          0,
          0,
          0.2,
          0.2,
          0.4,
          0,
          0,
          0.6,
          0,
          0,
          0,
          0.3,
          0,
          0,
          0,
          0,
          0.2,
          0.3,
          0.2,
          0.2,
          0,
          0.2,
          0,
          0,
          0.4,
          0.6,
          0.1,
          0,
          0.3,
          0,
          0.15,
          0.2,
          0.1,
          0.2,
          0.2,
          0.2,
          0,
          0.3,
          0.6,
          0.2,
          0.7,
          0.2,
          0.6,
          0.4,
          0.2,
          0.2,
          0.2,
          0,
          0.2,
          0.2,
          0.2,
          0.15,
          0.6,
          0.3,
          0,
          0.3,
          0.2,
          0.2,
          0.3,
          0.6,
          0.2,
          0,
          0.2,
          0.7,
          0.2,
          0.2,
          0,
          0.7,
          0.2,
          0,
          0,
          0,
          0,
          0.2,
          0.3,
          0,
          0.6,
          0.15,
          0.2,
          0.2,
          0.15,
          0,
          0,
          0.6,
          0.3,
          0,
          0,
          0.32,
          0.3,
          0.3,
          0.3,
          0.3,
          0,
          0.3,
          0,
          0.2,
          0.2,
          0.6,
          0.6,
          0.45,
          0,
          0,
          0.3,
          0,
          0,
          0.15,
          0.2,
          0,
          0.2,
          0.5,
          0.4,
          0.6,
          0.6,
          0.3,
          0,
          0.2,
          0,
          0.1,
          0.45,
          0.6,
          0.6,
          0,
          0,
          0.2,
          0.2,
          0,
          0.6,
          0.5,
          0.1,
          0.2,
          0.2,
          0.6,
          0.2,
          0.2,
          0.3,
          0,
          0.3,
          0,
          0.2,
          0.2,
          0.2,
          0,
          0,
          0,
          0.2,
          0.4,
          0,
          0.3,
          0.15,
          0,
          0.3,
          0,
          0.3,
          0.3,
          0.1,
          0,
          0,
          0.4,
          0.3,
          0,
          0,
          0,
          0.2,
          0,
          0.6,
          0.3,
          0,
          0,
          0.3,
          0.3,
          0.6,
          0.3,
          0,
          0.2,
          0.2,
          0,
          0,
          0.2,
          0.3,
          0.6,
          0.6,
          0,
          0,
          0.2,
          0.2,
          0.2,
          0,
          0.3,
          0,
          0,
          0.2,
          0,
          0.6,
          0,
          0.2,
          0,
          0,
          0.6,
          0.2,
          0,
          0.2,
          0,
          0.2,
          0.6,
          0.4,
          0.5,
          0.5,
          0.2,
          0.2,
          0.2,
          0,
          0.2,
          0.6,
          0.2,
          0.3,
          0.3,
          0.2,
          0.2,
          0.4,
          0.1,
          0.15,
          0.2,
          0.15,
          0.3,
          0.2,
          0,
          0.2,
          0,
          0,
          0.2,
          0.3,
          0.2,
          0.32,
          0,
          0,
          0,
          0.2,
          0,
          0.2,
          0,
          0.3,
          0,
          0,
          0,
          0.2,
          0.3,
          0,
          0.6,
          0.3,
          0,
          0.2,
          0.5,
          0.3,
          0,
          0,
          0.3,
          0.4,
          0.2,
          0.2,
          0.3,
          0,
          0,
          0.3,
          0.1,
          0.15,
          0.3,
          0.6,
          0.5,
          0.2,
          0.4,
          0.3,
          0,
          0,
          0,
          0.2,
          0.1,
          0,
          0,
          0,
          0,
          0,
          0.5,
          0.2,
          0.1,
          0,
          0.2,
          0,
          0.2,
          0.2,
          0,
          0.3,
          0.5,
          0.6,
          0.2,
          0.3,
          0.6,
          0.6,
          0.5,
          0,
          0.2,
          0,
          0,
          0,
          0,
          0.2,
          0.2,
          0,
          0,
          0,
          0.5,
          0,
          0,
          0.2,
          0.2,
          0.15,
          0,
          0,
          0.2,
          0,
          0,
          0.1,
          0,
          0.3,
          0,
          0,
          0.2,
          0.3,
          0.3,
          0.5,
          0.3,
          0.1,
          0,
          0.6,
          0.6,
          0.2,
          0,
          0.2,
          0.4,
          0.2,
          0.3,
          0,
          0,
          0.2,
          0.3,
          0,
          0,
          0,
          0.2,
          0.3,
          0.2,
          0.2,
          0.2,
          0.1,
          0.2,
          0.2,
          0.4,
          0,
          0.2,
          0.2,
          0,
          0.1,
          0,
          0.3,
          0.3,
          0,
          0,
          0,
          0.4,
          0.1,
          0,
          0.6,
          0.32,
          0.3,
          0,
          0,
          0,
          0.32,
          0,
          0.1,
          0.6,
          0.15,
          0.2,
          0.32,
          0.2,
          0.2,
          0.6,
          0.2,
          0.2,
          0,
          0.3,
          0.3,
          0.1,
          0.2,
          0.6,
          0,
          0.4,
          0,
          0.3,
          0.32,
          0,
          0,
          0,
          0.4,
          0.2,
          0.2,
          0.15,
          0,
          0,
          0.1,
          0,
          0,
          0,
          0,
          0.32,
          0.2,
          0,
          0.2,
          0,
          0.1,
          0,
          0,
          0.2,
          0.2,
          0.6,
          0.3,
          0,
          0.2,
          0.2,
          0.6,
          0,
          0,
          0.32,
          0.3,
          0.3,
          0.3,
          0.2,
          0.2,
          0.2,
          0.2,
          0.2,
          0.6,
          0.6,
          0.2,
          0.6,
          0,
          0,
          0,
          0,
          0,
          0,
          0.2,
          0.1,
          0,
          0,
          0.2,
          0.2,
          0.4,
          0.2,
          0.6,
          0,
          0.2,
          0,
          0,
          0.2,
          0,
          0.3,
          0,
          0.15,
          0.2,
          0,
          0,
          0.2,
          0.32,
          0,
          0,
          0.2,
          0
         ],
         "xaxis": "x",
         "y": [
          41.9136,
          219.582,
          -383.031,
          14.1694,
          85.3092,
          -1.0196,
          240.2649,
          -1665.0522,
          15.525,
          -147.963,
          -46.9764,
          -15.147,
          2.9568,
          17.0981,
          7.098,
          22.3328,
          -15.2225,
          -114.3912,
          1.213,
          -5.8248,
          -14.475,
          33.2156,
          16.5354,
          40.5426,
          -3.8385,
          10.9096,
          165.3813,
          18.3456,
          -8.5794,
          -9.1602,
          26.2416,
          20.6976,
          10.35,
          12.9096,
          585.552,
          51.4764,
          -24.858,
          21.259,
          -11.3372,
          112.392,
          46.9764,
          -161.875,
          9.6712,
          -244.323,
          19.0848,
          136.939,
          -28.2744,
          43.8408,
          -102.048,
          -248.2458,
          -356.728,
          -4.6752,
          -120.513,
          -2.8308,
          580.5394,
          28.1372,
          -8.4924,
          2.3232,
          51.942,
          -48.7032,
          78.8592,
          20.1558,
          -24.5646,
          38.024,
          -131.445,
          3.5948,
          52.5114,
          37.6422,
          24.1568,
          0.9995,
          -258.5016,
          -17.4588,
          -4.8588,
          86.8704,
          20.7328,
          271.4192,
          -297.6848,
          -157.0095,
          0.777,
          -317.1528,
          -112.9527,
          31.4548,
          -18.4548,
          26.8744,
          38.38,
          14.7056,
          225.264,
          11.076,
          2.3094,
          3.666,
          29.1528,
          1.3677,
          -75.8304,
          -24.294,
          -96.1146,
          7.068,
          -814.4832,
          -312.0614,
          -36.2352,
          10.4784,
          19.296,
          -30.245,
          -94.941,
          81.8432,
          18.1176,
          50.098,
          21.098,
          42.747,
          5.1408,
          11.92,
          2.397,
          70.98,
          -84.2928,
          0,
          6.0382,
          -217.048,
          16.614,
          3.7743,
          0,
          -5.7148,
          4.9686,
          91.7728,
          5.1408,
          15.7872,
          3.0814,
          27.2862,
          87.5684,
          12.0904,
          43.2234,
          272.792,
          6.0288,
          6.068,
          -50.098,
          -118.1295,
          8.7285,
          -14.3856,
          -71.8905,
          -41.262,
          4.7996,
          14.5614,
          4.1448,
          35.6796,
          -13.8717,
          -110.49,
          3.0814,
          24.4758,
          21.996,
          231.4116,
          21.112,
          -153.3456,
          102.4998,
          18.6956,
          -28.356,
          56.7864,
          28.7712,
          -167.3184,
          23.316,
          179.7488,
          14.5236,
          40.8006,
          -15.6156,
          34.8928,
          79.9056,
          17.745,
          7.3359,
          6.2152,
          11.076,
          311.652,
          6.2152,
          0,
          90.588,
          9.3024,
          77.7438,
          8.5568,
          14.6718,
          21.2954,
          64.518,
          262.39,
          10.048,
          5.9364,
          12.1176,
          9.102,
          19.2454,
          -18.5562,
          -56.996,
          41.7852,
          -204.4458,
          -12.9122,
          75.5424,
          -619.596,
          7.6416,
          -11.596,
          53.196,
          28.1372,
          28.5984,
          93.2232,
          75.49,
          72.807,
          131.2785,
          9.158,
          12.9129,
          -290.8752,
          27.3096,
          46.575,
          356.0414,
          63.8862,
          316.8825,
          213.735,
          52.1262,
          8.662,
          146.4036,
          90.294,
          -18.186,
          -3.8385,
          -29.4812,
          56.5776,
          22.764,
          -29.2524,
          12.178,
          121.7601,
          -264.9208,
          1.999,
          11.196,
          4.1031,
          -0.7566,
          -12.6882,
          224.2674,
          75.6624,
          53.196,
          1.2528,
          493.7856,
          33.9388,
          51.75,
          89.2224,
          2.5532,
          -2.0988,
          -4.1136,
          40.8006,
          10.6794,
          21.7176,
          -48.4704,
          1.7024,
          20.4822,
          2.9682,
          0,
          41.262,
          5.434,
          95.586,
          135.4068,
          11.9988,
          139.5702,
          0.5022,
          11.5164,
          10.881,
          18.267,
          3.666,
          -88.784,
          11.1664,
          166.1004,
          83.0502,
          4.3372,
          5.5177,
          -8.0784,
          -13.3176,
          62.5056,
          5.1072,
          16.302,
          6.5286,
          8.0406,
          -70.1043,
          11.2839,
          -1.4413,
          0,
          -146.1096,
          62.737,
          -786.744,
          118.6575,
          -90.2484,
          52.7956,
          -430.617,
          -42.6528,
          -58.1332,
          -36.1116,
          9.995,
          -204.4458,
          72.5344,
          -1.4784,
          163.7874,
          -350.49,
          -87.3418,
          67.941,
          9.8856,
          -31.3722,
          -3.0344,
          226.9644,
          -4.0128,
          16.614,
          173.7408,
          3.6632,
          3.0814,
          -175.8708,
          -9.098,
          116.872,
          48.9516,
          3.3488,
          16.7986,
          203.5644,
          2.288,
          196.686,
          44.7096,
          -295.9785,
          -67.941,
          23.84,
          -21.808,
          -153.1224,
          18.3456,
          2.9568,
          -35.9058,
          -2.0568,
          175.136,
          -13.993,
          42.392,
          27.3568,
          99.23,
          155.25,
          2.464,
          17.3754,
          10.7849,
          -373.3048,
          -10.4196,
          8.4736,
          6.2244,
          23.316,
          -227.4912,
          6.2905,
          113.4936,
          321.84,
          -0.8999,
          -566.5625,
          -14.4784,
          15.0864,
          12.3256,
          -71.8116,
          -69.89,
          0.9856,
          -32.5226,
          3.6894,
          -4.8392,
          -20.6964,
          46.116,
          673.8816,
          -12.117,
          245.021,
          28.13,
          1.5714,
          -8.5068,
          -24.189,
          -2.6982,
          3.108,
          4.8416,
          62.9064,
          25.875,
          12.1352,
          27.1764,
          -28.9764,
          -465.568,
          4.368,
          70.722,
          50.098,
          27.2848,
          20.5842,
          -22.098,
          -44.2764,
          63.9345,
          10.4148,
          -122.877,
          -110.7645,
          47.848,
          41.076,
          8.532,
          97.6524,
          23.3184,
          7.392,
          4.8609,
          74.574,
          3.462,
          -93.3262,
          213.735,
          10.5072,
          215.1198,
          -3.7196,
          76.1125,
          -36.6744,
          84.2352,
          244.2496,
          39.7488,
          51.2943,
          20.724,
          36.225,
          -73.176,
          3.4848,
          5.193,
          412.5394,
          70.006,
          -97.7394,
          -46.137,
          28.518,
          1.7352,
          81.583,
          -25.9136,
          20.196,
          20.0392,
          -13.978,
          -2.6997,
          41.1332,
          6.4944,
          60.1398,
          -11.439,
          -347.1174,
          -18.0882,
          -53.2704,
          -10.1736,
          29.769,
          -150.414,
          -8.7232,
          59.0352,
          28.0192,
          25.473,
          9.102,
          74.8098,
          1.7591,
          11.2422,
          9.5032,
          -24.2352,
          -98.8018,
          -115.7058,
          31.587,
          -52.17,
          90.972,
          79.1934,
          95.7572,
          3.5858,
          13.7646,
          22.3548,
          -23.0352,
          37.9962,
          80.3682,
          297.69,
          38.2095,
          106.477,
          -14.1372,
          35.099,
          27.441,
          1.1596,
          -68.392,
          23.384,
          0,
          200.9546,
          -447.5947,
          -553.6476,
          -122.7816,
          40.9216,
          -18.1068,
          -26.6352,
          -27.1296,
          42.1504,
          -225.0976,
          76.2624,
          31.4532,
          60.356,
          60.392,
          -104.673,
          -9.0944,
          3.034,
          65.2064,
          114.6285,
          -99.2664,
          2.1736,
          -19.9184,
          -14.081,
          4.2816,
          -67.6704,
          -29.9178,
          -99.1764,
          250.305,
          -34.392,
          32.392,
          34.2848,
          -2.0568,
          12.993,
          -54.5958,
          -219.1644,
          78.7671,
          22.3776,
          13.9152,
          -6.049,
          213.6888,
          -32.32,
          140.686,
          239.9058,
          31.587,
          30.7818,
          4.4712,
          9.7812,
          -7.7748,
          -300.735,
          5.1294,
          20.7808,
          -121.8735,
          -3.9624,
          2.598,
          23.028,
          17.1828,
          4.2624,
          24.858,
          0.7392,
          143.04,
          6.2856,
          23.6529,
          213.6888,
          19.998,
          77.5764,
          99.432,
          -142.071,
          4.5882,
          212.1876,
          37.366,
          4.0383,
          8.0766,
          15.294,
          9.1776,
          -14.3856,
          -140.1408,
          21.506,
          56.9943,
          13.4292,
          100.4796,
          -130.0104,
          73.194,
          22.5296,
          31.5372,
          5.7312,
          -13.7976,
          6.216,
          0,
          -24.803,
          -23.976,
          -18.147,
          17.3754,
          56.392,
          28.0784,
          76.0878,
          36.3987,
          111.1035,
          15.185,
          27.3592,
          7.4694,
          -97.2312,
          284.98,
          -12.0784,
          15.7584,
          6.8908,
          6.9088,
          100.196,
          22.5296,
          374.6286,
          1.068,
          -35.3646,
          -5.7588,
          76.0116,
          2.2272,
          -34.641,
          12.99,
          29.0136,
          -5.8346,
          -7.7094,
          3.9512,
          4.9497,
          7.9128,
          8.2992,
          10.8588,
          14.5584,
          427.4368,
          40.5867,
          7.106,
          16.4647,
          11.025,
          9.9652,
          -5.6784,
          31.941,
          9.1764,
          6.074,
          7.584,
          -19.7712,
          6.3612,
          -31.3722,
          -2.6936,
          87.3504,
          4.3296,
          13.8528,
          -170.8038,
          6.24,
          0.6474,
          74.8098,
          -103.266,
          -10.1736,
          22.0077,
          -14.4588,
          0,
          80.784,
          31.0912,
          -12.196,
          10.7892,
          -6.4233,
          3.344,
          256.784,
          70.006,
          10.3904,
          -3.3506,
          18.4548,
          -14.229,
          -140.196,
          -2.6892,
          25.62,
          -42.1096,
          9.0882,
          50.8254,
          -39.9528,
          -182.637,
          7.3008,
          14.6718,
          18.1176,
          6.3744,
          -17.7072,
          -24.843,
          108.3528,
          69.0018,
          -75.8304,
          32.16,
          -24.392,
          0,
          -240.784,
          6.0726,
          3.7308,
          11.1664,
          14.896,
          39.066,
          -15.5826,
          -77.333,
          -2.8272,
          -18.1176,
          9.9652,
          5.2773,
          -29.3238,
          22.941,
          5.1816,
          1.1136,
          5.2773,
          45.294,
          48.3136,
          -427.45,
          74.574,
          50.2398,
          -1.3208,
          10.3936,
          28.4364,
          20.967,
          20.5176,
          -4.032,
          11.9952,
          -3.8208,
          3.4196,
          41.1684,
          11.376,
          8.098,
          68.3332,
          7.2144,
          29.8802,
          -36.1116,
          -8.9152,
          -52.3392,
          -12.0588,
          -12.0588,
          7.8176,
          60.392,
          394.268,
          -103.9882,
          15.468,
          -12.7512,
          -8.5008,
          -68.1302,
          2.2512,
          83.2508,
          58.6872,
          4.3524,
          47.0548,
          -195.4788,
          2.7776,
          12.5216,
          300.735,
          -5.8346,
          -92.7996,
          181.176,
          -19.8744,
          -117.882,
          -525.6405,
          1.6056,
          9.1638,
          -36.1764,
          -12.0064,
          388.8128,
          200.49,
          32.6332,
          5.0232,
          -93.99,
          31.2528,
          -71.8116,
          52.688,
          42.588,
          29.6576,
          3.86,
          1.4418,
          -30.9332,
          14.6718,
          20.0156,
          3.6784,
          22.7136,
          6.8274,
          3.792,
          -2.5472,
          6.378,
          34.146,
          45.294,
          7.3788,
          16.5531,
          81.1734,
          99.23,
          23.028,
          -56.343,
          10.248,
          24.196,
          -1.4196,
          101.3832,
          -325.572,
          106.5408,
          -192.0468,
          10.2592,
          -72.039,
          16.4403,
          200.49,
          306.4894,
          -15.7176,
          423.0085,
          7.4592,
          119.2,
          26.649,
          -34.9176,
          -109.5822,
          36.1827,
          10.647,
          -36.294,
          14.501,
          2.178,
          -269.3376,
          -182.352,
          27.0882,
          16.7972,
          42.1176,
          -36.4704,
          11.0704,
          210.594,
          -68.392,
          2.37,
          -211.47,
          3.2406,
          -448.896,
          10.098,
          -42.8967,
          13.4292,
          -14.196,
          -25.3764,
          356.225,
          6.2608,
          -18.222,
          2.3521,
          6.4206,
          14.547,
          12.0609,
          124.2,
          11.1776,
          -19.5492,
          9.7911,
          -3.5996,
          24.2352,
          13.846,
          20.1248,
          14.2992,
          97.4586,
          189.4046,
          82.0776,
          5.798,
          19.041,
          -127.5792,
          199.2606,
          -4.8588,
          0,
          6.549,
          60.5488,
          8.217,
          23.9904,
          57.358,
          49.8042,
          32.6332,
          -81.8544,
          -20.1528,
          35.76,
          -52.8908,
          55.016,
          0,
          172.4814,
          7.0048,
          -14.1639,
          20.9274,
          -2.2758,
          13.846,
          -13.5882,
          64.518,
          -65.0352,
          20.485,
          160.1766,
          10.374,
          4.2804,
          7.7748,
          481.47,
          -60.6078,
          85.176,
          41.8608,
          -6.9282,
          -348.6294,
          272.792,
          7.524,
          150.384,
          177.4206,
          -6.8094,
          -22.1382,
          -160.2952,
          -225.0976,
          148.138,
          190.4298,
          85.1816,
          3.2868,
          14.6224,
          -76.0116,
          22.4082,
          -120.513,
          54.3438,
          0.4176,
          3.196,
          -64.5444,
          25.5378,
          3.9512,
          140.396,
          26.1096,
          -66.062,
          -14.8704,
          63.6825,
          148.704,
          -31.647,
          -126.4816,
          -52.196,
          -25.2956,
          -46.7362,
          12.0764,
          252.59,
          -21.4704,
          75.735,
          523.7052,
          9.158,
          160.1586,
          4.0192,
          225.735,
          -12.9568,
          3.2776,
          -16.0784,
          -23.7822,
          -15.4666,
          7.4368,
          54.7756,
          5.2287,
          1.4224,
          -51.984,
          75.5937,
          5.5177,
          -6.4233,
          17.158,
          75.6548,
          6.9088,
          24.1218,
          14.4596,
          72.5344,
          13.7646,
          4.9104,
          -28.224,
          -5.4801,
          -2.134,
          4.3902,
          23.028,
          -9.1335,
          13.832,
          -57.6312,
          26.649,
          8.7048,
          3.8448,
          10.5084,
          -5.4882,
          33.8517,
          43.7842,
          141.1644,
          6.1704,
          11.1564,
          34.494,
          -28.9568,
          -8.098,
          62.7822,
          -36.1764,
          34.3656,
          -119.1918,
          30.0234,
          1.5008,
          -81.94,
          10.3936,
          48.4704,
          38.4372,
          136.665,
          14.8491,
          -6.9965,
          17.324,
          -74.9526,
          88.7332,
          -209.7693,
          -37.9434,
          9.5616,
          146.388,
          -0.8886,
          11.9952,
          -23.5764,
          -4.04,
          10.647,
          0,
          -143.7904,
          15.0696,
          10.984,
          -248.166,
          18.1146,
          8.3028,
          19.3392,
          -21.7176,
          9.7152,
          15.5904,
          11.5836,
          121.99,
          4.5144,
          4.4352,
          92.97,
          150.294,
          292.776,
          52.9743,
          -19.2588,
          -32.6646,
          38.2668,
          -67.5435,
          251.202,
          3.9294,
          266.4522,
          82.3368,
          6.0288,
          14.212,
          5.4801,
          15.5372,
          -28.5978,
          5.7798,
          149.148,
          3.556,
          -356.9643,
          9.6712,
          3.2352,
          11.1776,
          72.6408,
          25.5528,
          48.118,
          111.1035,
          -37.1124,
          191.6586,
          -437.5404,
          11.1564,
          -653.2834,
          22.6296,
          -95.67,
          -131.951,
          -29.6058,
          -120.372,
          -4.8492,
          -7.4358,
          -108.3348,
          37.4144,
          13.0548,
          292.776,
          29.3284,
          1.9224,
          105.297,
          34.0704,
          -178.8468,
          -10.3124,
          259.8896,
          33.2156,
          -17.0352,
          112.788,
          700.98,
          -91.7586,
          15.8256,
          394.212,
          43.736,
          28.1421,
          134.5302,
          57.4938,
          8.7145,
          12.6813,
          145.2816,
          2.6251,
          50.9082,
          36.294,
          -7.098,
          -5.4548,
          -22.948,
          11.6496,
          8.0968,
          -14.9877,
          178.8,
          -9.7176,
          -152.9847,
          -13.81,
          -15.4764,
          4.0203,
          386.835,
          -1.0656,
          -7.476,
          28.959,
          -46.3998,
          21.4368,
          11.691,
          1.3284,
          1.5691,
          -1002.7836,
          5.928,
          9.0288,
          24.9366,
          20.9592,
          -32.2192,
          23.9904,
          71.2296,
          79.794,
          -69.4722,
          235.9524,
          23.384,
          6.549,
          51.474,
          35.245,
          1.999,
          5.368,
          15.9912,
          12.9792,
          20.538,
          92.392,
          4.4352,
          -320.597,
          13.7646,
          73.194,
          4.008,
          -183.6324,
          -68.1096,
          -19.1058,
          88.5528,
          0.6624,
          62.737,
          -10.284,
          6.846,
          -54.5958,
          -218.8656,
          10.5672,
          -12.9987,
          3.4544,
          1.9712,
          -2.5648,
          -15.245,
          8.5914,
          1.9712,
          27.0578,
          1.068,
          -11.0691,
          5.368,
          17.16,
          2.9568,
          399.2994,
          -13.6776,
          -339.705,
          75.3732,
          23.1192,
          149.148,
          35.76,
          3.0976,
          20.1015,
          69.1992,
          210.735,
          -264.215,
          7.504,
          92.3936,
          -50.6688,
          12.9888,
          141.1644,
          -1.7772,
          -52.3365,
          30.1872,
          21.294,
          41.3928,
          185.2578,
          8.5544,
          5.79,
          10.0624,
          6.8992,
          -184.8366,
          225.264,
          12.1149,
          19.7712,
          209.274,
          4.6221,
          -31.9144,
          11.2648,
          -384.7164,
          1.848,
          0,
          15.525,
          36.3816,
          -6.0196,
          -27.2646,
          -18.1808,
          15.6332,
          -10.7055,
          14.1246,
          -8.0784,
          104.7528,
          8.0946,
          0,
          11.0354,
          29.1456,
          2.8196,
          15.372,
          12.8568,
          -11.439,
          14.098,
          45.294,
          294.671,
          100.196,
          80.843,
          21.7515,
          50.098,
          -99.6219,
          7.3528,
          22.0472,
          10.4148,
          5.6628,
          8.8784,
          158.5764,
          -25.049,
          -120.0508,
          316.1392,
          3.9248,
          -45.3492,
          8.636,
          2.6376,
          7.7896,
          -250.5408,
          77.0352,
          6.5472,
          15.4872,
          30.098,
          111.774,
          76.0878,
          126.225,
          -20.7846,
          -137.529,
          -147.8655,
          4.2294,
          7.6965,
          8.2992,
          8.5372,
          21.7515,
          15.6332,
          12.9129,
          23.924,
          6.5472,
          5.1816,
          16.614,
          3.9512,
          -35.3646,
          89.307,
          173.235,
          7.7,
          -97.176,
          61.3824,
          -11.322,
          12.8568,
          18.1764,
          8.0991,
          609.7157,
          375.735,
          -83.8752,
          -21.0686,
          0,
          -12.8392,
          61.3824,
          -128.2388,
          54.666,
          161.9674,
          12.096,
          -34.0704,
          88.725,
          70.49,
          10.3936,
          9.5418,
          1.3728,
          5.5044,
          422.51,
          25.245,
          207.8856,
          7.049,
          1.7352,
          -14.5764,
          22.4196,
          27.9456,
          19.0848,
          -14.5584,
          8.8784,
          21.645,
          101.4504,
          6.4206,
          2.6208,
          8.1168,
          43.4646,
          4.4712,
          10.89,
          9.5736,
          56.324,
          -231.4116,
          -87.9354,
          102.9528,
          168.4704,
          9.5571,
          -14.4078,
          -97.5528,
          21.7515,
          30.0234,
          4.8609,
          15.9936,
          2.4598,
          -105.69,
          -29.512,
          12.7764,
          21.8192,
          70.198,
          4.2804,
          -167.986,
          198.46,
          33.8744,
          3.0438,
          7.1196,
          -12.849,
          81.1734,
          -73.8192,
          -299.2614,
          -51.294,
          14.7,
          -97.4988,
          -6.549,
          33.7266,
          -77.625,
          11.4576,
          6.3744,
          23.8986,
          -53.2856,
          0,
          -115.4304,
          16.8896,
          10.8588,
          6.0726,
          -24.9624,
          0,
          105.98,
          72.6408,
          -50.098,
          -147.8655,
          75.686,
          23.7864,
          -172.1172,
          38.97,
          21.8376,
          169.182,
          -38.85,
          244.2496,
          -18.1176,
          30.582,
          3.872,
          69.6762,
          23.6808,
          -84.8232,
          51.8292,
          35.6796,
          14.098,
          53.235,
          12.1452,
          -13.1706,
          52.3764,
          629.01,
          -734.5264,
          -304.6653,
          -11.6512,
          -39.637,
          16.3172,
          -185.7168,
          60.6645,
          15.426,
          12.2328,
          3.5154,
          8.8176,
          -19.7372,
          22.5296,
          20.392,
          99.432,
          20.1558,
          -292.9872,
          -26.7558,
          31.984,
          8.2056,
          56.2744,
          -5.1396,
          -13.7403,
          20.7332,
          18.96,
          143.6288,
          31.0156,
          -6.188,
          31.0446,
          4.2804,
          3.0144,
          12.993,
          2.7944,
          -15.5268,
          -16.5858,
          -3.94,
          -24.1026,
          4.1972,
          -7.833,
          -29.1528,
          4.7976,
          2.6208,
          -2.3904,
          -3.2392,
          -1.406,
          39.4438,
          -12.7785,
          9.3152,
          307.1448,
          47.848,
          27.5632,
          407.1288,
          -19.1058,
          180.441,
          314.0586,
          125.245,
          401.814,
          6.9088,
          -163.5767,
          4.2804,
          25.5112,
          70.196,
          42.588,
          1.1994,
          -75.8448,
          -26.196,
          -23.7822,
          -29.3238,
          15.525,
          7.7035,
          41.0388,
          -110.0232,
          26.0316,
          13.6776,
          -7.476,
          -42.747,
          -3.8976,
          15.6978,
          1.2672,
          8.1882,
          52.3392,
          27.3592,
          -14.196,
          2.4898,
          111.517,
          -149.6307,
          -43.4352,
          7.272,
          41.1684,
          4.4088,
          6.5736,
          67.0644,
          9.8856,
          240.294,
          -36.294,
          37.884,
          48.906,
          -46.4292,
          35.49,
          -135.087,
          46.8996,
          71.772,
          19.1646,
          3.2392,
          227.205,
          -2.1312,
          -8.4294,
          7.2298,
          -114.3534,
          75.68,
          -4.8048,
          5.9364,
          10.164,
          44.304,
          18.4632,
          26.544,
          7.9662,
          -630.882,
          -199.617,
          21.33,
          -35.5136,
          31.5776,
          -12.8784,
          21.7532,
          -9.0904,
          23.6529,
          21.5964,
          7.8936,
          -175.26,
          -7.476,
          -30.294,
          6.074,
          -152.7156,
          9.9652,
          -37.9152,
          37.884,
          10.9096,
          14.43,
          -8.532,
          10.104,
          14.3136,
          56.196,
          36.3018,
          18.3276,
          9.2556,
          -420,
          -12.147,
          0,
          -192.0468,
          -36.441,
          -24.843,
          387.5676,
          48.796,
          19.035,
          -120.0508,
          173.3292,
          14.6642,
          41.9965,
          34.4148,
          -6.098,
          81.2646,
          11.7488,
          -94.6605,
          -0.3398,
          -5.524,
          6.4176,
          -6.089,
          -26.1696,
          13.132,
          -2.9566,
          -26.085,
          14.4495,
          -77.333,
          119.686,
          125.5824,
          11.8728,
          6.2608,
          746.4078,
          -108.2662,
          -105.3164,
          33.0708,
          -65.853,
          49.8042,
          7.9128,
          148.845,
          -1.2178,
          2.9568,
          -13.3176,
          54.3528,
          -22.1382,
          5.798,
          -14.2716,
          -363.528,
          0,
          68.001,
          -11.6622,
          -216.9783,
          9.8208,
          0,
          0,
          -59.8356,
          7.7728,
          112.3508,
          112.788,
          2.8392,
          -19.3382,
          -63.3765,
          -33.3582,
          -1.6752,
          4.6221,
          9.4788,
          54.4008,
          19.5858,
          -9.093,
          314.0384,
          87.2842,
          77.625,
          101.6508,
          89.2224,
          84.502,
          -464.697,
          29.1456,
          76.9816,
          -53.7096,
          10.3936,
          32.4862,
          4.6764,
          0,
          78.6508,
          151.47,
          329.4081,
          157.1292,
          14.6902,
          -52.6582,
          15.5904,
          -25.4744,
          19.4688,
          1.068,
          30.99,
          373.779,
          -292.1,
          -10.1736,
          2.3094,
          14.5728,
          -47.1798,
          4.6464,
          140.9568,
          17.466,
          15.147,
          6.3936,
          -15.098,
          -11.5176,
          106.6248,
          -21.3264,
          -6.8816,
          49.716,
          -191.646,
          102.9528,
          -302.72,
          -118.0116,
          7.0128,
          3.344,
          4.6552,
          137.54,
          0,
          47.6604,
          6.7176,
          -12.098,
          -31.8612,
          -93.4724,
          9.1746,
          -4.2588,
          23.028,
          -9.1602,
          0,
          -34.9536,
          -59.8356,
          26.973,
          5.1588,
          -190.8522,
          13.5882,
          0,
          76.47,
          -247.7988,
          20.9148,
          15.5856,
          3.2406,
          383.931,
          6.0288,
          12.8928,
          -93.99,
          50.5632,
          -10.9611,
          5.1294,
          38.8704,
          4.7664,
          28.9568,
          1.7472,
          6.0876,
          -187.3815,
          -26.6352,
          18.33,
          10.5072,
          -17.0274,
          -58.5048,
          -25.4772,
          -17.745,
          -1.2178,
          41.4456,
          -75.192,
          10.9096,
          0,
          -28.2744,
          -43.848,
          -70.9605,
          -255.5875,
          21.4776,
          39.7488,
          -23.9372,
          36.4736,
          33.936,
          -30.147,
          -32.3673,
          366.6348,
          -73.0548,
          -188.7,
          -480.2032,
          -10.1736,
          -0.9933,
          -12.148,
          76.9816,
          25.1808,
          4.728,
          115.5528,
          -76.6062,
          -17.784,
          -19.0656,
          7.4376,
          291.3778,
          0,
          6.0412,
          31.6128,
          -1.8848,
          -47.175,
          313.2624,
          4.8392,
          25.875,
          -33.6414,
          0.7392,
          36.4776,
          -43.0296,
          24.4608,
          -14.6388,
          88.725,
          -38.2116,
          6.5904,
          -10.9188,
          13.188,
          3.792,
          10.449,
          7.3008,
          -112.041,
          41.0388,
          -169.637,
          21.294,
          33.7266,
          0,
          48.906,
          -47.0583,
          -35.5136,
          12.8058,
          5.8744,
          9.1954,
          -199.5076,
          -173.3472,
          63.107,
          17.4064,
          129.294,
          -30.392,
          112.422,
          -6.723,
          -13.7568,
          14.7,
          50.5632,
          -127.5792,
          -93.4724,
          -67.137,
          -29.0073,
          241.1046,
          -14.5176,
          -11.6928,
          71.928,
          7.1022,
          -20.7846,
          -110.0232,
          -77.4732,
          -17.4432,
          1.5588,
          45.555,
          8.9362,
          7.6896,
          -36.2136,
          35.0973,
          0,
          8.7032,
          11.1776,
          4.004,
          158.529,
          -0.7566,
          378.274,
          -8.2764,
          26.598,
          97.2032,
          -5.9409,
          3.3534,
          21.0752,
          -44.196,
          6.7008,
          -14.9877,
          -19.864,
          -120.294,
          -78.078,
          -89.0664,
          1.4136,
          19.4352,
          10.9602,
          5.5341,
          -81.441,
          -15.9268,
          -18.2352,
          -8.5794,
          -81.3065,
          11.2839,
          9.3504,
          -28.224,
          13.4372,
          25.1979,
          -23.4882,
          -29.6058,
          -119.2312,
          8.194,
          40.416,
          3.0338,
          12.6348,
          9.3228,
          5.196,
          0,
          7.1994,
          -36.1176,
          259.5297,
          54.7136,
          14.5728,
          13.3176,
          14.3856,
          45.954,
          3.9248,
          -70.49,
          31.0992,
          107.0388,
          30.445,
          267.6672,
          41.934,
          43.6842,
          -12.8256,
          -38.2158,
          46.1968,
          2.6028,
          -538.446,
          -113.282,
          22.9885,
          4.3524,
          -47.8716,
          -249.3216,
          -7.7728,
          5.775,
          -24.398,
          71.2296,
          75.68,
          -13.433,
          60.392,
          28.4102,
          -31.0335,
          -194.824,
          -99.2664,
          12.6672,
          -968.8833,
          -124.431,
          2.7354,
          66.542,
          9.7218,
          9.8328,
          1.3098,
          12.8316,
          6.2244,
          61.3824,
          45.3696,
          146.388,
          -45.8273,
          16.8544,
          553.3902,
          23.9232,
          27.3582,
          334.551,
          -2.6997,
          2.6961,
          34.9888,
          -136.4895,
          -376.6932,
          -84.448,
          6.3936,
          -63.3765,
          -3.8208,
          -2.1376,
          -241.176,
          9.8856,
          3.1382,
          32.4688,
          176.8026,
          1.598,
          15.525,
          25.898,
          32.098,
          12.098,
          11.1664,
          28.5984,
          -204.9996,
          346.0396,
          31.2444,
          28.4364,
          -3.6892,
          7.049,
          15.2225,
          53.2704,
          -2.6997,
          35.0973,
          5.5328,
          6.8388,
          4.4088,
          -28.498,
          40.97,
          43.2234,
          4.7712,
          -84.9615,
          -15.4188,
          -64.9376,
          -20.245,
          25.4744,
          31.2664,
          -5.688,
          -84.2928,
          59.4816,
          34.8128,
          -15.7176,
          -106.393,
          8.2896,
          -12.849,
          202.2528,
          10.9096,
          -20.7846,
          -14.8704,
          7.8166,
          6.4206,
          43.6752,
          -4.1568,
          -86.0586,
          6.4784,
          33.1584,
          -29.1168,
          140.396,
          -10.0196,
          0.9612,
          -66.2302,
          3.9831,
          15.386,
          0,
          3.2352,
          420.588,
          39.98,
          -69.312,
          -16.2613,
          138.417,
          168.4704,
          1.598,
          -66.6,
          24.2012,
          38.532,
          -61.872,
          -137.976,
          -76.9536,
          350.427,
          11.3148,
          8.01,
          -6.0196,
          39.98,
          80.7772,
          -6.8634,
          84.294,
          16.7972,
          -114.0174,
          8.554,
          9.779,
          -1.5936,
          10.3936,
          98.4802,
          10.4148,
          -28.6862,
          -4.497,
          -6.549,
          -5.0098,
          -9.88,
          19.4688,
          -213.5574,
          19.7988,
          -39.5118,
          -96.4704,
          260.6112,
          55.016,
          94.926,
          -1862.3124,
          21.8352,
          54.1764,
          160.3136,
          297.69,
          35.0784,
          83.7096,
          23.988,
          4.4712,
          14.144,
          54.2808,
          -18.0588,
          12.1068,
          5.5888,
          -34.196,
          7.584,
          39.9234,
          145.0696,
          1013.127,
          9.102,
          -1.7772,
          -7.9634,
          -56.996,
          58.42,
          70.196,
          8.498,
          -10.0602,
          2.9808,
          40.473,
          -30.098,
          -8.5794,
          -66.3916,
          -29.2524,
          9.6832,
          12.178,
          45.4671,
          -12.196,
          15.147,
          -2.5872,
          -6.3,
          60.392,
          -40.0036,
          132.99,
          4.0192,
          83.733,
          21.1344,
          610.8624,
          8.532,
          16.3172,
          63.686,
          96.8544,
          27.608,
          34.974,
          0,
          -143.2548,
          7.11,
          -6.9102,
          55.3896,
          71.772,
          24.882,
          12.0609,
          -54.3204,
          4.6221,
          -143.431,
          8.7372,
          -40.196,
          -1.7772,
          19.9155,
          539.2464,
          10.2588,
          -67.6704,
          6.432,
          22.3548,
          4.1028,
          15.6332
         ],
         "yaxis": "y"
        }
       ],
       "layout": {
        "legend": {
         "tracegroupgap": 0
        },
        "margin": {
         "t": 60
        },
        "template": {
         "data": {
          "bar": [
           {
            "error_x": {
             "color": "#2a3f5f"
            },
            "error_y": {
             "color": "#2a3f5f"
            },
            "marker": {
             "line": {
              "color": "#E5ECF6",
              "width": 0.5
             },
             "pattern": {
              "fillmode": "overlay",
              "size": 10,
              "solidity": 0.2
             }
            },
            "type": "bar"
           }
          ],
          "barpolar": [
           {
            "marker": {
             "line": {
              "color": "#E5ECF6",
              "width": 0.5
             },
             "pattern": {
              "fillmode": "overlay",
              "size": 10,
              "solidity": 0.2
             }
            },
            "type": "barpolar"
           }
          ],
          "carpet": [
           {
            "aaxis": {
             "endlinecolor": "#2a3f5f",
             "gridcolor": "white",
             "linecolor": "white",
             "minorgridcolor": "white",
             "startlinecolor": "#2a3f5f"
            },
            "baxis": {
             "endlinecolor": "#2a3f5f",
             "gridcolor": "white",
             "linecolor": "white",
             "minorgridcolor": "white",
             "startlinecolor": "#2a3f5f"
            },
            "type": "carpet"
           }
          ],
          "choropleth": [
           {
            "colorbar": {
             "outlinewidth": 0,
             "ticks": ""
            },
            "type": "choropleth"
           }
          ],
          "contour": [
           {
            "colorbar": {
             "outlinewidth": 0,
             "ticks": ""
            },
            "colorscale": [
             [
              0,
              "#0d0887"
             ],
             [
              0.1111111111111111,
              "#46039f"
             ],
             [
              0.2222222222222222,
              "#7201a8"
             ],
             [
              0.3333333333333333,
              "#9c179e"
             ],
             [
              0.4444444444444444,
              "#bd3786"
             ],
             [
              0.5555555555555556,
              "#d8576b"
             ],
             [
              0.6666666666666666,
              "#ed7953"
             ],
             [
              0.7777777777777778,
              "#fb9f3a"
             ],
             [
              0.8888888888888888,
              "#fdca26"
             ],
             [
              1,
              "#f0f921"
             ]
            ],
            "type": "contour"
           }
          ],
          "contourcarpet": [
           {
            "colorbar": {
             "outlinewidth": 0,
             "ticks": ""
            },
            "type": "contourcarpet"
           }
          ],
          "heatmap": [
           {
            "colorbar": {
             "outlinewidth": 0,
             "ticks": ""
            },
            "colorscale": [
             [
              0,
              "#0d0887"
             ],
             [
              0.1111111111111111,
              "#46039f"
             ],
             [
              0.2222222222222222,
              "#7201a8"
             ],
             [
              0.3333333333333333,
              "#9c179e"
             ],
             [
              0.4444444444444444,
              "#bd3786"
             ],
             [
              0.5555555555555556,
              "#d8576b"
             ],
             [
              0.6666666666666666,
              "#ed7953"
             ],
             [
              0.7777777777777778,
              "#fb9f3a"
             ],
             [
              0.8888888888888888,
              "#fdca26"
             ],
             [
              1,
              "#f0f921"
             ]
            ],
            "type": "heatmap"
           }
          ],
          "heatmapgl": [
           {
            "colorbar": {
             "outlinewidth": 0,
             "ticks": ""
            },
            "colorscale": [
             [
              0,
              "#0d0887"
             ],
             [
              0.1111111111111111,
              "#46039f"
             ],
             [
              0.2222222222222222,
              "#7201a8"
             ],
             [
              0.3333333333333333,
              "#9c179e"
             ],
             [
              0.4444444444444444,
              "#bd3786"
             ],
             [
              0.5555555555555556,
              "#d8576b"
             ],
             [
              0.6666666666666666,
              "#ed7953"
             ],
             [
              0.7777777777777778,
              "#fb9f3a"
             ],
             [
              0.8888888888888888,
              "#fdca26"
             ],
             [
              1,
              "#f0f921"
             ]
            ],
            "type": "heatmapgl"
           }
          ],
          "histogram": [
           {
            "marker": {
             "pattern": {
              "fillmode": "overlay",
              "size": 10,
              "solidity": 0.2
             }
            },
            "type": "histogram"
           }
          ],
          "histogram2d": [
           {
            "colorbar": {
             "outlinewidth": 0,
             "ticks": ""
            },
            "colorscale": [
             [
              0,
              "#0d0887"
             ],
             [
              0.1111111111111111,
              "#46039f"
             ],
             [
              0.2222222222222222,
              "#7201a8"
             ],
             [
              0.3333333333333333,
              "#9c179e"
             ],
             [
              0.4444444444444444,
              "#bd3786"
             ],
             [
              0.5555555555555556,
              "#d8576b"
             ],
             [
              0.6666666666666666,
              "#ed7953"
             ],
             [
              0.7777777777777778,
              "#fb9f3a"
             ],
             [
              0.8888888888888888,
              "#fdca26"
             ],
             [
              1,
              "#f0f921"
             ]
            ],
            "type": "histogram2d"
           }
          ],
          "histogram2dcontour": [
           {
            "colorbar": {
             "outlinewidth": 0,
             "ticks": ""
            },
            "colorscale": [
             [
              0,
              "#0d0887"
             ],
             [
              0.1111111111111111,
              "#46039f"
             ],
             [
              0.2222222222222222,
              "#7201a8"
             ],
             [
              0.3333333333333333,
              "#9c179e"
             ],
             [
              0.4444444444444444,
              "#bd3786"
             ],
             [
              0.5555555555555556,
              "#d8576b"
             ],
             [
              0.6666666666666666,
              "#ed7953"
             ],
             [
              0.7777777777777778,
              "#fb9f3a"
             ],
             [
              0.8888888888888888,
              "#fdca26"
             ],
             [
              1,
              "#f0f921"
             ]
            ],
            "type": "histogram2dcontour"
           }
          ],
          "mesh3d": [
           {
            "colorbar": {
             "outlinewidth": 0,
             "ticks": ""
            },
            "type": "mesh3d"
           }
          ],
          "parcoords": [
           {
            "line": {
             "colorbar": {
              "outlinewidth": 0,
              "ticks": ""
             }
            },
            "type": "parcoords"
           }
          ],
          "pie": [
           {
            "automargin": true,
            "type": "pie"
           }
          ],
          "scatter": [
           {
            "fillpattern": {
             "fillmode": "overlay",
             "size": 10,
             "solidity": 0.2
            },
            "type": "scatter"
           }
          ],
          "scatter3d": [
           {
            "line": {
             "colorbar": {
              "outlinewidth": 0,
              "ticks": ""
             }
            },
            "marker": {
             "colorbar": {
              "outlinewidth": 0,
              "ticks": ""
             }
            },
            "type": "scatter3d"
           }
          ],
          "scattercarpet": [
           {
            "marker": {
             "colorbar": {
              "outlinewidth": 0,
              "ticks": ""
             }
            },
            "type": "scattercarpet"
           }
          ],
          "scattergeo": [
           {
            "marker": {
             "colorbar": {
              "outlinewidth": 0,
              "ticks": ""
             }
            },
            "type": "scattergeo"
           }
          ],
          "scattergl": [
           {
            "marker": {
             "colorbar": {
              "outlinewidth": 0,
              "ticks": ""
             }
            },
            "type": "scattergl"
           }
          ],
          "scattermapbox": [
           {
            "marker": {
             "colorbar": {
              "outlinewidth": 0,
              "ticks": ""
             }
            },
            "type": "scattermapbox"
           }
          ],
          "scatterpolar": [
           {
            "marker": {
             "colorbar": {
              "outlinewidth": 0,
              "ticks": ""
             }
            },
            "type": "scatterpolar"
           }
          ],
          "scatterpolargl": [
           {
            "marker": {
             "colorbar": {
              "outlinewidth": 0,
              "ticks": ""
             }
            },
            "type": "scatterpolargl"
           }
          ],
          "scatterternary": [
           {
            "marker": {
             "colorbar": {
              "outlinewidth": 0,
              "ticks": ""
             }
            },
            "type": "scatterternary"
           }
          ],
          "surface": [
           {
            "colorbar": {
             "outlinewidth": 0,
             "ticks": ""
            },
            "colorscale": [
             [
              0,
              "#0d0887"
             ],
             [
              0.1111111111111111,
              "#46039f"
             ],
             [
              0.2222222222222222,
              "#7201a8"
             ],
             [
              0.3333333333333333,
              "#9c179e"
             ],
             [
              0.4444444444444444,
              "#bd3786"
             ],
             [
              0.5555555555555556,
              "#d8576b"
             ],
             [
              0.6666666666666666,
              "#ed7953"
             ],
             [
              0.7777777777777778,
              "#fb9f3a"
             ],
             [
              0.8888888888888888,
              "#fdca26"
             ],
             [
              1,
              "#f0f921"
             ]
            ],
            "type": "surface"
           }
          ],
          "table": [
           {
            "cells": {
             "fill": {
              "color": "#EBF0F8"
             },
             "line": {
              "color": "white"
             }
            },
            "header": {
             "fill": {
              "color": "#C8D4E3"
             },
             "line": {
              "color": "white"
             }
            },
            "type": "table"
           }
          ]
         },
         "layout": {
          "annotationdefaults": {
           "arrowcolor": "#2a3f5f",
           "arrowhead": 0,
           "arrowwidth": 1
          },
          "autotypenumbers": "strict",
          "coloraxis": {
           "colorbar": {
            "outlinewidth": 0,
            "ticks": ""
           }
          },
          "colorscale": {
           "diverging": [
            [
             0,
             "#8e0152"
            ],
            [
             0.1,
             "#c51b7d"
            ],
            [
             0.2,
             "#de77ae"
            ],
            [
             0.3,
             "#f1b6da"
            ],
            [
             0.4,
             "#fde0ef"
            ],
            [
             0.5,
             "#f7f7f7"
            ],
            [
             0.6,
             "#e6f5d0"
            ],
            [
             0.7,
             "#b8e186"
            ],
            [
             0.8,
             "#7fbc41"
            ],
            [
             0.9,
             "#4d9221"
            ],
            [
             1,
             "#276419"
            ]
           ],
           "sequential": [
            [
             0,
             "#0d0887"
            ],
            [
             0.1111111111111111,
             "#46039f"
            ],
            [
             0.2222222222222222,
             "#7201a8"
            ],
            [
             0.3333333333333333,
             "#9c179e"
            ],
            [
             0.4444444444444444,
             "#bd3786"
            ],
            [
             0.5555555555555556,
             "#d8576b"
            ],
            [
             0.6666666666666666,
             "#ed7953"
            ],
            [
             0.7777777777777778,
             "#fb9f3a"
            ],
            [
             0.8888888888888888,
             "#fdca26"
            ],
            [
             1,
             "#f0f921"
            ]
           ],
           "sequentialminus": [
            [
             0,
             "#0d0887"
            ],
            [
             0.1111111111111111,
             "#46039f"
            ],
            [
             0.2222222222222222,
             "#7201a8"
            ],
            [
             0.3333333333333333,
             "#9c179e"
            ],
            [
             0.4444444444444444,
             "#bd3786"
            ],
            [
             0.5555555555555556,
             "#d8576b"
            ],
            [
             0.6666666666666666,
             "#ed7953"
            ],
            [
             0.7777777777777778,
             "#fb9f3a"
            ],
            [
             0.8888888888888888,
             "#fdca26"
            ],
            [
             1,
             "#f0f921"
            ]
           ]
          },
          "colorway": [
           "#636efa",
           "#EF553B",
           "#00cc96",
           "#ab63fa",
           "#FFA15A",
           "#19d3f3",
           "#FF6692",
           "#B6E880",
           "#FF97FF",
           "#FECB52"
          ],
          "font": {
           "color": "#2a3f5f"
          },
          "geo": {
           "bgcolor": "white",
           "lakecolor": "white",
           "landcolor": "#E5ECF6",
           "showlakes": true,
           "showland": true,
           "subunitcolor": "white"
          },
          "hoverlabel": {
           "align": "left"
          },
          "hovermode": "closest",
          "mapbox": {
           "style": "light"
          },
          "paper_bgcolor": "white",
          "plot_bgcolor": "#E5ECF6",
          "polar": {
           "angularaxis": {
            "gridcolor": "white",
            "linecolor": "white",
            "ticks": ""
           },
           "bgcolor": "#E5ECF6",
           "radialaxis": {
            "gridcolor": "white",
            "linecolor": "white",
            "ticks": ""
           }
          },
          "scene": {
           "xaxis": {
            "backgroundcolor": "#E5ECF6",
            "gridcolor": "white",
            "gridwidth": 2,
            "linecolor": "white",
            "showbackground": true,
            "ticks": "",
            "zerolinecolor": "white"
           },
           "yaxis": {
            "backgroundcolor": "#E5ECF6",
            "gridcolor": "white",
            "gridwidth": 2,
            "linecolor": "white",
            "showbackground": true,
            "ticks": "",
            "zerolinecolor": "white"
           },
           "zaxis": {
            "backgroundcolor": "#E5ECF6",
            "gridcolor": "white",
            "gridwidth": 2,
            "linecolor": "white",
            "showbackground": true,
            "ticks": "",
            "zerolinecolor": "white"
           }
          },
          "shapedefaults": {
           "line": {
            "color": "#2a3f5f"
           }
          },
          "ternary": {
           "aaxis": {
            "gridcolor": "white",
            "linecolor": "white",
            "ticks": ""
           },
           "baxis": {
            "gridcolor": "white",
            "linecolor": "white",
            "ticks": ""
           },
           "bgcolor": "#E5ECF6",
           "caxis": {
            "gridcolor": "white",
            "linecolor": "white",
            "ticks": ""
           }
          },
          "title": {
           "x": 0.05
          },
          "xaxis": {
           "automargin": true,
           "gridcolor": "white",
           "linecolor": "white",
           "ticks": "",
           "title": {
            "standoff": 15
           },
           "zerolinecolor": "white",
           "zerolinewidth": 2
          },
          "yaxis": {
           "automargin": true,
           "gridcolor": "white",
           "linecolor": "white",
           "ticks": "",
           "title": {
            "standoff": 15
           },
           "zerolinecolor": "white",
           "zerolinewidth": 2
          }
         }
        },
        "xaxis": {
         "anchor": "y",
         "domain": [
          0,
          1
         ],
         "title": {
          "text": "Discount"
         }
        },
        "yaxis": {
         "anchor": "x",
         "domain": [
          0,
          1
         ],
         "title": {
          "text": "Profit"
         }
        }
       }
      }
     },
     "metadata": {},
     "output_type": "display_data"
    }
   ],
   "source": [
    "colors=['red', 'blue']\n",
    "px.scatter(df,\n",
    "           df['Discount'], \n",
    "           df['Profit'],\n",
    "        #    color_discrete_sequence=colors,\n",
    "        #    xaxis_color='red',\n",
    "        #    yaxis_color='blue'\n",
    "        )"
   ]
  },
  {
   "cell_type": "markdown",
   "metadata": {},
   "source": [
    "Investigate the distribution of different ship modes."
   ]
  },
  {
   "cell_type": "code",
   "execution_count": 10,
   "metadata": {},
   "outputs": [
    {
     "data": {
      "text/html": [
       "<div>\n",
       "<style scoped>\n",
       "    .dataframe tbody tr th:only-of-type {\n",
       "        vertical-align: middle;\n",
       "    }\n",
       "\n",
       "    .dataframe tbody tr th {\n",
       "        vertical-align: top;\n",
       "    }\n",
       "\n",
       "    .dataframe thead th {\n",
       "        text-align: right;\n",
       "    }\n",
       "</style>\n",
       "<table border=\"1\" class=\"dataframe\">\n",
       "  <thead>\n",
       "    <tr style=\"text-align: right;\">\n",
       "      <th></th>\n",
       "      <th>Ship Mode</th>\n",
       "      <th>count</th>\n",
       "    </tr>\n",
       "  </thead>\n",
       "  <tbody>\n",
       "    <tr>\n",
       "      <th>0</th>\n",
       "      <td>Standard Class</td>\n",
       "      <td>1181</td>\n",
       "    </tr>\n",
       "    <tr>\n",
       "      <th>1</th>\n",
       "      <td>Second Class</td>\n",
       "      <td>410</td>\n",
       "    </tr>\n",
       "    <tr>\n",
       "      <th>2</th>\n",
       "      <td>First Class</td>\n",
       "      <td>314</td>\n",
       "    </tr>\n",
       "    <tr>\n",
       "      <th>3</th>\n",
       "      <td>Same Day</td>\n",
       "      <td>110</td>\n",
       "    </tr>\n",
       "  </tbody>\n",
       "</table>\n",
       "</div>"
      ],
      "text/plain": [
       "        Ship Mode  count\n",
       "0  Standard Class   1181\n",
       "1    Second Class    410\n",
       "2     First Class    314\n",
       "3        Same Day    110"
      ]
     },
     "execution_count": 10,
     "metadata": {},
     "output_type": "execute_result"
    }
   ],
   "source": [
    "df['Ship Mode'].value_counts().sort_values(ascending=False).reset_index()"
   ]
  },
  {
   "cell_type": "markdown",
   "metadata": {},
   "source": [
    "Way 1"
   ]
  },
  {
   "cell_type": "code",
   "execution_count": 11,
   "metadata": {},
   "outputs": [
    {
     "data": {
      "application/vnd.plotly.v1+json": {
       "config": {
        "plotlyServerURL": "https://plot.ly"
       },
       "data": [
        {
         "alignmentgroup": "True",
         "hovertemplate": "Ship Mode=%{x}<br>count=%{y}<extra></extra>",
         "legendgroup": "",
         "marker": {
          "color": "red",
          "pattern": {
           "shape": ""
          }
         },
         "name": "",
         "offsetgroup": "",
         "orientation": "v",
         "showlegend": false,
         "textposition": "auto",
         "type": "bar",
         "x": [
          "Second Class",
          "Second Class",
          "Standard Class",
          "Standard Class",
          "Standard Class",
          "Second Class",
          "Standard Class",
          "Standard Class",
          "Standard Class",
          "First Class",
          "Standard Class",
          "Standard Class",
          "Standard Class",
          "Standard Class",
          "First Class",
          "Standard Class",
          "Standard Class",
          "Standard Class",
          "Standard Class",
          "First Class",
          "Second Class",
          "Second Class",
          "Second Class",
          "Second Class",
          "Standard Class",
          "Standard Class",
          "Standard Class",
          "First Class",
          "Second Class",
          "Second Class",
          "Second Class",
          "Standard Class",
          "Second Class",
          "Standard Class",
          "Standard Class",
          "Second Class",
          "Standard Class",
          "Standard Class",
          "Second Class",
          "First Class",
          "First Class",
          "First Class",
          "Standard Class",
          "Standard Class",
          "First Class",
          "Standard Class",
          "Standard Class",
          "Standard Class",
          "Standard Class",
          "Standard Class",
          "Second Class",
          "Second Class",
          "Second Class",
          "Second Class",
          "Second Class",
          "Second Class",
          "Standard Class",
          "First Class",
          "Standard Class",
          "Second Class",
          "First Class",
          "First Class",
          "First Class",
          "Standard Class",
          "Standard Class",
          "Second Class",
          "Second Class",
          "Standard Class",
          "Standard Class",
          "Second Class",
          "First Class",
          "Standard Class",
          "Standard Class",
          "Standard Class",
          "Standard Class",
          "Same Day",
          "Standard Class",
          "Standard Class",
          "Standard Class",
          "Second Class",
          "Standard Class",
          "Standard Class",
          "Standard Class",
          "Standard Class",
          "Standard Class",
          "Standard Class",
          "Second Class",
          "Second Class",
          "Second Class",
          "Second Class",
          "Second Class",
          "Second Class",
          "Standard Class",
          "Standard Class",
          "Standard Class",
          "Standard Class",
          "Standard Class",
          "Standard Class",
          "Standard Class",
          "Second Class",
          "Standard Class",
          "First Class",
          "Second Class",
          "Standard Class",
          "Standard Class",
          "Standard Class",
          "First Class",
          "Standard Class",
          "Standard Class",
          "Second Class",
          "Standard Class",
          "Standard Class",
          "Standard Class",
          "Second Class",
          "First Class",
          "Standard Class",
          "Second Class",
          "Second Class",
          "Standard Class",
          "Standard Class",
          "Standard Class",
          "Standard Class",
          "Standard Class",
          "Second Class",
          "Second Class",
          "Second Class",
          "Standard Class",
          "Standard Class",
          "Second Class",
          "Standard Class",
          "Standard Class",
          "Second Class",
          "Same Day",
          "Standard Class",
          "First Class",
          "Standard Class",
          "Standard Class",
          "Standard Class",
          "Standard Class",
          "Second Class",
          "Standard Class",
          "Second Class",
          "Standard Class",
          "First Class",
          "First Class",
          "Standard Class",
          "Standard Class",
          "Standard Class",
          "Standard Class",
          "First Class",
          "First Class",
          "Standard Class",
          "Same Day",
          "Standard Class",
          "Standard Class",
          "Standard Class",
          "Standard Class",
          "Standard Class",
          "Standard Class",
          "First Class",
          "Second Class",
          "Standard Class",
          "Standard Class",
          "Standard Class",
          "First Class",
          "First Class",
          "First Class",
          "First Class",
          "Same Day",
          "Standard Class",
          "Second Class",
          "Standard Class",
          "Standard Class",
          "Standard Class",
          "Standard Class",
          "Standard Class",
          "Standard Class",
          "Second Class",
          "First Class",
          "Standard Class",
          "Standard Class",
          "Standard Class",
          "First Class",
          "Standard Class",
          "Standard Class",
          "Standard Class",
          "First Class",
          "Standard Class",
          "Standard Class",
          "Standard Class",
          "Standard Class",
          "Standard Class",
          "Same Day",
          "Standard Class",
          "Second Class",
          "Standard Class",
          "Second Class",
          "Standard Class",
          "Second Class",
          "Standard Class",
          "Standard Class",
          "Same Day",
          "First Class",
          "Second Class",
          "Second Class",
          "Standard Class",
          "Standard Class",
          "Standard Class",
          "Standard Class",
          "Standard Class",
          "Standard Class",
          "Second Class",
          "Standard Class",
          "Standard Class",
          "First Class",
          "First Class",
          "Standard Class",
          "Standard Class",
          "First Class",
          "Standard Class",
          "Standard Class",
          "Standard Class",
          "First Class",
          "First Class",
          "Standard Class",
          "Second Class",
          "Standard Class",
          "Standard Class",
          "Standard Class",
          "Standard Class",
          "First Class",
          "Second Class",
          "Standard Class",
          "Second Class",
          "Same Day",
          "Same Day",
          "Standard Class",
          "Standard Class",
          "Standard Class",
          "Second Class",
          "Standard Class",
          "Standard Class",
          "First Class",
          "Standard Class",
          "Same Day",
          "Same Day",
          "Standard Class",
          "Second Class",
          "Second Class",
          "Second Class",
          "Standard Class",
          "Standard Class",
          "Standard Class",
          "First Class",
          "Standard Class",
          "Standard Class",
          "Same Day",
          "Standard Class",
          "Second Class",
          "Second Class",
          "Second Class",
          "Standard Class",
          "First Class",
          "Standard Class",
          "Standard Class",
          "Standard Class",
          "Standard Class",
          "Standard Class",
          "Second Class",
          "Second Class",
          "Standard Class",
          "First Class",
          "Second Class",
          "First Class",
          "First Class",
          "Standard Class",
          "Standard Class",
          "Standard Class",
          "Same Day",
          "Standard Class",
          "Standard Class",
          "Standard Class",
          "First Class",
          "Standard Class",
          "Standard Class",
          "Standard Class",
          "First Class",
          "Second Class",
          "Same Day",
          "First Class",
          "Standard Class",
          "Same Day",
          "Standard Class",
          "Standard Class",
          "Standard Class",
          "Same Day",
          "Standard Class",
          "Standard Class",
          "Standard Class",
          "Standard Class",
          "Standard Class",
          "Standard Class",
          "Second Class",
          "Standard Class",
          "Standard Class",
          "Standard Class",
          "Second Class",
          "Second Class",
          "Second Class",
          "Second Class",
          "Same Day",
          "First Class",
          "First Class",
          "First Class",
          "First Class",
          "First Class",
          "First Class",
          "First Class",
          "Standard Class",
          "First Class",
          "Second Class",
          "Second Class",
          "Standard Class",
          "Standard Class",
          "Standard Class",
          "Second Class",
          "Standard Class",
          "First Class",
          "Standard Class",
          "Standard Class",
          "Standard Class",
          "Standard Class",
          "First Class",
          "Standard Class",
          "Standard Class",
          "Second Class",
          "Second Class",
          "Standard Class",
          "Second Class",
          "Standard Class",
          "Standard Class",
          "Standard Class",
          "Standard Class",
          "Second Class",
          "Standard Class",
          "Standard Class",
          "First Class",
          "Standard Class",
          "Standard Class",
          "Standard Class",
          "First Class",
          "Standard Class",
          "Second Class",
          "Standard Class",
          "Standard Class",
          "Standard Class",
          "Standard Class",
          "Standard Class",
          "Standard Class",
          "Standard Class",
          "Same Day",
          "Standard Class",
          "Standard Class",
          "Same Day",
          "First Class",
          "Standard Class",
          "Standard Class",
          "First Class",
          "Standard Class",
          "Standard Class",
          "Standard Class",
          "Standard Class",
          "Standard Class",
          "Same Day",
          "Second Class",
          "First Class",
          "Second Class",
          "First Class",
          "First Class",
          "Standard Class",
          "First Class",
          "Second Class",
          "Second Class",
          "Second Class",
          "Standard Class",
          "Standard Class",
          "Standard Class",
          "Standard Class",
          "Second Class",
          "Standard Class",
          "Second Class",
          "Second Class",
          "First Class",
          "Standard Class",
          "First Class",
          "First Class",
          "Standard Class",
          "Standard Class",
          "First Class",
          "First Class",
          "First Class",
          "Standard Class",
          "First Class",
          "First Class",
          "Standard Class",
          "Standard Class",
          "Standard Class",
          "Standard Class",
          "Standard Class",
          "Same Day",
          "Same Day",
          "Same Day",
          "Second Class",
          "First Class",
          "Second Class",
          "Standard Class",
          "Second Class",
          "Standard Class",
          "Standard Class",
          "Standard Class",
          "Standard Class",
          "Standard Class",
          "Same Day",
          "Standard Class",
          "Standard Class",
          "Standard Class",
          "Standard Class",
          "Standard Class",
          "Standard Class",
          "Standard Class",
          "Standard Class",
          "Standard Class",
          "First Class",
          "Same Day",
          "Second Class",
          "Standard Class",
          "Standard Class",
          "Standard Class",
          "First Class",
          "First Class",
          "Standard Class",
          "Second Class",
          "Second Class",
          "Standard Class",
          "First Class",
          "First Class",
          "First Class",
          "Standard Class",
          "Standard Class",
          "Standard Class",
          "First Class",
          "First Class",
          "Standard Class",
          "Second Class",
          "Standard Class",
          "First Class",
          "Standard Class",
          "First Class",
          "Standard Class",
          "Standard Class",
          "Standard Class",
          "Standard Class",
          "Second Class",
          "Standard Class",
          "Second Class",
          "Standard Class",
          "Standard Class",
          "First Class",
          "Standard Class",
          "Standard Class",
          "Standard Class",
          "Standard Class",
          "Standard Class",
          "Standard Class",
          "Standard Class",
          "Standard Class",
          "Second Class",
          "Standard Class",
          "Standard Class",
          "Standard Class",
          "Standard Class",
          "Standard Class",
          "First Class",
          "Second Class",
          "Standard Class",
          "Second Class",
          "Standard Class",
          "Second Class",
          "Standard Class",
          "Standard Class",
          "Second Class",
          "Same Day",
          "Same Day",
          "Standard Class",
          "Standard Class",
          "Standard Class",
          "Standard Class",
          "Standard Class",
          "Standard Class",
          "Second Class",
          "Standard Class",
          "Standard Class",
          "Standard Class",
          "Standard Class",
          "Standard Class",
          "Standard Class",
          "Same Day",
          "Same Day",
          "Standard Class",
          "Standard Class",
          "Standard Class",
          "Standard Class",
          "Standard Class",
          "Standard Class",
          "Standard Class",
          "Second Class",
          "Standard Class",
          "Second Class",
          "Second Class",
          "Second Class",
          "Standard Class",
          "Second Class",
          "Standard Class",
          "First Class",
          "Standard Class",
          "Second Class",
          "Standard Class",
          "Standard Class",
          "Standard Class",
          "Standard Class",
          "First Class",
          "Second Class",
          "Standard Class",
          "Standard Class",
          "Standard Class",
          "Standard Class",
          "Second Class",
          "Standard Class",
          "Standard Class",
          "Standard Class",
          "Standard Class",
          "First Class",
          "Second Class",
          "Standard Class",
          "First Class",
          "Standard Class",
          "Standard Class",
          "Standard Class",
          "Standard Class",
          "Second Class",
          "Second Class",
          "Second Class",
          "Second Class",
          "Second Class",
          "Standard Class",
          "Standard Class",
          "First Class",
          "Standard Class",
          "Standard Class",
          "Standard Class",
          "Standard Class",
          "Second Class",
          "Second Class",
          "First Class",
          "Second Class",
          "Standard Class",
          "Standard Class",
          "Standard Class",
          "Second Class",
          "Second Class",
          "Second Class",
          "Standard Class",
          "Second Class",
          "Standard Class",
          "Standard Class",
          "Standard Class",
          "Same Day",
          "First Class",
          "Second Class",
          "Standard Class",
          "Same Day",
          "Standard Class",
          "Standard Class",
          "Standard Class",
          "Standard Class",
          "First Class",
          "Standard Class",
          "Same Day",
          "Same Day",
          "Standard Class",
          "Second Class",
          "Second Class",
          "Second Class",
          "Standard Class",
          "Second Class",
          "Standard Class",
          "Same Day",
          "Second Class",
          "Standard Class",
          "Standard Class",
          "Second Class",
          "Standard Class",
          "Standard Class",
          "First Class",
          "Standard Class",
          "Standard Class",
          "Standard Class",
          "Standard Class",
          "Standard Class",
          "Standard Class",
          "Standard Class",
          "Standard Class",
          "Standard Class",
          "Standard Class",
          "Standard Class",
          "Same Day",
          "First Class",
          "Second Class",
          "Second Class",
          "Standard Class",
          "Standard Class",
          "Standard Class",
          "Standard Class",
          "Second Class",
          "Standard Class",
          "Standard Class",
          "Second Class",
          "Standard Class",
          "First Class",
          "First Class",
          "First Class",
          "First Class",
          "First Class",
          "Standard Class",
          "Standard Class",
          "Second Class",
          "First Class",
          "Standard Class",
          "First Class",
          "Standard Class",
          "Standard Class",
          "Standard Class",
          "Standard Class",
          "Second Class",
          "Standard Class",
          "Standard Class",
          "Second Class",
          "Same Day",
          "Standard Class",
          "Standard Class",
          "Standard Class",
          "Standard Class",
          "First Class",
          "Second Class",
          "Standard Class",
          "Standard Class",
          "Standard Class",
          "Standard Class",
          "Standard Class",
          "Standard Class",
          "Second Class",
          "Standard Class",
          "Standard Class",
          "Standard Class",
          "First Class",
          "First Class",
          "Second Class",
          "Standard Class",
          "Standard Class",
          "Second Class",
          "Second Class",
          "First Class",
          "Standard Class",
          "Standard Class",
          "Standard Class",
          "Standard Class",
          "First Class",
          "Second Class",
          "Standard Class",
          "First Class",
          "Standard Class",
          "Standard Class",
          "Standard Class",
          "Standard Class",
          "Standard Class",
          "Standard Class",
          "Second Class",
          "First Class",
          "First Class",
          "Same Day",
          "Same Day",
          "First Class",
          "Standard Class",
          "Standard Class",
          "Standard Class",
          "Standard Class",
          "Standard Class",
          "First Class",
          "First Class",
          "First Class",
          "Standard Class",
          "Standard Class",
          "Standard Class",
          "Standard Class",
          "First Class",
          "First Class",
          "First Class",
          "First Class",
          "Second Class",
          "Second Class",
          "Standard Class",
          "Standard Class",
          "Standard Class",
          "Second Class",
          "Standard Class",
          "Standard Class",
          "First Class",
          "Standard Class",
          "Second Class",
          "Standard Class",
          "Standard Class",
          "Standard Class",
          "Standard Class",
          "Standard Class",
          "Standard Class",
          "Second Class",
          "Second Class",
          "Standard Class",
          "Second Class",
          "Standard Class",
          "First Class",
          "First Class",
          "Second Class",
          "Standard Class",
          "Second Class",
          "Second Class",
          "Second Class",
          "Second Class",
          "First Class",
          "Standard Class",
          "Second Class",
          "Standard Class",
          "Second Class",
          "Standard Class",
          "Standard Class",
          "First Class",
          "Standard Class",
          "Standard Class",
          "Standard Class",
          "Standard Class",
          "Standard Class",
          "Standard Class",
          "Standard Class",
          "Standard Class",
          "Standard Class",
          "Standard Class",
          "Same Day",
          "Standard Class",
          "Standard Class",
          "Standard Class",
          "First Class",
          "Same Day",
          "Standard Class",
          "Standard Class",
          "Standard Class",
          "Second Class",
          "Second Class",
          "Second Class",
          "Standard Class",
          "Standard Class",
          "Standard Class",
          "Standard Class",
          "Standard Class",
          "Standard Class",
          "Standard Class",
          "Standard Class",
          "Standard Class",
          "Standard Class",
          "Standard Class",
          "First Class",
          "Standard Class",
          "Same Day",
          "Standard Class",
          "Standard Class",
          "Standard Class",
          "Standard Class",
          "Standard Class",
          "First Class",
          "Standard Class",
          "First Class",
          "Standard Class",
          "Standard Class",
          "Second Class",
          "Standard Class",
          "Standard Class",
          "Second Class",
          "Standard Class",
          "Standard Class",
          "Standard Class",
          "Standard Class",
          "Second Class",
          "Standard Class",
          "Standard Class",
          "Standard Class",
          "Standard Class",
          "Standard Class",
          "First Class",
          "Standard Class",
          "Standard Class",
          "Standard Class",
          "Standard Class",
          "Second Class",
          "Second Class",
          "Standard Class",
          "Standard Class",
          "Standard Class",
          "First Class",
          "Standard Class",
          "Standard Class",
          "Standard Class",
          "Same Day",
          "Same Day",
          "Standard Class",
          "Second Class",
          "First Class",
          "Standard Class",
          "Standard Class",
          "First Class",
          "First Class",
          "Standard Class",
          "Standard Class",
          "Second Class",
          "Second Class",
          "Second Class",
          "Second Class",
          "First Class",
          "Second Class",
          "Standard Class",
          "Standard Class",
          "Standard Class",
          "Standard Class",
          "Second Class",
          "Same Day",
          "First Class",
          "First Class",
          "Standard Class",
          "Standard Class",
          "Second Class",
          "Standard Class",
          "Second Class",
          "Standard Class",
          "Standard Class",
          "Second Class",
          "Second Class",
          "Standard Class",
          "Standard Class",
          "Second Class",
          "Second Class",
          "Standard Class",
          "Standard Class",
          "Standard Class",
          "Standard Class",
          "Standard Class",
          "Same Day",
          "Same Day",
          "Standard Class",
          "Standard Class",
          "Standard Class",
          "Standard Class",
          "Standard Class",
          "First Class",
          "Standard Class",
          "Standard Class",
          "Same Day",
          "Standard Class",
          "First Class",
          "Standard Class",
          "Second Class",
          "Second Class",
          "Standard Class",
          "First Class",
          "Standard Class",
          "First Class",
          "Standard Class",
          "Standard Class",
          "Same Day",
          "Same Day",
          "Same Day",
          "Standard Class",
          "Second Class",
          "Second Class",
          "Standard Class",
          "Standard Class",
          "Standard Class",
          "Standard Class",
          "Second Class",
          "Standard Class",
          "Standard Class",
          "Standard Class",
          "First Class",
          "Same Day",
          "Standard Class",
          "Standard Class",
          "Second Class",
          "Second Class",
          "Standard Class",
          "Standard Class",
          "First Class",
          "Second Class",
          "Standard Class",
          "Second Class",
          "Standard Class",
          "First Class",
          "Second Class",
          "Standard Class",
          "Standard Class",
          "Standard Class",
          "Standard Class",
          "Same Day",
          "Second Class",
          "Standard Class",
          "Second Class",
          "Standard Class",
          "Standard Class",
          "Standard Class",
          "Standard Class",
          "Standard Class",
          "Standard Class",
          "Second Class",
          "Standard Class",
          "First Class",
          "Same Day",
          "Same Day",
          "Same Day",
          "Same Day",
          "Standard Class",
          "First Class",
          "Standard Class",
          "Second Class",
          "Second Class",
          "Second Class",
          "Second Class",
          "Standard Class",
          "Standard Class",
          "Same Day",
          "Standard Class",
          "Standard Class",
          "First Class",
          "Standard Class",
          "Standard Class",
          "Standard Class",
          "Standard Class",
          "Standard Class",
          "Standard Class",
          "Standard Class",
          "Second Class",
          "Second Class",
          "Second Class",
          "Standard Class",
          "Standard Class",
          "Standard Class",
          "Second Class",
          "Second Class",
          "Standard Class",
          "Standard Class",
          "Second Class",
          "Second Class",
          "Second Class",
          "Second Class",
          "Standard Class",
          "Standard Class",
          "Standard Class",
          "Standard Class",
          "Standard Class",
          "Standard Class",
          "Standard Class",
          "Second Class",
          "First Class",
          "Second Class",
          "First Class",
          "First Class",
          "Standard Class",
          "Standard Class",
          "First Class",
          "Standard Class",
          "First Class",
          "Standard Class",
          "Standard Class",
          "Standard Class",
          "Second Class",
          "Standard Class",
          "First Class",
          "Second Class",
          "Second Class",
          "Standard Class",
          "Standard Class",
          "Standard Class",
          "Second Class",
          "Second Class",
          "Standard Class",
          "Standard Class",
          "Standard Class",
          "Same Day",
          "Same Day",
          "Standard Class",
          "Standard Class",
          "Standard Class",
          "Standard Class",
          "Standard Class",
          "Standard Class",
          "First Class",
          "Second Class",
          "Second Class",
          "Standard Class",
          "Second Class",
          "Standard Class",
          "Standard Class",
          "Second Class",
          "Standard Class",
          "Standard Class",
          "Standard Class",
          "Second Class",
          "Standard Class",
          "Same Day",
          "Standard Class",
          "Second Class",
          "Second Class",
          "Standard Class",
          "First Class",
          "Standard Class",
          "Standard Class",
          "Second Class",
          "Second Class",
          "First Class",
          "Same Day",
          "Same Day",
          "Same Day",
          "Second Class",
          "Standard Class",
          "First Class",
          "Standard Class",
          "Standard Class",
          "Standard Class",
          "Standard Class",
          "Standard Class",
          "First Class",
          "Standard Class",
          "First Class",
          "Standard Class",
          "Standard Class",
          "First Class",
          "First Class",
          "First Class",
          "First Class",
          "Standard Class",
          "Standard Class",
          "Standard Class",
          "Standard Class",
          "Standard Class",
          "Standard Class",
          "Standard Class",
          "Standard Class",
          "Standard Class",
          "Same Day",
          "Standard Class",
          "First Class",
          "Same Day",
          "First Class",
          "First Class",
          "First Class",
          "Standard Class",
          "Standard Class",
          "Second Class",
          "Standard Class",
          "First Class",
          "Standard Class",
          "First Class",
          "Standard Class",
          "Standard Class",
          "Standard Class",
          "Second Class",
          "Second Class",
          "Standard Class",
          "Standard Class",
          "Standard Class",
          "Standard Class",
          "Standard Class",
          "Standard Class",
          "First Class",
          "Standard Class",
          "Second Class",
          "Standard Class",
          "Same Day",
          "Second Class",
          "Standard Class",
          "Second Class",
          "Second Class",
          "Standard Class",
          "Standard Class",
          "Standard Class",
          "Standard Class",
          "Second Class",
          "Second Class",
          "Standard Class",
          "Second Class",
          "Standard Class",
          "Standard Class",
          "Standard Class",
          "Standard Class",
          "Second Class",
          "Standard Class",
          "Standard Class",
          "Second Class",
          "First Class",
          "Standard Class",
          "Second Class",
          "Standard Class",
          "Same Day",
          "Standard Class",
          "Second Class",
          "Standard Class",
          "Standard Class",
          "Standard Class",
          "Standard Class",
          "First Class",
          "First Class",
          "Standard Class",
          "First Class",
          "First Class",
          "Standard Class",
          "Standard Class",
          "Standard Class",
          "First Class",
          "First Class",
          "Standard Class",
          "Standard Class",
          "Standard Class",
          "Standard Class",
          "Second Class",
          "First Class",
          "First Class",
          "Second Class",
          "Second Class",
          "Standard Class",
          "Standard Class",
          "Standard Class",
          "Standard Class",
          "Second Class",
          "Second Class",
          "Standard Class",
          "Standard Class",
          "Standard Class",
          "Second Class",
          "Standard Class",
          "Standard Class",
          "Standard Class",
          "Standard Class",
          "Standard Class",
          "Second Class",
          "Standard Class",
          "Second Class",
          "Standard Class",
          "Same Day",
          "Standard Class",
          "Standard Class",
          "Standard Class",
          "Second Class",
          "Standard Class",
          "Standard Class",
          "Standard Class",
          "Standard Class",
          "Standard Class",
          "Standard Class",
          "Second Class",
          "Standard Class",
          "Standard Class",
          "First Class",
          "Same Day",
          "Standard Class",
          "Second Class",
          "Second Class",
          "Second Class",
          "Second Class",
          "First Class",
          "Standard Class",
          "Standard Class",
          "Standard Class",
          "Standard Class",
          "Standard Class",
          "Same Day",
          "Same Day",
          "Standard Class",
          "Standard Class",
          "Standard Class",
          "Standard Class",
          "First Class",
          "Standard Class",
          "Standard Class",
          "Same Day",
          "Standard Class",
          "Standard Class",
          "Standard Class",
          "Standard Class",
          "Second Class",
          "Standard Class",
          "Standard Class",
          "Second Class",
          "Standard Class",
          "Standard Class",
          "Same Day",
          "Standard Class",
          "Standard Class",
          "Standard Class",
          "Standard Class",
          "Standard Class",
          "First Class",
          "Standard Class",
          "Standard Class",
          "Standard Class",
          "Standard Class",
          "Standard Class",
          "Standard Class",
          "Standard Class",
          "First Class",
          "First Class",
          "First Class",
          "Second Class",
          "First Class",
          "First Class",
          "First Class",
          "First Class",
          "Standard Class",
          "First Class",
          "Standard Class",
          "Standard Class",
          "First Class",
          "Second Class",
          "Standard Class",
          "Standard Class",
          "Standard Class",
          "Standard Class",
          "Same Day",
          "Standard Class",
          "Second Class",
          "Standard Class",
          "Standard Class",
          "Standard Class",
          "Standard Class",
          "Second Class",
          "Second Class",
          "Standard Class",
          "Standard Class",
          "Standard Class",
          "Standard Class",
          "Second Class",
          "First Class",
          "First Class",
          "Second Class",
          "Second Class",
          "Standard Class",
          "Standard Class",
          "Standard Class",
          "Standard Class",
          "Standard Class",
          "Standard Class",
          "Standard Class",
          "Same Day",
          "Second Class",
          "Standard Class",
          "Standard Class",
          "Standard Class",
          "Standard Class",
          "First Class",
          "First Class",
          "Second Class",
          "First Class",
          "Standard Class",
          "First Class",
          "Standard Class",
          "Standard Class",
          "First Class",
          "Standard Class",
          "First Class",
          "Standard Class",
          "Second Class",
          "First Class",
          "Standard Class",
          "Standard Class",
          "First Class",
          "Standard Class",
          "Standard Class",
          "Standard Class",
          "Standard Class",
          "Standard Class",
          "Second Class",
          "Standard Class",
          "Standard Class",
          "Second Class",
          "Standard Class",
          "First Class",
          "Standard Class",
          "First Class",
          "Standard Class",
          "First Class",
          "Second Class",
          "Standard Class",
          "Standard Class",
          "Standard Class",
          "Standard Class",
          "Same Day",
          "Standard Class",
          "Standard Class",
          "Standard Class",
          "Standard Class",
          "Standard Class",
          "Standard Class",
          "First Class",
          "Second Class",
          "First Class",
          "Standard Class",
          "Standard Class",
          "Standard Class",
          "Second Class",
          "Standard Class",
          "First Class",
          "First Class",
          "Standard Class",
          "Standard Class",
          "Standard Class",
          "Second Class",
          "Standard Class",
          "Standard Class",
          "Standard Class",
          "Standard Class",
          "Standard Class",
          "Standard Class",
          "Standard Class",
          "Standard Class",
          "Same Day",
          "Same Day",
          "Standard Class",
          "Standard Class",
          "First Class",
          "Standard Class",
          "Standard Class",
          "Second Class",
          "Standard Class",
          "Standard Class",
          "Second Class",
          "Standard Class",
          "Second Class",
          "Second Class",
          "Second Class",
          "Standard Class",
          "Standard Class",
          "Standard Class",
          "Same Day",
          "Same Day",
          "Standard Class",
          "Standard Class",
          "Standard Class",
          "First Class",
          "First Class",
          "Standard Class",
          "Standard Class",
          "Standard Class",
          "Standard Class",
          "Standard Class",
          "Same Day",
          "Standard Class",
          "Standard Class",
          "Standard Class",
          "Standard Class",
          "Standard Class",
          "Standard Class",
          "Standard Class",
          "Standard Class",
          "Second Class",
          "Second Class",
          "Standard Class",
          "Second Class",
          "Standard Class",
          "Standard Class",
          "Standard Class",
          "Standard Class",
          "Standard Class",
          "First Class",
          "Standard Class",
          "Standard Class",
          "Same Day",
          "Standard Class",
          "Second Class",
          "Second Class",
          "Standard Class",
          "Second Class",
          "Standard Class",
          "Standard Class",
          "Standard Class",
          "Standard Class",
          "Second Class",
          "Standard Class",
          "Standard Class",
          "Standard Class",
          "Standard Class",
          "Standard Class",
          "Standard Class",
          "Same Day",
          "Standard Class",
          "Second Class",
          "Second Class",
          "Standard Class",
          "Standard Class",
          "Standard Class",
          "Standard Class",
          "Standard Class",
          "Standard Class",
          "Standard Class",
          "Same Day",
          "Standard Class",
          "Standard Class",
          "Standard Class",
          "Second Class",
          "Second Class",
          "Second Class",
          "Second Class",
          "Standard Class",
          "First Class",
          "Standard Class",
          "First Class",
          "Standard Class",
          "Standard Class",
          "Same Day",
          "Standard Class",
          "Standard Class",
          "Standard Class",
          "Standard Class",
          "Standard Class",
          "Second Class",
          "Second Class",
          "Second Class",
          "Standard Class",
          "Standard Class",
          "Second Class",
          "Standard Class",
          "Standard Class",
          "Standard Class",
          "Standard Class",
          "Standard Class",
          "Standard Class",
          "Standard Class",
          "First Class",
          "First Class",
          "First Class",
          "Standard Class",
          "Standard Class",
          "Second Class",
          "Standard Class",
          "Second Class",
          "First Class",
          "Standard Class",
          "First Class",
          "Standard Class",
          "Standard Class",
          "Standard Class",
          "Second Class",
          "Standard Class",
          "Standard Class",
          "Standard Class",
          "Standard Class",
          "Standard Class",
          "Second Class",
          "First Class",
          "Standard Class",
          "Standard Class",
          "Standard Class",
          "Standard Class",
          "Standard Class",
          "Standard Class",
          "Standard Class",
          "Standard Class",
          "Standard Class",
          "Standard Class",
          "Standard Class",
          "Standard Class",
          "Standard Class",
          "Standard Class",
          "Second Class",
          "Standard Class",
          "Second Class",
          "Second Class",
          "Second Class",
          "Standard Class",
          "Second Class",
          "First Class",
          "Second Class",
          "First Class",
          "First Class",
          "Second Class",
          "Standard Class",
          "Standard Class",
          "Second Class",
          "Second Class",
          "Standard Class",
          "Standard Class",
          "Standard Class",
          "Standard Class",
          "Standard Class",
          "Standard Class",
          "Same Day",
          "First Class",
          "First Class",
          "Standard Class",
          "Standard Class",
          "Standard Class",
          "Standard Class",
          "Standard Class",
          "Standard Class",
          "First Class",
          "Second Class",
          "Standard Class",
          "First Class",
          "Standard Class",
          "Second Class",
          "Second Class",
          "Standard Class",
          "First Class",
          "Standard Class",
          "Standard Class",
          "Standard Class",
          "Standard Class",
          "Standard Class",
          "Second Class",
          "First Class",
          "Standard Class",
          "Second Class",
          "First Class",
          "Second Class",
          "Second Class",
          "Second Class",
          "Standard Class",
          "Standard Class",
          "First Class",
          "Standard Class",
          "Second Class",
          "Same Day",
          "Standard Class",
          "Standard Class",
          "Second Class",
          "Second Class",
          "Second Class",
          "Standard Class",
          "Standard Class",
          "Standard Class",
          "First Class",
          "Same Day",
          "Standard Class",
          "Second Class",
          "Standard Class",
          "Standard Class",
          "First Class",
          "Second Class",
          "Same Day",
          "Second Class",
          "First Class",
          "First Class",
          "Second Class",
          "First Class",
          "First Class",
          "First Class",
          "Standard Class",
          "Standard Class",
          "Standard Class",
          "Second Class",
          "Standard Class",
          "Standard Class",
          "Standard Class",
          "Standard Class",
          "Second Class",
          "Second Class",
          "Standard Class",
          "Second Class",
          "Standard Class",
          "Second Class",
          "Second Class",
          "Second Class",
          "Standard Class",
          "Standard Class",
          "Standard Class",
          "Standard Class",
          "Standard Class",
          "Second Class",
          "Standard Class",
          "Second Class",
          "First Class",
          "Standard Class",
          "First Class",
          "Standard Class",
          "Standard Class",
          "Standard Class",
          "Standard Class",
          "Standard Class",
          "First Class",
          "First Class",
          "Standard Class",
          "First Class",
          "Second Class",
          "First Class",
          "First Class",
          "First Class",
          "Standard Class",
          "Same Day",
          "First Class",
          "Standard Class",
          "Second Class",
          "Standard Class",
          "Second Class",
          "Second Class",
          "Standard Class",
          "Standard Class",
          "Standard Class",
          "Standard Class",
          "Standard Class",
          "Standard Class",
          "Standard Class",
          "Second Class",
          "First Class",
          "Standard Class",
          "Standard Class",
          "Second Class",
          "Second Class",
          "Standard Class",
          "Standard Class",
          "Standard Class",
          "Standard Class",
          "Standard Class",
          "Standard Class",
          "Standard Class",
          "Standard Class",
          "Standard Class",
          "First Class",
          "Standard Class",
          "Standard Class",
          "Standard Class",
          "Standard Class",
          "Standard Class",
          "Standard Class",
          "Standard Class",
          "Standard Class",
          "Standard Class",
          "Standard Class",
          "Standard Class",
          "Second Class",
          "Standard Class",
          "First Class",
          "Same Day",
          "Same Day",
          "Standard Class",
          "Standard Class",
          "Standard Class",
          "Second Class",
          "Second Class",
          "Standard Class",
          "Same Day",
          "Standard Class",
          "Second Class",
          "Standard Class",
          "Standard Class",
          "Standard Class",
          "First Class",
          "Second Class",
          "Standard Class",
          "Standard Class",
          "Standard Class",
          "Standard Class",
          "Standard Class",
          "First Class",
          "Standard Class",
          "Standard Class",
          "Standard Class",
          "Standard Class",
          "Standard Class",
          "Standard Class",
          "Standard Class",
          "Standard Class",
          "Standard Class",
          "Second Class",
          "Standard Class",
          "Standard Class",
          "Standard Class",
          "Second Class",
          "Second Class",
          "Second Class",
          "Second Class",
          "Standard Class",
          "Standard Class",
          "Same Day",
          "Standard Class",
          "First Class",
          "Standard Class",
          "Standard Class",
          "Second Class",
          "Standard Class",
          "Second Class",
          "First Class",
          "First Class",
          "First Class",
          "First Class",
          "Standard Class",
          "Standard Class",
          "Second Class",
          "Standard Class",
          "Standard Class",
          "Standard Class",
          "Same Day",
          "Second Class",
          "Second Class",
          "Standard Class",
          "Standard Class",
          "Second Class",
          "Standard Class",
          "Standard Class",
          "Standard Class",
          "Same Day",
          "Standard Class",
          "Standard Class",
          "First Class",
          "Standard Class",
          "Standard Class",
          "First Class",
          "First Class",
          "Second Class",
          "Second Class",
          "Standard Class",
          "First Class",
          "Standard Class",
          "Second Class",
          "First Class",
          "Standard Class",
          "Standard Class",
          "Standard Class",
          "Standard Class",
          "Second Class",
          "Standard Class",
          "First Class",
          "Standard Class",
          "Standard Class",
          "Standard Class",
          "First Class",
          "Same Day",
          "Standard Class",
          "Standard Class",
          "Second Class",
          "Standard Class",
          "First Class",
          "Second Class",
          "Standard Class",
          "Standard Class",
          "Standard Class",
          "First Class",
          "Standard Class",
          "Standard Class",
          "Second Class",
          "Standard Class",
          "Second Class",
          "First Class",
          "Standard Class",
          "Standard Class",
          "Same Day",
          "First Class",
          "Standard Class",
          "First Class",
          "Standard Class",
          "First Class",
          "Standard Class",
          "Standard Class",
          "Standard Class",
          "First Class",
          "Standard Class",
          "First Class",
          "Standard Class",
          "Standard Class",
          "First Class",
          "Standard Class",
          "Standard Class",
          "Standard Class",
          "Standard Class",
          "Standard Class",
          "Standard Class",
          "Standard Class",
          "Standard Class",
          "Standard Class",
          "Standard Class",
          "Standard Class",
          "Standard Class",
          "Standard Class",
          "Second Class",
          "First Class",
          "Standard Class",
          "First Class",
          "First Class",
          "Standard Class",
          "Standard Class",
          "Second Class",
          "First Class",
          "Standard Class",
          "Standard Class",
          "Standard Class",
          "Standard Class",
          "Standard Class",
          "Same Day",
          "First Class",
          "Second Class",
          "First Class",
          "First Class",
          "Standard Class",
          "Standard Class",
          "Standard Class",
          "Same Day",
          "Standard Class",
          "Standard Class",
          "Standard Class",
          "First Class",
          "Standard Class",
          "Standard Class",
          "Standard Class",
          "Second Class",
          "First Class",
          "Standard Class",
          "Standard Class",
          "Second Class",
          "Standard Class",
          "Second Class",
          "Second Class",
          "Second Class",
          "Second Class",
          "Second Class",
          "Standard Class",
          "Second Class",
          "Standard Class",
          "Standard Class",
          "Same Day",
          "Standard Class",
          "Standard Class",
          "Standard Class",
          "First Class",
          "Standard Class",
          "Standard Class",
          "Standard Class",
          "First Class",
          "Standard Class",
          "Standard Class",
          "First Class",
          "Standard Class",
          "Second Class",
          "Second Class",
          "Same Day",
          "Standard Class",
          "First Class",
          "Same Day",
          "Standard Class",
          "Standard Class",
          "Standard Class",
          "Standard Class",
          "First Class",
          "Standard Class",
          "First Class",
          "Standard Class",
          "Second Class",
          "Standard Class",
          "Standard Class",
          "Standard Class",
          "Standard Class",
          "Standard Class",
          "First Class",
          "First Class",
          "First Class",
          "First Class",
          "First Class",
          "Standard Class",
          "Standard Class",
          "Standard Class",
          "First Class",
          "Second Class",
          "Standard Class",
          "Second Class",
          "First Class",
          "First Class",
          "Second Class",
          "Standard Class",
          "Same Day",
          "First Class",
          "First Class",
          "Standard Class",
          "Second Class",
          "Second Class",
          "First Class",
          "First Class",
          "Standard Class",
          "Second Class",
          "Standard Class",
          "Standard Class",
          "Standard Class",
          "Standard Class",
          "Second Class",
          "Standard Class",
          "Second Class",
          "Second Class",
          "Second Class",
          "Second Class",
          "Second Class",
          "Same Day",
          "Standard Class",
          "Standard Class",
          "Standard Class",
          "Second Class",
          "First Class",
          "Standard Class",
          "Second Class",
          "First Class",
          "Second Class",
          "Standard Class",
          "Standard Class",
          "Standard Class",
          "Second Class",
          "First Class",
          "Same Day",
          "Same Day",
          "Second Class",
          "Second Class",
          "First Class",
          "Second Class",
          "Standard Class",
          "Standard Class",
          "Standard Class",
          "Second Class",
          "First Class",
          "First Class",
          "First Class",
          "Standard Class",
          "Standard Class",
          "Second Class",
          "Standard Class",
          "Standard Class",
          "Standard Class",
          "Standard Class",
          "Standard Class",
          "Standard Class",
          "Standard Class",
          "Standard Class",
          "Standard Class",
          "Standard Class",
          "Standard Class",
          "Standard Class",
          "Standard Class",
          "Standard Class",
          "Standard Class",
          "Standard Class",
          "Standard Class",
          "Standard Class",
          "Same Day",
          "Same Day",
          "Standard Class",
          "Standard Class",
          "Second Class",
          "Standard Class",
          "Standard Class",
          "Standard Class",
          "Second Class",
          "Same Day",
          "Standard Class",
          "Standard Class",
          "Standard Class",
          "Second Class",
          "Standard Class",
          "Second Class",
          "Standard Class",
          "Standard Class",
          "Standard Class",
          "Second Class",
          "First Class",
          "Standard Class",
          "First Class",
          "Second Class",
          "Standard Class",
          "Standard Class",
          "Standard Class",
          "Standard Class",
          "Standard Class",
          "First Class",
          "Standard Class",
          "Second Class",
          "Second Class",
          "Standard Class",
          "Standard Class",
          "Standard Class",
          "Standard Class",
          "Standard Class",
          "First Class",
          "First Class",
          "First Class",
          "First Class",
          "First Class",
          "Second Class",
          "Standard Class",
          "Same Day",
          "Standard Class",
          "Second Class",
          "Standard Class",
          "Second Class",
          "Second Class",
          "First Class",
          "Second Class",
          "Second Class",
          "Second Class",
          "Standard Class"
         ],
         "xaxis": "x",
         "y": [
          1,
          1,
          1,
          1,
          1,
          1,
          1,
          1,
          1,
          1,
          1,
          1,
          1,
          1,
          1,
          1,
          1,
          1,
          1,
          1,
          1,
          1,
          1,
          1,
          1,
          1,
          1,
          1,
          1,
          1,
          1,
          1,
          1,
          1,
          1,
          1,
          1,
          1,
          1,
          1,
          1,
          1,
          1,
          1,
          1,
          1,
          1,
          1,
          1,
          1,
          1,
          1,
          1,
          1,
          1,
          1,
          1,
          1,
          1,
          1,
          1,
          1,
          1,
          1,
          1,
          1,
          1,
          1,
          1,
          1,
          1,
          1,
          1,
          1,
          1,
          1,
          1,
          1,
          1,
          1,
          1,
          1,
          1,
          1,
          1,
          1,
          1,
          1,
          1,
          1,
          1,
          1,
          1,
          1,
          1,
          1,
          1,
          1,
          1,
          1,
          1,
          1,
          1,
          1,
          1,
          1,
          1,
          1,
          1,
          1,
          1,
          1,
          1,
          1,
          1,
          1,
          1,
          1,
          1,
          1,
          1,
          1,
          1,
          1,
          1,
          1,
          1,
          1,
          1,
          1,
          1,
          1,
          1,
          1,
          1,
          1,
          1,
          1,
          1,
          1,
          1,
          1,
          1,
          1,
          1,
          1,
          1,
          1,
          1,
          1,
          1,
          1,
          1,
          1,
          1,
          1,
          1,
          1,
          1,
          1,
          1,
          1,
          1,
          1,
          1,
          1,
          1,
          1,
          1,
          1,
          1,
          1,
          1,
          1,
          1,
          1,
          1,
          1,
          1,
          1,
          1,
          1,
          1,
          1,
          1,
          1,
          1,
          1,
          1,
          1,
          1,
          1,
          1,
          1,
          1,
          1,
          1,
          1,
          1,
          1,
          1,
          1,
          1,
          1,
          1,
          1,
          1,
          1,
          1,
          1,
          1,
          1,
          1,
          1,
          1,
          1,
          1,
          1,
          1,
          1,
          1,
          1,
          1,
          1,
          1,
          1,
          1,
          1,
          1,
          1,
          1,
          1,
          1,
          1,
          1,
          1,
          1,
          1,
          1,
          1,
          1,
          1,
          1,
          1,
          1,
          1,
          1,
          1,
          1,
          1,
          1,
          1,
          1,
          1,
          1,
          1,
          1,
          1,
          1,
          1,
          1,
          1,
          1,
          1,
          1,
          1,
          1,
          1,
          1,
          1,
          1,
          1,
          1,
          1,
          1,
          1,
          1,
          1,
          1,
          1,
          1,
          1,
          1,
          1,
          1,
          1,
          1,
          1,
          1,
          1,
          1,
          1,
          1,
          1,
          1,
          1,
          1,
          1,
          1,
          1,
          1,
          1,
          1,
          1,
          1,
          1,
          1,
          1,
          1,
          1,
          1,
          1,
          1,
          1,
          1,
          1,
          1,
          1,
          1,
          1,
          1,
          1,
          1,
          1,
          1,
          1,
          1,
          1,
          1,
          1,
          1,
          1,
          1,
          1,
          1,
          1,
          1,
          1,
          1,
          1,
          1,
          1,
          1,
          1,
          1,
          1,
          1,
          1,
          1,
          1,
          1,
          1,
          1,
          1,
          1,
          1,
          1,
          1,
          1,
          1,
          1,
          1,
          1,
          1,
          1,
          1,
          1,
          1,
          1,
          1,
          1,
          1,
          1,
          1,
          1,
          1,
          1,
          1,
          1,
          1,
          1,
          1,
          1,
          1,
          1,
          1,
          1,
          1,
          1,
          1,
          1,
          1,
          1,
          1,
          1,
          1,
          1,
          1,
          1,
          1,
          1,
          1,
          1,
          1,
          1,
          1,
          1,
          1,
          1,
          1,
          1,
          1,
          1,
          1,
          1,
          1,
          1,
          1,
          1,
          1,
          1,
          1,
          1,
          1,
          1,
          1,
          1,
          1,
          1,
          1,
          1,
          1,
          1,
          1,
          1,
          1,
          1,
          1,
          1,
          1,
          1,
          1,
          1,
          1,
          1,
          1,
          1,
          1,
          1,
          1,
          1,
          1,
          1,
          1,
          1,
          1,
          1,
          1,
          1,
          1,
          1,
          1,
          1,
          1,
          1,
          1,
          1,
          1,
          1,
          1,
          1,
          1,
          1,
          1,
          1,
          1,
          1,
          1,
          1,
          1,
          1,
          1,
          1,
          1,
          1,
          1,
          1,
          1,
          1,
          1,
          1,
          1,
          1,
          1,
          1,
          1,
          1,
          1,
          1,
          1,
          1,
          1,
          1,
          1,
          1,
          1,
          1,
          1,
          1,
          1,
          1,
          1,
          1,
          1,
          1,
          1,
          1,
          1,
          1,
          1,
          1,
          1,
          1,
          1,
          1,
          1,
          1,
          1,
          1,
          1,
          1,
          1,
          1,
          1,
          1,
          1,
          1,
          1,
          1,
          1,
          1,
          1,
          1,
          1,
          1,
          1,
          1,
          1,
          1,
          1,
          1,
          1,
          1,
          1,
          1,
          1,
          1,
          1,
          1,
          1,
          1,
          1,
          1,
          1,
          1,
          1,
          1,
          1,
          1,
          1,
          1,
          1,
          1,
          1,
          1,
          1,
          1,
          1,
          1,
          1,
          1,
          1,
          1,
          1,
          1,
          1,
          1,
          1,
          1,
          1,
          1,
          1,
          1,
          1,
          1,
          1,
          1,
          1,
          1,
          1,
          1,
          1,
          1,
          1,
          1,
          1,
          1,
          1,
          1,
          1,
          1,
          1,
          1,
          1,
          1,
          1,
          1,
          1,
          1,
          1,
          1,
          1,
          1,
          1,
          1,
          1,
          1,
          1,
          1,
          1,
          1,
          1,
          1,
          1,
          1,
          1,
          1,
          1,
          1,
          1,
          1,
          1,
          1,
          1,
          1,
          1,
          1,
          1,
          1,
          1,
          1,
          1,
          1,
          1,
          1,
          1,
          1,
          1,
          1,
          1,
          1,
          1,
          1,
          1,
          1,
          1,
          1,
          1,
          1,
          1,
          1,
          1,
          1,
          1,
          1,
          1,
          1,
          1,
          1,
          1,
          1,
          1,
          1,
          1,
          1,
          1,
          1,
          1,
          1,
          1,
          1,
          1,
          1,
          1,
          1,
          1,
          1,
          1,
          1,
          1,
          1,
          1,
          1,
          1,
          1,
          1,
          1,
          1,
          1,
          1,
          1,
          1,
          1,
          1,
          1,
          1,
          1,
          1,
          1,
          1,
          1,
          1,
          1,
          1,
          1,
          1,
          1,
          1,
          1,
          1,
          1,
          1,
          1,
          1,
          1,
          1,
          1,
          1,
          1,
          1,
          1,
          1,
          1,
          1,
          1,
          1,
          1,
          1,
          1,
          1,
          1,
          1,
          1,
          1,
          1,
          1,
          1,
          1,
          1,
          1,
          1,
          1,
          1,
          1,
          1,
          1,
          1,
          1,
          1,
          1,
          1,
          1,
          1,
          1,
          1,
          1,
          1,
          1,
          1,
          1,
          1,
          1,
          1,
          1,
          1,
          1,
          1,
          1,
          1,
          1,
          1,
          1,
          1,
          1,
          1,
          1,
          1,
          1,
          1,
          1,
          1,
          1,
          1,
          1,
          1,
          1,
          1,
          1,
          1,
          1,
          1,
          1,
          1,
          1,
          1,
          1,
          1,
          1,
          1,
          1,
          1,
          1,
          1,
          1,
          1,
          1,
          1,
          1,
          1,
          1,
          1,
          1,
          1,
          1,
          1,
          1,
          1,
          1,
          1,
          1,
          1,
          1,
          1,
          1,
          1,
          1,
          1,
          1,
          1,
          1,
          1,
          1,
          1,
          1,
          1,
          1,
          1,
          1,
          1,
          1,
          1,
          1,
          1,
          1,
          1,
          1,
          1,
          1,
          1,
          1,
          1,
          1,
          1,
          1,
          1,
          1,
          1,
          1,
          1,
          1,
          1,
          1,
          1,
          1,
          1,
          1,
          1,
          1,
          1,
          1,
          1,
          1,
          1,
          1,
          1,
          1,
          1,
          1,
          1,
          1,
          1,
          1,
          1,
          1,
          1,
          1,
          1,
          1,
          1,
          1,
          1,
          1,
          1,
          1,
          1,
          1,
          1,
          1,
          1,
          1,
          1,
          1,
          1,
          1,
          1,
          1,
          1,
          1,
          1,
          1,
          1,
          1,
          1,
          1,
          1,
          1,
          1,
          1,
          1,
          1,
          1,
          1,
          1,
          1,
          1,
          1,
          1,
          1,
          1,
          1,
          1,
          1,
          1,
          1,
          1,
          1,
          1,
          1,
          1,
          1,
          1,
          1,
          1,
          1,
          1,
          1,
          1,
          1,
          1,
          1,
          1,
          1,
          1,
          1,
          1,
          1,
          1,
          1,
          1,
          1,
          1,
          1,
          1,
          1,
          1,
          1,
          1,
          1,
          1,
          1,
          1,
          1,
          1,
          1,
          1,
          1,
          1,
          1,
          1,
          1,
          1,
          1,
          1,
          1,
          1,
          1,
          1,
          1,
          1,
          1,
          1,
          1,
          1,
          1,
          1,
          1,
          1,
          1,
          1,
          1,
          1,
          1,
          1,
          1,
          1,
          1,
          1,
          1,
          1,
          1,
          1,
          1,
          1,
          1,
          1,
          1,
          1,
          1,
          1,
          1,
          1,
          1,
          1,
          1,
          1,
          1,
          1,
          1,
          1,
          1,
          1,
          1,
          1,
          1,
          1,
          1,
          1,
          1,
          1,
          1,
          1,
          1,
          1,
          1,
          1,
          1,
          1,
          1,
          1,
          1,
          1,
          1,
          1,
          1,
          1,
          1,
          1,
          1,
          1,
          1,
          1,
          1,
          1,
          1,
          1,
          1,
          1,
          1,
          1,
          1,
          1,
          1,
          1,
          1,
          1,
          1,
          1,
          1,
          1,
          1,
          1,
          1,
          1,
          1,
          1,
          1,
          1,
          1,
          1,
          1,
          1,
          1,
          1,
          1,
          1,
          1,
          1,
          1,
          1,
          1,
          1,
          1,
          1,
          1,
          1,
          1,
          1,
          1,
          1,
          1,
          1,
          1,
          1,
          1,
          1,
          1,
          1,
          1,
          1,
          1,
          1,
          1,
          1,
          1,
          1,
          1,
          1,
          1,
          1,
          1,
          1,
          1,
          1,
          1,
          1,
          1,
          1,
          1,
          1,
          1,
          1,
          1,
          1,
          1,
          1,
          1,
          1,
          1,
          1,
          1,
          1,
          1,
          1,
          1,
          1,
          1,
          1,
          1,
          1,
          1,
          1,
          1,
          1,
          1,
          1,
          1,
          1,
          1,
          1,
          1,
          1,
          1,
          1,
          1,
          1,
          1,
          1,
          1,
          1,
          1,
          1,
          1,
          1,
          1,
          1,
          1,
          1,
          1,
          1,
          1,
          1,
          1,
          1,
          1,
          1,
          1,
          1,
          1,
          1,
          1,
          1,
          1,
          1,
          1,
          1,
          1,
          1,
          1,
          1,
          1,
          1,
          1,
          1,
          1,
          1,
          1,
          1,
          1,
          1,
          1,
          1,
          1,
          1,
          1,
          1,
          1,
          1,
          1,
          1,
          1,
          1,
          1,
          1,
          1,
          1,
          1,
          1,
          1,
          1,
          1,
          1,
          1,
          1,
          1,
          1,
          1,
          1,
          1,
          1,
          1,
          1,
          1,
          1,
          1,
          1,
          1,
          1,
          1,
          1,
          1,
          1,
          1,
          1,
          1,
          1,
          1,
          1,
          1,
          1,
          1,
          1,
          1,
          1,
          1,
          1,
          1,
          1,
          1,
          1,
          1,
          1,
          1,
          1,
          1,
          1,
          1,
          1,
          1,
          1,
          1,
          1,
          1,
          1,
          1,
          1,
          1,
          1,
          1,
          1,
          1,
          1,
          1,
          1,
          1,
          1,
          1,
          1,
          1,
          1,
          1,
          1,
          1,
          1,
          1,
          1,
          1,
          1,
          1,
          1,
          1,
          1,
          1,
          1,
          1,
          1,
          1,
          1,
          1,
          1,
          1,
          1,
          1,
          1,
          1,
          1,
          1,
          1,
          1,
          1,
          1,
          1,
          1,
          1,
          1,
          1,
          1,
          1,
          1,
          1,
          1,
          1,
          1,
          1,
          1,
          1,
          1,
          1,
          1,
          1,
          1,
          1,
          1,
          1,
          1,
          1,
          1,
          1,
          1,
          1,
          1,
          1,
          1,
          1,
          1,
          1,
          1,
          1,
          1,
          1,
          1,
          1,
          1,
          1,
          1,
          1,
          1,
          1,
          1,
          1,
          1,
          1,
          1,
          1,
          1,
          1,
          1,
          1,
          1,
          1,
          1,
          1,
          1,
          1,
          1,
          1,
          1,
          1,
          1,
          1,
          1,
          1,
          1,
          1,
          1,
          1,
          1,
          1,
          1,
          1,
          1,
          1,
          1,
          1,
          1,
          1,
          1,
          1,
          1,
          1,
          1,
          1,
          1,
          1,
          1,
          1,
          1,
          1,
          1,
          1,
          1,
          1,
          1,
          1,
          1,
          1,
          1,
          1,
          1,
          1,
          1,
          1,
          1,
          1,
          1,
          1,
          1,
          1,
          1,
          1,
          1,
          1,
          1,
          1,
          1,
          1,
          1,
          1,
          1,
          1,
          1,
          1,
          1,
          1,
          1,
          1,
          1,
          1,
          1,
          1,
          1,
          1,
          1,
          1,
          1,
          1,
          1,
          1,
          1,
          1,
          1,
          1,
          1,
          1,
          1,
          1,
          1,
          1,
          1,
          1,
          1,
          1,
          1,
          1,
          1,
          1,
          1,
          1,
          1,
          1,
          1,
          1,
          1,
          1,
          1,
          1,
          1,
          1,
          1,
          1,
          1,
          1,
          1,
          1,
          1,
          1,
          1,
          1,
          1,
          1,
          1,
          1,
          1,
          1,
          1,
          1,
          1,
          1,
          1,
          1,
          1,
          1,
          1,
          1,
          1,
          1,
          1,
          1,
          1,
          1,
          1,
          1,
          1,
          1,
          1,
          1,
          1,
          1,
          1,
          1,
          1,
          1,
          1,
          1,
          1,
          1,
          1,
          1,
          1,
          1,
          1,
          1,
          1,
          1,
          1,
          1,
          1,
          1,
          1,
          1,
          1,
          1,
          1,
          1,
          1,
          1,
          1,
          1,
          1,
          1,
          1,
          1,
          1,
          1,
          1,
          1,
          1,
          1,
          1,
          1,
          1,
          1,
          1,
          1,
          1,
          1,
          1,
          1,
          1,
          1,
          1,
          1,
          1,
          1,
          1,
          1,
          1,
          1,
          1,
          1,
          1,
          1,
          1,
          1,
          1,
          1,
          1,
          1,
          1,
          1,
          1,
          1,
          1,
          1,
          1,
          1,
          1,
          1,
          1,
          1,
          1,
          1,
          1,
          1,
          1,
          1,
          1,
          1,
          1,
          1,
          1,
          1,
          1,
          1,
          1,
          1,
          1,
          1,
          1,
          1,
          1,
          1,
          1,
          1,
          1,
          1,
          1,
          1,
          1,
          1,
          1,
          1,
          1,
          1,
          1,
          1,
          1,
          1,
          1,
          1,
          1,
          1,
          1,
          1,
          1,
          1,
          1,
          1,
          1,
          1,
          1,
          1,
          1,
          1,
          1,
          1,
          1,
          1,
          1,
          1,
          1,
          1,
          1,
          1,
          1,
          1,
          1,
          1,
          1,
          1,
          1,
          1,
          1,
          1,
          1,
          1,
          1,
          1,
          1,
          1,
          1,
          1,
          1,
          1,
          1,
          1,
          1,
          1,
          1,
          1,
          1,
          1,
          1,
          1,
          1,
          1,
          1,
          1,
          1,
          1,
          1,
          1,
          1,
          1,
          1,
          1,
          1,
          1,
          1,
          1,
          1,
          1,
          1,
          1,
          1,
          1,
          1,
          1,
          1,
          1,
          1,
          1,
          1,
          1,
          1,
          1,
          1,
          1,
          1,
          1,
          1,
          1,
          1,
          1,
          1,
          1,
          1,
          1,
          1,
          1,
          1,
          1,
          1,
          1,
          1,
          1,
          1,
          1,
          1,
          1,
          1,
          1,
          1,
          1,
          1,
          1,
          1,
          1,
          1,
          1,
          1,
          1,
          1,
          1,
          1,
          1,
          1,
          1,
          1,
          1,
          1,
          1,
          1,
          1,
          1,
          1,
          1,
          1,
          1,
          1,
          1,
          1,
          1,
          1,
          1,
          1,
          1,
          1,
          1,
          1,
          1,
          1,
          1,
          1,
          1,
          1,
          1,
          1,
          1,
          1,
          1,
          1,
          1,
          1,
          1,
          1,
          1,
          1,
          1,
          1,
          1,
          1,
          1,
          1,
          1,
          1,
          1,
          1,
          1,
          1,
          1,
          1,
          1,
          1,
          1,
          1,
          1,
          1,
          1,
          1,
          1,
          1,
          1,
          1,
          1,
          1,
          1,
          1,
          1,
          1,
          1,
          1,
          1,
          1,
          1,
          1,
          1,
          1,
          1,
          1,
          1,
          1,
          1,
          1,
          1,
          1,
          1,
          1,
          1,
          1,
          1,
          1,
          1,
          1,
          1,
          1,
          1,
          1,
          1,
          1,
          1,
          1,
          1,
          1,
          1,
          1,
          1,
          1,
          1,
          1,
          1,
          1,
          1,
          1,
          1,
          1,
          1,
          1,
          1,
          1,
          1,
          1,
          1,
          1,
          1,
          1,
          1,
          1,
          1,
          1,
          1,
          1,
          1,
          1,
          1,
          1,
          1,
          1,
          1,
          1,
          1,
          1,
          1,
          1,
          1,
          1,
          1,
          1,
          1,
          1,
          1,
          1,
          1,
          1,
          1,
          1,
          1,
          1,
          1,
          1,
          1,
          1,
          1,
          1,
          1,
          1,
          1,
          1,
          1,
          1,
          1,
          1,
          1,
          1,
          1,
          1,
          1,
          1,
          1,
          1,
          1,
          1,
          1,
          1,
          1,
          1
         ],
         "yaxis": "y"
        }
       ],
       "layout": {
        "barmode": "relative",
        "legend": {
         "tracegroupgap": 0
        },
        "template": {
         "data": {
          "bar": [
           {
            "error_x": {
             "color": "#2a3f5f"
            },
            "error_y": {
             "color": "#2a3f5f"
            },
            "marker": {
             "line": {
              "color": "#E5ECF6",
              "width": 0.5
             },
             "pattern": {
              "fillmode": "overlay",
              "size": 10,
              "solidity": 0.2
             }
            },
            "type": "bar"
           }
          ],
          "barpolar": [
           {
            "marker": {
             "line": {
              "color": "#E5ECF6",
              "width": 0.5
             },
             "pattern": {
              "fillmode": "overlay",
              "size": 10,
              "solidity": 0.2
             }
            },
            "type": "barpolar"
           }
          ],
          "carpet": [
           {
            "aaxis": {
             "endlinecolor": "#2a3f5f",
             "gridcolor": "white",
             "linecolor": "white",
             "minorgridcolor": "white",
             "startlinecolor": "#2a3f5f"
            },
            "baxis": {
             "endlinecolor": "#2a3f5f",
             "gridcolor": "white",
             "linecolor": "white",
             "minorgridcolor": "white",
             "startlinecolor": "#2a3f5f"
            },
            "type": "carpet"
           }
          ],
          "choropleth": [
           {
            "colorbar": {
             "outlinewidth": 0,
             "ticks": ""
            },
            "type": "choropleth"
           }
          ],
          "contour": [
           {
            "colorbar": {
             "outlinewidth": 0,
             "ticks": ""
            },
            "colorscale": [
             [
              0,
              "#0d0887"
             ],
             [
              0.1111111111111111,
              "#46039f"
             ],
             [
              0.2222222222222222,
              "#7201a8"
             ],
             [
              0.3333333333333333,
              "#9c179e"
             ],
             [
              0.4444444444444444,
              "#bd3786"
             ],
             [
              0.5555555555555556,
              "#d8576b"
             ],
             [
              0.6666666666666666,
              "#ed7953"
             ],
             [
              0.7777777777777778,
              "#fb9f3a"
             ],
             [
              0.8888888888888888,
              "#fdca26"
             ],
             [
              1,
              "#f0f921"
             ]
            ],
            "type": "contour"
           }
          ],
          "contourcarpet": [
           {
            "colorbar": {
             "outlinewidth": 0,
             "ticks": ""
            },
            "type": "contourcarpet"
           }
          ],
          "heatmap": [
           {
            "colorbar": {
             "outlinewidth": 0,
             "ticks": ""
            },
            "colorscale": [
             [
              0,
              "#0d0887"
             ],
             [
              0.1111111111111111,
              "#46039f"
             ],
             [
              0.2222222222222222,
              "#7201a8"
             ],
             [
              0.3333333333333333,
              "#9c179e"
             ],
             [
              0.4444444444444444,
              "#bd3786"
             ],
             [
              0.5555555555555556,
              "#d8576b"
             ],
             [
              0.6666666666666666,
              "#ed7953"
             ],
             [
              0.7777777777777778,
              "#fb9f3a"
             ],
             [
              0.8888888888888888,
              "#fdca26"
             ],
             [
              1,
              "#f0f921"
             ]
            ],
            "type": "heatmap"
           }
          ],
          "heatmapgl": [
           {
            "colorbar": {
             "outlinewidth": 0,
             "ticks": ""
            },
            "colorscale": [
             [
              0,
              "#0d0887"
             ],
             [
              0.1111111111111111,
              "#46039f"
             ],
             [
              0.2222222222222222,
              "#7201a8"
             ],
             [
              0.3333333333333333,
              "#9c179e"
             ],
             [
              0.4444444444444444,
              "#bd3786"
             ],
             [
              0.5555555555555556,
              "#d8576b"
             ],
             [
              0.6666666666666666,
              "#ed7953"
             ],
             [
              0.7777777777777778,
              "#fb9f3a"
             ],
             [
              0.8888888888888888,
              "#fdca26"
             ],
             [
              1,
              "#f0f921"
             ]
            ],
            "type": "heatmapgl"
           }
          ],
          "histogram": [
           {
            "marker": {
             "pattern": {
              "fillmode": "overlay",
              "size": 10,
              "solidity": 0.2
             }
            },
            "type": "histogram"
           }
          ],
          "histogram2d": [
           {
            "colorbar": {
             "outlinewidth": 0,
             "ticks": ""
            },
            "colorscale": [
             [
              0,
              "#0d0887"
             ],
             [
              0.1111111111111111,
              "#46039f"
             ],
             [
              0.2222222222222222,
              "#7201a8"
             ],
             [
              0.3333333333333333,
              "#9c179e"
             ],
             [
              0.4444444444444444,
              "#bd3786"
             ],
             [
              0.5555555555555556,
              "#d8576b"
             ],
             [
              0.6666666666666666,
              "#ed7953"
             ],
             [
              0.7777777777777778,
              "#fb9f3a"
             ],
             [
              0.8888888888888888,
              "#fdca26"
             ],
             [
              1,
              "#f0f921"
             ]
            ],
            "type": "histogram2d"
           }
          ],
          "histogram2dcontour": [
           {
            "colorbar": {
             "outlinewidth": 0,
             "ticks": ""
            },
            "colorscale": [
             [
              0,
              "#0d0887"
             ],
             [
              0.1111111111111111,
              "#46039f"
             ],
             [
              0.2222222222222222,
              "#7201a8"
             ],
             [
              0.3333333333333333,
              "#9c179e"
             ],
             [
              0.4444444444444444,
              "#bd3786"
             ],
             [
              0.5555555555555556,
              "#d8576b"
             ],
             [
              0.6666666666666666,
              "#ed7953"
             ],
             [
              0.7777777777777778,
              "#fb9f3a"
             ],
             [
              0.8888888888888888,
              "#fdca26"
             ],
             [
              1,
              "#f0f921"
             ]
            ],
            "type": "histogram2dcontour"
           }
          ],
          "mesh3d": [
           {
            "colorbar": {
             "outlinewidth": 0,
             "ticks": ""
            },
            "type": "mesh3d"
           }
          ],
          "parcoords": [
           {
            "line": {
             "colorbar": {
              "outlinewidth": 0,
              "ticks": ""
             }
            },
            "type": "parcoords"
           }
          ],
          "pie": [
           {
            "automargin": true,
            "type": "pie"
           }
          ],
          "scatter": [
           {
            "fillpattern": {
             "fillmode": "overlay",
             "size": 10,
             "solidity": 0.2
            },
            "type": "scatter"
           }
          ],
          "scatter3d": [
           {
            "line": {
             "colorbar": {
              "outlinewidth": 0,
              "ticks": ""
             }
            },
            "marker": {
             "colorbar": {
              "outlinewidth": 0,
              "ticks": ""
             }
            },
            "type": "scatter3d"
           }
          ],
          "scattercarpet": [
           {
            "marker": {
             "colorbar": {
              "outlinewidth": 0,
              "ticks": ""
             }
            },
            "type": "scattercarpet"
           }
          ],
          "scattergeo": [
           {
            "marker": {
             "colorbar": {
              "outlinewidth": 0,
              "ticks": ""
             }
            },
            "type": "scattergeo"
           }
          ],
          "scattergl": [
           {
            "marker": {
             "colorbar": {
              "outlinewidth": 0,
              "ticks": ""
             }
            },
            "type": "scattergl"
           }
          ],
          "scattermapbox": [
           {
            "marker": {
             "colorbar": {
              "outlinewidth": 0,
              "ticks": ""
             }
            },
            "type": "scattermapbox"
           }
          ],
          "scatterpolar": [
           {
            "marker": {
             "colorbar": {
              "outlinewidth": 0,
              "ticks": ""
             }
            },
            "type": "scatterpolar"
           }
          ],
          "scatterpolargl": [
           {
            "marker": {
             "colorbar": {
              "outlinewidth": 0,
              "ticks": ""
             }
            },
            "type": "scatterpolargl"
           }
          ],
          "scatterternary": [
           {
            "marker": {
             "colorbar": {
              "outlinewidth": 0,
              "ticks": ""
             }
            },
            "type": "scatterternary"
           }
          ],
          "surface": [
           {
            "colorbar": {
             "outlinewidth": 0,
             "ticks": ""
            },
            "colorscale": [
             [
              0,
              "#0d0887"
             ],
             [
              0.1111111111111111,
              "#46039f"
             ],
             [
              0.2222222222222222,
              "#7201a8"
             ],
             [
              0.3333333333333333,
              "#9c179e"
             ],
             [
              0.4444444444444444,
              "#bd3786"
             ],
             [
              0.5555555555555556,
              "#d8576b"
             ],
             [
              0.6666666666666666,
              "#ed7953"
             ],
             [
              0.7777777777777778,
              "#fb9f3a"
             ],
             [
              0.8888888888888888,
              "#fdca26"
             ],
             [
              1,
              "#f0f921"
             ]
            ],
            "type": "surface"
           }
          ],
          "table": [
           {
            "cells": {
             "fill": {
              "color": "#EBF0F8"
             },
             "line": {
              "color": "white"
             }
            },
            "header": {
             "fill": {
              "color": "#C8D4E3"
             },
             "line": {
              "color": "white"
             }
            },
            "type": "table"
           }
          ]
         },
         "layout": {
          "annotationdefaults": {
           "arrowcolor": "#2a3f5f",
           "arrowhead": 0,
           "arrowwidth": 1
          },
          "autotypenumbers": "strict",
          "coloraxis": {
           "colorbar": {
            "outlinewidth": 0,
            "ticks": ""
           }
          },
          "colorscale": {
           "diverging": [
            [
             0,
             "#8e0152"
            ],
            [
             0.1,
             "#c51b7d"
            ],
            [
             0.2,
             "#de77ae"
            ],
            [
             0.3,
             "#f1b6da"
            ],
            [
             0.4,
             "#fde0ef"
            ],
            [
             0.5,
             "#f7f7f7"
            ],
            [
             0.6,
             "#e6f5d0"
            ],
            [
             0.7,
             "#b8e186"
            ],
            [
             0.8,
             "#7fbc41"
            ],
            [
             0.9,
             "#4d9221"
            ],
            [
             1,
             "#276419"
            ]
           ],
           "sequential": [
            [
             0,
             "#0d0887"
            ],
            [
             0.1111111111111111,
             "#46039f"
            ],
            [
             0.2222222222222222,
             "#7201a8"
            ],
            [
             0.3333333333333333,
             "#9c179e"
            ],
            [
             0.4444444444444444,
             "#bd3786"
            ],
            [
             0.5555555555555556,
             "#d8576b"
            ],
            [
             0.6666666666666666,
             "#ed7953"
            ],
            [
             0.7777777777777778,
             "#fb9f3a"
            ],
            [
             0.8888888888888888,
             "#fdca26"
            ],
            [
             1,
             "#f0f921"
            ]
           ],
           "sequentialminus": [
            [
             0,
             "#0d0887"
            ],
            [
             0.1111111111111111,
             "#46039f"
            ],
            [
             0.2222222222222222,
             "#7201a8"
            ],
            [
             0.3333333333333333,
             "#9c179e"
            ],
            [
             0.4444444444444444,
             "#bd3786"
            ],
            [
             0.5555555555555556,
             "#d8576b"
            ],
            [
             0.6666666666666666,
             "#ed7953"
            ],
            [
             0.7777777777777778,
             "#fb9f3a"
            ],
            [
             0.8888888888888888,
             "#fdca26"
            ],
            [
             1,
             "#f0f921"
            ]
           ]
          },
          "colorway": [
           "#636efa",
           "#EF553B",
           "#00cc96",
           "#ab63fa",
           "#FFA15A",
           "#19d3f3",
           "#FF6692",
           "#B6E880",
           "#FF97FF",
           "#FECB52"
          ],
          "font": {
           "color": "#2a3f5f"
          },
          "geo": {
           "bgcolor": "white",
           "lakecolor": "white",
           "landcolor": "#E5ECF6",
           "showlakes": true,
           "showland": true,
           "subunitcolor": "white"
          },
          "hoverlabel": {
           "align": "left"
          },
          "hovermode": "closest",
          "mapbox": {
           "style": "light"
          },
          "paper_bgcolor": "white",
          "plot_bgcolor": "#E5ECF6",
          "polar": {
           "angularaxis": {
            "gridcolor": "white",
            "linecolor": "white",
            "ticks": ""
           },
           "bgcolor": "#E5ECF6",
           "radialaxis": {
            "gridcolor": "white",
            "linecolor": "white",
            "ticks": ""
           }
          },
          "scene": {
           "xaxis": {
            "backgroundcolor": "#E5ECF6",
            "gridcolor": "white",
            "gridwidth": 2,
            "linecolor": "white",
            "showbackground": true,
            "ticks": "",
            "zerolinecolor": "white"
           },
           "yaxis": {
            "backgroundcolor": "#E5ECF6",
            "gridcolor": "white",
            "gridwidth": 2,
            "linecolor": "white",
            "showbackground": true,
            "ticks": "",
            "zerolinecolor": "white"
           },
           "zaxis": {
            "backgroundcolor": "#E5ECF6",
            "gridcolor": "white",
            "gridwidth": 2,
            "linecolor": "white",
            "showbackground": true,
            "ticks": "",
            "zerolinecolor": "white"
           }
          },
          "shapedefaults": {
           "line": {
            "color": "#2a3f5f"
           }
          },
          "ternary": {
           "aaxis": {
            "gridcolor": "white",
            "linecolor": "white",
            "ticks": ""
           },
           "baxis": {
            "gridcolor": "white",
            "linecolor": "white",
            "ticks": ""
           },
           "bgcolor": "#E5ECF6",
           "caxis": {
            "gridcolor": "white",
            "linecolor": "white",
            "ticks": ""
           }
          },
          "title": {
           "x": 0.05
          },
          "xaxis": {
           "automargin": true,
           "gridcolor": "white",
           "linecolor": "white",
           "ticks": "",
           "title": {
            "standoff": 15
           },
           "zerolinecolor": "white",
           "zerolinewidth": 2
          },
          "yaxis": {
           "automargin": true,
           "gridcolor": "white",
           "linecolor": "white",
           "ticks": "",
           "title": {
            "standoff": 15
           },
           "zerolinecolor": "white",
           "zerolinewidth": 2
          }
         }
        },
        "title": {
         "text": "Distribution of Ship Modes"
        },
        "xaxis": {
         "anchor": "y",
         "domain": [
          0,
          1
         ],
         "title": {
          "text": "Ship Mode"
         }
        },
        "yaxis": {
         "anchor": "x",
         "domain": [
          0,
          1
         ],
         "title": {
          "text": "count"
         }
        }
       }
      }
     },
     "metadata": {},
     "output_type": "display_data"
    }
   ],
   "source": [
    "fig = px.bar(df, \n",
    "             x='Ship Mode', \n",
    "             title='Distribution of Ship Modes',\n",
    "             color_discrete_sequence=colors\n",
    "             )\n",
    "fig.show()"
   ]
  },
  {
   "cell_type": "markdown",
   "metadata": {},
   "source": [
    "Way2"
   ]
  },
  {
   "cell_type": "code",
   "execution_count": 12,
   "metadata": {},
   "outputs": [
    {
     "data": {
      "application/vnd.plotly.v1+json": {
       "config": {
        "plotlyServerURL": "https://plot.ly"
       },
       "data": [
        {
         "alignmentgroup": "True",
         "hovertemplate": "Ship Mode=%{x}<br>count=%{y}<extra></extra>",
         "legendgroup": "",
         "marker": {
          "color": "red",
          "pattern": {
           "shape": ""
          }
         },
         "name": "",
         "offsetgroup": "",
         "orientation": "v",
         "showlegend": false,
         "textposition": "auto",
         "type": "bar",
         "x": [
          "Standard Class",
          "Second Class",
          "First Class",
          "Same Day"
         ],
         "xaxis": "x",
         "y": [
          1181,
          410,
          314,
          110
         ],
         "yaxis": "y"
        }
       ],
       "layout": {
        "barmode": "relative",
        "legend": {
         "tracegroupgap": 0
        },
        "template": {
         "data": {
          "bar": [
           {
            "error_x": {
             "color": "#2a3f5f"
            },
            "error_y": {
             "color": "#2a3f5f"
            },
            "marker": {
             "line": {
              "color": "#E5ECF6",
              "width": 0.5
             },
             "pattern": {
              "fillmode": "overlay",
              "size": 10,
              "solidity": 0.2
             }
            },
            "type": "bar"
           }
          ],
          "barpolar": [
           {
            "marker": {
             "line": {
              "color": "#E5ECF6",
              "width": 0.5
             },
             "pattern": {
              "fillmode": "overlay",
              "size": 10,
              "solidity": 0.2
             }
            },
            "type": "barpolar"
           }
          ],
          "carpet": [
           {
            "aaxis": {
             "endlinecolor": "#2a3f5f",
             "gridcolor": "white",
             "linecolor": "white",
             "minorgridcolor": "white",
             "startlinecolor": "#2a3f5f"
            },
            "baxis": {
             "endlinecolor": "#2a3f5f",
             "gridcolor": "white",
             "linecolor": "white",
             "minorgridcolor": "white",
             "startlinecolor": "#2a3f5f"
            },
            "type": "carpet"
           }
          ],
          "choropleth": [
           {
            "colorbar": {
             "outlinewidth": 0,
             "ticks": ""
            },
            "type": "choropleth"
           }
          ],
          "contour": [
           {
            "colorbar": {
             "outlinewidth": 0,
             "ticks": ""
            },
            "colorscale": [
             [
              0,
              "#0d0887"
             ],
             [
              0.1111111111111111,
              "#46039f"
             ],
             [
              0.2222222222222222,
              "#7201a8"
             ],
             [
              0.3333333333333333,
              "#9c179e"
             ],
             [
              0.4444444444444444,
              "#bd3786"
             ],
             [
              0.5555555555555556,
              "#d8576b"
             ],
             [
              0.6666666666666666,
              "#ed7953"
             ],
             [
              0.7777777777777778,
              "#fb9f3a"
             ],
             [
              0.8888888888888888,
              "#fdca26"
             ],
             [
              1,
              "#f0f921"
             ]
            ],
            "type": "contour"
           }
          ],
          "contourcarpet": [
           {
            "colorbar": {
             "outlinewidth": 0,
             "ticks": ""
            },
            "type": "contourcarpet"
           }
          ],
          "heatmap": [
           {
            "colorbar": {
             "outlinewidth": 0,
             "ticks": ""
            },
            "colorscale": [
             [
              0,
              "#0d0887"
             ],
             [
              0.1111111111111111,
              "#46039f"
             ],
             [
              0.2222222222222222,
              "#7201a8"
             ],
             [
              0.3333333333333333,
              "#9c179e"
             ],
             [
              0.4444444444444444,
              "#bd3786"
             ],
             [
              0.5555555555555556,
              "#d8576b"
             ],
             [
              0.6666666666666666,
              "#ed7953"
             ],
             [
              0.7777777777777778,
              "#fb9f3a"
             ],
             [
              0.8888888888888888,
              "#fdca26"
             ],
             [
              1,
              "#f0f921"
             ]
            ],
            "type": "heatmap"
           }
          ],
          "heatmapgl": [
           {
            "colorbar": {
             "outlinewidth": 0,
             "ticks": ""
            },
            "colorscale": [
             [
              0,
              "#0d0887"
             ],
             [
              0.1111111111111111,
              "#46039f"
             ],
             [
              0.2222222222222222,
              "#7201a8"
             ],
             [
              0.3333333333333333,
              "#9c179e"
             ],
             [
              0.4444444444444444,
              "#bd3786"
             ],
             [
              0.5555555555555556,
              "#d8576b"
             ],
             [
              0.6666666666666666,
              "#ed7953"
             ],
             [
              0.7777777777777778,
              "#fb9f3a"
             ],
             [
              0.8888888888888888,
              "#fdca26"
             ],
             [
              1,
              "#f0f921"
             ]
            ],
            "type": "heatmapgl"
           }
          ],
          "histogram": [
           {
            "marker": {
             "pattern": {
              "fillmode": "overlay",
              "size": 10,
              "solidity": 0.2
             }
            },
            "type": "histogram"
           }
          ],
          "histogram2d": [
           {
            "colorbar": {
             "outlinewidth": 0,
             "ticks": ""
            },
            "colorscale": [
             [
              0,
              "#0d0887"
             ],
             [
              0.1111111111111111,
              "#46039f"
             ],
             [
              0.2222222222222222,
              "#7201a8"
             ],
             [
              0.3333333333333333,
              "#9c179e"
             ],
             [
              0.4444444444444444,
              "#bd3786"
             ],
             [
              0.5555555555555556,
              "#d8576b"
             ],
             [
              0.6666666666666666,
              "#ed7953"
             ],
             [
              0.7777777777777778,
              "#fb9f3a"
             ],
             [
              0.8888888888888888,
              "#fdca26"
             ],
             [
              1,
              "#f0f921"
             ]
            ],
            "type": "histogram2d"
           }
          ],
          "histogram2dcontour": [
           {
            "colorbar": {
             "outlinewidth": 0,
             "ticks": ""
            },
            "colorscale": [
             [
              0,
              "#0d0887"
             ],
             [
              0.1111111111111111,
              "#46039f"
             ],
             [
              0.2222222222222222,
              "#7201a8"
             ],
             [
              0.3333333333333333,
              "#9c179e"
             ],
             [
              0.4444444444444444,
              "#bd3786"
             ],
             [
              0.5555555555555556,
              "#d8576b"
             ],
             [
              0.6666666666666666,
              "#ed7953"
             ],
             [
              0.7777777777777778,
              "#fb9f3a"
             ],
             [
              0.8888888888888888,
              "#fdca26"
             ],
             [
              1,
              "#f0f921"
             ]
            ],
            "type": "histogram2dcontour"
           }
          ],
          "mesh3d": [
           {
            "colorbar": {
             "outlinewidth": 0,
             "ticks": ""
            },
            "type": "mesh3d"
           }
          ],
          "parcoords": [
           {
            "line": {
             "colorbar": {
              "outlinewidth": 0,
              "ticks": ""
             }
            },
            "type": "parcoords"
           }
          ],
          "pie": [
           {
            "automargin": true,
            "type": "pie"
           }
          ],
          "scatter": [
           {
            "fillpattern": {
             "fillmode": "overlay",
             "size": 10,
             "solidity": 0.2
            },
            "type": "scatter"
           }
          ],
          "scatter3d": [
           {
            "line": {
             "colorbar": {
              "outlinewidth": 0,
              "ticks": ""
             }
            },
            "marker": {
             "colorbar": {
              "outlinewidth": 0,
              "ticks": ""
             }
            },
            "type": "scatter3d"
           }
          ],
          "scattercarpet": [
           {
            "marker": {
             "colorbar": {
              "outlinewidth": 0,
              "ticks": ""
             }
            },
            "type": "scattercarpet"
           }
          ],
          "scattergeo": [
           {
            "marker": {
             "colorbar": {
              "outlinewidth": 0,
              "ticks": ""
             }
            },
            "type": "scattergeo"
           }
          ],
          "scattergl": [
           {
            "marker": {
             "colorbar": {
              "outlinewidth": 0,
              "ticks": ""
             }
            },
            "type": "scattergl"
           }
          ],
          "scattermapbox": [
           {
            "marker": {
             "colorbar": {
              "outlinewidth": 0,
              "ticks": ""
             }
            },
            "type": "scattermapbox"
           }
          ],
          "scatterpolar": [
           {
            "marker": {
             "colorbar": {
              "outlinewidth": 0,
              "ticks": ""
             }
            },
            "type": "scatterpolar"
           }
          ],
          "scatterpolargl": [
           {
            "marker": {
             "colorbar": {
              "outlinewidth": 0,
              "ticks": ""
             }
            },
            "type": "scatterpolargl"
           }
          ],
          "scatterternary": [
           {
            "marker": {
             "colorbar": {
              "outlinewidth": 0,
              "ticks": ""
             }
            },
            "type": "scatterternary"
           }
          ],
          "surface": [
           {
            "colorbar": {
             "outlinewidth": 0,
             "ticks": ""
            },
            "colorscale": [
             [
              0,
              "#0d0887"
             ],
             [
              0.1111111111111111,
              "#46039f"
             ],
             [
              0.2222222222222222,
              "#7201a8"
             ],
             [
              0.3333333333333333,
              "#9c179e"
             ],
             [
              0.4444444444444444,
              "#bd3786"
             ],
             [
              0.5555555555555556,
              "#d8576b"
             ],
             [
              0.6666666666666666,
              "#ed7953"
             ],
             [
              0.7777777777777778,
              "#fb9f3a"
             ],
             [
              0.8888888888888888,
              "#fdca26"
             ],
             [
              1,
              "#f0f921"
             ]
            ],
            "type": "surface"
           }
          ],
          "table": [
           {
            "cells": {
             "fill": {
              "color": "#EBF0F8"
             },
             "line": {
              "color": "white"
             }
            },
            "header": {
             "fill": {
              "color": "#C8D4E3"
             },
             "line": {
              "color": "white"
             }
            },
            "type": "table"
           }
          ]
         },
         "layout": {
          "annotationdefaults": {
           "arrowcolor": "#2a3f5f",
           "arrowhead": 0,
           "arrowwidth": 1
          },
          "autotypenumbers": "strict",
          "coloraxis": {
           "colorbar": {
            "outlinewidth": 0,
            "ticks": ""
           }
          },
          "colorscale": {
           "diverging": [
            [
             0,
             "#8e0152"
            ],
            [
             0.1,
             "#c51b7d"
            ],
            [
             0.2,
             "#de77ae"
            ],
            [
             0.3,
             "#f1b6da"
            ],
            [
             0.4,
             "#fde0ef"
            ],
            [
             0.5,
             "#f7f7f7"
            ],
            [
             0.6,
             "#e6f5d0"
            ],
            [
             0.7,
             "#b8e186"
            ],
            [
             0.8,
             "#7fbc41"
            ],
            [
             0.9,
             "#4d9221"
            ],
            [
             1,
             "#276419"
            ]
           ],
           "sequential": [
            [
             0,
             "#0d0887"
            ],
            [
             0.1111111111111111,
             "#46039f"
            ],
            [
             0.2222222222222222,
             "#7201a8"
            ],
            [
             0.3333333333333333,
             "#9c179e"
            ],
            [
             0.4444444444444444,
             "#bd3786"
            ],
            [
             0.5555555555555556,
             "#d8576b"
            ],
            [
             0.6666666666666666,
             "#ed7953"
            ],
            [
             0.7777777777777778,
             "#fb9f3a"
            ],
            [
             0.8888888888888888,
             "#fdca26"
            ],
            [
             1,
             "#f0f921"
            ]
           ],
           "sequentialminus": [
            [
             0,
             "#0d0887"
            ],
            [
             0.1111111111111111,
             "#46039f"
            ],
            [
             0.2222222222222222,
             "#7201a8"
            ],
            [
             0.3333333333333333,
             "#9c179e"
            ],
            [
             0.4444444444444444,
             "#bd3786"
            ],
            [
             0.5555555555555556,
             "#d8576b"
            ],
            [
             0.6666666666666666,
             "#ed7953"
            ],
            [
             0.7777777777777778,
             "#fb9f3a"
            ],
            [
             0.8888888888888888,
             "#fdca26"
            ],
            [
             1,
             "#f0f921"
            ]
           ]
          },
          "colorway": [
           "#636efa",
           "#EF553B",
           "#00cc96",
           "#ab63fa",
           "#FFA15A",
           "#19d3f3",
           "#FF6692",
           "#B6E880",
           "#FF97FF",
           "#FECB52"
          ],
          "font": {
           "color": "#2a3f5f"
          },
          "geo": {
           "bgcolor": "white",
           "lakecolor": "white",
           "landcolor": "#E5ECF6",
           "showlakes": true,
           "showland": true,
           "subunitcolor": "white"
          },
          "hoverlabel": {
           "align": "left"
          },
          "hovermode": "closest",
          "mapbox": {
           "style": "light"
          },
          "paper_bgcolor": "white",
          "plot_bgcolor": "#E5ECF6",
          "polar": {
           "angularaxis": {
            "gridcolor": "white",
            "linecolor": "white",
            "ticks": ""
           },
           "bgcolor": "#E5ECF6",
           "radialaxis": {
            "gridcolor": "white",
            "linecolor": "white",
            "ticks": ""
           }
          },
          "scene": {
           "xaxis": {
            "backgroundcolor": "#E5ECF6",
            "gridcolor": "white",
            "gridwidth": 2,
            "linecolor": "white",
            "showbackground": true,
            "ticks": "",
            "zerolinecolor": "white"
           },
           "yaxis": {
            "backgroundcolor": "#E5ECF6",
            "gridcolor": "white",
            "gridwidth": 2,
            "linecolor": "white",
            "showbackground": true,
            "ticks": "",
            "zerolinecolor": "white"
           },
           "zaxis": {
            "backgroundcolor": "#E5ECF6",
            "gridcolor": "white",
            "gridwidth": 2,
            "linecolor": "white",
            "showbackground": true,
            "ticks": "",
            "zerolinecolor": "white"
           }
          },
          "shapedefaults": {
           "line": {
            "color": "#2a3f5f"
           }
          },
          "ternary": {
           "aaxis": {
            "gridcolor": "white",
            "linecolor": "white",
            "ticks": ""
           },
           "baxis": {
            "gridcolor": "white",
            "linecolor": "white",
            "ticks": ""
           },
           "bgcolor": "#E5ECF6",
           "caxis": {
            "gridcolor": "white",
            "linecolor": "white",
            "ticks": ""
           }
          },
          "title": {
           "x": 0.05
          },
          "xaxis": {
           "automargin": true,
           "gridcolor": "white",
           "linecolor": "white",
           "ticks": "",
           "title": {
            "standoff": 15
           },
           "zerolinecolor": "white",
           "zerolinewidth": 2
          },
          "yaxis": {
           "automargin": true,
           "gridcolor": "white",
           "linecolor": "white",
           "ticks": "",
           "title": {
            "standoff": 15
           },
           "zerolinecolor": "white",
           "zerolinewidth": 2
          }
         }
        },
        "title": {
         "text": "Distribution of Ship Modes"
        },
        "xaxis": {
         "anchor": "y",
         "domain": [
          0,
          1
         ],
         "title": {
          "text": "Ship Mode"
         }
        },
        "yaxis": {
         "anchor": "x",
         "domain": [
          0,
          1
         ],
         "title": {
          "text": "count"
         }
        }
       }
      }
     },
     "metadata": {},
     "output_type": "display_data"
    }
   ],
   "source": [
    "df2 = pd.DataFrame(df['Ship Mode'].value_counts().sort_values(ascending=False).reset_index())\n",
    "\n",
    "fig = px.bar(df2, \n",
    "             x='Ship Mode', \n",
    "             y= 'count',\n",
    "             title='Distribution of Ship Modes',\n",
    "             color_discrete_sequence=colors\n",
    "             )\n",
    "fig.show()"
   ]
  },
  {
   "cell_type": "markdown",
   "metadata": {},
   "source": [
    "Identify the top 5 customers based on total sales. Create visualisations that compare these top customers in terms of sales, profit, and discount levels."
   ]
  },
  {
   "cell_type": "markdown",
   "metadata": {},
   "source": [
    "First to identify the top 5 Customers"
   ]
  },
  {
   "cell_type": "code",
   "execution_count": 13,
   "metadata": {},
   "outputs": [
    {
     "data": {
      "text/plain": [
       "0            Claire Gute\n",
       "1            Claire Gute\n",
       "2         Sean O'Donnell\n",
       "3        Brosina Hoffman\n",
       "4        Brosina Hoffman\n",
       "              ...       \n",
       "2116    Corinna Mitchell\n",
       "2117        Harold Engle\n",
       "2118         Shaun Weien\n",
       "2119    Tom Boeckenhauer\n",
       "2120         Dave Brooks\n",
       "Name: Customer Name, Length: 2015, dtype: object"
      ]
     },
     "execution_count": 13,
     "metadata": {},
     "output_type": "execute_result"
    }
   ],
   "source": [
    "df['Customer Name']"
   ]
  },
  {
   "cell_type": "code",
   "execution_count": 14,
   "metadata": {},
   "outputs": [
    {
     "data": {
      "application/vnd.plotly.v1+json": {
       "config": {
        "plotlyServerURL": "https://plot.ly"
       },
       "data": [
        {
         "alignmentgroup": "True",
         "hovertemplate": "Customer Name=%{x}<br>Sales=%{y}<extra></extra>",
         "legendgroup": "",
         "marker": {
          "color": "#636efa",
          "pattern": {
           "shape": ""
          }
         },
         "name": "",
         "offsetgroup": "",
         "orientation": "v",
         "showlegend": false,
         "textposition": "auto",
         "type": "bar",
         "x": [
          "Peter Fuller",
          "Greg Tran",
          "Seth Vernon",
          "Caroline Jumper",
          "Joe Elijah",
          "Seth Vernon",
          "Peter Fuller",
          "Joe Elijah",
          "Greg Tran",
          "Caroline Jumper",
          "Greg Tran",
          "Seth Vernon",
          "Joe Elijah",
          "Joe Elijah",
          "Caroline Jumper",
          "Joe Elijah",
          "Caroline Jumper",
          "Seth Vernon",
          "Peter Fuller",
          "Seth Vernon",
          "Caroline Jumper",
          "Peter Fuller",
          "Seth Vernon",
          "Seth Vernon",
          "Caroline Jumper",
          "Seth Vernon",
          "Seth Vernon",
          "Seth Vernon",
          "Caroline Jumper",
          "Greg Tran",
          "Peter Fuller",
          "Seth Vernon",
          "Caroline Jumper",
          "Seth Vernon",
          "Seth Vernon"
         ],
         "xaxis": "x",
         "y": [
          4228.704,
          4007.84,
          2888.127,
          2803.92,
          2563.056,
          2254.41,
          2003.92,
          1747.25,
          1267.53,
          1023.332,
          899.43,
          744.1,
          698.352,
          662.88,
          600.558,
          472.518,
          442.764,
          401.59,
          364.704,
          272.646,
          211.246,
          199.764,
          198.744,
          181.986,
          176.784,
          145.74,
          130.98,
          80.991,
          63.68,
          44.46,
          40.256,
          15.4,
          11.648,
          9.94,
          5.352
         ],
         "yaxis": "y"
        }
       ],
       "layout": {
        "barmode": "relative",
        "legend": {
         "tracegroupgap": 0
        },
        "template": {
         "data": {
          "bar": [
           {
            "error_x": {
             "color": "#2a3f5f"
            },
            "error_y": {
             "color": "#2a3f5f"
            },
            "marker": {
             "line": {
              "color": "#E5ECF6",
              "width": 0.5
             },
             "pattern": {
              "fillmode": "overlay",
              "size": 10,
              "solidity": 0.2
             }
            },
            "type": "bar"
           }
          ],
          "barpolar": [
           {
            "marker": {
             "line": {
              "color": "#E5ECF6",
              "width": 0.5
             },
             "pattern": {
              "fillmode": "overlay",
              "size": 10,
              "solidity": 0.2
             }
            },
            "type": "barpolar"
           }
          ],
          "carpet": [
           {
            "aaxis": {
             "endlinecolor": "#2a3f5f",
             "gridcolor": "white",
             "linecolor": "white",
             "minorgridcolor": "white",
             "startlinecolor": "#2a3f5f"
            },
            "baxis": {
             "endlinecolor": "#2a3f5f",
             "gridcolor": "white",
             "linecolor": "white",
             "minorgridcolor": "white",
             "startlinecolor": "#2a3f5f"
            },
            "type": "carpet"
           }
          ],
          "choropleth": [
           {
            "colorbar": {
             "outlinewidth": 0,
             "ticks": ""
            },
            "type": "choropleth"
           }
          ],
          "contour": [
           {
            "colorbar": {
             "outlinewidth": 0,
             "ticks": ""
            },
            "colorscale": [
             [
              0,
              "#0d0887"
             ],
             [
              0.1111111111111111,
              "#46039f"
             ],
             [
              0.2222222222222222,
              "#7201a8"
             ],
             [
              0.3333333333333333,
              "#9c179e"
             ],
             [
              0.4444444444444444,
              "#bd3786"
             ],
             [
              0.5555555555555556,
              "#d8576b"
             ],
             [
              0.6666666666666666,
              "#ed7953"
             ],
             [
              0.7777777777777778,
              "#fb9f3a"
             ],
             [
              0.8888888888888888,
              "#fdca26"
             ],
             [
              1,
              "#f0f921"
             ]
            ],
            "type": "contour"
           }
          ],
          "contourcarpet": [
           {
            "colorbar": {
             "outlinewidth": 0,
             "ticks": ""
            },
            "type": "contourcarpet"
           }
          ],
          "heatmap": [
           {
            "colorbar": {
             "outlinewidth": 0,
             "ticks": ""
            },
            "colorscale": [
             [
              0,
              "#0d0887"
             ],
             [
              0.1111111111111111,
              "#46039f"
             ],
             [
              0.2222222222222222,
              "#7201a8"
             ],
             [
              0.3333333333333333,
              "#9c179e"
             ],
             [
              0.4444444444444444,
              "#bd3786"
             ],
             [
              0.5555555555555556,
              "#d8576b"
             ],
             [
              0.6666666666666666,
              "#ed7953"
             ],
             [
              0.7777777777777778,
              "#fb9f3a"
             ],
             [
              0.8888888888888888,
              "#fdca26"
             ],
             [
              1,
              "#f0f921"
             ]
            ],
            "type": "heatmap"
           }
          ],
          "heatmapgl": [
           {
            "colorbar": {
             "outlinewidth": 0,
             "ticks": ""
            },
            "colorscale": [
             [
              0,
              "#0d0887"
             ],
             [
              0.1111111111111111,
              "#46039f"
             ],
             [
              0.2222222222222222,
              "#7201a8"
             ],
             [
              0.3333333333333333,
              "#9c179e"
             ],
             [
              0.4444444444444444,
              "#bd3786"
             ],
             [
              0.5555555555555556,
              "#d8576b"
             ],
             [
              0.6666666666666666,
              "#ed7953"
             ],
             [
              0.7777777777777778,
              "#fb9f3a"
             ],
             [
              0.8888888888888888,
              "#fdca26"
             ],
             [
              1,
              "#f0f921"
             ]
            ],
            "type": "heatmapgl"
           }
          ],
          "histogram": [
           {
            "marker": {
             "pattern": {
              "fillmode": "overlay",
              "size": 10,
              "solidity": 0.2
             }
            },
            "type": "histogram"
           }
          ],
          "histogram2d": [
           {
            "colorbar": {
             "outlinewidth": 0,
             "ticks": ""
            },
            "colorscale": [
             [
              0,
              "#0d0887"
             ],
             [
              0.1111111111111111,
              "#46039f"
             ],
             [
              0.2222222222222222,
              "#7201a8"
             ],
             [
              0.3333333333333333,
              "#9c179e"
             ],
             [
              0.4444444444444444,
              "#bd3786"
             ],
             [
              0.5555555555555556,
              "#d8576b"
             ],
             [
              0.6666666666666666,
              "#ed7953"
             ],
             [
              0.7777777777777778,
              "#fb9f3a"
             ],
             [
              0.8888888888888888,
              "#fdca26"
             ],
             [
              1,
              "#f0f921"
             ]
            ],
            "type": "histogram2d"
           }
          ],
          "histogram2dcontour": [
           {
            "colorbar": {
             "outlinewidth": 0,
             "ticks": ""
            },
            "colorscale": [
             [
              0,
              "#0d0887"
             ],
             [
              0.1111111111111111,
              "#46039f"
             ],
             [
              0.2222222222222222,
              "#7201a8"
             ],
             [
              0.3333333333333333,
              "#9c179e"
             ],
             [
              0.4444444444444444,
              "#bd3786"
             ],
             [
              0.5555555555555556,
              "#d8576b"
             ],
             [
              0.6666666666666666,
              "#ed7953"
             ],
             [
              0.7777777777777778,
              "#fb9f3a"
             ],
             [
              0.8888888888888888,
              "#fdca26"
             ],
             [
              1,
              "#f0f921"
             ]
            ],
            "type": "histogram2dcontour"
           }
          ],
          "mesh3d": [
           {
            "colorbar": {
             "outlinewidth": 0,
             "ticks": ""
            },
            "type": "mesh3d"
           }
          ],
          "parcoords": [
           {
            "line": {
             "colorbar": {
              "outlinewidth": 0,
              "ticks": ""
             }
            },
            "type": "parcoords"
           }
          ],
          "pie": [
           {
            "automargin": true,
            "type": "pie"
           }
          ],
          "scatter": [
           {
            "fillpattern": {
             "fillmode": "overlay",
             "size": 10,
             "solidity": 0.2
            },
            "type": "scatter"
           }
          ],
          "scatter3d": [
           {
            "line": {
             "colorbar": {
              "outlinewidth": 0,
              "ticks": ""
             }
            },
            "marker": {
             "colorbar": {
              "outlinewidth": 0,
              "ticks": ""
             }
            },
            "type": "scatter3d"
           }
          ],
          "scattercarpet": [
           {
            "marker": {
             "colorbar": {
              "outlinewidth": 0,
              "ticks": ""
             }
            },
            "type": "scattercarpet"
           }
          ],
          "scattergeo": [
           {
            "marker": {
             "colorbar": {
              "outlinewidth": 0,
              "ticks": ""
             }
            },
            "type": "scattergeo"
           }
          ],
          "scattergl": [
           {
            "marker": {
             "colorbar": {
              "outlinewidth": 0,
              "ticks": ""
             }
            },
            "type": "scattergl"
           }
          ],
          "scattermapbox": [
           {
            "marker": {
             "colorbar": {
              "outlinewidth": 0,
              "ticks": ""
             }
            },
            "type": "scattermapbox"
           }
          ],
          "scatterpolar": [
           {
            "marker": {
             "colorbar": {
              "outlinewidth": 0,
              "ticks": ""
             }
            },
            "type": "scatterpolar"
           }
          ],
          "scatterpolargl": [
           {
            "marker": {
             "colorbar": {
              "outlinewidth": 0,
              "ticks": ""
             }
            },
            "type": "scatterpolargl"
           }
          ],
          "scatterternary": [
           {
            "marker": {
             "colorbar": {
              "outlinewidth": 0,
              "ticks": ""
             }
            },
            "type": "scatterternary"
           }
          ],
          "surface": [
           {
            "colorbar": {
             "outlinewidth": 0,
             "ticks": ""
            },
            "colorscale": [
             [
              0,
              "#0d0887"
             ],
             [
              0.1111111111111111,
              "#46039f"
             ],
             [
              0.2222222222222222,
              "#7201a8"
             ],
             [
              0.3333333333333333,
              "#9c179e"
             ],
             [
              0.4444444444444444,
              "#bd3786"
             ],
             [
              0.5555555555555556,
              "#d8576b"
             ],
             [
              0.6666666666666666,
              "#ed7953"
             ],
             [
              0.7777777777777778,
              "#fb9f3a"
             ],
             [
              0.8888888888888888,
              "#fdca26"
             ],
             [
              1,
              "#f0f921"
             ]
            ],
            "type": "surface"
           }
          ],
          "table": [
           {
            "cells": {
             "fill": {
              "color": "#EBF0F8"
             },
             "line": {
              "color": "white"
             }
            },
            "header": {
             "fill": {
              "color": "#C8D4E3"
             },
             "line": {
              "color": "white"
             }
            },
            "type": "table"
           }
          ]
         },
         "layout": {
          "annotationdefaults": {
           "arrowcolor": "#2a3f5f",
           "arrowhead": 0,
           "arrowwidth": 1
          },
          "autotypenumbers": "strict",
          "coloraxis": {
           "colorbar": {
            "outlinewidth": 0,
            "ticks": ""
           }
          },
          "colorscale": {
           "diverging": [
            [
             0,
             "#8e0152"
            ],
            [
             0.1,
             "#c51b7d"
            ],
            [
             0.2,
             "#de77ae"
            ],
            [
             0.3,
             "#f1b6da"
            ],
            [
             0.4,
             "#fde0ef"
            ],
            [
             0.5,
             "#f7f7f7"
            ],
            [
             0.6,
             "#e6f5d0"
            ],
            [
             0.7,
             "#b8e186"
            ],
            [
             0.8,
             "#7fbc41"
            ],
            [
             0.9,
             "#4d9221"
            ],
            [
             1,
             "#276419"
            ]
           ],
           "sequential": [
            [
             0,
             "#0d0887"
            ],
            [
             0.1111111111111111,
             "#46039f"
            ],
            [
             0.2222222222222222,
             "#7201a8"
            ],
            [
             0.3333333333333333,
             "#9c179e"
            ],
            [
             0.4444444444444444,
             "#bd3786"
            ],
            [
             0.5555555555555556,
             "#d8576b"
            ],
            [
             0.6666666666666666,
             "#ed7953"
            ],
            [
             0.7777777777777778,
             "#fb9f3a"
            ],
            [
             0.8888888888888888,
             "#fdca26"
            ],
            [
             1,
             "#f0f921"
            ]
           ],
           "sequentialminus": [
            [
             0,
             "#0d0887"
            ],
            [
             0.1111111111111111,
             "#46039f"
            ],
            [
             0.2222222222222222,
             "#7201a8"
            ],
            [
             0.3333333333333333,
             "#9c179e"
            ],
            [
             0.4444444444444444,
             "#bd3786"
            ],
            [
             0.5555555555555556,
             "#d8576b"
            ],
            [
             0.6666666666666666,
             "#ed7953"
            ],
            [
             0.7777777777777778,
             "#fb9f3a"
            ],
            [
             0.8888888888888888,
             "#fdca26"
            ],
            [
             1,
             "#f0f921"
            ]
           ]
          },
          "colorway": [
           "#636efa",
           "#EF553B",
           "#00cc96",
           "#ab63fa",
           "#FFA15A",
           "#19d3f3",
           "#FF6692",
           "#B6E880",
           "#FF97FF",
           "#FECB52"
          ],
          "font": {
           "color": "#2a3f5f"
          },
          "geo": {
           "bgcolor": "white",
           "lakecolor": "white",
           "landcolor": "#E5ECF6",
           "showlakes": true,
           "showland": true,
           "subunitcolor": "white"
          },
          "hoverlabel": {
           "align": "left"
          },
          "hovermode": "closest",
          "mapbox": {
           "style": "light"
          },
          "paper_bgcolor": "white",
          "plot_bgcolor": "#E5ECF6",
          "polar": {
           "angularaxis": {
            "gridcolor": "white",
            "linecolor": "white",
            "ticks": ""
           },
           "bgcolor": "#E5ECF6",
           "radialaxis": {
            "gridcolor": "white",
            "linecolor": "white",
            "ticks": ""
           }
          },
          "scene": {
           "xaxis": {
            "backgroundcolor": "#E5ECF6",
            "gridcolor": "white",
            "gridwidth": 2,
            "linecolor": "white",
            "showbackground": true,
            "ticks": "",
            "zerolinecolor": "white"
           },
           "yaxis": {
            "backgroundcolor": "#E5ECF6",
            "gridcolor": "white",
            "gridwidth": 2,
            "linecolor": "white",
            "showbackground": true,
            "ticks": "",
            "zerolinecolor": "white"
           },
           "zaxis": {
            "backgroundcolor": "#E5ECF6",
            "gridcolor": "white",
            "gridwidth": 2,
            "linecolor": "white",
            "showbackground": true,
            "ticks": "",
            "zerolinecolor": "white"
           }
          },
          "shapedefaults": {
           "line": {
            "color": "#2a3f5f"
           }
          },
          "ternary": {
           "aaxis": {
            "gridcolor": "white",
            "linecolor": "white",
            "ticks": ""
           },
           "baxis": {
            "gridcolor": "white",
            "linecolor": "white",
            "ticks": ""
           },
           "bgcolor": "#E5ECF6",
           "caxis": {
            "gridcolor": "white",
            "linecolor": "white",
            "ticks": ""
           }
          },
          "title": {
           "x": 0.05
          },
          "xaxis": {
           "automargin": true,
           "gridcolor": "white",
           "linecolor": "white",
           "ticks": "",
           "title": {
            "standoff": 15
           },
           "zerolinecolor": "white",
           "zerolinewidth": 2
          },
          "yaxis": {
           "automargin": true,
           "gridcolor": "white",
           "linecolor": "white",
           "ticks": "",
           "title": {
            "standoff": 15
           },
           "zerolinecolor": "white",
           "zerolinewidth": 2
          }
         }
        },
        "title": {
         "text": "Sales by Customers comparison"
        },
        "xaxis": {
         "anchor": "y",
         "domain": [
          0,
          1
         ],
         "title": {
          "text": "Customer Name"
         }
        },
        "yaxis": {
         "anchor": "x",
         "domain": [
          0,
          1
         ],
         "title": {
          "text": "Sales"
         }
        }
       }
      }
     },
     "metadata": {},
     "output_type": "display_data"
    },
    {
     "data": {
      "application/vnd.plotly.v1+json": {
       "config": {
        "plotlyServerURL": "https://plot.ly"
       },
       "data": [
        {
         "alignmentgroup": "True",
         "hovertemplate": "Profit=%{x}<br>Customer Name=%{y}<extra></extra>",
         "legendgroup": "",
         "marker": {
          "color": "#636efa",
          "pattern": {
           "shape": ""
          }
         },
         "name": "",
         "offsetgroup": "",
         "orientation": "h",
         "showlegend": false,
         "textposition": "auto",
         "type": "bar",
         "x": [
          158.5764,
          -50.098,
          609.7157,
          0,
          313.2624,
          375.735,
          -25.049,
          629.01,
          316.8825,
          -30.098,
          -12.849,
          -95.67,
          52.3764,
          74.574,
          -8.5794,
          -149.6307,
          59.0352,
          -131.951,
          -36.4704,
          18.1764,
          -66.3916,
          8.8784,
          -14.196,
          -54.5958,
          -22.098,
          23.3184,
          -89.0664,
          8.0991,
          28.0192,
          14.6718,
          11.0704,
          7.392,
          3.3488,
          3.0814,
          1.6056
         ],
         "xaxis": "x",
         "y": [
          "Peter Fuller",
          "Greg Tran",
          "Seth Vernon",
          "Caroline Jumper",
          "Joe Elijah",
          "Seth Vernon",
          "Peter Fuller",
          "Joe Elijah",
          "Greg Tran",
          "Caroline Jumper",
          "Greg Tran",
          "Seth Vernon",
          "Joe Elijah",
          "Joe Elijah",
          "Caroline Jumper",
          "Joe Elijah",
          "Caroline Jumper",
          "Seth Vernon",
          "Peter Fuller",
          "Seth Vernon",
          "Caroline Jumper",
          "Peter Fuller",
          "Seth Vernon",
          "Seth Vernon",
          "Caroline Jumper",
          "Seth Vernon",
          "Seth Vernon",
          "Seth Vernon",
          "Caroline Jumper",
          "Greg Tran",
          "Peter Fuller",
          "Seth Vernon",
          "Caroline Jumper",
          "Seth Vernon",
          "Seth Vernon"
         ],
         "yaxis": "y"
        }
       ],
       "layout": {
        "barmode": "relative",
        "legend": {
         "tracegroupgap": 0
        },
        "template": {
         "data": {
          "bar": [
           {
            "error_x": {
             "color": "#2a3f5f"
            },
            "error_y": {
             "color": "#2a3f5f"
            },
            "marker": {
             "line": {
              "color": "#E5ECF6",
              "width": 0.5
             },
             "pattern": {
              "fillmode": "overlay",
              "size": 10,
              "solidity": 0.2
             }
            },
            "type": "bar"
           }
          ],
          "barpolar": [
           {
            "marker": {
             "line": {
              "color": "#E5ECF6",
              "width": 0.5
             },
             "pattern": {
              "fillmode": "overlay",
              "size": 10,
              "solidity": 0.2
             }
            },
            "type": "barpolar"
           }
          ],
          "carpet": [
           {
            "aaxis": {
             "endlinecolor": "#2a3f5f",
             "gridcolor": "white",
             "linecolor": "white",
             "minorgridcolor": "white",
             "startlinecolor": "#2a3f5f"
            },
            "baxis": {
             "endlinecolor": "#2a3f5f",
             "gridcolor": "white",
             "linecolor": "white",
             "minorgridcolor": "white",
             "startlinecolor": "#2a3f5f"
            },
            "type": "carpet"
           }
          ],
          "choropleth": [
           {
            "colorbar": {
             "outlinewidth": 0,
             "ticks": ""
            },
            "type": "choropleth"
           }
          ],
          "contour": [
           {
            "colorbar": {
             "outlinewidth": 0,
             "ticks": ""
            },
            "colorscale": [
             [
              0,
              "#0d0887"
             ],
             [
              0.1111111111111111,
              "#46039f"
             ],
             [
              0.2222222222222222,
              "#7201a8"
             ],
             [
              0.3333333333333333,
              "#9c179e"
             ],
             [
              0.4444444444444444,
              "#bd3786"
             ],
             [
              0.5555555555555556,
              "#d8576b"
             ],
             [
              0.6666666666666666,
              "#ed7953"
             ],
             [
              0.7777777777777778,
              "#fb9f3a"
             ],
             [
              0.8888888888888888,
              "#fdca26"
             ],
             [
              1,
              "#f0f921"
             ]
            ],
            "type": "contour"
           }
          ],
          "contourcarpet": [
           {
            "colorbar": {
             "outlinewidth": 0,
             "ticks": ""
            },
            "type": "contourcarpet"
           }
          ],
          "heatmap": [
           {
            "colorbar": {
             "outlinewidth": 0,
             "ticks": ""
            },
            "colorscale": [
             [
              0,
              "#0d0887"
             ],
             [
              0.1111111111111111,
              "#46039f"
             ],
             [
              0.2222222222222222,
              "#7201a8"
             ],
             [
              0.3333333333333333,
              "#9c179e"
             ],
             [
              0.4444444444444444,
              "#bd3786"
             ],
             [
              0.5555555555555556,
              "#d8576b"
             ],
             [
              0.6666666666666666,
              "#ed7953"
             ],
             [
              0.7777777777777778,
              "#fb9f3a"
             ],
             [
              0.8888888888888888,
              "#fdca26"
             ],
             [
              1,
              "#f0f921"
             ]
            ],
            "type": "heatmap"
           }
          ],
          "heatmapgl": [
           {
            "colorbar": {
             "outlinewidth": 0,
             "ticks": ""
            },
            "colorscale": [
             [
              0,
              "#0d0887"
             ],
             [
              0.1111111111111111,
              "#46039f"
             ],
             [
              0.2222222222222222,
              "#7201a8"
             ],
             [
              0.3333333333333333,
              "#9c179e"
             ],
             [
              0.4444444444444444,
              "#bd3786"
             ],
             [
              0.5555555555555556,
              "#d8576b"
             ],
             [
              0.6666666666666666,
              "#ed7953"
             ],
             [
              0.7777777777777778,
              "#fb9f3a"
             ],
             [
              0.8888888888888888,
              "#fdca26"
             ],
             [
              1,
              "#f0f921"
             ]
            ],
            "type": "heatmapgl"
           }
          ],
          "histogram": [
           {
            "marker": {
             "pattern": {
              "fillmode": "overlay",
              "size": 10,
              "solidity": 0.2
             }
            },
            "type": "histogram"
           }
          ],
          "histogram2d": [
           {
            "colorbar": {
             "outlinewidth": 0,
             "ticks": ""
            },
            "colorscale": [
             [
              0,
              "#0d0887"
             ],
             [
              0.1111111111111111,
              "#46039f"
             ],
             [
              0.2222222222222222,
              "#7201a8"
             ],
             [
              0.3333333333333333,
              "#9c179e"
             ],
             [
              0.4444444444444444,
              "#bd3786"
             ],
             [
              0.5555555555555556,
              "#d8576b"
             ],
             [
              0.6666666666666666,
              "#ed7953"
             ],
             [
              0.7777777777777778,
              "#fb9f3a"
             ],
             [
              0.8888888888888888,
              "#fdca26"
             ],
             [
              1,
              "#f0f921"
             ]
            ],
            "type": "histogram2d"
           }
          ],
          "histogram2dcontour": [
           {
            "colorbar": {
             "outlinewidth": 0,
             "ticks": ""
            },
            "colorscale": [
             [
              0,
              "#0d0887"
             ],
             [
              0.1111111111111111,
              "#46039f"
             ],
             [
              0.2222222222222222,
              "#7201a8"
             ],
             [
              0.3333333333333333,
              "#9c179e"
             ],
             [
              0.4444444444444444,
              "#bd3786"
             ],
             [
              0.5555555555555556,
              "#d8576b"
             ],
             [
              0.6666666666666666,
              "#ed7953"
             ],
             [
              0.7777777777777778,
              "#fb9f3a"
             ],
             [
              0.8888888888888888,
              "#fdca26"
             ],
             [
              1,
              "#f0f921"
             ]
            ],
            "type": "histogram2dcontour"
           }
          ],
          "mesh3d": [
           {
            "colorbar": {
             "outlinewidth": 0,
             "ticks": ""
            },
            "type": "mesh3d"
           }
          ],
          "parcoords": [
           {
            "line": {
             "colorbar": {
              "outlinewidth": 0,
              "ticks": ""
             }
            },
            "type": "parcoords"
           }
          ],
          "pie": [
           {
            "automargin": true,
            "type": "pie"
           }
          ],
          "scatter": [
           {
            "fillpattern": {
             "fillmode": "overlay",
             "size": 10,
             "solidity": 0.2
            },
            "type": "scatter"
           }
          ],
          "scatter3d": [
           {
            "line": {
             "colorbar": {
              "outlinewidth": 0,
              "ticks": ""
             }
            },
            "marker": {
             "colorbar": {
              "outlinewidth": 0,
              "ticks": ""
             }
            },
            "type": "scatter3d"
           }
          ],
          "scattercarpet": [
           {
            "marker": {
             "colorbar": {
              "outlinewidth": 0,
              "ticks": ""
             }
            },
            "type": "scattercarpet"
           }
          ],
          "scattergeo": [
           {
            "marker": {
             "colorbar": {
              "outlinewidth": 0,
              "ticks": ""
             }
            },
            "type": "scattergeo"
           }
          ],
          "scattergl": [
           {
            "marker": {
             "colorbar": {
              "outlinewidth": 0,
              "ticks": ""
             }
            },
            "type": "scattergl"
           }
          ],
          "scattermapbox": [
           {
            "marker": {
             "colorbar": {
              "outlinewidth": 0,
              "ticks": ""
             }
            },
            "type": "scattermapbox"
           }
          ],
          "scatterpolar": [
           {
            "marker": {
             "colorbar": {
              "outlinewidth": 0,
              "ticks": ""
             }
            },
            "type": "scatterpolar"
           }
          ],
          "scatterpolargl": [
           {
            "marker": {
             "colorbar": {
              "outlinewidth": 0,
              "ticks": ""
             }
            },
            "type": "scatterpolargl"
           }
          ],
          "scatterternary": [
           {
            "marker": {
             "colorbar": {
              "outlinewidth": 0,
              "ticks": ""
             }
            },
            "type": "scatterternary"
           }
          ],
          "surface": [
           {
            "colorbar": {
             "outlinewidth": 0,
             "ticks": ""
            },
            "colorscale": [
             [
              0,
              "#0d0887"
             ],
             [
              0.1111111111111111,
              "#46039f"
             ],
             [
              0.2222222222222222,
              "#7201a8"
             ],
             [
              0.3333333333333333,
              "#9c179e"
             ],
             [
              0.4444444444444444,
              "#bd3786"
             ],
             [
              0.5555555555555556,
              "#d8576b"
             ],
             [
              0.6666666666666666,
              "#ed7953"
             ],
             [
              0.7777777777777778,
              "#fb9f3a"
             ],
             [
              0.8888888888888888,
              "#fdca26"
             ],
             [
              1,
              "#f0f921"
             ]
            ],
            "type": "surface"
           }
          ],
          "table": [
           {
            "cells": {
             "fill": {
              "color": "#EBF0F8"
             },
             "line": {
              "color": "white"
             }
            },
            "header": {
             "fill": {
              "color": "#C8D4E3"
             },
             "line": {
              "color": "white"
             }
            },
            "type": "table"
           }
          ]
         },
         "layout": {
          "annotationdefaults": {
           "arrowcolor": "#2a3f5f",
           "arrowhead": 0,
           "arrowwidth": 1
          },
          "autotypenumbers": "strict",
          "coloraxis": {
           "colorbar": {
            "outlinewidth": 0,
            "ticks": ""
           }
          },
          "colorscale": {
           "diverging": [
            [
             0,
             "#8e0152"
            ],
            [
             0.1,
             "#c51b7d"
            ],
            [
             0.2,
             "#de77ae"
            ],
            [
             0.3,
             "#f1b6da"
            ],
            [
             0.4,
             "#fde0ef"
            ],
            [
             0.5,
             "#f7f7f7"
            ],
            [
             0.6,
             "#e6f5d0"
            ],
            [
             0.7,
             "#b8e186"
            ],
            [
             0.8,
             "#7fbc41"
            ],
            [
             0.9,
             "#4d9221"
            ],
            [
             1,
             "#276419"
            ]
           ],
           "sequential": [
            [
             0,
             "#0d0887"
            ],
            [
             0.1111111111111111,
             "#46039f"
            ],
            [
             0.2222222222222222,
             "#7201a8"
            ],
            [
             0.3333333333333333,
             "#9c179e"
            ],
            [
             0.4444444444444444,
             "#bd3786"
            ],
            [
             0.5555555555555556,
             "#d8576b"
            ],
            [
             0.6666666666666666,
             "#ed7953"
            ],
            [
             0.7777777777777778,
             "#fb9f3a"
            ],
            [
             0.8888888888888888,
             "#fdca26"
            ],
            [
             1,
             "#f0f921"
            ]
           ],
           "sequentialminus": [
            [
             0,
             "#0d0887"
            ],
            [
             0.1111111111111111,
             "#46039f"
            ],
            [
             0.2222222222222222,
             "#7201a8"
            ],
            [
             0.3333333333333333,
             "#9c179e"
            ],
            [
             0.4444444444444444,
             "#bd3786"
            ],
            [
             0.5555555555555556,
             "#d8576b"
            ],
            [
             0.6666666666666666,
             "#ed7953"
            ],
            [
             0.7777777777777778,
             "#fb9f3a"
            ],
            [
             0.8888888888888888,
             "#fdca26"
            ],
            [
             1,
             "#f0f921"
            ]
           ]
          },
          "colorway": [
           "#636efa",
           "#EF553B",
           "#00cc96",
           "#ab63fa",
           "#FFA15A",
           "#19d3f3",
           "#FF6692",
           "#B6E880",
           "#FF97FF",
           "#FECB52"
          ],
          "font": {
           "color": "#2a3f5f"
          },
          "geo": {
           "bgcolor": "white",
           "lakecolor": "white",
           "landcolor": "#E5ECF6",
           "showlakes": true,
           "showland": true,
           "subunitcolor": "white"
          },
          "hoverlabel": {
           "align": "left"
          },
          "hovermode": "closest",
          "mapbox": {
           "style": "light"
          },
          "paper_bgcolor": "white",
          "plot_bgcolor": "#E5ECF6",
          "polar": {
           "angularaxis": {
            "gridcolor": "white",
            "linecolor": "white",
            "ticks": ""
           },
           "bgcolor": "#E5ECF6",
           "radialaxis": {
            "gridcolor": "white",
            "linecolor": "white",
            "ticks": ""
           }
          },
          "scene": {
           "xaxis": {
            "backgroundcolor": "#E5ECF6",
            "gridcolor": "white",
            "gridwidth": 2,
            "linecolor": "white",
            "showbackground": true,
            "ticks": "",
            "zerolinecolor": "white"
           },
           "yaxis": {
            "backgroundcolor": "#E5ECF6",
            "gridcolor": "white",
            "gridwidth": 2,
            "linecolor": "white",
            "showbackground": true,
            "ticks": "",
            "zerolinecolor": "white"
           },
           "zaxis": {
            "backgroundcolor": "#E5ECF6",
            "gridcolor": "white",
            "gridwidth": 2,
            "linecolor": "white",
            "showbackground": true,
            "ticks": "",
            "zerolinecolor": "white"
           }
          },
          "shapedefaults": {
           "line": {
            "color": "#2a3f5f"
           }
          },
          "ternary": {
           "aaxis": {
            "gridcolor": "white",
            "linecolor": "white",
            "ticks": ""
           },
           "baxis": {
            "gridcolor": "white",
            "linecolor": "white",
            "ticks": ""
           },
           "bgcolor": "#E5ECF6",
           "caxis": {
            "gridcolor": "white",
            "linecolor": "white",
            "ticks": ""
           }
          },
          "title": {
           "x": 0.05
          },
          "xaxis": {
           "automargin": true,
           "gridcolor": "white",
           "linecolor": "white",
           "ticks": "",
           "title": {
            "standoff": 15
           },
           "zerolinecolor": "white",
           "zerolinewidth": 2
          },
          "yaxis": {
           "automargin": true,
           "gridcolor": "white",
           "linecolor": "white",
           "ticks": "",
           "title": {
            "standoff": 15
           },
           "zerolinecolor": "white",
           "zerolinewidth": 2
          }
         }
        },
        "title": {
         "text": "Profit by Customerscomparison"
        },
        "xaxis": {
         "anchor": "y",
         "domain": [
          0,
          1
         ],
         "title": {
          "text": "Profit"
         }
        },
        "yaxis": {
         "anchor": "x",
         "domain": [
          0,
          1
         ],
         "title": {
          "text": "Customer Name"
         }
        }
       }
      }
     },
     "metadata": {},
     "output_type": "display_data"
    },
    {
     "data": {
      "application/vnd.plotly.v1+json": {
       "config": {
        "plotlyServerURL": "https://plot.ly"
       },
       "data": [
        {
         "alignmentgroup": "True",
         "hovertemplate": "Discount=%{x}<br>Customer Name=%{y}<extra></extra>",
         "legendgroup": "",
         "marker": {
          "color": "#636efa",
          "pattern": {
           "shape": ""
          }
         },
         "name": "",
         "offsetgroup": "",
         "orientation": "h",
         "showlegend": false,
         "textposition": "auto",
         "type": "bar",
         "x": [
          0.2,
          0.2,
          0.1,
          0.2,
          0.1,
          0.1,
          0.2,
          0,
          0,
          0.32,
          0.3,
          0.3,
          0.2,
          0.2,
          0.3,
          0.4,
          0.1,
          0.3,
          0.2,
          0.1,
          0.3,
          0.1,
          0.3,
          0.3,
          0.2,
          0,
          0.5,
          0.1,
          0,
          0,
          0.2,
          0,
          0.2,
          0,
          0.2
         ],
         "xaxis": "x",
         "y": [
          "Peter Fuller",
          "Greg Tran",
          "Seth Vernon",
          "Caroline Jumper",
          "Joe Elijah",
          "Seth Vernon",
          "Peter Fuller",
          "Joe Elijah",
          "Greg Tran",
          "Caroline Jumper",
          "Greg Tran",
          "Seth Vernon",
          "Joe Elijah",
          "Joe Elijah",
          "Caroline Jumper",
          "Joe Elijah",
          "Caroline Jumper",
          "Seth Vernon",
          "Peter Fuller",
          "Seth Vernon",
          "Caroline Jumper",
          "Peter Fuller",
          "Seth Vernon",
          "Seth Vernon",
          "Caroline Jumper",
          "Seth Vernon",
          "Seth Vernon",
          "Seth Vernon",
          "Caroline Jumper",
          "Greg Tran",
          "Peter Fuller",
          "Seth Vernon",
          "Caroline Jumper",
          "Seth Vernon",
          "Seth Vernon"
         ],
         "yaxis": "y"
        }
       ],
       "layout": {
        "barmode": "relative",
        "legend": {
         "tracegroupgap": 0
        },
        "template": {
         "data": {
          "bar": [
           {
            "error_x": {
             "color": "#2a3f5f"
            },
            "error_y": {
             "color": "#2a3f5f"
            },
            "marker": {
             "line": {
              "color": "#E5ECF6",
              "width": 0.5
             },
             "pattern": {
              "fillmode": "overlay",
              "size": 10,
              "solidity": 0.2
             }
            },
            "type": "bar"
           }
          ],
          "barpolar": [
           {
            "marker": {
             "line": {
              "color": "#E5ECF6",
              "width": 0.5
             },
             "pattern": {
              "fillmode": "overlay",
              "size": 10,
              "solidity": 0.2
             }
            },
            "type": "barpolar"
           }
          ],
          "carpet": [
           {
            "aaxis": {
             "endlinecolor": "#2a3f5f",
             "gridcolor": "white",
             "linecolor": "white",
             "minorgridcolor": "white",
             "startlinecolor": "#2a3f5f"
            },
            "baxis": {
             "endlinecolor": "#2a3f5f",
             "gridcolor": "white",
             "linecolor": "white",
             "minorgridcolor": "white",
             "startlinecolor": "#2a3f5f"
            },
            "type": "carpet"
           }
          ],
          "choropleth": [
           {
            "colorbar": {
             "outlinewidth": 0,
             "ticks": ""
            },
            "type": "choropleth"
           }
          ],
          "contour": [
           {
            "colorbar": {
             "outlinewidth": 0,
             "ticks": ""
            },
            "colorscale": [
             [
              0,
              "#0d0887"
             ],
             [
              0.1111111111111111,
              "#46039f"
             ],
             [
              0.2222222222222222,
              "#7201a8"
             ],
             [
              0.3333333333333333,
              "#9c179e"
             ],
             [
              0.4444444444444444,
              "#bd3786"
             ],
             [
              0.5555555555555556,
              "#d8576b"
             ],
             [
              0.6666666666666666,
              "#ed7953"
             ],
             [
              0.7777777777777778,
              "#fb9f3a"
             ],
             [
              0.8888888888888888,
              "#fdca26"
             ],
             [
              1,
              "#f0f921"
             ]
            ],
            "type": "contour"
           }
          ],
          "contourcarpet": [
           {
            "colorbar": {
             "outlinewidth": 0,
             "ticks": ""
            },
            "type": "contourcarpet"
           }
          ],
          "heatmap": [
           {
            "colorbar": {
             "outlinewidth": 0,
             "ticks": ""
            },
            "colorscale": [
             [
              0,
              "#0d0887"
             ],
             [
              0.1111111111111111,
              "#46039f"
             ],
             [
              0.2222222222222222,
              "#7201a8"
             ],
             [
              0.3333333333333333,
              "#9c179e"
             ],
             [
              0.4444444444444444,
              "#bd3786"
             ],
             [
              0.5555555555555556,
              "#d8576b"
             ],
             [
              0.6666666666666666,
              "#ed7953"
             ],
             [
              0.7777777777777778,
              "#fb9f3a"
             ],
             [
              0.8888888888888888,
              "#fdca26"
             ],
             [
              1,
              "#f0f921"
             ]
            ],
            "type": "heatmap"
           }
          ],
          "heatmapgl": [
           {
            "colorbar": {
             "outlinewidth": 0,
             "ticks": ""
            },
            "colorscale": [
             [
              0,
              "#0d0887"
             ],
             [
              0.1111111111111111,
              "#46039f"
             ],
             [
              0.2222222222222222,
              "#7201a8"
             ],
             [
              0.3333333333333333,
              "#9c179e"
             ],
             [
              0.4444444444444444,
              "#bd3786"
             ],
             [
              0.5555555555555556,
              "#d8576b"
             ],
             [
              0.6666666666666666,
              "#ed7953"
             ],
             [
              0.7777777777777778,
              "#fb9f3a"
             ],
             [
              0.8888888888888888,
              "#fdca26"
             ],
             [
              1,
              "#f0f921"
             ]
            ],
            "type": "heatmapgl"
           }
          ],
          "histogram": [
           {
            "marker": {
             "pattern": {
              "fillmode": "overlay",
              "size": 10,
              "solidity": 0.2
             }
            },
            "type": "histogram"
           }
          ],
          "histogram2d": [
           {
            "colorbar": {
             "outlinewidth": 0,
             "ticks": ""
            },
            "colorscale": [
             [
              0,
              "#0d0887"
             ],
             [
              0.1111111111111111,
              "#46039f"
             ],
             [
              0.2222222222222222,
              "#7201a8"
             ],
             [
              0.3333333333333333,
              "#9c179e"
             ],
             [
              0.4444444444444444,
              "#bd3786"
             ],
             [
              0.5555555555555556,
              "#d8576b"
             ],
             [
              0.6666666666666666,
              "#ed7953"
             ],
             [
              0.7777777777777778,
              "#fb9f3a"
             ],
             [
              0.8888888888888888,
              "#fdca26"
             ],
             [
              1,
              "#f0f921"
             ]
            ],
            "type": "histogram2d"
           }
          ],
          "histogram2dcontour": [
           {
            "colorbar": {
             "outlinewidth": 0,
             "ticks": ""
            },
            "colorscale": [
             [
              0,
              "#0d0887"
             ],
             [
              0.1111111111111111,
              "#46039f"
             ],
             [
              0.2222222222222222,
              "#7201a8"
             ],
             [
              0.3333333333333333,
              "#9c179e"
             ],
             [
              0.4444444444444444,
              "#bd3786"
             ],
             [
              0.5555555555555556,
              "#d8576b"
             ],
             [
              0.6666666666666666,
              "#ed7953"
             ],
             [
              0.7777777777777778,
              "#fb9f3a"
             ],
             [
              0.8888888888888888,
              "#fdca26"
             ],
             [
              1,
              "#f0f921"
             ]
            ],
            "type": "histogram2dcontour"
           }
          ],
          "mesh3d": [
           {
            "colorbar": {
             "outlinewidth": 0,
             "ticks": ""
            },
            "type": "mesh3d"
           }
          ],
          "parcoords": [
           {
            "line": {
             "colorbar": {
              "outlinewidth": 0,
              "ticks": ""
             }
            },
            "type": "parcoords"
           }
          ],
          "pie": [
           {
            "automargin": true,
            "type": "pie"
           }
          ],
          "scatter": [
           {
            "fillpattern": {
             "fillmode": "overlay",
             "size": 10,
             "solidity": 0.2
            },
            "type": "scatter"
           }
          ],
          "scatter3d": [
           {
            "line": {
             "colorbar": {
              "outlinewidth": 0,
              "ticks": ""
             }
            },
            "marker": {
             "colorbar": {
              "outlinewidth": 0,
              "ticks": ""
             }
            },
            "type": "scatter3d"
           }
          ],
          "scattercarpet": [
           {
            "marker": {
             "colorbar": {
              "outlinewidth": 0,
              "ticks": ""
             }
            },
            "type": "scattercarpet"
           }
          ],
          "scattergeo": [
           {
            "marker": {
             "colorbar": {
              "outlinewidth": 0,
              "ticks": ""
             }
            },
            "type": "scattergeo"
           }
          ],
          "scattergl": [
           {
            "marker": {
             "colorbar": {
              "outlinewidth": 0,
              "ticks": ""
             }
            },
            "type": "scattergl"
           }
          ],
          "scattermapbox": [
           {
            "marker": {
             "colorbar": {
              "outlinewidth": 0,
              "ticks": ""
             }
            },
            "type": "scattermapbox"
           }
          ],
          "scatterpolar": [
           {
            "marker": {
             "colorbar": {
              "outlinewidth": 0,
              "ticks": ""
             }
            },
            "type": "scatterpolar"
           }
          ],
          "scatterpolargl": [
           {
            "marker": {
             "colorbar": {
              "outlinewidth": 0,
              "ticks": ""
             }
            },
            "type": "scatterpolargl"
           }
          ],
          "scatterternary": [
           {
            "marker": {
             "colorbar": {
              "outlinewidth": 0,
              "ticks": ""
             }
            },
            "type": "scatterternary"
           }
          ],
          "surface": [
           {
            "colorbar": {
             "outlinewidth": 0,
             "ticks": ""
            },
            "colorscale": [
             [
              0,
              "#0d0887"
             ],
             [
              0.1111111111111111,
              "#46039f"
             ],
             [
              0.2222222222222222,
              "#7201a8"
             ],
             [
              0.3333333333333333,
              "#9c179e"
             ],
             [
              0.4444444444444444,
              "#bd3786"
             ],
             [
              0.5555555555555556,
              "#d8576b"
             ],
             [
              0.6666666666666666,
              "#ed7953"
             ],
             [
              0.7777777777777778,
              "#fb9f3a"
             ],
             [
              0.8888888888888888,
              "#fdca26"
             ],
             [
              1,
              "#f0f921"
             ]
            ],
            "type": "surface"
           }
          ],
          "table": [
           {
            "cells": {
             "fill": {
              "color": "#EBF0F8"
             },
             "line": {
              "color": "white"
             }
            },
            "header": {
             "fill": {
              "color": "#C8D4E3"
             },
             "line": {
              "color": "white"
             }
            },
            "type": "table"
           }
          ]
         },
         "layout": {
          "annotationdefaults": {
           "arrowcolor": "#2a3f5f",
           "arrowhead": 0,
           "arrowwidth": 1
          },
          "autotypenumbers": "strict",
          "coloraxis": {
           "colorbar": {
            "outlinewidth": 0,
            "ticks": ""
           }
          },
          "colorscale": {
           "diverging": [
            [
             0,
             "#8e0152"
            ],
            [
             0.1,
             "#c51b7d"
            ],
            [
             0.2,
             "#de77ae"
            ],
            [
             0.3,
             "#f1b6da"
            ],
            [
             0.4,
             "#fde0ef"
            ],
            [
             0.5,
             "#f7f7f7"
            ],
            [
             0.6,
             "#e6f5d0"
            ],
            [
             0.7,
             "#b8e186"
            ],
            [
             0.8,
             "#7fbc41"
            ],
            [
             0.9,
             "#4d9221"
            ],
            [
             1,
             "#276419"
            ]
           ],
           "sequential": [
            [
             0,
             "#0d0887"
            ],
            [
             0.1111111111111111,
             "#46039f"
            ],
            [
             0.2222222222222222,
             "#7201a8"
            ],
            [
             0.3333333333333333,
             "#9c179e"
            ],
            [
             0.4444444444444444,
             "#bd3786"
            ],
            [
             0.5555555555555556,
             "#d8576b"
            ],
            [
             0.6666666666666666,
             "#ed7953"
            ],
            [
             0.7777777777777778,
             "#fb9f3a"
            ],
            [
             0.8888888888888888,
             "#fdca26"
            ],
            [
             1,
             "#f0f921"
            ]
           ],
           "sequentialminus": [
            [
             0,
             "#0d0887"
            ],
            [
             0.1111111111111111,
             "#46039f"
            ],
            [
             0.2222222222222222,
             "#7201a8"
            ],
            [
             0.3333333333333333,
             "#9c179e"
            ],
            [
             0.4444444444444444,
             "#bd3786"
            ],
            [
             0.5555555555555556,
             "#d8576b"
            ],
            [
             0.6666666666666666,
             "#ed7953"
            ],
            [
             0.7777777777777778,
             "#fb9f3a"
            ],
            [
             0.8888888888888888,
             "#fdca26"
            ],
            [
             1,
             "#f0f921"
            ]
           ]
          },
          "colorway": [
           "#636efa",
           "#EF553B",
           "#00cc96",
           "#ab63fa",
           "#FFA15A",
           "#19d3f3",
           "#FF6692",
           "#B6E880",
           "#FF97FF",
           "#FECB52"
          ],
          "font": {
           "color": "#2a3f5f"
          },
          "geo": {
           "bgcolor": "white",
           "lakecolor": "white",
           "landcolor": "#E5ECF6",
           "showlakes": true,
           "showland": true,
           "subunitcolor": "white"
          },
          "hoverlabel": {
           "align": "left"
          },
          "hovermode": "closest",
          "mapbox": {
           "style": "light"
          },
          "paper_bgcolor": "white",
          "plot_bgcolor": "#E5ECF6",
          "polar": {
           "angularaxis": {
            "gridcolor": "white",
            "linecolor": "white",
            "ticks": ""
           },
           "bgcolor": "#E5ECF6",
           "radialaxis": {
            "gridcolor": "white",
            "linecolor": "white",
            "ticks": ""
           }
          },
          "scene": {
           "xaxis": {
            "backgroundcolor": "#E5ECF6",
            "gridcolor": "white",
            "gridwidth": 2,
            "linecolor": "white",
            "showbackground": true,
            "ticks": "",
            "zerolinecolor": "white"
           },
           "yaxis": {
            "backgroundcolor": "#E5ECF6",
            "gridcolor": "white",
            "gridwidth": 2,
            "linecolor": "white",
            "showbackground": true,
            "ticks": "",
            "zerolinecolor": "white"
           },
           "zaxis": {
            "backgroundcolor": "#E5ECF6",
            "gridcolor": "white",
            "gridwidth": 2,
            "linecolor": "white",
            "showbackground": true,
            "ticks": "",
            "zerolinecolor": "white"
           }
          },
          "shapedefaults": {
           "line": {
            "color": "#2a3f5f"
           }
          },
          "ternary": {
           "aaxis": {
            "gridcolor": "white",
            "linecolor": "white",
            "ticks": ""
           },
           "baxis": {
            "gridcolor": "white",
            "linecolor": "white",
            "ticks": ""
           },
           "bgcolor": "#E5ECF6",
           "caxis": {
            "gridcolor": "white",
            "linecolor": "white",
            "ticks": ""
           }
          },
          "title": {
           "x": 0.05
          },
          "xaxis": {
           "automargin": true,
           "gridcolor": "white",
           "linecolor": "white",
           "ticks": "",
           "title": {
            "standoff": 15
           },
           "zerolinecolor": "white",
           "zerolinewidth": 2
          },
          "yaxis": {
           "automargin": true,
           "gridcolor": "white",
           "linecolor": "white",
           "ticks": "",
           "title": {
            "standoff": 15
           },
           "zerolinecolor": "white",
           "zerolinewidth": 2
          }
         }
        },
        "title": {
         "text": "Discount by customers comparison"
        },
        "xaxis": {
         "anchor": "y",
         "domain": [
          0,
          1
         ],
         "title": {
          "text": "Discount"
         }
        },
        "yaxis": {
         "anchor": "x",
         "domain": [
          0,
          1
         ],
         "title": {
          "text": "Customer Name"
         }
        }
       }
      }
     },
     "metadata": {},
     "output_type": "display_data"
    }
   ],
   "source": [
    "chosen_cols3 = ['Sales',\n",
    "                # 'Profit',\n",
    "                # 'Discount'\n",
    "                ]\n",
    "\n",
    "customer_totals = df.groupby(\"Customer Name\")[chosen_cols3].sum()\n",
    "\n",
    "top_customers = pd.DataFrame(customer_totals.sort_values(by ='Sales',ascending=False).head(5))\n",
    "\n",
    "top_data = df[df[\"Customer Name\"].isin(top_customers.index)].sort_values(by='Sales', ascending=False)\n",
    "\n",
    "fig1 = px.bar(top_data, y='Sales', x='Customer Name', title= 'Sales by Customers comparison')\n",
    "fig2= px.bar(top_data, 'Profit', 'Customer Name', title='Profit by Customerscomparison')\n",
    "fig3= px.bar(top_data,  'Discount', 'Customer Name', title='Discount by customers comparison')\n",
    "\n",
    "\n",
    "fig1.show()\n",
    "fig2.show()\n",
    "fig3.show()"
   ]
  },
  {
   "cell_type": "code",
   "execution_count": 15,
   "metadata": {},
   "outputs": [
    {
     "data": {
      "application/vnd.plotly.v1+json": {
       "config": {
        "plotlyServerURL": "https://plot.ly"
       },
       "data": [
        {
         "alignmentgroup": "True",
         "hovertemplate": "variable=Sales<br>value=%{x}<br>Customer Name=%{y}<extra></extra>",
         "legendgroup": "Sales",
         "marker": {
          "color": "#636efa",
          "pattern": {
           "shape": ""
          }
         },
         "name": "Sales",
         "offsetgroup": "Sales",
         "orientation": "h",
         "showlegend": true,
         "textposition": "auto",
         "type": "bar",
         "x": [
          4007.84,
          9.94,
          1145.69,
          1267.53,
          404.96000000000004,
          181.986,
          2445.602,
          472.518,
          662.88,
          11.648,
          44.46,
          506.444,
          5.352,
          2563.056,
          5496.174,
          2803.92,
          1835.136,
          130.98,
          161.14000000000001,
          899.43,
          6432.388,
          176.784,
          198.744
         ],
         "xaxis": "x",
         "y": [
          "Greg Tran",
          "Seth Vernon",
          "Seth VernonSeth Vernon",
          "Greg Tran",
          "Peter FullerPeter Fuller",
          "Seth Vernon",
          "Joe ElijahJoe Elijah",
          "Joe Elijah",
          "Joe Elijah",
          "Caroline Jumper",
          "Greg Tran",
          "Caroline JumperCaroline Jumper",
          "Seth Vernon",
          "Joe Elijah",
          "Seth VernonSeth VernonSeth VernonSeth Vernon",
          "Caroline Jumper",
          "Caroline JumperCaroline JumperCaroline Jumper",
          "Seth Vernon",
          "Seth VernonSeth Vernon",
          "Greg Tran",
          "Peter FullerPeter FullerPeter Fuller",
          "Caroline Jumper",
          "Seth Vernon"
         ],
         "yaxis": "y"
        },
        {
         "alignmentgroup": "True",
         "hovertemplate": "variable=Profit<br>value=%{x}<br>Customer Name=%{y}<extra></extra>",
         "legendgroup": "Profit",
         "marker": {
          "color": "#EF553B",
          "pattern": {
           "shape": ""
          }
         },
         "name": "Profit",
         "offsetgroup": "Profit",
         "orientation": "h",
         "showlegend": true,
         "textposition": "auto",
         "type": "bar",
         "x": [
          -50.098,
          3.0814,
          -227.62099999999998,
          316.8825,
          -25.4,
          -54.5958,
          681.3864,
          -149.6307,
          74.574,
          3.3488,
          14.6718,
          87.0544,
          1.6056,
          313.2624,
          1011.7262,
          0,
          -105.06899999999999,
          -89.0664,
          30.7104,
          -12.849,
          142.4058,
          -22.098,
          -14.196
         ],
         "xaxis": "x",
         "y": [
          "Greg Tran",
          "Seth Vernon",
          "Seth VernonSeth Vernon",
          "Greg Tran",
          "Peter FullerPeter Fuller",
          "Seth Vernon",
          "Joe ElijahJoe Elijah",
          "Joe Elijah",
          "Joe Elijah",
          "Caroline Jumper",
          "Greg Tran",
          "Caroline JumperCaroline Jumper",
          "Seth Vernon",
          "Joe Elijah",
          "Seth VernonSeth VernonSeth VernonSeth Vernon",
          "Caroline Jumper",
          "Caroline JumperCaroline JumperCaroline Jumper",
          "Seth Vernon",
          "Seth VernonSeth Vernon",
          "Greg Tran",
          "Peter FullerPeter FullerPeter Fuller",
          "Caroline Jumper",
          "Seth Vernon"
         ],
         "yaxis": "y"
        },
        {
         "alignmentgroup": "True",
         "hovertemplate": "variable=Discount<br>value=%{x}<br>Customer Name=%{y}<extra></extra>",
         "legendgroup": "Discount",
         "marker": {
          "color": "#00cc96",
          "pattern": {
           "shape": ""
          }
         },
         "name": "Discount",
         "offsetgroup": "Discount",
         "orientation": "h",
         "showlegend": true,
         "textposition": "auto",
         "type": "bar",
         "x": [
          0.2,
          0,
          0.6,
          0,
          0.4,
          0.3,
          0.2,
          0.4,
          0.2,
          0.2,
          0,
          0.1,
          0.2,
          0.1,
          0.4,
          0.2,
          0.9199999999999999,
          0.5,
          0,
          0.3,
          0.5,
          0.2,
          0.3
         ],
         "xaxis": "x",
         "y": [
          "Greg Tran",
          "Seth Vernon",
          "Seth VernonSeth Vernon",
          "Greg Tran",
          "Peter FullerPeter Fuller",
          "Seth Vernon",
          "Joe ElijahJoe Elijah",
          "Joe Elijah",
          "Joe Elijah",
          "Caroline Jumper",
          "Greg Tran",
          "Caroline JumperCaroline Jumper",
          "Seth Vernon",
          "Joe Elijah",
          "Seth VernonSeth VernonSeth VernonSeth Vernon",
          "Caroline Jumper",
          "Caroline JumperCaroline JumperCaroline Jumper",
          "Seth Vernon",
          "Seth VernonSeth Vernon",
          "Greg Tran",
          "Peter FullerPeter FullerPeter Fuller",
          "Caroline Jumper",
          "Seth Vernon"
         ],
         "yaxis": "y"
        }
       ],
       "layout": {
        "barmode": "relative",
        "legend": {
         "title": {
          "text": "variable"
         },
         "tracegroupgap": 0
        },
        "template": {
         "data": {
          "bar": [
           {
            "error_x": {
             "color": "#2a3f5f"
            },
            "error_y": {
             "color": "#2a3f5f"
            },
            "marker": {
             "line": {
              "color": "#E5ECF6",
              "width": 0.5
             },
             "pattern": {
              "fillmode": "overlay",
              "size": 10,
              "solidity": 0.2
             }
            },
            "type": "bar"
           }
          ],
          "barpolar": [
           {
            "marker": {
             "line": {
              "color": "#E5ECF6",
              "width": 0.5
             },
             "pattern": {
              "fillmode": "overlay",
              "size": 10,
              "solidity": 0.2
             }
            },
            "type": "barpolar"
           }
          ],
          "carpet": [
           {
            "aaxis": {
             "endlinecolor": "#2a3f5f",
             "gridcolor": "white",
             "linecolor": "white",
             "minorgridcolor": "white",
             "startlinecolor": "#2a3f5f"
            },
            "baxis": {
             "endlinecolor": "#2a3f5f",
             "gridcolor": "white",
             "linecolor": "white",
             "minorgridcolor": "white",
             "startlinecolor": "#2a3f5f"
            },
            "type": "carpet"
           }
          ],
          "choropleth": [
           {
            "colorbar": {
             "outlinewidth": 0,
             "ticks": ""
            },
            "type": "choropleth"
           }
          ],
          "contour": [
           {
            "colorbar": {
             "outlinewidth": 0,
             "ticks": ""
            },
            "colorscale": [
             [
              0,
              "#0d0887"
             ],
             [
              0.1111111111111111,
              "#46039f"
             ],
             [
              0.2222222222222222,
              "#7201a8"
             ],
             [
              0.3333333333333333,
              "#9c179e"
             ],
             [
              0.4444444444444444,
              "#bd3786"
             ],
             [
              0.5555555555555556,
              "#d8576b"
             ],
             [
              0.6666666666666666,
              "#ed7953"
             ],
             [
              0.7777777777777778,
              "#fb9f3a"
             ],
             [
              0.8888888888888888,
              "#fdca26"
             ],
             [
              1,
              "#f0f921"
             ]
            ],
            "type": "contour"
           }
          ],
          "contourcarpet": [
           {
            "colorbar": {
             "outlinewidth": 0,
             "ticks": ""
            },
            "type": "contourcarpet"
           }
          ],
          "heatmap": [
           {
            "colorbar": {
             "outlinewidth": 0,
             "ticks": ""
            },
            "colorscale": [
             [
              0,
              "#0d0887"
             ],
             [
              0.1111111111111111,
              "#46039f"
             ],
             [
              0.2222222222222222,
              "#7201a8"
             ],
             [
              0.3333333333333333,
              "#9c179e"
             ],
             [
              0.4444444444444444,
              "#bd3786"
             ],
             [
              0.5555555555555556,
              "#d8576b"
             ],
             [
              0.6666666666666666,
              "#ed7953"
             ],
             [
              0.7777777777777778,
              "#fb9f3a"
             ],
             [
              0.8888888888888888,
              "#fdca26"
             ],
             [
              1,
              "#f0f921"
             ]
            ],
            "type": "heatmap"
           }
          ],
          "heatmapgl": [
           {
            "colorbar": {
             "outlinewidth": 0,
             "ticks": ""
            },
            "colorscale": [
             [
              0,
              "#0d0887"
             ],
             [
              0.1111111111111111,
              "#46039f"
             ],
             [
              0.2222222222222222,
              "#7201a8"
             ],
             [
              0.3333333333333333,
              "#9c179e"
             ],
             [
              0.4444444444444444,
              "#bd3786"
             ],
             [
              0.5555555555555556,
              "#d8576b"
             ],
             [
              0.6666666666666666,
              "#ed7953"
             ],
             [
              0.7777777777777778,
              "#fb9f3a"
             ],
             [
              0.8888888888888888,
              "#fdca26"
             ],
             [
              1,
              "#f0f921"
             ]
            ],
            "type": "heatmapgl"
           }
          ],
          "histogram": [
           {
            "marker": {
             "pattern": {
              "fillmode": "overlay",
              "size": 10,
              "solidity": 0.2
             }
            },
            "type": "histogram"
           }
          ],
          "histogram2d": [
           {
            "colorbar": {
             "outlinewidth": 0,
             "ticks": ""
            },
            "colorscale": [
             [
              0,
              "#0d0887"
             ],
             [
              0.1111111111111111,
              "#46039f"
             ],
             [
              0.2222222222222222,
              "#7201a8"
             ],
             [
              0.3333333333333333,
              "#9c179e"
             ],
             [
              0.4444444444444444,
              "#bd3786"
             ],
             [
              0.5555555555555556,
              "#d8576b"
             ],
             [
              0.6666666666666666,
              "#ed7953"
             ],
             [
              0.7777777777777778,
              "#fb9f3a"
             ],
             [
              0.8888888888888888,
              "#fdca26"
             ],
             [
              1,
              "#f0f921"
             ]
            ],
            "type": "histogram2d"
           }
          ],
          "histogram2dcontour": [
           {
            "colorbar": {
             "outlinewidth": 0,
             "ticks": ""
            },
            "colorscale": [
             [
              0,
              "#0d0887"
             ],
             [
              0.1111111111111111,
              "#46039f"
             ],
             [
              0.2222222222222222,
              "#7201a8"
             ],
             [
              0.3333333333333333,
              "#9c179e"
             ],
             [
              0.4444444444444444,
              "#bd3786"
             ],
             [
              0.5555555555555556,
              "#d8576b"
             ],
             [
              0.6666666666666666,
              "#ed7953"
             ],
             [
              0.7777777777777778,
              "#fb9f3a"
             ],
             [
              0.8888888888888888,
              "#fdca26"
             ],
             [
              1,
              "#f0f921"
             ]
            ],
            "type": "histogram2dcontour"
           }
          ],
          "mesh3d": [
           {
            "colorbar": {
             "outlinewidth": 0,
             "ticks": ""
            },
            "type": "mesh3d"
           }
          ],
          "parcoords": [
           {
            "line": {
             "colorbar": {
              "outlinewidth": 0,
              "ticks": ""
             }
            },
            "type": "parcoords"
           }
          ],
          "pie": [
           {
            "automargin": true,
            "type": "pie"
           }
          ],
          "scatter": [
           {
            "fillpattern": {
             "fillmode": "overlay",
             "size": 10,
             "solidity": 0.2
            },
            "type": "scatter"
           }
          ],
          "scatter3d": [
           {
            "line": {
             "colorbar": {
              "outlinewidth": 0,
              "ticks": ""
             }
            },
            "marker": {
             "colorbar": {
              "outlinewidth": 0,
              "ticks": ""
             }
            },
            "type": "scatter3d"
           }
          ],
          "scattercarpet": [
           {
            "marker": {
             "colorbar": {
              "outlinewidth": 0,
              "ticks": ""
             }
            },
            "type": "scattercarpet"
           }
          ],
          "scattergeo": [
           {
            "marker": {
             "colorbar": {
              "outlinewidth": 0,
              "ticks": ""
             }
            },
            "type": "scattergeo"
           }
          ],
          "scattergl": [
           {
            "marker": {
             "colorbar": {
              "outlinewidth": 0,
              "ticks": ""
             }
            },
            "type": "scattergl"
           }
          ],
          "scattermapbox": [
           {
            "marker": {
             "colorbar": {
              "outlinewidth": 0,
              "ticks": ""
             }
            },
            "type": "scattermapbox"
           }
          ],
          "scatterpolar": [
           {
            "marker": {
             "colorbar": {
              "outlinewidth": 0,
              "ticks": ""
             }
            },
            "type": "scatterpolar"
           }
          ],
          "scatterpolargl": [
           {
            "marker": {
             "colorbar": {
              "outlinewidth": 0,
              "ticks": ""
             }
            },
            "type": "scatterpolargl"
           }
          ],
          "scatterternary": [
           {
            "marker": {
             "colorbar": {
              "outlinewidth": 0,
              "ticks": ""
             }
            },
            "type": "scatterternary"
           }
          ],
          "surface": [
           {
            "colorbar": {
             "outlinewidth": 0,
             "ticks": ""
            },
            "colorscale": [
             [
              0,
              "#0d0887"
             ],
             [
              0.1111111111111111,
              "#46039f"
             ],
             [
              0.2222222222222222,
              "#7201a8"
             ],
             [
              0.3333333333333333,
              "#9c179e"
             ],
             [
              0.4444444444444444,
              "#bd3786"
             ],
             [
              0.5555555555555556,
              "#d8576b"
             ],
             [
              0.6666666666666666,
              "#ed7953"
             ],
             [
              0.7777777777777778,
              "#fb9f3a"
             ],
             [
              0.8888888888888888,
              "#fdca26"
             ],
             [
              1,
              "#f0f921"
             ]
            ],
            "type": "surface"
           }
          ],
          "table": [
           {
            "cells": {
             "fill": {
              "color": "#EBF0F8"
             },
             "line": {
              "color": "white"
             }
            },
            "header": {
             "fill": {
              "color": "#C8D4E3"
             },
             "line": {
              "color": "white"
             }
            },
            "type": "table"
           }
          ]
         },
         "layout": {
          "annotationdefaults": {
           "arrowcolor": "#2a3f5f",
           "arrowhead": 0,
           "arrowwidth": 1
          },
          "autotypenumbers": "strict",
          "coloraxis": {
           "colorbar": {
            "outlinewidth": 0,
            "ticks": ""
           }
          },
          "colorscale": {
           "diverging": [
            [
             0,
             "#8e0152"
            ],
            [
             0.1,
             "#c51b7d"
            ],
            [
             0.2,
             "#de77ae"
            ],
            [
             0.3,
             "#f1b6da"
            ],
            [
             0.4,
             "#fde0ef"
            ],
            [
             0.5,
             "#f7f7f7"
            ],
            [
             0.6,
             "#e6f5d0"
            ],
            [
             0.7,
             "#b8e186"
            ],
            [
             0.8,
             "#7fbc41"
            ],
            [
             0.9,
             "#4d9221"
            ],
            [
             1,
             "#276419"
            ]
           ],
           "sequential": [
            [
             0,
             "#0d0887"
            ],
            [
             0.1111111111111111,
             "#46039f"
            ],
            [
             0.2222222222222222,
             "#7201a8"
            ],
            [
             0.3333333333333333,
             "#9c179e"
            ],
            [
             0.4444444444444444,
             "#bd3786"
            ],
            [
             0.5555555555555556,
             "#d8576b"
            ],
            [
             0.6666666666666666,
             "#ed7953"
            ],
            [
             0.7777777777777778,
             "#fb9f3a"
            ],
            [
             0.8888888888888888,
             "#fdca26"
            ],
            [
             1,
             "#f0f921"
            ]
           ],
           "sequentialminus": [
            [
             0,
             "#0d0887"
            ],
            [
             0.1111111111111111,
             "#46039f"
            ],
            [
             0.2222222222222222,
             "#7201a8"
            ],
            [
             0.3333333333333333,
             "#9c179e"
            ],
            [
             0.4444444444444444,
             "#bd3786"
            ],
            [
             0.5555555555555556,
             "#d8576b"
            ],
            [
             0.6666666666666666,
             "#ed7953"
            ],
            [
             0.7777777777777778,
             "#fb9f3a"
            ],
            [
             0.8888888888888888,
             "#fdca26"
            ],
            [
             1,
             "#f0f921"
            ]
           ]
          },
          "colorway": [
           "#636efa",
           "#EF553B",
           "#00cc96",
           "#ab63fa",
           "#FFA15A",
           "#19d3f3",
           "#FF6692",
           "#B6E880",
           "#FF97FF",
           "#FECB52"
          ],
          "font": {
           "color": "#2a3f5f"
          },
          "geo": {
           "bgcolor": "white",
           "lakecolor": "white",
           "landcolor": "#E5ECF6",
           "showlakes": true,
           "showland": true,
           "subunitcolor": "white"
          },
          "hoverlabel": {
           "align": "left"
          },
          "hovermode": "closest",
          "mapbox": {
           "style": "light"
          },
          "paper_bgcolor": "white",
          "plot_bgcolor": "#E5ECF6",
          "polar": {
           "angularaxis": {
            "gridcolor": "white",
            "linecolor": "white",
            "ticks": ""
           },
           "bgcolor": "#E5ECF6",
           "radialaxis": {
            "gridcolor": "white",
            "linecolor": "white",
            "ticks": ""
           }
          },
          "scene": {
           "xaxis": {
            "backgroundcolor": "#E5ECF6",
            "gridcolor": "white",
            "gridwidth": 2,
            "linecolor": "white",
            "showbackground": true,
            "ticks": "",
            "zerolinecolor": "white"
           },
           "yaxis": {
            "backgroundcolor": "#E5ECF6",
            "gridcolor": "white",
            "gridwidth": 2,
            "linecolor": "white",
            "showbackground": true,
            "ticks": "",
            "zerolinecolor": "white"
           },
           "zaxis": {
            "backgroundcolor": "#E5ECF6",
            "gridcolor": "white",
            "gridwidth": 2,
            "linecolor": "white",
            "showbackground": true,
            "ticks": "",
            "zerolinecolor": "white"
           }
          },
          "shapedefaults": {
           "line": {
            "color": "#2a3f5f"
           }
          },
          "ternary": {
           "aaxis": {
            "gridcolor": "white",
            "linecolor": "white",
            "ticks": ""
           },
           "baxis": {
            "gridcolor": "white",
            "linecolor": "white",
            "ticks": ""
           },
           "bgcolor": "#E5ECF6",
           "caxis": {
            "gridcolor": "white",
            "linecolor": "white",
            "ticks": ""
           }
          },
          "title": {
           "x": 0.05
          },
          "xaxis": {
           "automargin": true,
           "gridcolor": "white",
           "linecolor": "white",
           "ticks": "",
           "title": {
            "standoff": 15
           },
           "zerolinecolor": "white",
           "zerolinewidth": 2
          },
          "yaxis": {
           "automargin": true,
           "gridcolor": "white",
           "linecolor": "white",
           "ticks": "",
           "title": {
            "standoff": 15
           },
           "zerolinecolor": "white",
           "zerolinewidth": 2
          }
         }
        },
        "title": {
         "text": "Overview comparison"
        },
        "xaxis": {
         "anchor": "y",
         "domain": [
          0,
          1
         ],
         "title": {
          "text": "value"
         }
        },
        "yaxis": {
         "anchor": "x",
         "domain": [
          0,
          1
         ],
         "title": {
          "text": "Customer Name"
         }
        }
       }
      }
     },
     "metadata": {},
     "output_type": "display_data"
    }
   ],
   "source": [
    "chosen_cols4 =['Sales', 'Profit', 'Discount']\n",
    "df3 = top_data.groupby('Order ID')[['Customer Name','Sales', 'Profit', 'Discount']].sum()\n",
    "\n",
    "\n",
    "fig = px.bar(df3, \n",
    "             y='Customer Name',\n",
    "            x=chosen_cols4, \n",
    "              title= 'Overview comparison')\n",
    "fig.show()"
   ]
  },
  {
   "cell_type": "markdown",
   "metadata": {},
   "source": [
    "### Lets try a New dataset"
   ]
  },
  {
   "cell_type": "markdown",
   "metadata": {},
   "source": [
    "lets try a bar grph "
   ]
  },
  {
   "cell_type": "code",
   "execution_count": 16,
   "metadata": {},
   "outputs": [
    {
     "data": {
      "text/html": [
       "<div>\n",
       "<style scoped>\n",
       "    .dataframe tbody tr th:only-of-type {\n",
       "        vertical-align: middle;\n",
       "    }\n",
       "\n",
       "    .dataframe tbody tr th {\n",
       "        vertical-align: top;\n",
       "    }\n",
       "\n",
       "    .dataframe thead th {\n",
       "        text-align: right;\n",
       "    }\n",
       "</style>\n",
       "<table border=\"1\" class=\"dataframe\">\n",
       "  <thead>\n",
       "    <tr style=\"text-align: right;\">\n",
       "      <th></th>\n",
       "      <th>Retailer</th>\n",
       "      <th>RetailerID</th>\n",
       "      <th>InvoiceDate</th>\n",
       "      <th>Region</th>\n",
       "      <th>State</th>\n",
       "      <th>City</th>\n",
       "      <th>Product</th>\n",
       "      <th>PriceperUnit</th>\n",
       "      <th>UnitsSold</th>\n",
       "      <th>TotalSales</th>\n",
       "      <th>OperatingProfit</th>\n",
       "      <th>OperatingMargin</th>\n",
       "      <th>SalesMethod</th>\n",
       "    </tr>\n",
       "  </thead>\n",
       "  <tbody>\n",
       "    <tr>\n",
       "      <th>0</th>\n",
       "      <td>Foot Locker</td>\n",
       "      <td>1185732</td>\n",
       "      <td>2020-02-03</td>\n",
       "      <td>Northeast</td>\n",
       "      <td>New York</td>\n",
       "      <td>New York</td>\n",
       "      <td>Women's Athletic Footwear</td>\n",
       "      <td>45.0</td>\n",
       "      <td>825</td>\n",
       "      <td>371250.0</td>\n",
       "      <td>129937.50</td>\n",
       "      <td>0.35</td>\n",
       "      <td>Outlet</td>\n",
       "    </tr>\n",
       "    <tr>\n",
       "      <th>1</th>\n",
       "      <td>Foot Locker</td>\n",
       "      <td>1185732</td>\n",
       "      <td>2020-02-04</td>\n",
       "      <td>Northeast</td>\n",
       "      <td>New York</td>\n",
       "      <td>New York</td>\n",
       "      <td>Men's Apparel</td>\n",
       "      <td>60.0</td>\n",
       "      <td>825</td>\n",
       "      <td>495000.0</td>\n",
       "      <td>148500.00</td>\n",
       "      <td>0.30</td>\n",
       "      <td>Outlet</td>\n",
       "    </tr>\n",
       "    <tr>\n",
       "      <th>2</th>\n",
       "      <td>Foot Locker</td>\n",
       "      <td>1185732</td>\n",
       "      <td>2020-02-05</td>\n",
       "      <td>Northeast</td>\n",
       "      <td>New York</td>\n",
       "      <td>New York</td>\n",
       "      <td>Women's Apparel</td>\n",
       "      <td>50.0</td>\n",
       "      <td>950</td>\n",
       "      <td>475000.0</td>\n",
       "      <td>118750.00</td>\n",
       "      <td>0.25</td>\n",
       "      <td>Outlet</td>\n",
       "    </tr>\n",
       "    <tr>\n",
       "      <th>3</th>\n",
       "      <td>Foot Locker</td>\n",
       "      <td>1185732</td>\n",
       "      <td>2020-02-06</td>\n",
       "      <td>Northeast</td>\n",
       "      <td>New York</td>\n",
       "      <td>New York</td>\n",
       "      <td>Men's Street Footwear</td>\n",
       "      <td>60.0</td>\n",
       "      <td>1220</td>\n",
       "      <td>732000.0</td>\n",
       "      <td>366000.00</td>\n",
       "      <td>0.50</td>\n",
       "      <td>Outlet</td>\n",
       "    </tr>\n",
       "    <tr>\n",
       "      <th>4</th>\n",
       "      <td>Foot Locker</td>\n",
       "      <td>1185732</td>\n",
       "      <td>2020-02-07</td>\n",
       "      <td>Northeast</td>\n",
       "      <td>New York</td>\n",
       "      <td>New York</td>\n",
       "      <td>Men's Athletic Footwear</td>\n",
       "      <td>55.0</td>\n",
       "      <td>925</td>\n",
       "      <td>508750.0</td>\n",
       "      <td>152625.00</td>\n",
       "      <td>0.30</td>\n",
       "      <td>Outlet</td>\n",
       "    </tr>\n",
       "    <tr>\n",
       "      <th>...</th>\n",
       "      <td>...</td>\n",
       "      <td>...</td>\n",
       "      <td>...</td>\n",
       "      <td>...</td>\n",
       "      <td>...</td>\n",
       "      <td>...</td>\n",
       "      <td>...</td>\n",
       "      <td>...</td>\n",
       "      <td>...</td>\n",
       "      <td>...</td>\n",
       "      <td>...</td>\n",
       "      <td>...</td>\n",
       "      <td>...</td>\n",
       "    </tr>\n",
       "    <tr>\n",
       "      <th>9643</th>\n",
       "      <td>Foot Locker</td>\n",
       "      <td>1185732</td>\n",
       "      <td>2021-01-24</td>\n",
       "      <td>Northeast</td>\n",
       "      <td>New Hampshire</td>\n",
       "      <td>Manchester</td>\n",
       "      <td>Men's Apparel</td>\n",
       "      <td>50.0</td>\n",
       "      <td>64</td>\n",
       "      <td>3200.0</td>\n",
       "      <td>896.00</td>\n",
       "      <td>0.28</td>\n",
       "      <td>Outlet</td>\n",
       "    </tr>\n",
       "    <tr>\n",
       "      <th>9644</th>\n",
       "      <td>Foot Locker</td>\n",
       "      <td>1185732</td>\n",
       "      <td>2021-01-24</td>\n",
       "      <td>Northeast</td>\n",
       "      <td>New Hampshire</td>\n",
       "      <td>Manchester</td>\n",
       "      <td>Women's Apparel</td>\n",
       "      <td>41.0</td>\n",
       "      <td>105</td>\n",
       "      <td>4305.0</td>\n",
       "      <td>1377.60</td>\n",
       "      <td>0.32</td>\n",
       "      <td>Outlet</td>\n",
       "    </tr>\n",
       "    <tr>\n",
       "      <th>9645</th>\n",
       "      <td>Foot Locker</td>\n",
       "      <td>1185732</td>\n",
       "      <td>2021-02-22</td>\n",
       "      <td>Northeast</td>\n",
       "      <td>New Hampshire</td>\n",
       "      <td>Manchester</td>\n",
       "      <td>Men's Street Footwear</td>\n",
       "      <td>41.0</td>\n",
       "      <td>184</td>\n",
       "      <td>7544.0</td>\n",
       "      <td>2791.28</td>\n",
       "      <td>0.37</td>\n",
       "      <td>Outlet</td>\n",
       "    </tr>\n",
       "    <tr>\n",
       "      <th>9646</th>\n",
       "      <td>Foot Locker</td>\n",
       "      <td>1185732</td>\n",
       "      <td>2021-02-22</td>\n",
       "      <td>Northeast</td>\n",
       "      <td>New Hampshire</td>\n",
       "      <td>Manchester</td>\n",
       "      <td>Men's Athletic Footwear</td>\n",
       "      <td>42.0</td>\n",
       "      <td>70</td>\n",
       "      <td>2940.0</td>\n",
       "      <td>1234.80</td>\n",
       "      <td>0.42</td>\n",
       "      <td>Outlet</td>\n",
       "    </tr>\n",
       "    <tr>\n",
       "      <th>9647</th>\n",
       "      <td>Foot Locker</td>\n",
       "      <td>1185732</td>\n",
       "      <td>2021-02-22</td>\n",
       "      <td>Northeast</td>\n",
       "      <td>New Hampshire</td>\n",
       "      <td>Manchester</td>\n",
       "      <td>Women's Street Footwear</td>\n",
       "      <td>29.0</td>\n",
       "      <td>83</td>\n",
       "      <td>2407.0</td>\n",
       "      <td>649.89</td>\n",
       "      <td>0.27</td>\n",
       "      <td>Outlet</td>\n",
       "    </tr>\n",
       "  </tbody>\n",
       "</table>\n",
       "<p>9648 rows × 13 columns</p>\n",
       "</div>"
      ],
      "text/plain": [
       "         Retailer  RetailerID InvoiceDate     Region          State  \\\n",
       "0     Foot Locker     1185732  2020-02-03  Northeast       New York   \n",
       "1     Foot Locker     1185732  2020-02-04  Northeast       New York   \n",
       "2     Foot Locker     1185732  2020-02-05  Northeast       New York   \n",
       "3     Foot Locker     1185732  2020-02-06  Northeast       New York   \n",
       "4     Foot Locker     1185732  2020-02-07  Northeast       New York   \n",
       "...           ...         ...         ...        ...            ...   \n",
       "9643  Foot Locker     1185732  2021-01-24  Northeast  New Hampshire   \n",
       "9644  Foot Locker     1185732  2021-01-24  Northeast  New Hampshire   \n",
       "9645  Foot Locker     1185732  2021-02-22  Northeast  New Hampshire   \n",
       "9646  Foot Locker     1185732  2021-02-22  Northeast  New Hampshire   \n",
       "9647  Foot Locker     1185732  2021-02-22  Northeast  New Hampshire   \n",
       "\n",
       "            City                    Product  PriceperUnit  UnitsSold  \\\n",
       "0       New York  Women's Athletic Footwear          45.0        825   \n",
       "1       New York              Men's Apparel          60.0        825   \n",
       "2       New York            Women's Apparel          50.0        950   \n",
       "3       New York      Men's Street Footwear          60.0       1220   \n",
       "4       New York    Men's Athletic Footwear          55.0        925   \n",
       "...          ...                        ...           ...        ...   \n",
       "9643  Manchester              Men's Apparel          50.0         64   \n",
       "9644  Manchester            Women's Apparel          41.0        105   \n",
       "9645  Manchester      Men's Street Footwear          41.0        184   \n",
       "9646  Manchester    Men's Athletic Footwear          42.0         70   \n",
       "9647  Manchester    Women's Street Footwear          29.0         83   \n",
       "\n",
       "      TotalSales  OperatingProfit  OperatingMargin SalesMethod  \n",
       "0       371250.0        129937.50             0.35      Outlet  \n",
       "1       495000.0        148500.00             0.30      Outlet  \n",
       "2       475000.0        118750.00             0.25      Outlet  \n",
       "3       732000.0        366000.00             0.50      Outlet  \n",
       "4       508750.0        152625.00             0.30      Outlet  \n",
       "...          ...              ...              ...         ...  \n",
       "9643      3200.0           896.00             0.28      Outlet  \n",
       "9644      4305.0          1377.60             0.32      Outlet  \n",
       "9645      7544.0          2791.28             0.37      Outlet  \n",
       "9646      2940.0          1234.80             0.42      Outlet  \n",
       "9647      2407.0           649.89             0.27      Outlet  \n",
       "\n",
       "[9648 rows x 13 columns]"
      ]
     },
     "execution_count": 16,
     "metadata": {},
     "output_type": "execute_result"
    }
   ],
   "source": [
    "dataframe = pd.read_excel('data/Adidas.xlsx')\n",
    "dataframe"
   ]
  },
  {
   "cell_type": "markdown",
   "metadata": {},
   "source": []
  },
  {
   "cell_type": "code",
   "execution_count": 17,
   "metadata": {},
   "outputs": [
    {
     "data": {
      "application/vnd.plotly.v1+json": {
       "config": {
        "plotlyServerURL": "https://plot.ly"
       },
       "data": [
        {
         "hovertemplate": "InvoiceDate=%{x}<br>TotalSales=%{y}<extra></extra>",
         "legendgroup": "",
         "line": {
          "color": "#636efa",
          "dash": "solid"
         },
         "marker": {
          "symbol": "circle"
         },
         "mode": "lines",
         "name": "",
         "orientation": "v",
         "showlegend": false,
         "type": "scatter",
         "x": [
          "2020-01",
          "2020-02",
          "2020-03",
          "2020-04",
          "2020-05",
          "2020-06",
          "2020-07",
          "2020-08",
          "2020-09",
          "2020-10",
          "2020-11",
          "2020-12",
          "2021-01",
          "2021-02",
          "2021-03",
          "2021-04",
          "2021-05",
          "2021-06",
          "2021-07",
          "2021-08",
          "2021-09",
          "2021-10",
          "2021-11",
          "2021-12"
         ],
         "xaxis": "x",
         "y": [
          16036246,
          14997988,
          17660577,
          24607006,
          16918014,
          8829819,
          17146013,
          19877980,
          18304436,
          10836269.000000002,
          8622300,
          8026527,
          55225396,
          46102165,
          39148532,
          47732964,
          63589681,
          65917553,
          78334681,
          72288221,
          59357023.00000001,
          53074764.00000001,
          59235040.00000001,
          77815430
         ],
         "yaxis": "y"
        }
       ],
       "layout": {
        "legend": {
         "tracegroupgap": 0
        },
        "template": {
         "data": {
          "bar": [
           {
            "error_x": {
             "color": "#2a3f5f"
            },
            "error_y": {
             "color": "#2a3f5f"
            },
            "marker": {
             "line": {
              "color": "#E5ECF6",
              "width": 0.5
             },
             "pattern": {
              "fillmode": "overlay",
              "size": 10,
              "solidity": 0.2
             }
            },
            "type": "bar"
           }
          ],
          "barpolar": [
           {
            "marker": {
             "line": {
              "color": "#E5ECF6",
              "width": 0.5
             },
             "pattern": {
              "fillmode": "overlay",
              "size": 10,
              "solidity": 0.2
             }
            },
            "type": "barpolar"
           }
          ],
          "carpet": [
           {
            "aaxis": {
             "endlinecolor": "#2a3f5f",
             "gridcolor": "white",
             "linecolor": "white",
             "minorgridcolor": "white",
             "startlinecolor": "#2a3f5f"
            },
            "baxis": {
             "endlinecolor": "#2a3f5f",
             "gridcolor": "white",
             "linecolor": "white",
             "minorgridcolor": "white",
             "startlinecolor": "#2a3f5f"
            },
            "type": "carpet"
           }
          ],
          "choropleth": [
           {
            "colorbar": {
             "outlinewidth": 0,
             "ticks": ""
            },
            "type": "choropleth"
           }
          ],
          "contour": [
           {
            "colorbar": {
             "outlinewidth": 0,
             "ticks": ""
            },
            "colorscale": [
             [
              0,
              "#0d0887"
             ],
             [
              0.1111111111111111,
              "#46039f"
             ],
             [
              0.2222222222222222,
              "#7201a8"
             ],
             [
              0.3333333333333333,
              "#9c179e"
             ],
             [
              0.4444444444444444,
              "#bd3786"
             ],
             [
              0.5555555555555556,
              "#d8576b"
             ],
             [
              0.6666666666666666,
              "#ed7953"
             ],
             [
              0.7777777777777778,
              "#fb9f3a"
             ],
             [
              0.8888888888888888,
              "#fdca26"
             ],
             [
              1,
              "#f0f921"
             ]
            ],
            "type": "contour"
           }
          ],
          "contourcarpet": [
           {
            "colorbar": {
             "outlinewidth": 0,
             "ticks": ""
            },
            "type": "contourcarpet"
           }
          ],
          "heatmap": [
           {
            "colorbar": {
             "outlinewidth": 0,
             "ticks": ""
            },
            "colorscale": [
             [
              0,
              "#0d0887"
             ],
             [
              0.1111111111111111,
              "#46039f"
             ],
             [
              0.2222222222222222,
              "#7201a8"
             ],
             [
              0.3333333333333333,
              "#9c179e"
             ],
             [
              0.4444444444444444,
              "#bd3786"
             ],
             [
              0.5555555555555556,
              "#d8576b"
             ],
             [
              0.6666666666666666,
              "#ed7953"
             ],
             [
              0.7777777777777778,
              "#fb9f3a"
             ],
             [
              0.8888888888888888,
              "#fdca26"
             ],
             [
              1,
              "#f0f921"
             ]
            ],
            "type": "heatmap"
           }
          ],
          "heatmapgl": [
           {
            "colorbar": {
             "outlinewidth": 0,
             "ticks": ""
            },
            "colorscale": [
             [
              0,
              "#0d0887"
             ],
             [
              0.1111111111111111,
              "#46039f"
             ],
             [
              0.2222222222222222,
              "#7201a8"
             ],
             [
              0.3333333333333333,
              "#9c179e"
             ],
             [
              0.4444444444444444,
              "#bd3786"
             ],
             [
              0.5555555555555556,
              "#d8576b"
             ],
             [
              0.6666666666666666,
              "#ed7953"
             ],
             [
              0.7777777777777778,
              "#fb9f3a"
             ],
             [
              0.8888888888888888,
              "#fdca26"
             ],
             [
              1,
              "#f0f921"
             ]
            ],
            "type": "heatmapgl"
           }
          ],
          "histogram": [
           {
            "marker": {
             "pattern": {
              "fillmode": "overlay",
              "size": 10,
              "solidity": 0.2
             }
            },
            "type": "histogram"
           }
          ],
          "histogram2d": [
           {
            "colorbar": {
             "outlinewidth": 0,
             "ticks": ""
            },
            "colorscale": [
             [
              0,
              "#0d0887"
             ],
             [
              0.1111111111111111,
              "#46039f"
             ],
             [
              0.2222222222222222,
              "#7201a8"
             ],
             [
              0.3333333333333333,
              "#9c179e"
             ],
             [
              0.4444444444444444,
              "#bd3786"
             ],
             [
              0.5555555555555556,
              "#d8576b"
             ],
             [
              0.6666666666666666,
              "#ed7953"
             ],
             [
              0.7777777777777778,
              "#fb9f3a"
             ],
             [
              0.8888888888888888,
              "#fdca26"
             ],
             [
              1,
              "#f0f921"
             ]
            ],
            "type": "histogram2d"
           }
          ],
          "histogram2dcontour": [
           {
            "colorbar": {
             "outlinewidth": 0,
             "ticks": ""
            },
            "colorscale": [
             [
              0,
              "#0d0887"
             ],
             [
              0.1111111111111111,
              "#46039f"
             ],
             [
              0.2222222222222222,
              "#7201a8"
             ],
             [
              0.3333333333333333,
              "#9c179e"
             ],
             [
              0.4444444444444444,
              "#bd3786"
             ],
             [
              0.5555555555555556,
              "#d8576b"
             ],
             [
              0.6666666666666666,
              "#ed7953"
             ],
             [
              0.7777777777777778,
              "#fb9f3a"
             ],
             [
              0.8888888888888888,
              "#fdca26"
             ],
             [
              1,
              "#f0f921"
             ]
            ],
            "type": "histogram2dcontour"
           }
          ],
          "mesh3d": [
           {
            "colorbar": {
             "outlinewidth": 0,
             "ticks": ""
            },
            "type": "mesh3d"
           }
          ],
          "parcoords": [
           {
            "line": {
             "colorbar": {
              "outlinewidth": 0,
              "ticks": ""
             }
            },
            "type": "parcoords"
           }
          ],
          "pie": [
           {
            "automargin": true,
            "type": "pie"
           }
          ],
          "scatter": [
           {
            "fillpattern": {
             "fillmode": "overlay",
             "size": 10,
             "solidity": 0.2
            },
            "type": "scatter"
           }
          ],
          "scatter3d": [
           {
            "line": {
             "colorbar": {
              "outlinewidth": 0,
              "ticks": ""
             }
            },
            "marker": {
             "colorbar": {
              "outlinewidth": 0,
              "ticks": ""
             }
            },
            "type": "scatter3d"
           }
          ],
          "scattercarpet": [
           {
            "marker": {
             "colorbar": {
              "outlinewidth": 0,
              "ticks": ""
             }
            },
            "type": "scattercarpet"
           }
          ],
          "scattergeo": [
           {
            "marker": {
             "colorbar": {
              "outlinewidth": 0,
              "ticks": ""
             }
            },
            "type": "scattergeo"
           }
          ],
          "scattergl": [
           {
            "marker": {
             "colorbar": {
              "outlinewidth": 0,
              "ticks": ""
             }
            },
            "type": "scattergl"
           }
          ],
          "scattermapbox": [
           {
            "marker": {
             "colorbar": {
              "outlinewidth": 0,
              "ticks": ""
             }
            },
            "type": "scattermapbox"
           }
          ],
          "scatterpolar": [
           {
            "marker": {
             "colorbar": {
              "outlinewidth": 0,
              "ticks": ""
             }
            },
            "type": "scatterpolar"
           }
          ],
          "scatterpolargl": [
           {
            "marker": {
             "colorbar": {
              "outlinewidth": 0,
              "ticks": ""
             }
            },
            "type": "scatterpolargl"
           }
          ],
          "scatterternary": [
           {
            "marker": {
             "colorbar": {
              "outlinewidth": 0,
              "ticks": ""
             }
            },
            "type": "scatterternary"
           }
          ],
          "surface": [
           {
            "colorbar": {
             "outlinewidth": 0,
             "ticks": ""
            },
            "colorscale": [
             [
              0,
              "#0d0887"
             ],
             [
              0.1111111111111111,
              "#46039f"
             ],
             [
              0.2222222222222222,
              "#7201a8"
             ],
             [
              0.3333333333333333,
              "#9c179e"
             ],
             [
              0.4444444444444444,
              "#bd3786"
             ],
             [
              0.5555555555555556,
              "#d8576b"
             ],
             [
              0.6666666666666666,
              "#ed7953"
             ],
             [
              0.7777777777777778,
              "#fb9f3a"
             ],
             [
              0.8888888888888888,
              "#fdca26"
             ],
             [
              1,
              "#f0f921"
             ]
            ],
            "type": "surface"
           }
          ],
          "table": [
           {
            "cells": {
             "fill": {
              "color": "#EBF0F8"
             },
             "line": {
              "color": "white"
             }
            },
            "header": {
             "fill": {
              "color": "#C8D4E3"
             },
             "line": {
              "color": "white"
             }
            },
            "type": "table"
           }
          ]
         },
         "layout": {
          "annotationdefaults": {
           "arrowcolor": "#2a3f5f",
           "arrowhead": 0,
           "arrowwidth": 1
          },
          "autotypenumbers": "strict",
          "coloraxis": {
           "colorbar": {
            "outlinewidth": 0,
            "ticks": ""
           }
          },
          "colorscale": {
           "diverging": [
            [
             0,
             "#8e0152"
            ],
            [
             0.1,
             "#c51b7d"
            ],
            [
             0.2,
             "#de77ae"
            ],
            [
             0.3,
             "#f1b6da"
            ],
            [
             0.4,
             "#fde0ef"
            ],
            [
             0.5,
             "#f7f7f7"
            ],
            [
             0.6,
             "#e6f5d0"
            ],
            [
             0.7,
             "#b8e186"
            ],
            [
             0.8,
             "#7fbc41"
            ],
            [
             0.9,
             "#4d9221"
            ],
            [
             1,
             "#276419"
            ]
           ],
           "sequential": [
            [
             0,
             "#0d0887"
            ],
            [
             0.1111111111111111,
             "#46039f"
            ],
            [
             0.2222222222222222,
             "#7201a8"
            ],
            [
             0.3333333333333333,
             "#9c179e"
            ],
            [
             0.4444444444444444,
             "#bd3786"
            ],
            [
             0.5555555555555556,
             "#d8576b"
            ],
            [
             0.6666666666666666,
             "#ed7953"
            ],
            [
             0.7777777777777778,
             "#fb9f3a"
            ],
            [
             0.8888888888888888,
             "#fdca26"
            ],
            [
             1,
             "#f0f921"
            ]
           ],
           "sequentialminus": [
            [
             0,
             "#0d0887"
            ],
            [
             0.1111111111111111,
             "#46039f"
            ],
            [
             0.2222222222222222,
             "#7201a8"
            ],
            [
             0.3333333333333333,
             "#9c179e"
            ],
            [
             0.4444444444444444,
             "#bd3786"
            ],
            [
             0.5555555555555556,
             "#d8576b"
            ],
            [
             0.6666666666666666,
             "#ed7953"
            ],
            [
             0.7777777777777778,
             "#fb9f3a"
            ],
            [
             0.8888888888888888,
             "#fdca26"
            ],
            [
             1,
             "#f0f921"
            ]
           ]
          },
          "colorway": [
           "#636efa",
           "#EF553B",
           "#00cc96",
           "#ab63fa",
           "#FFA15A",
           "#19d3f3",
           "#FF6692",
           "#B6E880",
           "#FF97FF",
           "#FECB52"
          ],
          "font": {
           "color": "#2a3f5f"
          },
          "geo": {
           "bgcolor": "white",
           "lakecolor": "white",
           "landcolor": "#E5ECF6",
           "showlakes": true,
           "showland": true,
           "subunitcolor": "white"
          },
          "hoverlabel": {
           "align": "left"
          },
          "hovermode": "closest",
          "mapbox": {
           "style": "light"
          },
          "paper_bgcolor": "white",
          "plot_bgcolor": "#E5ECF6",
          "polar": {
           "angularaxis": {
            "gridcolor": "white",
            "linecolor": "white",
            "ticks": ""
           },
           "bgcolor": "#E5ECF6",
           "radialaxis": {
            "gridcolor": "white",
            "linecolor": "white",
            "ticks": ""
           }
          },
          "scene": {
           "xaxis": {
            "backgroundcolor": "#E5ECF6",
            "gridcolor": "white",
            "gridwidth": 2,
            "linecolor": "white",
            "showbackground": true,
            "ticks": "",
            "zerolinecolor": "white"
           },
           "yaxis": {
            "backgroundcolor": "#E5ECF6",
            "gridcolor": "white",
            "gridwidth": 2,
            "linecolor": "white",
            "showbackground": true,
            "ticks": "",
            "zerolinecolor": "white"
           },
           "zaxis": {
            "backgroundcolor": "#E5ECF6",
            "gridcolor": "white",
            "gridwidth": 2,
            "linecolor": "white",
            "showbackground": true,
            "ticks": "",
            "zerolinecolor": "white"
           }
          },
          "shapedefaults": {
           "line": {
            "color": "#2a3f5f"
           }
          },
          "ternary": {
           "aaxis": {
            "gridcolor": "white",
            "linecolor": "white",
            "ticks": ""
           },
           "baxis": {
            "gridcolor": "white",
            "linecolor": "white",
            "ticks": ""
           },
           "bgcolor": "#E5ECF6",
           "caxis": {
            "gridcolor": "white",
            "linecolor": "white",
            "ticks": ""
           }
          },
          "title": {
           "x": 0.05
          },
          "xaxis": {
           "automargin": true,
           "gridcolor": "white",
           "linecolor": "white",
           "ticks": "",
           "title": {
            "standoff": 15
           },
           "zerolinecolor": "white",
           "zerolinewidth": 2
          },
          "yaxis": {
           "automargin": true,
           "gridcolor": "white",
           "linecolor": "white",
           "ticks": "",
           "title": {
            "standoff": 15
           },
           "zerolinecolor": "white",
           "zerolinewidth": 2
          }
         }
        },
        "title": {
         "text": "Total Sales over Time"
        },
        "xaxis": {
         "anchor": "y",
         "domain": [
          0,
          1
         ],
         "tickformat": "%Y-%m",
         "title": {
          "text": "Year"
         }
        },
        "yaxis": {
         "anchor": "x",
         "domain": [
          0,
          1
         ],
         "title": {
          "text": "Total Sales"
         }
        }
       }
      }
     },
     "metadata": {},
     "output_type": "display_data"
    }
   ],
   "source": [
    "# graph2\n",
    "# Convert 'InvoiceDate' to datetime format \n",
    "dataframe['InvoiceDate'] = pd.to_datetime(dataframe['InvoiceDate'])\n",
    "dataframe['InvoiceDate'] = dataframe['InvoiceDate'].dt.strftime('%Y-%m')\n",
    "\n",
    "\n",
    "# 2. Group data by year, month, etc. (choose your desired time granularity)\n",
    "total_sales_over_time = dataframe.groupby([dataframe['InvoiceDate']])['TotalSales'].sum().reset_index()\n",
    "\n",
    "# Create the plot\n",
    "fig2= px.line(\n",
    "    data_frame=total_sales_over_time,\n",
    "    x='InvoiceDate',  # Replace with your time column name if different\n",
    "    y='TotalSales',\n",
    "    title='Total Sales Over Time'\n",
    ")\n",
    "\n",
    "# Customize the plot \n",
    "fig2.update_layout(\n",
    "    title='Total Sales over Time',\n",
    "    xaxis_title='Year',  # Adjust title based on your time granularity\n",
    "    yaxis_title='Total Sales',\n",
    "    xaxis_tickformat=\"%Y-%m\"\n",
    ")"
   ]
  },
  {
   "cell_type": "markdown",
   "metadata": {},
   "source": [
    "Lets try a combination of graphs "
   ]
  },
  {
   "cell_type": "code",
   "execution_count": 18,
   "metadata": {},
   "outputs": [
    {
     "data": {
      "application/vnd.plotly.v1+json": {
       "config": {
        "plotlyServerURL": "https://plot.ly"
       },
       "data": [
        {
         "marker": {
          "color": "royalblue"
         },
         "name": "Total Sales",
         "type": "bar",
         "x": [
          "Alabama",
          "Alaska",
          "Arizona",
          "Arkansas",
          "California",
          "Colorado",
          "Connecticut",
          "Delaware",
          "Florida",
          "Georgia",
          "Hawaii",
          "Idaho",
          "Illinois",
          "Indiana",
          "Iowa",
          "Kansas",
          "Kentucky",
          "Louisiana",
          "Maine",
          "Maryland",
          "Massachusetts",
          "Michigan",
          "Minnesota",
          "Mississippi",
          "Missouri",
          "Montana",
          "Nebraska",
          "Nevada",
          "New Hampshire",
          "New Jersey",
          "New Mexico",
          "New York",
          "North Carolina",
          "North Dakota",
          "Ohio",
          "Oklahoma",
          "Oregon",
          "Pennsylvania",
          "Rhode Island",
          "South Carolina",
          "South Dakota",
          "Tennessee",
          "Texas",
          "Utah",
          "Vermont",
          "Virginia",
          "Washington",
          "West Virginia",
          "Wisconsin",
          "Wyoming"
         ],
         "y": [
          17633424,
          14753103.000000002,
          15782221.000000002,
          12639347,
          60174133,
          20996536,
          11573448,
          12298412,
          59283714.00000001,
          18997466,
          22282457,
          19276878,
          9797488,
          8836198,
          7424011,
          9972864,
          10072848,
          23750781.000000004,
          9195978,
          7758059,
          11076810,
          18625433,
          7378068,
          15591709.000000002,
          9683265,
          15710886,
          5929038,
          20858509,
          16411667.000000002,
          9934246,
          19865016.000000004,
          64011539,
          23956531,
          7735580,
          18484583,
          10620734,
          21349674,
          10357519,
          8446806,
          29285637,
          8495576,
          18067440,
          46359746,
          9696420,
          14352923,
          21575040,
          26330718.000000004,
          10689160,
          7727469,
          18577517
         ]
        },
        {
         "line": {
          "color": "orange"
         },
         "marker": {
          "opacity": 0
         },
         "name": "Units Sold",
         "type": "scatter",
         "x": [
          "Alabama",
          "Alaska",
          "Arizona",
          "Arkansas",
          "California",
          "Colorado",
          "Connecticut",
          "Delaware",
          "Florida",
          "Georgia",
          "Hawaii",
          "Idaho",
          "Illinois",
          "Indiana",
          "Iowa",
          "Kansas",
          "Kentucky",
          "Louisiana",
          "Maine",
          "Maryland",
          "Massachusetts",
          "Michigan",
          "Minnesota",
          "Mississippi",
          "Missouri",
          "Montana",
          "Nebraska",
          "Nevada",
          "New Hampshire",
          "New Jersey",
          "New Mexico",
          "New York",
          "North Carolina",
          "North Dakota",
          "Ohio",
          "Oklahoma",
          "Oregon",
          "Pennsylvania",
          "Rhode Island",
          "South Carolina",
          "South Dakota",
          "Tennessee",
          "Texas",
          "Utah",
          "Vermont",
          "Virginia",
          "Washington",
          "West Virginia",
          "Wisconsin",
          "Wyoming"
         ],
         "y": [
          63327,
          30815,
          46919,
          48468,
          163284,
          41378,
          34696,
          30275,
          133430,
          56391,
          40375,
          63827,
          25407,
          26332,
          23446,
          29463,
          28664,
          57615,
          22410,
          20818,
          32895,
          50095,
          20838,
          56814,
          36404,
          42713,
          19154,
          51831,
          40812,
          26540,
          52633,
          169140,
          62936,
          22781,
          47781,
          40459,
          50536,
          27662,
          27473,
          72610,
          22973,
          66077,
          159500,
          48548,
          38685,
          52969,
          46611,
          29873,
          23950,
          50228
         ],
         "yaxis": "y2"
        }
       ],
       "layout": {
        "template": {
         "data": {
          "bar": [
           {
            "error_x": {
             "color": "#2a3f5f"
            },
            "error_y": {
             "color": "#2a3f5f"
            },
            "marker": {
             "line": {
              "color": "#E5ECF6",
              "width": 0.5
             },
             "pattern": {
              "fillmode": "overlay",
              "size": 10,
              "solidity": 0.2
             }
            },
            "type": "bar"
           }
          ],
          "barpolar": [
           {
            "marker": {
             "line": {
              "color": "#E5ECF6",
              "width": 0.5
             },
             "pattern": {
              "fillmode": "overlay",
              "size": 10,
              "solidity": 0.2
             }
            },
            "type": "barpolar"
           }
          ],
          "carpet": [
           {
            "aaxis": {
             "endlinecolor": "#2a3f5f",
             "gridcolor": "white",
             "linecolor": "white",
             "minorgridcolor": "white",
             "startlinecolor": "#2a3f5f"
            },
            "baxis": {
             "endlinecolor": "#2a3f5f",
             "gridcolor": "white",
             "linecolor": "white",
             "minorgridcolor": "white",
             "startlinecolor": "#2a3f5f"
            },
            "type": "carpet"
           }
          ],
          "choropleth": [
           {
            "colorbar": {
             "outlinewidth": 0,
             "ticks": ""
            },
            "type": "choropleth"
           }
          ],
          "contour": [
           {
            "colorbar": {
             "outlinewidth": 0,
             "ticks": ""
            },
            "colorscale": [
             [
              0,
              "#0d0887"
             ],
             [
              0.1111111111111111,
              "#46039f"
             ],
             [
              0.2222222222222222,
              "#7201a8"
             ],
             [
              0.3333333333333333,
              "#9c179e"
             ],
             [
              0.4444444444444444,
              "#bd3786"
             ],
             [
              0.5555555555555556,
              "#d8576b"
             ],
             [
              0.6666666666666666,
              "#ed7953"
             ],
             [
              0.7777777777777778,
              "#fb9f3a"
             ],
             [
              0.8888888888888888,
              "#fdca26"
             ],
             [
              1,
              "#f0f921"
             ]
            ],
            "type": "contour"
           }
          ],
          "contourcarpet": [
           {
            "colorbar": {
             "outlinewidth": 0,
             "ticks": ""
            },
            "type": "contourcarpet"
           }
          ],
          "heatmap": [
           {
            "colorbar": {
             "outlinewidth": 0,
             "ticks": ""
            },
            "colorscale": [
             [
              0,
              "#0d0887"
             ],
             [
              0.1111111111111111,
              "#46039f"
             ],
             [
              0.2222222222222222,
              "#7201a8"
             ],
             [
              0.3333333333333333,
              "#9c179e"
             ],
             [
              0.4444444444444444,
              "#bd3786"
             ],
             [
              0.5555555555555556,
              "#d8576b"
             ],
             [
              0.6666666666666666,
              "#ed7953"
             ],
             [
              0.7777777777777778,
              "#fb9f3a"
             ],
             [
              0.8888888888888888,
              "#fdca26"
             ],
             [
              1,
              "#f0f921"
             ]
            ],
            "type": "heatmap"
           }
          ],
          "heatmapgl": [
           {
            "colorbar": {
             "outlinewidth": 0,
             "ticks": ""
            },
            "colorscale": [
             [
              0,
              "#0d0887"
             ],
             [
              0.1111111111111111,
              "#46039f"
             ],
             [
              0.2222222222222222,
              "#7201a8"
             ],
             [
              0.3333333333333333,
              "#9c179e"
             ],
             [
              0.4444444444444444,
              "#bd3786"
             ],
             [
              0.5555555555555556,
              "#d8576b"
             ],
             [
              0.6666666666666666,
              "#ed7953"
             ],
             [
              0.7777777777777778,
              "#fb9f3a"
             ],
             [
              0.8888888888888888,
              "#fdca26"
             ],
             [
              1,
              "#f0f921"
             ]
            ],
            "type": "heatmapgl"
           }
          ],
          "histogram": [
           {
            "marker": {
             "pattern": {
              "fillmode": "overlay",
              "size": 10,
              "solidity": 0.2
             }
            },
            "type": "histogram"
           }
          ],
          "histogram2d": [
           {
            "colorbar": {
             "outlinewidth": 0,
             "ticks": ""
            },
            "colorscale": [
             [
              0,
              "#0d0887"
             ],
             [
              0.1111111111111111,
              "#46039f"
             ],
             [
              0.2222222222222222,
              "#7201a8"
             ],
             [
              0.3333333333333333,
              "#9c179e"
             ],
             [
              0.4444444444444444,
              "#bd3786"
             ],
             [
              0.5555555555555556,
              "#d8576b"
             ],
             [
              0.6666666666666666,
              "#ed7953"
             ],
             [
              0.7777777777777778,
              "#fb9f3a"
             ],
             [
              0.8888888888888888,
              "#fdca26"
             ],
             [
              1,
              "#f0f921"
             ]
            ],
            "type": "histogram2d"
           }
          ],
          "histogram2dcontour": [
           {
            "colorbar": {
             "outlinewidth": 0,
             "ticks": ""
            },
            "colorscale": [
             [
              0,
              "#0d0887"
             ],
             [
              0.1111111111111111,
              "#46039f"
             ],
             [
              0.2222222222222222,
              "#7201a8"
             ],
             [
              0.3333333333333333,
              "#9c179e"
             ],
             [
              0.4444444444444444,
              "#bd3786"
             ],
             [
              0.5555555555555556,
              "#d8576b"
             ],
             [
              0.6666666666666666,
              "#ed7953"
             ],
             [
              0.7777777777777778,
              "#fb9f3a"
             ],
             [
              0.8888888888888888,
              "#fdca26"
             ],
             [
              1,
              "#f0f921"
             ]
            ],
            "type": "histogram2dcontour"
           }
          ],
          "mesh3d": [
           {
            "colorbar": {
             "outlinewidth": 0,
             "ticks": ""
            },
            "type": "mesh3d"
           }
          ],
          "parcoords": [
           {
            "line": {
             "colorbar": {
              "outlinewidth": 0,
              "ticks": ""
             }
            },
            "type": "parcoords"
           }
          ],
          "pie": [
           {
            "automargin": true,
            "type": "pie"
           }
          ],
          "scatter": [
           {
            "fillpattern": {
             "fillmode": "overlay",
             "size": 10,
             "solidity": 0.2
            },
            "type": "scatter"
           }
          ],
          "scatter3d": [
           {
            "line": {
             "colorbar": {
              "outlinewidth": 0,
              "ticks": ""
             }
            },
            "marker": {
             "colorbar": {
              "outlinewidth": 0,
              "ticks": ""
             }
            },
            "type": "scatter3d"
           }
          ],
          "scattercarpet": [
           {
            "marker": {
             "colorbar": {
              "outlinewidth": 0,
              "ticks": ""
             }
            },
            "type": "scattercarpet"
           }
          ],
          "scattergeo": [
           {
            "marker": {
             "colorbar": {
              "outlinewidth": 0,
              "ticks": ""
             }
            },
            "type": "scattergeo"
           }
          ],
          "scattergl": [
           {
            "marker": {
             "colorbar": {
              "outlinewidth": 0,
              "ticks": ""
             }
            },
            "type": "scattergl"
           }
          ],
          "scattermapbox": [
           {
            "marker": {
             "colorbar": {
              "outlinewidth": 0,
              "ticks": ""
             }
            },
            "type": "scattermapbox"
           }
          ],
          "scatterpolar": [
           {
            "marker": {
             "colorbar": {
              "outlinewidth": 0,
              "ticks": ""
             }
            },
            "type": "scatterpolar"
           }
          ],
          "scatterpolargl": [
           {
            "marker": {
             "colorbar": {
              "outlinewidth": 0,
              "ticks": ""
             }
            },
            "type": "scatterpolargl"
           }
          ],
          "scatterternary": [
           {
            "marker": {
             "colorbar": {
              "outlinewidth": 0,
              "ticks": ""
             }
            },
            "type": "scatterternary"
           }
          ],
          "surface": [
           {
            "colorbar": {
             "outlinewidth": 0,
             "ticks": ""
            },
            "colorscale": [
             [
              0,
              "#0d0887"
             ],
             [
              0.1111111111111111,
              "#46039f"
             ],
             [
              0.2222222222222222,
              "#7201a8"
             ],
             [
              0.3333333333333333,
              "#9c179e"
             ],
             [
              0.4444444444444444,
              "#bd3786"
             ],
             [
              0.5555555555555556,
              "#d8576b"
             ],
             [
              0.6666666666666666,
              "#ed7953"
             ],
             [
              0.7777777777777778,
              "#fb9f3a"
             ],
             [
              0.8888888888888888,
              "#fdca26"
             ],
             [
              1,
              "#f0f921"
             ]
            ],
            "type": "surface"
           }
          ],
          "table": [
           {
            "cells": {
             "fill": {
              "color": "#EBF0F8"
             },
             "line": {
              "color": "white"
             }
            },
            "header": {
             "fill": {
              "color": "#C8D4E3"
             },
             "line": {
              "color": "white"
             }
            },
            "type": "table"
           }
          ]
         },
         "layout": {
          "annotationdefaults": {
           "arrowcolor": "#2a3f5f",
           "arrowhead": 0,
           "arrowwidth": 1
          },
          "autotypenumbers": "strict",
          "coloraxis": {
           "colorbar": {
            "outlinewidth": 0,
            "ticks": ""
           }
          },
          "colorscale": {
           "diverging": [
            [
             0,
             "#8e0152"
            ],
            [
             0.1,
             "#c51b7d"
            ],
            [
             0.2,
             "#de77ae"
            ],
            [
             0.3,
             "#f1b6da"
            ],
            [
             0.4,
             "#fde0ef"
            ],
            [
             0.5,
             "#f7f7f7"
            ],
            [
             0.6,
             "#e6f5d0"
            ],
            [
             0.7,
             "#b8e186"
            ],
            [
             0.8,
             "#7fbc41"
            ],
            [
             0.9,
             "#4d9221"
            ],
            [
             1,
             "#276419"
            ]
           ],
           "sequential": [
            [
             0,
             "#0d0887"
            ],
            [
             0.1111111111111111,
             "#46039f"
            ],
            [
             0.2222222222222222,
             "#7201a8"
            ],
            [
             0.3333333333333333,
             "#9c179e"
            ],
            [
             0.4444444444444444,
             "#bd3786"
            ],
            [
             0.5555555555555556,
             "#d8576b"
            ],
            [
             0.6666666666666666,
             "#ed7953"
            ],
            [
             0.7777777777777778,
             "#fb9f3a"
            ],
            [
             0.8888888888888888,
             "#fdca26"
            ],
            [
             1,
             "#f0f921"
            ]
           ],
           "sequentialminus": [
            [
             0,
             "#0d0887"
            ],
            [
             0.1111111111111111,
             "#46039f"
            ],
            [
             0.2222222222222222,
             "#7201a8"
            ],
            [
             0.3333333333333333,
             "#9c179e"
            ],
            [
             0.4444444444444444,
             "#bd3786"
            ],
            [
             0.5555555555555556,
             "#d8576b"
            ],
            [
             0.6666666666666666,
             "#ed7953"
            ],
            [
             0.7777777777777778,
             "#fb9f3a"
            ],
            [
             0.8888888888888888,
             "#fdca26"
            ],
            [
             1,
             "#f0f921"
            ]
           ]
          },
          "colorway": [
           "#636efa",
           "#EF553B",
           "#00cc96",
           "#ab63fa",
           "#FFA15A",
           "#19d3f3",
           "#FF6692",
           "#B6E880",
           "#FF97FF",
           "#FECB52"
          ],
          "font": {
           "color": "#2a3f5f"
          },
          "geo": {
           "bgcolor": "white",
           "lakecolor": "white",
           "landcolor": "#E5ECF6",
           "showlakes": true,
           "showland": true,
           "subunitcolor": "white"
          },
          "hoverlabel": {
           "align": "left"
          },
          "hovermode": "closest",
          "mapbox": {
           "style": "light"
          },
          "paper_bgcolor": "white",
          "plot_bgcolor": "#E5ECF6",
          "polar": {
           "angularaxis": {
            "gridcolor": "white",
            "linecolor": "white",
            "ticks": ""
           },
           "bgcolor": "#E5ECF6",
           "radialaxis": {
            "gridcolor": "white",
            "linecolor": "white",
            "ticks": ""
           }
          },
          "scene": {
           "xaxis": {
            "backgroundcolor": "#E5ECF6",
            "gridcolor": "white",
            "gridwidth": 2,
            "linecolor": "white",
            "showbackground": true,
            "ticks": "",
            "zerolinecolor": "white"
           },
           "yaxis": {
            "backgroundcolor": "#E5ECF6",
            "gridcolor": "white",
            "gridwidth": 2,
            "linecolor": "white",
            "showbackground": true,
            "ticks": "",
            "zerolinecolor": "white"
           },
           "zaxis": {
            "backgroundcolor": "#E5ECF6",
            "gridcolor": "white",
            "gridwidth": 2,
            "linecolor": "white",
            "showbackground": true,
            "ticks": "",
            "zerolinecolor": "white"
           }
          },
          "shapedefaults": {
           "line": {
            "color": "#2a3f5f"
           }
          },
          "ternary": {
           "aaxis": {
            "gridcolor": "white",
            "linecolor": "white",
            "ticks": ""
           },
           "baxis": {
            "gridcolor": "white",
            "linecolor": "white",
            "ticks": ""
           },
           "bgcolor": "#E5ECF6",
           "caxis": {
            "gridcolor": "white",
            "linecolor": "white",
            "ticks": ""
           }
          },
          "title": {
           "x": 0.05
          },
          "xaxis": {
           "automargin": true,
           "gridcolor": "white",
           "linecolor": "white",
           "ticks": "",
           "title": {
            "standoff": 15
           },
           "zerolinecolor": "white",
           "zerolinewidth": 2
          },
          "yaxis": {
           "automargin": true,
           "gridcolor": "white",
           "linecolor": "white",
           "ticks": "",
           "title": {
            "standoff": 15
           },
           "zerolinecolor": "white",
           "zerolinewidth": 2
          }
         }
        },
        "title": {
         "text": "Total Sales and Units Sold by State"
        },
        "xaxis": {
         "tickangle": -45,
         "title": {
          "text": "State"
         }
        },
        "yaxis": {
         "title": {
          "text": "Total Sales (Millions)"
         }
        },
        "yaxis2": {
         "overlaying": "y",
         "side": "right",
         "title": {
          "text": "Units Sold (Thousands)"
         }
        }
       }
      }
     },
     "metadata": {},
     "output_type": "display_data"
    },
    {
     "data": {
      "text/plain": [
       "<Figure size 1100x1500 with 0 Axes>"
      ]
     },
     "metadata": {},
     "output_type": "display_data"
    }
   ],
   "source": [
    "# Graph3\n",
    "units_sold_bystate = dataframe.groupby('State')['UnitsSold'].sum().sort_index()\n",
    "unitTotal = units_sold_bystate.to_frame(name='State')\n",
    "grand_df= dataframe.groupby('State')[['TotalSales','UnitsSold']].sum().sort_index()\n",
    "\n",
    "plt.figure(figsize=(11,15))\n",
    "\n",
    "# Create traces for fig3\n",
    "trace1 = go.Bar(\n",
    "    x=grand_df.index,\n",
    "    y=grand_df['TotalSales'],\n",
    "    name='Total Sales',\n",
    "    marker_color='royalblue'\n",
    ")\n",
    "\n",
    "trace3 = go.Scatter(\n",
    "    # x=grand_df.index,\n",
    "    # y=grand_df['UnitsSold'],\n",
    "    x=unitTotal.index,\n",
    "    y=unitTotal['State'],\n",
    "    name='Units Sold',\n",
    "    line_color='orange',\n",
    "    marker_opacity=0,\n",
    "    yaxis='y2'\n",
    "    # Hide markers for cleaner line\n",
    ")\n",
    "\n",
    "# Combine traces into fig3\n",
    "fig3 = go.Figure(data=[trace1, trace3])\n",
    "\n",
    "fig3.update_layout(\n",
    "    title='Total Sales and Units Sold by State',\n",
    "        xaxis_title='State',\n",
    "    xaxis_tickangle=-45,\n",
    "    yaxis_title='Total Sales (Millions)',  # Label for primary y-axis\n",
    "    yaxis2=dict(\n",
    "        title='Units Sold (Thousands)',  # Label for secondary y-axis\n",
    "        overlaying='y',\n",
    "        side='right'\n",
    "    )   \n",
    ")\n",
    "\n"
   ]
  },
  {
   "cell_type": "markdown",
   "metadata": {},
   "source": [
    "Lets try a Treemap"
   ]
  },
  {
   "cell_type": "code",
   "execution_count": 19,
   "metadata": {},
   "outputs": [
    {
     "data": {
      "application/vnd.plotly.v1+json": {
       "config": {
        "plotlyServerURL": "https://plot.ly"
       },
       "data": [
        {
         "branchvalues": "total",
         "customdata": [
          [
           24427804.000000004,
           "Albany"
          ],
          [
           16411667.000000002,
           "Manchester"
          ],
          [
           31600863.000000004,
           "Miami"
          ],
          [
           7727469,
           "Milwaukee"
          ],
          [
           7378068,
           "Minneapolis"
          ],
          [
           23750781.000000004,
           "New Orleans"
          ],
          [
           39583735,
           "New York"
          ],
          [
           9934246,
           "Newark"
          ],
          [
           10620734,
           "Oklahoma City"
          ],
          [
           5929038,
           "Omaha"
          ],
          [
           27682851,
           "Orlando"
          ],
          [
           10357519,
           "Philadelphia"
          ],
          [
           15782221.000000002,
           "Phoenix"
          ],
          [
           10072848,
           "Louisville"
          ],
          [
           9195978,
           "Portland"
          ],
          [
           8446806,
           "Providence"
          ],
          [
           21575040,
           "Richmond"
          ],
          [
           9696420,
           "Salt Lake City"
          ],
          [
           34539220,
           "San Francisco"
          ],
          [
           26330718.000000004,
           "Seattle"
          ],
          [
           8495576,
           "Sioux Falls"
          ],
          [
           9683265,
           "St. Louis"
          ],
          [
           9972864,
           "Wichita"
          ],
          [
           12298412,
           "Wilmington"
          ],
          [
           135800459,
           "(?)"
          ],
          [
           186106567,
           "(?)"
          ],
          [
           144663181,
           "(?)"
          ],
          [
           21349674,
           "Portland"
          ],
          [
           163171236,
           "(?)"
          ],
          [
           25634913,
           "Los Angeles"
          ],
          [
           20858509,
           "Las Vegas"
          ],
          [
           19865016.000000004,
           "Albuquerque"
          ],
          [
           14753103.000000002,
           "Anchorage"
          ],
          [
           18997466,
           "Atlanta"
          ],
          [
           7758059,
           "Baltimore"
          ],
          [
           15710886,
           "Billings"
          ],
          [
           17633424,
           "Birmingham"
          ],
          [
           19276878,
           "Boise"
          ],
          [
           11076810,
           "Boston"
          ],
          [
           14352923,
           "Burlington"
          ],
          [
           10689160,
           "Charleston"
          ],
          [
           29285637,
           "Charleston"
          ],
          [
           23956531,
           "Charlotte"
          ],
          [
           12639347,
           "Little Rock"
          ],
          [
           18577517,
           "Cheyenne"
          ],
          [
           18484583,
           "Columbus"
          ],
          [
           20902864,
           "Dallas"
          ],
          [
           20996536,
           "Denver"
          ],
          [
           7424011,
           "Des Moines"
          ],
          [
           18625433,
           "Detroit"
          ],
          [
           7735580,
           "Fargo"
          ],
          [
           11573448,
           "Hartford"
          ],
          [
           22282457,
           "Honolulu"
          ],
          [
           25456882,
           "Houston"
          ],
          [
           8836198,
           "Indianapolis"
          ],
          [
           15591709.000000002,
           "Jackson"
          ],
          [
           18067440,
           "Knoxville"
          ],
          [
           9797488,
           "Chicago"
          ],
          [
           269943182,
           "(?)"
          ]
         ],
         "domain": {
          "x": [
           0,
           1
          ],
          "y": [
           0,
           1
          ]
         },
         "hovertemplate": "<b>%{hovertext}</b><br><br>labels=%{label}<br>TotalSales=%{customdata[0]}<br>parent=%{parent}<br>id=%{id}<br>City=%{customdata[1]}<extra></extra>",
         "hovertext": [
          24427804.000000004,
          16411667.000000002,
          31600863.000000004,
          7727469,
          7378068,
          23750781.000000004,
          39583735,
          9934246,
          10620734,
          5929038,
          27682851,
          10357519,
          15782221.000000002,
          10072848,
          9195978,
          8446806,
          21575040,
          9696420,
          34539220,
          26330718.000000004,
          8495576,
          9683265,
          9972864,
          12298412,
          135800459,
          186106567,
          144663181,
          21349674,
          163171236,
          25634913,
          20858509,
          19865016.000000004,
          14753103.000000002,
          18997466,
          7758059,
          15710886,
          17633424,
          19276878,
          11076810,
          14352923,
          10689160,
          29285637,
          23956531,
          12639347,
          18577517,
          18484583,
          20902864,
          20996536,
          7424011,
          18625433,
          7735580,
          11573448,
          22282457,
          25456882,
          8836198,
          15591709.000000002,
          18067440,
          9797488,
          269943182
         ],
         "ids": [
          "Northeast/Albany",
          "Northeast/Manchester",
          "Southeast/Miami",
          "Midwest/Milwaukee",
          "Midwest/Minneapolis",
          "South/New Orleans",
          "Northeast/New York",
          "Northeast/Newark",
          "South/Oklahoma City",
          "Midwest/Omaha",
          "Southeast/Orlando",
          "Northeast/Philadelphia",
          "West/Phoenix",
          "Southeast/Louisville",
          "Northeast/Portland",
          "Northeast/Providence",
          "Southeast/Richmond",
          "West/Salt Lake City",
          "West/San Francisco",
          "West/Seattle",
          "Midwest/Sioux Falls",
          "Midwest/St. Louis",
          "Midwest/Wichita",
          "Northeast/Wilmington",
          "Midwest",
          "Northeast",
          "South",
          "West/Portland",
          "Southeast",
          "West/Los Angeles",
          "West/Las Vegas",
          "West/Albuquerque",
          "West/Anchorage",
          "Southeast/Atlanta",
          "Northeast/Baltimore",
          "Midwest/Billings",
          "South/Birmingham",
          "West/Boise",
          "Northeast/Boston",
          "Northeast/Burlington",
          "Northeast/Charleston",
          "Southeast/Charleston",
          "Southeast/Charlotte",
          "South/Little Rock",
          "West/Cheyenne",
          "Midwest/Columbus",
          "South/Dallas",
          "West/Denver",
          "Midwest/Des Moines",
          "Midwest/Detroit",
          "Midwest/Fargo",
          "Northeast/Hartford",
          "West/Honolulu",
          "South/Houston",
          "Midwest/Indianapolis",
          "South/Jackson",
          "South/Knoxville",
          "Midwest/Chicago",
          "West"
         ],
         "labels": [
          "Albany",
          "Manchester",
          "Miami",
          "Milwaukee",
          "Minneapolis",
          "New Orleans",
          "New York",
          "Newark",
          "Oklahoma City",
          "Omaha",
          "Orlando",
          "Philadelphia",
          "Phoenix",
          "Louisville",
          "Portland",
          "Providence",
          "Richmond",
          "Salt Lake City",
          "San Francisco",
          "Seattle",
          "Sioux Falls",
          "St. Louis",
          "Wichita",
          "Wilmington",
          "Midwest",
          "Northeast",
          "South",
          "Portland",
          "Southeast",
          "Los Angeles",
          "Las Vegas",
          "Albuquerque",
          "Anchorage",
          "Atlanta",
          "Baltimore",
          "Billings",
          "Birmingham",
          "Boise",
          "Boston",
          "Burlington",
          "Charleston",
          "Charleston",
          "Charlotte",
          "Little Rock",
          "Cheyenne",
          "Columbus",
          "Dallas",
          "Denver",
          "Des Moines",
          "Detroit",
          "Fargo",
          "Hartford",
          "Honolulu",
          "Houston",
          "Indianapolis",
          "Jackson",
          "Knoxville",
          "Chicago",
          "West"
         ],
         "marker": {
          "colors": [
           "pink",
           "red",
           "green",
           "orange",
           "blue",
           "purple",
           "pink",
           "red",
           "green",
           "orange",
           "blue",
           "purple",
           "pink",
           "red",
           "green",
           "orange",
           "blue",
           "purple",
           "pink",
           "red",
           "green",
           "orange",
           "blue",
           "purple",
           "pink",
           "pink",
           "pink",
           "green",
           "pink",
           "red",
           "green",
           "orange",
           "blue",
           "purple",
           "pink",
           "red",
           "green",
           "orange",
           "blue",
           "purple",
           "pink",
           "pink",
           "red",
           "green",
           "orange",
           "blue",
           "purple",
           "pink",
           "red",
           "green",
           "orange",
           "blue",
           "purple",
           "pink",
           "red",
           "green",
           "orange",
           "blue",
           "pink"
          ]
         },
         "name": "",
         "parents": [
          "Northeast",
          "Northeast",
          "Southeast",
          "Midwest",
          "Midwest",
          "South",
          "Northeast",
          "Northeast",
          "South",
          "Midwest",
          "Southeast",
          "Northeast",
          "West",
          "Southeast",
          "Northeast",
          "Northeast",
          "Southeast",
          "West",
          "West",
          "West",
          "Midwest",
          "Midwest",
          "Midwest",
          "Northeast",
          "",
          "",
          "",
          "West",
          "",
          "West",
          "West",
          "West",
          "West",
          "Southeast",
          "Northeast",
          "Midwest",
          "South",
          "West",
          "Northeast",
          "Northeast",
          "Northeast",
          "Southeast",
          "Southeast",
          "South",
          "West",
          "Midwest",
          "South",
          "West",
          "Midwest",
          "Midwest",
          "Midwest",
          "Northeast",
          "West",
          "South",
          "Midwest",
          "South",
          "South",
          "Midwest",
          ""
         ],
         "textinfo": "label+value",
         "type": "treemap",
         "values": [
          24427804.000000004,
          16411667.000000002,
          31600863.000000004,
          7727469,
          7378068,
          23750781.000000004,
          39583735,
          9934246,
          10620734,
          5929038,
          27682851,
          10357519,
          15782221.000000002,
          10072848,
          9195978,
          8446806,
          21575040,
          9696420,
          34539220,
          26330718.000000004,
          8495576,
          9683265,
          9972864,
          12298412,
          135800459,
          186106567,
          144663181,
          21349674,
          163171236,
          25634913,
          20858509,
          19865016.000000004,
          14753103.000000002,
          18997466,
          7758059,
          15710886,
          17633424,
          19276878,
          11076810,
          14352923,
          10689160,
          29285637,
          23956531,
          12639347,
          18577517,
          18484583,
          20902864,
          20996536,
          7424011,
          18625433,
          7735580,
          11573448,
          22282457,
          25456882,
          8836198,
          15591709.000000002,
          18067440,
          9797488,
          269943182
         ]
        }
       ],
       "layout": {
        "legend": {
         "tracegroupgap": 0
        },
        "margin": {
         "b": 50,
         "l": 50,
         "r": 50,
         "t": 50
        },
        "template": {
         "data": {
          "bar": [
           {
            "error_x": {
             "color": "#2a3f5f"
            },
            "error_y": {
             "color": "#2a3f5f"
            },
            "marker": {
             "line": {
              "color": "#E5ECF6",
              "width": 0.5
             },
             "pattern": {
              "fillmode": "overlay",
              "size": 10,
              "solidity": 0.2
             }
            },
            "type": "bar"
           }
          ],
          "barpolar": [
           {
            "marker": {
             "line": {
              "color": "#E5ECF6",
              "width": 0.5
             },
             "pattern": {
              "fillmode": "overlay",
              "size": 10,
              "solidity": 0.2
             }
            },
            "type": "barpolar"
           }
          ],
          "carpet": [
           {
            "aaxis": {
             "endlinecolor": "#2a3f5f",
             "gridcolor": "white",
             "linecolor": "white",
             "minorgridcolor": "white",
             "startlinecolor": "#2a3f5f"
            },
            "baxis": {
             "endlinecolor": "#2a3f5f",
             "gridcolor": "white",
             "linecolor": "white",
             "minorgridcolor": "white",
             "startlinecolor": "#2a3f5f"
            },
            "type": "carpet"
           }
          ],
          "choropleth": [
           {
            "colorbar": {
             "outlinewidth": 0,
             "ticks": ""
            },
            "type": "choropleth"
           }
          ],
          "contour": [
           {
            "colorbar": {
             "outlinewidth": 0,
             "ticks": ""
            },
            "colorscale": [
             [
              0,
              "#0d0887"
             ],
             [
              0.1111111111111111,
              "#46039f"
             ],
             [
              0.2222222222222222,
              "#7201a8"
             ],
             [
              0.3333333333333333,
              "#9c179e"
             ],
             [
              0.4444444444444444,
              "#bd3786"
             ],
             [
              0.5555555555555556,
              "#d8576b"
             ],
             [
              0.6666666666666666,
              "#ed7953"
             ],
             [
              0.7777777777777778,
              "#fb9f3a"
             ],
             [
              0.8888888888888888,
              "#fdca26"
             ],
             [
              1,
              "#f0f921"
             ]
            ],
            "type": "contour"
           }
          ],
          "contourcarpet": [
           {
            "colorbar": {
             "outlinewidth": 0,
             "ticks": ""
            },
            "type": "contourcarpet"
           }
          ],
          "heatmap": [
           {
            "colorbar": {
             "outlinewidth": 0,
             "ticks": ""
            },
            "colorscale": [
             [
              0,
              "#0d0887"
             ],
             [
              0.1111111111111111,
              "#46039f"
             ],
             [
              0.2222222222222222,
              "#7201a8"
             ],
             [
              0.3333333333333333,
              "#9c179e"
             ],
             [
              0.4444444444444444,
              "#bd3786"
             ],
             [
              0.5555555555555556,
              "#d8576b"
             ],
             [
              0.6666666666666666,
              "#ed7953"
             ],
             [
              0.7777777777777778,
              "#fb9f3a"
             ],
             [
              0.8888888888888888,
              "#fdca26"
             ],
             [
              1,
              "#f0f921"
             ]
            ],
            "type": "heatmap"
           }
          ],
          "heatmapgl": [
           {
            "colorbar": {
             "outlinewidth": 0,
             "ticks": ""
            },
            "colorscale": [
             [
              0,
              "#0d0887"
             ],
             [
              0.1111111111111111,
              "#46039f"
             ],
             [
              0.2222222222222222,
              "#7201a8"
             ],
             [
              0.3333333333333333,
              "#9c179e"
             ],
             [
              0.4444444444444444,
              "#bd3786"
             ],
             [
              0.5555555555555556,
              "#d8576b"
             ],
             [
              0.6666666666666666,
              "#ed7953"
             ],
             [
              0.7777777777777778,
              "#fb9f3a"
             ],
             [
              0.8888888888888888,
              "#fdca26"
             ],
             [
              1,
              "#f0f921"
             ]
            ],
            "type": "heatmapgl"
           }
          ],
          "histogram": [
           {
            "marker": {
             "pattern": {
              "fillmode": "overlay",
              "size": 10,
              "solidity": 0.2
             }
            },
            "type": "histogram"
           }
          ],
          "histogram2d": [
           {
            "colorbar": {
             "outlinewidth": 0,
             "ticks": ""
            },
            "colorscale": [
             [
              0,
              "#0d0887"
             ],
             [
              0.1111111111111111,
              "#46039f"
             ],
             [
              0.2222222222222222,
              "#7201a8"
             ],
             [
              0.3333333333333333,
              "#9c179e"
             ],
             [
              0.4444444444444444,
              "#bd3786"
             ],
             [
              0.5555555555555556,
              "#d8576b"
             ],
             [
              0.6666666666666666,
              "#ed7953"
             ],
             [
              0.7777777777777778,
              "#fb9f3a"
             ],
             [
              0.8888888888888888,
              "#fdca26"
             ],
             [
              1,
              "#f0f921"
             ]
            ],
            "type": "histogram2d"
           }
          ],
          "histogram2dcontour": [
           {
            "colorbar": {
             "outlinewidth": 0,
             "ticks": ""
            },
            "colorscale": [
             [
              0,
              "#0d0887"
             ],
             [
              0.1111111111111111,
              "#46039f"
             ],
             [
              0.2222222222222222,
              "#7201a8"
             ],
             [
              0.3333333333333333,
              "#9c179e"
             ],
             [
              0.4444444444444444,
              "#bd3786"
             ],
             [
              0.5555555555555556,
              "#d8576b"
             ],
             [
              0.6666666666666666,
              "#ed7953"
             ],
             [
              0.7777777777777778,
              "#fb9f3a"
             ],
             [
              0.8888888888888888,
              "#fdca26"
             ],
             [
              1,
              "#f0f921"
             ]
            ],
            "type": "histogram2dcontour"
           }
          ],
          "mesh3d": [
           {
            "colorbar": {
             "outlinewidth": 0,
             "ticks": ""
            },
            "type": "mesh3d"
           }
          ],
          "parcoords": [
           {
            "line": {
             "colorbar": {
              "outlinewidth": 0,
              "ticks": ""
             }
            },
            "type": "parcoords"
           }
          ],
          "pie": [
           {
            "automargin": true,
            "type": "pie"
           }
          ],
          "scatter": [
           {
            "fillpattern": {
             "fillmode": "overlay",
             "size": 10,
             "solidity": 0.2
            },
            "type": "scatter"
           }
          ],
          "scatter3d": [
           {
            "line": {
             "colorbar": {
              "outlinewidth": 0,
              "ticks": ""
             }
            },
            "marker": {
             "colorbar": {
              "outlinewidth": 0,
              "ticks": ""
             }
            },
            "type": "scatter3d"
           }
          ],
          "scattercarpet": [
           {
            "marker": {
             "colorbar": {
              "outlinewidth": 0,
              "ticks": ""
             }
            },
            "type": "scattercarpet"
           }
          ],
          "scattergeo": [
           {
            "marker": {
             "colorbar": {
              "outlinewidth": 0,
              "ticks": ""
             }
            },
            "type": "scattergeo"
           }
          ],
          "scattergl": [
           {
            "marker": {
             "colorbar": {
              "outlinewidth": 0,
              "ticks": ""
             }
            },
            "type": "scattergl"
           }
          ],
          "scattermapbox": [
           {
            "marker": {
             "colorbar": {
              "outlinewidth": 0,
              "ticks": ""
             }
            },
            "type": "scattermapbox"
           }
          ],
          "scatterpolar": [
           {
            "marker": {
             "colorbar": {
              "outlinewidth": 0,
              "ticks": ""
             }
            },
            "type": "scatterpolar"
           }
          ],
          "scatterpolargl": [
           {
            "marker": {
             "colorbar": {
              "outlinewidth": 0,
              "ticks": ""
             }
            },
            "type": "scatterpolargl"
           }
          ],
          "scatterternary": [
           {
            "marker": {
             "colorbar": {
              "outlinewidth": 0,
              "ticks": ""
             }
            },
            "type": "scatterternary"
           }
          ],
          "surface": [
           {
            "colorbar": {
             "outlinewidth": 0,
             "ticks": ""
            },
            "colorscale": [
             [
              0,
              "#0d0887"
             ],
             [
              0.1111111111111111,
              "#46039f"
             ],
             [
              0.2222222222222222,
              "#7201a8"
             ],
             [
              0.3333333333333333,
              "#9c179e"
             ],
             [
              0.4444444444444444,
              "#bd3786"
             ],
             [
              0.5555555555555556,
              "#d8576b"
             ],
             [
              0.6666666666666666,
              "#ed7953"
             ],
             [
              0.7777777777777778,
              "#fb9f3a"
             ],
             [
              0.8888888888888888,
              "#fdca26"
             ],
             [
              1,
              "#f0f921"
             ]
            ],
            "type": "surface"
           }
          ],
          "table": [
           {
            "cells": {
             "fill": {
              "color": "#EBF0F8"
             },
             "line": {
              "color": "white"
             }
            },
            "header": {
             "fill": {
              "color": "#C8D4E3"
             },
             "line": {
              "color": "white"
             }
            },
            "type": "table"
           }
          ]
         },
         "layout": {
          "annotationdefaults": {
           "arrowcolor": "#2a3f5f",
           "arrowhead": 0,
           "arrowwidth": 1
          },
          "autotypenumbers": "strict",
          "coloraxis": {
           "colorbar": {
            "outlinewidth": 0,
            "ticks": ""
           }
          },
          "colorscale": {
           "diverging": [
            [
             0,
             "#8e0152"
            ],
            [
             0.1,
             "#c51b7d"
            ],
            [
             0.2,
             "#de77ae"
            ],
            [
             0.3,
             "#f1b6da"
            ],
            [
             0.4,
             "#fde0ef"
            ],
            [
             0.5,
             "#f7f7f7"
            ],
            [
             0.6,
             "#e6f5d0"
            ],
            [
             0.7,
             "#b8e186"
            ],
            [
             0.8,
             "#7fbc41"
            ],
            [
             0.9,
             "#4d9221"
            ],
            [
             1,
             "#276419"
            ]
           ],
           "sequential": [
            [
             0,
             "#0d0887"
            ],
            [
             0.1111111111111111,
             "#46039f"
            ],
            [
             0.2222222222222222,
             "#7201a8"
            ],
            [
             0.3333333333333333,
             "#9c179e"
            ],
            [
             0.4444444444444444,
             "#bd3786"
            ],
            [
             0.5555555555555556,
             "#d8576b"
            ],
            [
             0.6666666666666666,
             "#ed7953"
            ],
            [
             0.7777777777777778,
             "#fb9f3a"
            ],
            [
             0.8888888888888888,
             "#fdca26"
            ],
            [
             1,
             "#f0f921"
            ]
           ],
           "sequentialminus": [
            [
             0,
             "#0d0887"
            ],
            [
             0.1111111111111111,
             "#46039f"
            ],
            [
             0.2222222222222222,
             "#7201a8"
            ],
            [
             0.3333333333333333,
             "#9c179e"
            ],
            [
             0.4444444444444444,
             "#bd3786"
            ],
            [
             0.5555555555555556,
             "#d8576b"
            ],
            [
             0.6666666666666666,
             "#ed7953"
            ],
            [
             0.7777777777777778,
             "#fb9f3a"
            ],
            [
             0.8888888888888888,
             "#fdca26"
            ],
            [
             1,
             "#f0f921"
            ]
           ]
          },
          "colorway": [
           "#636efa",
           "#EF553B",
           "#00cc96",
           "#ab63fa",
           "#FFA15A",
           "#19d3f3",
           "#FF6692",
           "#B6E880",
           "#FF97FF",
           "#FECB52"
          ],
          "font": {
           "color": "#2a3f5f"
          },
          "geo": {
           "bgcolor": "white",
           "lakecolor": "white",
           "landcolor": "#E5ECF6",
           "showlakes": true,
           "showland": true,
           "subunitcolor": "white"
          },
          "hoverlabel": {
           "align": "left"
          },
          "hovermode": "closest",
          "mapbox": {
           "style": "light"
          },
          "paper_bgcolor": "white",
          "plot_bgcolor": "#E5ECF6",
          "polar": {
           "angularaxis": {
            "gridcolor": "white",
            "linecolor": "white",
            "ticks": ""
           },
           "bgcolor": "#E5ECF6",
           "radialaxis": {
            "gridcolor": "white",
            "linecolor": "white",
            "ticks": ""
           }
          },
          "scene": {
           "xaxis": {
            "backgroundcolor": "#E5ECF6",
            "gridcolor": "white",
            "gridwidth": 2,
            "linecolor": "white",
            "showbackground": true,
            "ticks": "",
            "zerolinecolor": "white"
           },
           "yaxis": {
            "backgroundcolor": "#E5ECF6",
            "gridcolor": "white",
            "gridwidth": 2,
            "linecolor": "white",
            "showbackground": true,
            "ticks": "",
            "zerolinecolor": "white"
           },
           "zaxis": {
            "backgroundcolor": "#E5ECF6",
            "gridcolor": "white",
            "gridwidth": 2,
            "linecolor": "white",
            "showbackground": true,
            "ticks": "",
            "zerolinecolor": "white"
           }
          },
          "shapedefaults": {
           "line": {
            "color": "#2a3f5f"
           }
          },
          "ternary": {
           "aaxis": {
            "gridcolor": "white",
            "linecolor": "white",
            "ticks": ""
           },
           "baxis": {
            "gridcolor": "white",
            "linecolor": "white",
            "ticks": ""
           },
           "bgcolor": "#E5ECF6",
           "caxis": {
            "gridcolor": "white",
            "linecolor": "white",
            "ticks": ""
           }
          },
          "title": {
           "x": 0.05
          },
          "xaxis": {
           "automargin": true,
           "gridcolor": "white",
           "linecolor": "white",
           "ticks": "",
           "title": {
            "standoff": 15
           },
           "zerolinecolor": "white",
           "zerolinewidth": 2
          },
          "yaxis": {
           "automargin": true,
           "gridcolor": "white",
           "linecolor": "white",
           "ticks": "",
           "title": {
            "standoff": 15
           },
           "zerolinecolor": "white",
           "zerolinewidth": 2
          }
         }
        },
        "title": {
         "text": "Total Sales by Region and City"
        },
        "treemapcolorway": [
         "pink",
         "red",
         "green",
         "orange",
         "blue",
         "purple"
        ]
       }
      }
     },
     "metadata": {},
     "output_type": "display_data"
    }
   ],
   "source": [
    "# Graph 4\n",
    "fig4 = px.treemap(dataframe, path=['Region', 'City'], \n",
    "                 values='TotalSales',\n",
    "                color='City',  # Color nodes by region\n",
    "                hover_name='TotalSales',\n",
    "                hover_data=['TotalSales'],  # Show relevant data on hover\n",
    "                title='Total Sales by Region and City',\n",
    "                color_discrete_sequence=['pink', 'red', 'green', 'orange', 'blue', 'purple']\n",
    "            )  # Customize color palette\n",
    "fig4.update_traces(textinfo=\"label+value\")\n",
    "fig4.update_layout(margin=dict(t=50, l=50, r=50, b=50))  # Adjust margins for better readability\n",
    "\n",
    "\n"
   ]
  },
  {
   "cell_type": "markdown",
   "metadata": {},
   "source": [
    "Lets try randoms"
   ]
  },
  {
   "cell_type": "code",
   "execution_count": 20,
   "metadata": {},
   "outputs": [
    {
     "name": "stdout",
     "output_type": "stream",
     "text": [
      "   country  population   gdp\n",
      "0       US   333993600  25.3\n",
      "1    China  1444000000  17.7\n",
      "2    Japan   125836000   5.1\n",
      "3  Germany    83240000   4.0\n",
      "4       UK    68555000   3.1\n"
     ]
    }
   ],
   "source": [
    "countries = [\"US\", \"China\", \"Japan\", \"Germany\", \"UK\"]\n",
    "populations = [333993600, 1444000000, 125836000, 83240000, 68555000]\n",
    "gdp = [25.3, 17.7, 5.1, 4.0, 3.1]  # In trillions USD\n",
    "\n",
    "# Create DataFrame\n",
    "df = pd.DataFrame(list(zip(countries, populations, gdp)), \n",
    "                  columns = ['country', 'population', 'gdp'])\n",
    "\n",
    "print(df)"
   ]
  },
  {
   "cell_type": "code",
   "execution_count": 21,
   "metadata": {},
   "outputs": [
    {
     "data": {
      "application/vnd.plotly.v1+json": {
       "config": {
        "plotlyServerURL": "https://plot.ly"
       },
       "data": [
        {
         "hovertemplate": "country=US<br>gdp=%{x}<br>population=%{marker.size}<extra></extra>",
         "legendgroup": "US",
         "marker": {
          "color": "#636efa",
          "size": [
           333993600
          ],
          "sizemode": "area",
          "sizeref": 3610000,
          "symbol": "circle"
         },
         "mode": "markers",
         "name": "US",
         "orientation": "v",
         "showlegend": true,
         "type": "scatter",
         "x": [
          25.3
         ],
         "xaxis": "x",
         "y": [
          333993600
         ],
         "yaxis": "y"
        },
        {
         "hovertemplate": "country=China<br>gdp=%{x}<br>population=%{marker.size}<extra></extra>",
         "legendgroup": "China",
         "marker": {
          "color": "#EF553B",
          "size": [
           1444000000
          ],
          "sizemode": "area",
          "sizeref": 3610000,
          "symbol": "circle"
         },
         "mode": "markers",
         "name": "China",
         "orientation": "v",
         "showlegend": true,
         "type": "scatter",
         "x": [
          17.7
         ],
         "xaxis": "x",
         "y": [
          1444000000
         ],
         "yaxis": "y"
        },
        {
         "hovertemplate": "country=Japan<br>gdp=%{x}<br>population=%{marker.size}<extra></extra>",
         "legendgroup": "Japan",
         "marker": {
          "color": "#00cc96",
          "size": [
           125836000
          ],
          "sizemode": "area",
          "sizeref": 3610000,
          "symbol": "circle"
         },
         "mode": "markers",
         "name": "Japan",
         "orientation": "v",
         "showlegend": true,
         "type": "scatter",
         "x": [
          5.1
         ],
         "xaxis": "x",
         "y": [
          125836000
         ],
         "yaxis": "y"
        },
        {
         "hovertemplate": "country=Germany<br>gdp=%{x}<br>population=%{marker.size}<extra></extra>",
         "legendgroup": "Germany",
         "marker": {
          "color": "#ab63fa",
          "size": [
           83240000
          ],
          "sizemode": "area",
          "sizeref": 3610000,
          "symbol": "circle"
         },
         "mode": "markers",
         "name": "Germany",
         "orientation": "v",
         "showlegend": true,
         "type": "scatter",
         "x": [
          4
         ],
         "xaxis": "x",
         "y": [
          83240000
         ],
         "yaxis": "y"
        },
        {
         "hovertemplate": "country=UK<br>gdp=%{x}<br>population=%{marker.size}<extra></extra>",
         "legendgroup": "UK",
         "marker": {
          "color": "#FFA15A",
          "size": [
           68555000
          ],
          "sizemode": "area",
          "sizeref": 3610000,
          "symbol": "circle"
         },
         "mode": "markers",
         "name": "UK",
         "orientation": "v",
         "showlegend": true,
         "type": "scatter",
         "x": [
          3.1
         ],
         "xaxis": "x",
         "y": [
          68555000
         ],
         "yaxis": "y"
        }
       ],
       "layout": {
        "legend": {
         "itemsizing": "constant",
         "title": {
          "text": "country"
         },
         "tracegroupgap": 0
        },
        "template": {
         "data": {
          "bar": [
           {
            "error_x": {
             "color": "#2a3f5f"
            },
            "error_y": {
             "color": "#2a3f5f"
            },
            "marker": {
             "line": {
              "color": "#E5ECF6",
              "width": 0.5
             },
             "pattern": {
              "fillmode": "overlay",
              "size": 10,
              "solidity": 0.2
             }
            },
            "type": "bar"
           }
          ],
          "barpolar": [
           {
            "marker": {
             "line": {
              "color": "#E5ECF6",
              "width": 0.5
             },
             "pattern": {
              "fillmode": "overlay",
              "size": 10,
              "solidity": 0.2
             }
            },
            "type": "barpolar"
           }
          ],
          "carpet": [
           {
            "aaxis": {
             "endlinecolor": "#2a3f5f",
             "gridcolor": "white",
             "linecolor": "white",
             "minorgridcolor": "white",
             "startlinecolor": "#2a3f5f"
            },
            "baxis": {
             "endlinecolor": "#2a3f5f",
             "gridcolor": "white",
             "linecolor": "white",
             "minorgridcolor": "white",
             "startlinecolor": "#2a3f5f"
            },
            "type": "carpet"
           }
          ],
          "choropleth": [
           {
            "colorbar": {
             "outlinewidth": 0,
             "ticks": ""
            },
            "type": "choropleth"
           }
          ],
          "contour": [
           {
            "colorbar": {
             "outlinewidth": 0,
             "ticks": ""
            },
            "colorscale": [
             [
              0,
              "#0d0887"
             ],
             [
              0.1111111111111111,
              "#46039f"
             ],
             [
              0.2222222222222222,
              "#7201a8"
             ],
             [
              0.3333333333333333,
              "#9c179e"
             ],
             [
              0.4444444444444444,
              "#bd3786"
             ],
             [
              0.5555555555555556,
              "#d8576b"
             ],
             [
              0.6666666666666666,
              "#ed7953"
             ],
             [
              0.7777777777777778,
              "#fb9f3a"
             ],
             [
              0.8888888888888888,
              "#fdca26"
             ],
             [
              1,
              "#f0f921"
             ]
            ],
            "type": "contour"
           }
          ],
          "contourcarpet": [
           {
            "colorbar": {
             "outlinewidth": 0,
             "ticks": ""
            },
            "type": "contourcarpet"
           }
          ],
          "heatmap": [
           {
            "colorbar": {
             "outlinewidth": 0,
             "ticks": ""
            },
            "colorscale": [
             [
              0,
              "#0d0887"
             ],
             [
              0.1111111111111111,
              "#46039f"
             ],
             [
              0.2222222222222222,
              "#7201a8"
             ],
             [
              0.3333333333333333,
              "#9c179e"
             ],
             [
              0.4444444444444444,
              "#bd3786"
             ],
             [
              0.5555555555555556,
              "#d8576b"
             ],
             [
              0.6666666666666666,
              "#ed7953"
             ],
             [
              0.7777777777777778,
              "#fb9f3a"
             ],
             [
              0.8888888888888888,
              "#fdca26"
             ],
             [
              1,
              "#f0f921"
             ]
            ],
            "type": "heatmap"
           }
          ],
          "heatmapgl": [
           {
            "colorbar": {
             "outlinewidth": 0,
             "ticks": ""
            },
            "colorscale": [
             [
              0,
              "#0d0887"
             ],
             [
              0.1111111111111111,
              "#46039f"
             ],
             [
              0.2222222222222222,
              "#7201a8"
             ],
             [
              0.3333333333333333,
              "#9c179e"
             ],
             [
              0.4444444444444444,
              "#bd3786"
             ],
             [
              0.5555555555555556,
              "#d8576b"
             ],
             [
              0.6666666666666666,
              "#ed7953"
             ],
             [
              0.7777777777777778,
              "#fb9f3a"
             ],
             [
              0.8888888888888888,
              "#fdca26"
             ],
             [
              1,
              "#f0f921"
             ]
            ],
            "type": "heatmapgl"
           }
          ],
          "histogram": [
           {
            "marker": {
             "pattern": {
              "fillmode": "overlay",
              "size": 10,
              "solidity": 0.2
             }
            },
            "type": "histogram"
           }
          ],
          "histogram2d": [
           {
            "colorbar": {
             "outlinewidth": 0,
             "ticks": ""
            },
            "colorscale": [
             [
              0,
              "#0d0887"
             ],
             [
              0.1111111111111111,
              "#46039f"
             ],
             [
              0.2222222222222222,
              "#7201a8"
             ],
             [
              0.3333333333333333,
              "#9c179e"
             ],
             [
              0.4444444444444444,
              "#bd3786"
             ],
             [
              0.5555555555555556,
              "#d8576b"
             ],
             [
              0.6666666666666666,
              "#ed7953"
             ],
             [
              0.7777777777777778,
              "#fb9f3a"
             ],
             [
              0.8888888888888888,
              "#fdca26"
             ],
             [
              1,
              "#f0f921"
             ]
            ],
            "type": "histogram2d"
           }
          ],
          "histogram2dcontour": [
           {
            "colorbar": {
             "outlinewidth": 0,
             "ticks": ""
            },
            "colorscale": [
             [
              0,
              "#0d0887"
             ],
             [
              0.1111111111111111,
              "#46039f"
             ],
             [
              0.2222222222222222,
              "#7201a8"
             ],
             [
              0.3333333333333333,
              "#9c179e"
             ],
             [
              0.4444444444444444,
              "#bd3786"
             ],
             [
              0.5555555555555556,
              "#d8576b"
             ],
             [
              0.6666666666666666,
              "#ed7953"
             ],
             [
              0.7777777777777778,
              "#fb9f3a"
             ],
             [
              0.8888888888888888,
              "#fdca26"
             ],
             [
              1,
              "#f0f921"
             ]
            ],
            "type": "histogram2dcontour"
           }
          ],
          "mesh3d": [
           {
            "colorbar": {
             "outlinewidth": 0,
             "ticks": ""
            },
            "type": "mesh3d"
           }
          ],
          "parcoords": [
           {
            "line": {
             "colorbar": {
              "outlinewidth": 0,
              "ticks": ""
             }
            },
            "type": "parcoords"
           }
          ],
          "pie": [
           {
            "automargin": true,
            "type": "pie"
           }
          ],
          "scatter": [
           {
            "fillpattern": {
             "fillmode": "overlay",
             "size": 10,
             "solidity": 0.2
            },
            "type": "scatter"
           }
          ],
          "scatter3d": [
           {
            "line": {
             "colorbar": {
              "outlinewidth": 0,
              "ticks": ""
             }
            },
            "marker": {
             "colorbar": {
              "outlinewidth": 0,
              "ticks": ""
             }
            },
            "type": "scatter3d"
           }
          ],
          "scattercarpet": [
           {
            "marker": {
             "colorbar": {
              "outlinewidth": 0,
              "ticks": ""
             }
            },
            "type": "scattercarpet"
           }
          ],
          "scattergeo": [
           {
            "marker": {
             "colorbar": {
              "outlinewidth": 0,
              "ticks": ""
             }
            },
            "type": "scattergeo"
           }
          ],
          "scattergl": [
           {
            "marker": {
             "colorbar": {
              "outlinewidth": 0,
              "ticks": ""
             }
            },
            "type": "scattergl"
           }
          ],
          "scattermapbox": [
           {
            "marker": {
             "colorbar": {
              "outlinewidth": 0,
              "ticks": ""
             }
            },
            "type": "scattermapbox"
           }
          ],
          "scatterpolar": [
           {
            "marker": {
             "colorbar": {
              "outlinewidth": 0,
              "ticks": ""
             }
            },
            "type": "scatterpolar"
           }
          ],
          "scatterpolargl": [
           {
            "marker": {
             "colorbar": {
              "outlinewidth": 0,
              "ticks": ""
             }
            },
            "type": "scatterpolargl"
           }
          ],
          "scatterternary": [
           {
            "marker": {
             "colorbar": {
              "outlinewidth": 0,
              "ticks": ""
             }
            },
            "type": "scatterternary"
           }
          ],
          "surface": [
           {
            "colorbar": {
             "outlinewidth": 0,
             "ticks": ""
            },
            "colorscale": [
             [
              0,
              "#0d0887"
             ],
             [
              0.1111111111111111,
              "#46039f"
             ],
             [
              0.2222222222222222,
              "#7201a8"
             ],
             [
              0.3333333333333333,
              "#9c179e"
             ],
             [
              0.4444444444444444,
              "#bd3786"
             ],
             [
              0.5555555555555556,
              "#d8576b"
             ],
             [
              0.6666666666666666,
              "#ed7953"
             ],
             [
              0.7777777777777778,
              "#fb9f3a"
             ],
             [
              0.8888888888888888,
              "#fdca26"
             ],
             [
              1,
              "#f0f921"
             ]
            ],
            "type": "surface"
           }
          ],
          "table": [
           {
            "cells": {
             "fill": {
              "color": "#EBF0F8"
             },
             "line": {
              "color": "white"
             }
            },
            "header": {
             "fill": {
              "color": "#C8D4E3"
             },
             "line": {
              "color": "white"
             }
            },
            "type": "table"
           }
          ]
         },
         "layout": {
          "annotationdefaults": {
           "arrowcolor": "#2a3f5f",
           "arrowhead": 0,
           "arrowwidth": 1
          },
          "autotypenumbers": "strict",
          "coloraxis": {
           "colorbar": {
            "outlinewidth": 0,
            "ticks": ""
           }
          },
          "colorscale": {
           "diverging": [
            [
             0,
             "#8e0152"
            ],
            [
             0.1,
             "#c51b7d"
            ],
            [
             0.2,
             "#de77ae"
            ],
            [
             0.3,
             "#f1b6da"
            ],
            [
             0.4,
             "#fde0ef"
            ],
            [
             0.5,
             "#f7f7f7"
            ],
            [
             0.6,
             "#e6f5d0"
            ],
            [
             0.7,
             "#b8e186"
            ],
            [
             0.8,
             "#7fbc41"
            ],
            [
             0.9,
             "#4d9221"
            ],
            [
             1,
             "#276419"
            ]
           ],
           "sequential": [
            [
             0,
             "#0d0887"
            ],
            [
             0.1111111111111111,
             "#46039f"
            ],
            [
             0.2222222222222222,
             "#7201a8"
            ],
            [
             0.3333333333333333,
             "#9c179e"
            ],
            [
             0.4444444444444444,
             "#bd3786"
            ],
            [
             0.5555555555555556,
             "#d8576b"
            ],
            [
             0.6666666666666666,
             "#ed7953"
            ],
            [
             0.7777777777777778,
             "#fb9f3a"
            ],
            [
             0.8888888888888888,
             "#fdca26"
            ],
            [
             1,
             "#f0f921"
            ]
           ],
           "sequentialminus": [
            [
             0,
             "#0d0887"
            ],
            [
             0.1111111111111111,
             "#46039f"
            ],
            [
             0.2222222222222222,
             "#7201a8"
            ],
            [
             0.3333333333333333,
             "#9c179e"
            ],
            [
             0.4444444444444444,
             "#bd3786"
            ],
            [
             0.5555555555555556,
             "#d8576b"
            ],
            [
             0.6666666666666666,
             "#ed7953"
            ],
            [
             0.7777777777777778,
             "#fb9f3a"
            ],
            [
             0.8888888888888888,
             "#fdca26"
            ],
            [
             1,
             "#f0f921"
            ]
           ]
          },
          "colorway": [
           "#636efa",
           "#EF553B",
           "#00cc96",
           "#ab63fa",
           "#FFA15A",
           "#19d3f3",
           "#FF6692",
           "#B6E880",
           "#FF97FF",
           "#FECB52"
          ],
          "font": {
           "color": "#2a3f5f"
          },
          "geo": {
           "bgcolor": "white",
           "lakecolor": "white",
           "landcolor": "#E5ECF6",
           "showlakes": true,
           "showland": true,
           "subunitcolor": "white"
          },
          "hoverlabel": {
           "align": "left"
          },
          "hovermode": "closest",
          "mapbox": {
           "style": "light"
          },
          "paper_bgcolor": "white",
          "plot_bgcolor": "#E5ECF6",
          "polar": {
           "angularaxis": {
            "gridcolor": "white",
            "linecolor": "white",
            "ticks": ""
           },
           "bgcolor": "#E5ECF6",
           "radialaxis": {
            "gridcolor": "white",
            "linecolor": "white",
            "ticks": ""
           }
          },
          "scene": {
           "xaxis": {
            "backgroundcolor": "#E5ECF6",
            "gridcolor": "white",
            "gridwidth": 2,
            "linecolor": "white",
            "showbackground": true,
            "ticks": "",
            "zerolinecolor": "white"
           },
           "yaxis": {
            "backgroundcolor": "#E5ECF6",
            "gridcolor": "white",
            "gridwidth": 2,
            "linecolor": "white",
            "showbackground": true,
            "ticks": "",
            "zerolinecolor": "white"
           },
           "zaxis": {
            "backgroundcolor": "#E5ECF6",
            "gridcolor": "white",
            "gridwidth": 2,
            "linecolor": "white",
            "showbackground": true,
            "ticks": "",
            "zerolinecolor": "white"
           }
          },
          "shapedefaults": {
           "line": {
            "color": "#2a3f5f"
           }
          },
          "ternary": {
           "aaxis": {
            "gridcolor": "white",
            "linecolor": "white",
            "ticks": ""
           },
           "baxis": {
            "gridcolor": "white",
            "linecolor": "white",
            "ticks": ""
           },
           "bgcolor": "#E5ECF6",
           "caxis": {
            "gridcolor": "white",
            "linecolor": "white",
            "ticks": ""
           }
          },
          "title": {
           "x": 0.05
          },
          "xaxis": {
           "automargin": true,
           "gridcolor": "white",
           "linecolor": "white",
           "ticks": "",
           "title": {
            "standoff": 15
           },
           "zerolinecolor": "white",
           "zerolinewidth": 2
          },
          "yaxis": {
           "automargin": true,
           "gridcolor": "white",
           "linecolor": "white",
           "ticks": "",
           "title": {
            "standoff": 15
           },
           "zerolinecolor": "white",
           "zerolinewidth": 2
          }
         }
        },
        "title": {
         "text": "Population vs GDP"
        },
        "xaxis": {
         "anchor": "y",
         "domain": [
          0,
          1
         ],
         "title": {
          "text": "gdp"
         }
        },
        "yaxis": {
         "anchor": "x",
         "domain": [
          0,
          1
         ],
         "title": {
          "text": "population"
         }
        }
       }
      }
     },
     "metadata": {},
     "output_type": "display_data"
    }
   ],
   "source": [
    "fig = px.scatter(df, x=\"gdp\", y=\"population\", size=\"population\", \n",
    "                 color=\"country\", title=\"Population vs GDP\")\n",
    "fig.show()"
   ]
  },
  {
   "cell_type": "code",
   "execution_count": 22,
   "metadata": {},
   "outputs": [
    {
     "data": {
      "application/vnd.plotly.v1+json": {
       "config": {
        "plotlyServerURL": "https://plot.ly"
       },
       "data": [
        {
         "alignmentgroup": "True",
         "hovertemplate": "country=%{x}<br>population=%{y}<extra></extra>",
         "legendgroup": "",
         "marker": {
          "color": "#636efa",
          "pattern": {
           "shape": ""
          }
         },
         "name": "",
         "offsetgroup": "",
         "orientation": "v",
         "showlegend": false,
         "textposition": "auto",
         "type": "bar",
         "x": [
          "US",
          "China",
          "Japan",
          "Germany",
          "UK"
         ],
         "xaxis": "x",
         "y": [
          333993600,
          1444000000,
          125836000,
          83240000,
          68555000
         ],
         "yaxis": "y"
        }
       ],
       "layout": {
        "barmode": "relative",
        "legend": {
         "tracegroupgap": 0
        },
        "template": {
         "data": {
          "bar": [
           {
            "error_x": {
             "color": "#2a3f5f"
            },
            "error_y": {
             "color": "#2a3f5f"
            },
            "marker": {
             "line": {
              "color": "#E5ECF6",
              "width": 0.5
             },
             "pattern": {
              "fillmode": "overlay",
              "size": 10,
              "solidity": 0.2
             }
            },
            "type": "bar"
           }
          ],
          "barpolar": [
           {
            "marker": {
             "line": {
              "color": "#E5ECF6",
              "width": 0.5
             },
             "pattern": {
              "fillmode": "overlay",
              "size": 10,
              "solidity": 0.2
             }
            },
            "type": "barpolar"
           }
          ],
          "carpet": [
           {
            "aaxis": {
             "endlinecolor": "#2a3f5f",
             "gridcolor": "white",
             "linecolor": "white",
             "minorgridcolor": "white",
             "startlinecolor": "#2a3f5f"
            },
            "baxis": {
             "endlinecolor": "#2a3f5f",
             "gridcolor": "white",
             "linecolor": "white",
             "minorgridcolor": "white",
             "startlinecolor": "#2a3f5f"
            },
            "type": "carpet"
           }
          ],
          "choropleth": [
           {
            "colorbar": {
             "outlinewidth": 0,
             "ticks": ""
            },
            "type": "choropleth"
           }
          ],
          "contour": [
           {
            "colorbar": {
             "outlinewidth": 0,
             "ticks": ""
            },
            "colorscale": [
             [
              0,
              "#0d0887"
             ],
             [
              0.1111111111111111,
              "#46039f"
             ],
             [
              0.2222222222222222,
              "#7201a8"
             ],
             [
              0.3333333333333333,
              "#9c179e"
             ],
             [
              0.4444444444444444,
              "#bd3786"
             ],
             [
              0.5555555555555556,
              "#d8576b"
             ],
             [
              0.6666666666666666,
              "#ed7953"
             ],
             [
              0.7777777777777778,
              "#fb9f3a"
             ],
             [
              0.8888888888888888,
              "#fdca26"
             ],
             [
              1,
              "#f0f921"
             ]
            ],
            "type": "contour"
           }
          ],
          "contourcarpet": [
           {
            "colorbar": {
             "outlinewidth": 0,
             "ticks": ""
            },
            "type": "contourcarpet"
           }
          ],
          "heatmap": [
           {
            "colorbar": {
             "outlinewidth": 0,
             "ticks": ""
            },
            "colorscale": [
             [
              0,
              "#0d0887"
             ],
             [
              0.1111111111111111,
              "#46039f"
             ],
             [
              0.2222222222222222,
              "#7201a8"
             ],
             [
              0.3333333333333333,
              "#9c179e"
             ],
             [
              0.4444444444444444,
              "#bd3786"
             ],
             [
              0.5555555555555556,
              "#d8576b"
             ],
             [
              0.6666666666666666,
              "#ed7953"
             ],
             [
              0.7777777777777778,
              "#fb9f3a"
             ],
             [
              0.8888888888888888,
              "#fdca26"
             ],
             [
              1,
              "#f0f921"
             ]
            ],
            "type": "heatmap"
           }
          ],
          "heatmapgl": [
           {
            "colorbar": {
             "outlinewidth": 0,
             "ticks": ""
            },
            "colorscale": [
             [
              0,
              "#0d0887"
             ],
             [
              0.1111111111111111,
              "#46039f"
             ],
             [
              0.2222222222222222,
              "#7201a8"
             ],
             [
              0.3333333333333333,
              "#9c179e"
             ],
             [
              0.4444444444444444,
              "#bd3786"
             ],
             [
              0.5555555555555556,
              "#d8576b"
             ],
             [
              0.6666666666666666,
              "#ed7953"
             ],
             [
              0.7777777777777778,
              "#fb9f3a"
             ],
             [
              0.8888888888888888,
              "#fdca26"
             ],
             [
              1,
              "#f0f921"
             ]
            ],
            "type": "heatmapgl"
           }
          ],
          "histogram": [
           {
            "marker": {
             "pattern": {
              "fillmode": "overlay",
              "size": 10,
              "solidity": 0.2
             }
            },
            "type": "histogram"
           }
          ],
          "histogram2d": [
           {
            "colorbar": {
             "outlinewidth": 0,
             "ticks": ""
            },
            "colorscale": [
             [
              0,
              "#0d0887"
             ],
             [
              0.1111111111111111,
              "#46039f"
             ],
             [
              0.2222222222222222,
              "#7201a8"
             ],
             [
              0.3333333333333333,
              "#9c179e"
             ],
             [
              0.4444444444444444,
              "#bd3786"
             ],
             [
              0.5555555555555556,
              "#d8576b"
             ],
             [
              0.6666666666666666,
              "#ed7953"
             ],
             [
              0.7777777777777778,
              "#fb9f3a"
             ],
             [
              0.8888888888888888,
              "#fdca26"
             ],
             [
              1,
              "#f0f921"
             ]
            ],
            "type": "histogram2d"
           }
          ],
          "histogram2dcontour": [
           {
            "colorbar": {
             "outlinewidth": 0,
             "ticks": ""
            },
            "colorscale": [
             [
              0,
              "#0d0887"
             ],
             [
              0.1111111111111111,
              "#46039f"
             ],
             [
              0.2222222222222222,
              "#7201a8"
             ],
             [
              0.3333333333333333,
              "#9c179e"
             ],
             [
              0.4444444444444444,
              "#bd3786"
             ],
             [
              0.5555555555555556,
              "#d8576b"
             ],
             [
              0.6666666666666666,
              "#ed7953"
             ],
             [
              0.7777777777777778,
              "#fb9f3a"
             ],
             [
              0.8888888888888888,
              "#fdca26"
             ],
             [
              1,
              "#f0f921"
             ]
            ],
            "type": "histogram2dcontour"
           }
          ],
          "mesh3d": [
           {
            "colorbar": {
             "outlinewidth": 0,
             "ticks": ""
            },
            "type": "mesh3d"
           }
          ],
          "parcoords": [
           {
            "line": {
             "colorbar": {
              "outlinewidth": 0,
              "ticks": ""
             }
            },
            "type": "parcoords"
           }
          ],
          "pie": [
           {
            "automargin": true,
            "type": "pie"
           }
          ],
          "scatter": [
           {
            "fillpattern": {
             "fillmode": "overlay",
             "size": 10,
             "solidity": 0.2
            },
            "type": "scatter"
           }
          ],
          "scatter3d": [
           {
            "line": {
             "colorbar": {
              "outlinewidth": 0,
              "ticks": ""
             }
            },
            "marker": {
             "colorbar": {
              "outlinewidth": 0,
              "ticks": ""
             }
            },
            "type": "scatter3d"
           }
          ],
          "scattercarpet": [
           {
            "marker": {
             "colorbar": {
              "outlinewidth": 0,
              "ticks": ""
             }
            },
            "type": "scattercarpet"
           }
          ],
          "scattergeo": [
           {
            "marker": {
             "colorbar": {
              "outlinewidth": 0,
              "ticks": ""
             }
            },
            "type": "scattergeo"
           }
          ],
          "scattergl": [
           {
            "marker": {
             "colorbar": {
              "outlinewidth": 0,
              "ticks": ""
             }
            },
            "type": "scattergl"
           }
          ],
          "scattermapbox": [
           {
            "marker": {
             "colorbar": {
              "outlinewidth": 0,
              "ticks": ""
             }
            },
            "type": "scattermapbox"
           }
          ],
          "scatterpolar": [
           {
            "marker": {
             "colorbar": {
              "outlinewidth": 0,
              "ticks": ""
             }
            },
            "type": "scatterpolar"
           }
          ],
          "scatterpolargl": [
           {
            "marker": {
             "colorbar": {
              "outlinewidth": 0,
              "ticks": ""
             }
            },
            "type": "scatterpolargl"
           }
          ],
          "scatterternary": [
           {
            "marker": {
             "colorbar": {
              "outlinewidth": 0,
              "ticks": ""
             }
            },
            "type": "scatterternary"
           }
          ],
          "surface": [
           {
            "colorbar": {
             "outlinewidth": 0,
             "ticks": ""
            },
            "colorscale": [
             [
              0,
              "#0d0887"
             ],
             [
              0.1111111111111111,
              "#46039f"
             ],
             [
              0.2222222222222222,
              "#7201a8"
             ],
             [
              0.3333333333333333,
              "#9c179e"
             ],
             [
              0.4444444444444444,
              "#bd3786"
             ],
             [
              0.5555555555555556,
              "#d8576b"
             ],
             [
              0.6666666666666666,
              "#ed7953"
             ],
             [
              0.7777777777777778,
              "#fb9f3a"
             ],
             [
              0.8888888888888888,
              "#fdca26"
             ],
             [
              1,
              "#f0f921"
             ]
            ],
            "type": "surface"
           }
          ],
          "table": [
           {
            "cells": {
             "fill": {
              "color": "#EBF0F8"
             },
             "line": {
              "color": "white"
             }
            },
            "header": {
             "fill": {
              "color": "#C8D4E3"
             },
             "line": {
              "color": "white"
             }
            },
            "type": "table"
           }
          ]
         },
         "layout": {
          "annotationdefaults": {
           "arrowcolor": "#2a3f5f",
           "arrowhead": 0,
           "arrowwidth": 1
          },
          "autotypenumbers": "strict",
          "coloraxis": {
           "colorbar": {
            "outlinewidth": 0,
            "ticks": ""
           }
          },
          "colorscale": {
           "diverging": [
            [
             0,
             "#8e0152"
            ],
            [
             0.1,
             "#c51b7d"
            ],
            [
             0.2,
             "#de77ae"
            ],
            [
             0.3,
             "#f1b6da"
            ],
            [
             0.4,
             "#fde0ef"
            ],
            [
             0.5,
             "#f7f7f7"
            ],
            [
             0.6,
             "#e6f5d0"
            ],
            [
             0.7,
             "#b8e186"
            ],
            [
             0.8,
             "#7fbc41"
            ],
            [
             0.9,
             "#4d9221"
            ],
            [
             1,
             "#276419"
            ]
           ],
           "sequential": [
            [
             0,
             "#0d0887"
            ],
            [
             0.1111111111111111,
             "#46039f"
            ],
            [
             0.2222222222222222,
             "#7201a8"
            ],
            [
             0.3333333333333333,
             "#9c179e"
            ],
            [
             0.4444444444444444,
             "#bd3786"
            ],
            [
             0.5555555555555556,
             "#d8576b"
            ],
            [
             0.6666666666666666,
             "#ed7953"
            ],
            [
             0.7777777777777778,
             "#fb9f3a"
            ],
            [
             0.8888888888888888,
             "#fdca26"
            ],
            [
             1,
             "#f0f921"
            ]
           ],
           "sequentialminus": [
            [
             0,
             "#0d0887"
            ],
            [
             0.1111111111111111,
             "#46039f"
            ],
            [
             0.2222222222222222,
             "#7201a8"
            ],
            [
             0.3333333333333333,
             "#9c179e"
            ],
            [
             0.4444444444444444,
             "#bd3786"
            ],
            [
             0.5555555555555556,
             "#d8576b"
            ],
            [
             0.6666666666666666,
             "#ed7953"
            ],
            [
             0.7777777777777778,
             "#fb9f3a"
            ],
            [
             0.8888888888888888,
             "#fdca26"
            ],
            [
             1,
             "#f0f921"
            ]
           ]
          },
          "colorway": [
           "#636efa",
           "#EF553B",
           "#00cc96",
           "#ab63fa",
           "#FFA15A",
           "#19d3f3",
           "#FF6692",
           "#B6E880",
           "#FF97FF",
           "#FECB52"
          ],
          "font": {
           "color": "#2a3f5f"
          },
          "geo": {
           "bgcolor": "white",
           "lakecolor": "white",
           "landcolor": "#E5ECF6",
           "showlakes": true,
           "showland": true,
           "subunitcolor": "white"
          },
          "hoverlabel": {
           "align": "left"
          },
          "hovermode": "closest",
          "mapbox": {
           "style": "light"
          },
          "paper_bgcolor": "white",
          "plot_bgcolor": "#E5ECF6",
          "polar": {
           "angularaxis": {
            "gridcolor": "white",
            "linecolor": "white",
            "ticks": ""
           },
           "bgcolor": "#E5ECF6",
           "radialaxis": {
            "gridcolor": "white",
            "linecolor": "white",
            "ticks": ""
           }
          },
          "scene": {
           "xaxis": {
            "backgroundcolor": "#E5ECF6",
            "gridcolor": "white",
            "gridwidth": 2,
            "linecolor": "white",
            "showbackground": true,
            "ticks": "",
            "zerolinecolor": "white"
           },
           "yaxis": {
            "backgroundcolor": "#E5ECF6",
            "gridcolor": "white",
            "gridwidth": 2,
            "linecolor": "white",
            "showbackground": true,
            "ticks": "",
            "zerolinecolor": "white"
           },
           "zaxis": {
            "backgroundcolor": "#E5ECF6",
            "gridcolor": "white",
            "gridwidth": 2,
            "linecolor": "white",
            "showbackground": true,
            "ticks": "",
            "zerolinecolor": "white"
           }
          },
          "shapedefaults": {
           "line": {
            "color": "#2a3f5f"
           }
          },
          "ternary": {
           "aaxis": {
            "gridcolor": "white",
            "linecolor": "white",
            "ticks": ""
           },
           "baxis": {
            "gridcolor": "white",
            "linecolor": "white",
            "ticks": ""
           },
           "bgcolor": "#E5ECF6",
           "caxis": {
            "gridcolor": "white",
            "linecolor": "white",
            "ticks": ""
           }
          },
          "title": {
           "x": 0.05
          },
          "xaxis": {
           "automargin": true,
           "gridcolor": "white",
           "linecolor": "white",
           "ticks": "",
           "title": {
            "standoff": 15
           },
           "zerolinecolor": "white",
           "zerolinewidth": 2
          },
          "yaxis": {
           "automargin": true,
           "gridcolor": "white",
           "linecolor": "white",
           "ticks": "",
           "title": {
            "standoff": 15
           },
           "zerolinecolor": "white",
           "zerolinewidth": 2
          }
         }
        },
        "title": {
         "text": "Population by Country"
        },
        "xaxis": {
         "anchor": "y",
         "domain": [
          0,
          1
         ],
         "title": {
          "text": "country"
         }
        },
        "yaxis": {
         "anchor": "x",
         "domain": [
          0,
          1
         ],
         "title": {
          "text": "population"
         }
        }
       }
      }
     },
     "metadata": {},
     "output_type": "display_data"
    }
   ],
   "source": [
    "fig = px.bar(df, x=\"country\", y=\"population\", title=\"Population by Country\")\n",
    "fig.show()"
   ]
  },
  {
   "cell_type": "code",
   "execution_count": 23,
   "metadata": {},
   "outputs": [
    {
     "data": {
      "application/vnd.plotly.v1+json": {
       "config": {
        "plotlyServerURL": "https://plot.ly"
       },
       "data": [
        {
         "alignmentgroup": "True",
         "bingroup": "x",
         "hovertemplate": "population=%{x}<br>count=%{y}<extra></extra>",
         "legendgroup": "",
         "marker": {
          "color": "#636efa",
          "pattern": {
           "shape": ""
          }
         },
         "name": "",
         "offsetgroup": "",
         "orientation": "v",
         "showlegend": false,
         "type": "histogram",
         "x": [
          333993600,
          1444000000,
          125836000,
          83240000,
          68555000
         ],
         "xaxis": "x",
         "yaxis": "y"
        }
       ],
       "layout": {
        "barmode": "relative",
        "legend": {
         "tracegroupgap": 0
        },
        "template": {
         "data": {
          "bar": [
           {
            "error_x": {
             "color": "#2a3f5f"
            },
            "error_y": {
             "color": "#2a3f5f"
            },
            "marker": {
             "line": {
              "color": "#E5ECF6",
              "width": 0.5
             },
             "pattern": {
              "fillmode": "overlay",
              "size": 10,
              "solidity": 0.2
             }
            },
            "type": "bar"
           }
          ],
          "barpolar": [
           {
            "marker": {
             "line": {
              "color": "#E5ECF6",
              "width": 0.5
             },
             "pattern": {
              "fillmode": "overlay",
              "size": 10,
              "solidity": 0.2
             }
            },
            "type": "barpolar"
           }
          ],
          "carpet": [
           {
            "aaxis": {
             "endlinecolor": "#2a3f5f",
             "gridcolor": "white",
             "linecolor": "white",
             "minorgridcolor": "white",
             "startlinecolor": "#2a3f5f"
            },
            "baxis": {
             "endlinecolor": "#2a3f5f",
             "gridcolor": "white",
             "linecolor": "white",
             "minorgridcolor": "white",
             "startlinecolor": "#2a3f5f"
            },
            "type": "carpet"
           }
          ],
          "choropleth": [
           {
            "colorbar": {
             "outlinewidth": 0,
             "ticks": ""
            },
            "type": "choropleth"
           }
          ],
          "contour": [
           {
            "colorbar": {
             "outlinewidth": 0,
             "ticks": ""
            },
            "colorscale": [
             [
              0,
              "#0d0887"
             ],
             [
              0.1111111111111111,
              "#46039f"
             ],
             [
              0.2222222222222222,
              "#7201a8"
             ],
             [
              0.3333333333333333,
              "#9c179e"
             ],
             [
              0.4444444444444444,
              "#bd3786"
             ],
             [
              0.5555555555555556,
              "#d8576b"
             ],
             [
              0.6666666666666666,
              "#ed7953"
             ],
             [
              0.7777777777777778,
              "#fb9f3a"
             ],
             [
              0.8888888888888888,
              "#fdca26"
             ],
             [
              1,
              "#f0f921"
             ]
            ],
            "type": "contour"
           }
          ],
          "contourcarpet": [
           {
            "colorbar": {
             "outlinewidth": 0,
             "ticks": ""
            },
            "type": "contourcarpet"
           }
          ],
          "heatmap": [
           {
            "colorbar": {
             "outlinewidth": 0,
             "ticks": ""
            },
            "colorscale": [
             [
              0,
              "#0d0887"
             ],
             [
              0.1111111111111111,
              "#46039f"
             ],
             [
              0.2222222222222222,
              "#7201a8"
             ],
             [
              0.3333333333333333,
              "#9c179e"
             ],
             [
              0.4444444444444444,
              "#bd3786"
             ],
             [
              0.5555555555555556,
              "#d8576b"
             ],
             [
              0.6666666666666666,
              "#ed7953"
             ],
             [
              0.7777777777777778,
              "#fb9f3a"
             ],
             [
              0.8888888888888888,
              "#fdca26"
             ],
             [
              1,
              "#f0f921"
             ]
            ],
            "type": "heatmap"
           }
          ],
          "heatmapgl": [
           {
            "colorbar": {
             "outlinewidth": 0,
             "ticks": ""
            },
            "colorscale": [
             [
              0,
              "#0d0887"
             ],
             [
              0.1111111111111111,
              "#46039f"
             ],
             [
              0.2222222222222222,
              "#7201a8"
             ],
             [
              0.3333333333333333,
              "#9c179e"
             ],
             [
              0.4444444444444444,
              "#bd3786"
             ],
             [
              0.5555555555555556,
              "#d8576b"
             ],
             [
              0.6666666666666666,
              "#ed7953"
             ],
             [
              0.7777777777777778,
              "#fb9f3a"
             ],
             [
              0.8888888888888888,
              "#fdca26"
             ],
             [
              1,
              "#f0f921"
             ]
            ],
            "type": "heatmapgl"
           }
          ],
          "histogram": [
           {
            "marker": {
             "pattern": {
              "fillmode": "overlay",
              "size": 10,
              "solidity": 0.2
             }
            },
            "type": "histogram"
           }
          ],
          "histogram2d": [
           {
            "colorbar": {
             "outlinewidth": 0,
             "ticks": ""
            },
            "colorscale": [
             [
              0,
              "#0d0887"
             ],
             [
              0.1111111111111111,
              "#46039f"
             ],
             [
              0.2222222222222222,
              "#7201a8"
             ],
             [
              0.3333333333333333,
              "#9c179e"
             ],
             [
              0.4444444444444444,
              "#bd3786"
             ],
             [
              0.5555555555555556,
              "#d8576b"
             ],
             [
              0.6666666666666666,
              "#ed7953"
             ],
             [
              0.7777777777777778,
              "#fb9f3a"
             ],
             [
              0.8888888888888888,
              "#fdca26"
             ],
             [
              1,
              "#f0f921"
             ]
            ],
            "type": "histogram2d"
           }
          ],
          "histogram2dcontour": [
           {
            "colorbar": {
             "outlinewidth": 0,
             "ticks": ""
            },
            "colorscale": [
             [
              0,
              "#0d0887"
             ],
             [
              0.1111111111111111,
              "#46039f"
             ],
             [
              0.2222222222222222,
              "#7201a8"
             ],
             [
              0.3333333333333333,
              "#9c179e"
             ],
             [
              0.4444444444444444,
              "#bd3786"
             ],
             [
              0.5555555555555556,
              "#d8576b"
             ],
             [
              0.6666666666666666,
              "#ed7953"
             ],
             [
              0.7777777777777778,
              "#fb9f3a"
             ],
             [
              0.8888888888888888,
              "#fdca26"
             ],
             [
              1,
              "#f0f921"
             ]
            ],
            "type": "histogram2dcontour"
           }
          ],
          "mesh3d": [
           {
            "colorbar": {
             "outlinewidth": 0,
             "ticks": ""
            },
            "type": "mesh3d"
           }
          ],
          "parcoords": [
           {
            "line": {
             "colorbar": {
              "outlinewidth": 0,
              "ticks": ""
             }
            },
            "type": "parcoords"
           }
          ],
          "pie": [
           {
            "automargin": true,
            "type": "pie"
           }
          ],
          "scatter": [
           {
            "fillpattern": {
             "fillmode": "overlay",
             "size": 10,
             "solidity": 0.2
            },
            "type": "scatter"
           }
          ],
          "scatter3d": [
           {
            "line": {
             "colorbar": {
              "outlinewidth": 0,
              "ticks": ""
             }
            },
            "marker": {
             "colorbar": {
              "outlinewidth": 0,
              "ticks": ""
             }
            },
            "type": "scatter3d"
           }
          ],
          "scattercarpet": [
           {
            "marker": {
             "colorbar": {
              "outlinewidth": 0,
              "ticks": ""
             }
            },
            "type": "scattercarpet"
           }
          ],
          "scattergeo": [
           {
            "marker": {
             "colorbar": {
              "outlinewidth": 0,
              "ticks": ""
             }
            },
            "type": "scattergeo"
           }
          ],
          "scattergl": [
           {
            "marker": {
             "colorbar": {
              "outlinewidth": 0,
              "ticks": ""
             }
            },
            "type": "scattergl"
           }
          ],
          "scattermapbox": [
           {
            "marker": {
             "colorbar": {
              "outlinewidth": 0,
              "ticks": ""
             }
            },
            "type": "scattermapbox"
           }
          ],
          "scatterpolar": [
           {
            "marker": {
             "colorbar": {
              "outlinewidth": 0,
              "ticks": ""
             }
            },
            "type": "scatterpolar"
           }
          ],
          "scatterpolargl": [
           {
            "marker": {
             "colorbar": {
              "outlinewidth": 0,
              "ticks": ""
             }
            },
            "type": "scatterpolargl"
           }
          ],
          "scatterternary": [
           {
            "marker": {
             "colorbar": {
              "outlinewidth": 0,
              "ticks": ""
             }
            },
            "type": "scatterternary"
           }
          ],
          "surface": [
           {
            "colorbar": {
             "outlinewidth": 0,
             "ticks": ""
            },
            "colorscale": [
             [
              0,
              "#0d0887"
             ],
             [
              0.1111111111111111,
              "#46039f"
             ],
             [
              0.2222222222222222,
              "#7201a8"
             ],
             [
              0.3333333333333333,
              "#9c179e"
             ],
             [
              0.4444444444444444,
              "#bd3786"
             ],
             [
              0.5555555555555556,
              "#d8576b"
             ],
             [
              0.6666666666666666,
              "#ed7953"
             ],
             [
              0.7777777777777778,
              "#fb9f3a"
             ],
             [
              0.8888888888888888,
              "#fdca26"
             ],
             [
              1,
              "#f0f921"
             ]
            ],
            "type": "surface"
           }
          ],
          "table": [
           {
            "cells": {
             "fill": {
              "color": "#EBF0F8"
             },
             "line": {
              "color": "white"
             }
            },
            "header": {
             "fill": {
              "color": "#C8D4E3"
             },
             "line": {
              "color": "white"
             }
            },
            "type": "table"
           }
          ]
         },
         "layout": {
          "annotationdefaults": {
           "arrowcolor": "#2a3f5f",
           "arrowhead": 0,
           "arrowwidth": 1
          },
          "autotypenumbers": "strict",
          "coloraxis": {
           "colorbar": {
            "outlinewidth": 0,
            "ticks": ""
           }
          },
          "colorscale": {
           "diverging": [
            [
             0,
             "#8e0152"
            ],
            [
             0.1,
             "#c51b7d"
            ],
            [
             0.2,
             "#de77ae"
            ],
            [
             0.3,
             "#f1b6da"
            ],
            [
             0.4,
             "#fde0ef"
            ],
            [
             0.5,
             "#f7f7f7"
            ],
            [
             0.6,
             "#e6f5d0"
            ],
            [
             0.7,
             "#b8e186"
            ],
            [
             0.8,
             "#7fbc41"
            ],
            [
             0.9,
             "#4d9221"
            ],
            [
             1,
             "#276419"
            ]
           ],
           "sequential": [
            [
             0,
             "#0d0887"
            ],
            [
             0.1111111111111111,
             "#46039f"
            ],
            [
             0.2222222222222222,
             "#7201a8"
            ],
            [
             0.3333333333333333,
             "#9c179e"
            ],
            [
             0.4444444444444444,
             "#bd3786"
            ],
            [
             0.5555555555555556,
             "#d8576b"
            ],
            [
             0.6666666666666666,
             "#ed7953"
            ],
            [
             0.7777777777777778,
             "#fb9f3a"
            ],
            [
             0.8888888888888888,
             "#fdca26"
            ],
            [
             1,
             "#f0f921"
            ]
           ],
           "sequentialminus": [
            [
             0,
             "#0d0887"
            ],
            [
             0.1111111111111111,
             "#46039f"
            ],
            [
             0.2222222222222222,
             "#7201a8"
            ],
            [
             0.3333333333333333,
             "#9c179e"
            ],
            [
             0.4444444444444444,
             "#bd3786"
            ],
            [
             0.5555555555555556,
             "#d8576b"
            ],
            [
             0.6666666666666666,
             "#ed7953"
            ],
            [
             0.7777777777777778,
             "#fb9f3a"
            ],
            [
             0.8888888888888888,
             "#fdca26"
            ],
            [
             1,
             "#f0f921"
            ]
           ]
          },
          "colorway": [
           "#636efa",
           "#EF553B",
           "#00cc96",
           "#ab63fa",
           "#FFA15A",
           "#19d3f3",
           "#FF6692",
           "#B6E880",
           "#FF97FF",
           "#FECB52"
          ],
          "font": {
           "color": "#2a3f5f"
          },
          "geo": {
           "bgcolor": "white",
           "lakecolor": "white",
           "landcolor": "#E5ECF6",
           "showlakes": true,
           "showland": true,
           "subunitcolor": "white"
          },
          "hoverlabel": {
           "align": "left"
          },
          "hovermode": "closest",
          "mapbox": {
           "style": "light"
          },
          "paper_bgcolor": "white",
          "plot_bgcolor": "#E5ECF6",
          "polar": {
           "angularaxis": {
            "gridcolor": "white",
            "linecolor": "white",
            "ticks": ""
           },
           "bgcolor": "#E5ECF6",
           "radialaxis": {
            "gridcolor": "white",
            "linecolor": "white",
            "ticks": ""
           }
          },
          "scene": {
           "xaxis": {
            "backgroundcolor": "#E5ECF6",
            "gridcolor": "white",
            "gridwidth": 2,
            "linecolor": "white",
            "showbackground": true,
            "ticks": "",
            "zerolinecolor": "white"
           },
           "yaxis": {
            "backgroundcolor": "#E5ECF6",
            "gridcolor": "white",
            "gridwidth": 2,
            "linecolor": "white",
            "showbackground": true,
            "ticks": "",
            "zerolinecolor": "white"
           },
           "zaxis": {
            "backgroundcolor": "#E5ECF6",
            "gridcolor": "white",
            "gridwidth": 2,
            "linecolor": "white",
            "showbackground": true,
            "ticks": "",
            "zerolinecolor": "white"
           }
          },
          "shapedefaults": {
           "line": {
            "color": "#2a3f5f"
           }
          },
          "ternary": {
           "aaxis": {
            "gridcolor": "white",
            "linecolor": "white",
            "ticks": ""
           },
           "baxis": {
            "gridcolor": "white",
            "linecolor": "white",
            "ticks": ""
           },
           "bgcolor": "#E5ECF6",
           "caxis": {
            "gridcolor": "white",
            "linecolor": "white",
            "ticks": ""
           }
          },
          "title": {
           "x": 0.05
          },
          "xaxis": {
           "automargin": true,
           "gridcolor": "white",
           "linecolor": "white",
           "ticks": "",
           "title": {
            "standoff": 15
           },
           "zerolinecolor": "white",
           "zerolinewidth": 2
          },
          "yaxis": {
           "automargin": true,
           "gridcolor": "white",
           "linecolor": "white",
           "ticks": "",
           "title": {
            "standoff": 15
           },
           "zerolinecolor": "white",
           "zerolinewidth": 2
          }
         }
        },
        "title": {
         "text": "Distribution of Population"
        },
        "xaxis": {
         "anchor": "y",
         "domain": [
          0,
          1
         ],
         "title": {
          "text": "population"
         }
        },
        "yaxis": {
         "anchor": "x",
         "domain": [
          0,
          1
         ],
         "title": {
          "text": "count"
         }
        }
       }
      }
     },
     "metadata": {},
     "output_type": "display_data"
    }
   ],
   "source": [
    "fig = px.histogram(df, x=\"population\", title=\"Distribution of Population\")\n",
    "fig.show()"
   ]
  },
  {
   "cell_type": "code",
   "execution_count": 24,
   "metadata": {},
   "outputs": [
    {
     "data": {
      "application/vnd.plotly.v1+json": {
       "config": {
        "plotlyServerURL": "https://plot.ly"
       },
       "data": [
        {
         "domain": {
          "x": [
           0,
           1
          ],
          "y": [
           0,
           1
          ]
         },
         "hovertemplate": "country=%{label}<br>gdp=%{value}<extra></extra>",
         "labels": [
          "US",
          "China",
          "Japan",
          "Germany",
          "UK"
         ],
         "legendgroup": "",
         "name": "",
         "showlegend": true,
         "type": "pie",
         "values": [
          25.3,
          17.7,
          5.1,
          4,
          3.1
         ]
        }
       ],
       "layout": {
        "legend": {
         "tracegroupgap": 0
        },
        "template": {
         "data": {
          "bar": [
           {
            "error_x": {
             "color": "#2a3f5f"
            },
            "error_y": {
             "color": "#2a3f5f"
            },
            "marker": {
             "line": {
              "color": "#E5ECF6",
              "width": 0.5
             },
             "pattern": {
              "fillmode": "overlay",
              "size": 10,
              "solidity": 0.2
             }
            },
            "type": "bar"
           }
          ],
          "barpolar": [
           {
            "marker": {
             "line": {
              "color": "#E5ECF6",
              "width": 0.5
             },
             "pattern": {
              "fillmode": "overlay",
              "size": 10,
              "solidity": 0.2
             }
            },
            "type": "barpolar"
           }
          ],
          "carpet": [
           {
            "aaxis": {
             "endlinecolor": "#2a3f5f",
             "gridcolor": "white",
             "linecolor": "white",
             "minorgridcolor": "white",
             "startlinecolor": "#2a3f5f"
            },
            "baxis": {
             "endlinecolor": "#2a3f5f",
             "gridcolor": "white",
             "linecolor": "white",
             "minorgridcolor": "white",
             "startlinecolor": "#2a3f5f"
            },
            "type": "carpet"
           }
          ],
          "choropleth": [
           {
            "colorbar": {
             "outlinewidth": 0,
             "ticks": ""
            },
            "type": "choropleth"
           }
          ],
          "contour": [
           {
            "colorbar": {
             "outlinewidth": 0,
             "ticks": ""
            },
            "colorscale": [
             [
              0,
              "#0d0887"
             ],
             [
              0.1111111111111111,
              "#46039f"
             ],
             [
              0.2222222222222222,
              "#7201a8"
             ],
             [
              0.3333333333333333,
              "#9c179e"
             ],
             [
              0.4444444444444444,
              "#bd3786"
             ],
             [
              0.5555555555555556,
              "#d8576b"
             ],
             [
              0.6666666666666666,
              "#ed7953"
             ],
             [
              0.7777777777777778,
              "#fb9f3a"
             ],
             [
              0.8888888888888888,
              "#fdca26"
             ],
             [
              1,
              "#f0f921"
             ]
            ],
            "type": "contour"
           }
          ],
          "contourcarpet": [
           {
            "colorbar": {
             "outlinewidth": 0,
             "ticks": ""
            },
            "type": "contourcarpet"
           }
          ],
          "heatmap": [
           {
            "colorbar": {
             "outlinewidth": 0,
             "ticks": ""
            },
            "colorscale": [
             [
              0,
              "#0d0887"
             ],
             [
              0.1111111111111111,
              "#46039f"
             ],
             [
              0.2222222222222222,
              "#7201a8"
             ],
             [
              0.3333333333333333,
              "#9c179e"
             ],
             [
              0.4444444444444444,
              "#bd3786"
             ],
             [
              0.5555555555555556,
              "#d8576b"
             ],
             [
              0.6666666666666666,
              "#ed7953"
             ],
             [
              0.7777777777777778,
              "#fb9f3a"
             ],
             [
              0.8888888888888888,
              "#fdca26"
             ],
             [
              1,
              "#f0f921"
             ]
            ],
            "type": "heatmap"
           }
          ],
          "heatmapgl": [
           {
            "colorbar": {
             "outlinewidth": 0,
             "ticks": ""
            },
            "colorscale": [
             [
              0,
              "#0d0887"
             ],
             [
              0.1111111111111111,
              "#46039f"
             ],
             [
              0.2222222222222222,
              "#7201a8"
             ],
             [
              0.3333333333333333,
              "#9c179e"
             ],
             [
              0.4444444444444444,
              "#bd3786"
             ],
             [
              0.5555555555555556,
              "#d8576b"
             ],
             [
              0.6666666666666666,
              "#ed7953"
             ],
             [
              0.7777777777777778,
              "#fb9f3a"
             ],
             [
              0.8888888888888888,
              "#fdca26"
             ],
             [
              1,
              "#f0f921"
             ]
            ],
            "type": "heatmapgl"
           }
          ],
          "histogram": [
           {
            "marker": {
             "pattern": {
              "fillmode": "overlay",
              "size": 10,
              "solidity": 0.2
             }
            },
            "type": "histogram"
           }
          ],
          "histogram2d": [
           {
            "colorbar": {
             "outlinewidth": 0,
             "ticks": ""
            },
            "colorscale": [
             [
              0,
              "#0d0887"
             ],
             [
              0.1111111111111111,
              "#46039f"
             ],
             [
              0.2222222222222222,
              "#7201a8"
             ],
             [
              0.3333333333333333,
              "#9c179e"
             ],
             [
              0.4444444444444444,
              "#bd3786"
             ],
             [
              0.5555555555555556,
              "#d8576b"
             ],
             [
              0.6666666666666666,
              "#ed7953"
             ],
             [
              0.7777777777777778,
              "#fb9f3a"
             ],
             [
              0.8888888888888888,
              "#fdca26"
             ],
             [
              1,
              "#f0f921"
             ]
            ],
            "type": "histogram2d"
           }
          ],
          "histogram2dcontour": [
           {
            "colorbar": {
             "outlinewidth": 0,
             "ticks": ""
            },
            "colorscale": [
             [
              0,
              "#0d0887"
             ],
             [
              0.1111111111111111,
              "#46039f"
             ],
             [
              0.2222222222222222,
              "#7201a8"
             ],
             [
              0.3333333333333333,
              "#9c179e"
             ],
             [
              0.4444444444444444,
              "#bd3786"
             ],
             [
              0.5555555555555556,
              "#d8576b"
             ],
             [
              0.6666666666666666,
              "#ed7953"
             ],
             [
              0.7777777777777778,
              "#fb9f3a"
             ],
             [
              0.8888888888888888,
              "#fdca26"
             ],
             [
              1,
              "#f0f921"
             ]
            ],
            "type": "histogram2dcontour"
           }
          ],
          "mesh3d": [
           {
            "colorbar": {
             "outlinewidth": 0,
             "ticks": ""
            },
            "type": "mesh3d"
           }
          ],
          "parcoords": [
           {
            "line": {
             "colorbar": {
              "outlinewidth": 0,
              "ticks": ""
             }
            },
            "type": "parcoords"
           }
          ],
          "pie": [
           {
            "automargin": true,
            "type": "pie"
           }
          ],
          "scatter": [
           {
            "fillpattern": {
             "fillmode": "overlay",
             "size": 10,
             "solidity": 0.2
            },
            "type": "scatter"
           }
          ],
          "scatter3d": [
           {
            "line": {
             "colorbar": {
              "outlinewidth": 0,
              "ticks": ""
             }
            },
            "marker": {
             "colorbar": {
              "outlinewidth": 0,
              "ticks": ""
             }
            },
            "type": "scatter3d"
           }
          ],
          "scattercarpet": [
           {
            "marker": {
             "colorbar": {
              "outlinewidth": 0,
              "ticks": ""
             }
            },
            "type": "scattercarpet"
           }
          ],
          "scattergeo": [
           {
            "marker": {
             "colorbar": {
              "outlinewidth": 0,
              "ticks": ""
             }
            },
            "type": "scattergeo"
           }
          ],
          "scattergl": [
           {
            "marker": {
             "colorbar": {
              "outlinewidth": 0,
              "ticks": ""
             }
            },
            "type": "scattergl"
           }
          ],
          "scattermapbox": [
           {
            "marker": {
             "colorbar": {
              "outlinewidth": 0,
              "ticks": ""
             }
            },
            "type": "scattermapbox"
           }
          ],
          "scatterpolar": [
           {
            "marker": {
             "colorbar": {
              "outlinewidth": 0,
              "ticks": ""
             }
            },
            "type": "scatterpolar"
           }
          ],
          "scatterpolargl": [
           {
            "marker": {
             "colorbar": {
              "outlinewidth": 0,
              "ticks": ""
             }
            },
            "type": "scatterpolargl"
           }
          ],
          "scatterternary": [
           {
            "marker": {
             "colorbar": {
              "outlinewidth": 0,
              "ticks": ""
             }
            },
            "type": "scatterternary"
           }
          ],
          "surface": [
           {
            "colorbar": {
             "outlinewidth": 0,
             "ticks": ""
            },
            "colorscale": [
             [
              0,
              "#0d0887"
             ],
             [
              0.1111111111111111,
              "#46039f"
             ],
             [
              0.2222222222222222,
              "#7201a8"
             ],
             [
              0.3333333333333333,
              "#9c179e"
             ],
             [
              0.4444444444444444,
              "#bd3786"
             ],
             [
              0.5555555555555556,
              "#d8576b"
             ],
             [
              0.6666666666666666,
              "#ed7953"
             ],
             [
              0.7777777777777778,
              "#fb9f3a"
             ],
             [
              0.8888888888888888,
              "#fdca26"
             ],
             [
              1,
              "#f0f921"
             ]
            ],
            "type": "surface"
           }
          ],
          "table": [
           {
            "cells": {
             "fill": {
              "color": "#EBF0F8"
             },
             "line": {
              "color": "white"
             }
            },
            "header": {
             "fill": {
              "color": "#C8D4E3"
             },
             "line": {
              "color": "white"
             }
            },
            "type": "table"
           }
          ]
         },
         "layout": {
          "annotationdefaults": {
           "arrowcolor": "#2a3f5f",
           "arrowhead": 0,
           "arrowwidth": 1
          },
          "autotypenumbers": "strict",
          "coloraxis": {
           "colorbar": {
            "outlinewidth": 0,
            "ticks": ""
           }
          },
          "colorscale": {
           "diverging": [
            [
             0,
             "#8e0152"
            ],
            [
             0.1,
             "#c51b7d"
            ],
            [
             0.2,
             "#de77ae"
            ],
            [
             0.3,
             "#f1b6da"
            ],
            [
             0.4,
             "#fde0ef"
            ],
            [
             0.5,
             "#f7f7f7"
            ],
            [
             0.6,
             "#e6f5d0"
            ],
            [
             0.7,
             "#b8e186"
            ],
            [
             0.8,
             "#7fbc41"
            ],
            [
             0.9,
             "#4d9221"
            ],
            [
             1,
             "#276419"
            ]
           ],
           "sequential": [
            [
             0,
             "#0d0887"
            ],
            [
             0.1111111111111111,
             "#46039f"
            ],
            [
             0.2222222222222222,
             "#7201a8"
            ],
            [
             0.3333333333333333,
             "#9c179e"
            ],
            [
             0.4444444444444444,
             "#bd3786"
            ],
            [
             0.5555555555555556,
             "#d8576b"
            ],
            [
             0.6666666666666666,
             "#ed7953"
            ],
            [
             0.7777777777777778,
             "#fb9f3a"
            ],
            [
             0.8888888888888888,
             "#fdca26"
            ],
            [
             1,
             "#f0f921"
            ]
           ],
           "sequentialminus": [
            [
             0,
             "#0d0887"
            ],
            [
             0.1111111111111111,
             "#46039f"
            ],
            [
             0.2222222222222222,
             "#7201a8"
            ],
            [
             0.3333333333333333,
             "#9c179e"
            ],
            [
             0.4444444444444444,
             "#bd3786"
            ],
            [
             0.5555555555555556,
             "#d8576b"
            ],
            [
             0.6666666666666666,
             "#ed7953"
            ],
            [
             0.7777777777777778,
             "#fb9f3a"
            ],
            [
             0.8888888888888888,
             "#fdca26"
            ],
            [
             1,
             "#f0f921"
            ]
           ]
          },
          "colorway": [
           "#636efa",
           "#EF553B",
           "#00cc96",
           "#ab63fa",
           "#FFA15A",
           "#19d3f3",
           "#FF6692",
           "#B6E880",
           "#FF97FF",
           "#FECB52"
          ],
          "font": {
           "color": "#2a3f5f"
          },
          "geo": {
           "bgcolor": "white",
           "lakecolor": "white",
           "landcolor": "#E5ECF6",
           "showlakes": true,
           "showland": true,
           "subunitcolor": "white"
          },
          "hoverlabel": {
           "align": "left"
          },
          "hovermode": "closest",
          "mapbox": {
           "style": "light"
          },
          "paper_bgcolor": "white",
          "plot_bgcolor": "#E5ECF6",
          "polar": {
           "angularaxis": {
            "gridcolor": "white",
            "linecolor": "white",
            "ticks": ""
           },
           "bgcolor": "#E5ECF6",
           "radialaxis": {
            "gridcolor": "white",
            "linecolor": "white",
            "ticks": ""
           }
          },
          "scene": {
           "xaxis": {
            "backgroundcolor": "#E5ECF6",
            "gridcolor": "white",
            "gridwidth": 2,
            "linecolor": "white",
            "showbackground": true,
            "ticks": "",
            "zerolinecolor": "white"
           },
           "yaxis": {
            "backgroundcolor": "#E5ECF6",
            "gridcolor": "white",
            "gridwidth": 2,
            "linecolor": "white",
            "showbackground": true,
            "ticks": "",
            "zerolinecolor": "white"
           },
           "zaxis": {
            "backgroundcolor": "#E5ECF6",
            "gridcolor": "white",
            "gridwidth": 2,
            "linecolor": "white",
            "showbackground": true,
            "ticks": "",
            "zerolinecolor": "white"
           }
          },
          "shapedefaults": {
           "line": {
            "color": "#2a3f5f"
           }
          },
          "ternary": {
           "aaxis": {
            "gridcolor": "white",
            "linecolor": "white",
            "ticks": ""
           },
           "baxis": {
            "gridcolor": "white",
            "linecolor": "white",
            "ticks": ""
           },
           "bgcolor": "#E5ECF6",
           "caxis": {
            "gridcolor": "white",
            "linecolor": "white",
            "ticks": ""
           }
          },
          "title": {
           "x": 0.05
          },
          "xaxis": {
           "automargin": true,
           "gridcolor": "white",
           "linecolor": "white",
           "ticks": "",
           "title": {
            "standoff": 15
           },
           "zerolinecolor": "white",
           "zerolinewidth": 2
          },
          "yaxis": {
           "automargin": true,
           "gridcolor": "white",
           "linecolor": "white",
           "ticks": "",
           "title": {
            "standoff": 15
           },
           "zerolinecolor": "white",
           "zerolinewidth": 2
          }
         }
        },
        "title": {
         "text": "Share of Global GDP"
        }
       }
      }
     },
     "metadata": {},
     "output_type": "display_data"
    }
   ],
   "source": [
    "fig = px.pie(df, values='gdp', names='country', title=\"Share of Global GDP\")\n",
    "fig.show()"
   ]
  },
  {
   "cell_type": "code",
   "execution_count": 25,
   "metadata": {},
   "outputs": [
    {
     "data": {
      "application/vnd.plotly.v1+json": {
       "config": {
        "plotlyServerURL": "https://plot.ly"
       },
       "data": [
        {
         "jitter": 0.3,
         "line": {
          "width": 1
         },
         "meanline": {
          "visible": true
         },
         "name": "Population Distribution",
         "points": "all",
         "type": "violin",
         "x": [
          "US",
          "China",
          "Japan",
          "Germany",
          "UK"
         ],
         "y": [
          333993600,
          1444000000,
          125836000,
          83240000,
          68555000
         ]
        }
       ],
       "layout": {
        "template": {
         "data": {
          "bar": [
           {
            "error_x": {
             "color": "#2a3f5f"
            },
            "error_y": {
             "color": "#2a3f5f"
            },
            "marker": {
             "line": {
              "color": "#E5ECF6",
              "width": 0.5
             },
             "pattern": {
              "fillmode": "overlay",
              "size": 10,
              "solidity": 0.2
             }
            },
            "type": "bar"
           }
          ],
          "barpolar": [
           {
            "marker": {
             "line": {
              "color": "#E5ECF6",
              "width": 0.5
             },
             "pattern": {
              "fillmode": "overlay",
              "size": 10,
              "solidity": 0.2
             }
            },
            "type": "barpolar"
           }
          ],
          "carpet": [
           {
            "aaxis": {
             "endlinecolor": "#2a3f5f",
             "gridcolor": "white",
             "linecolor": "white",
             "minorgridcolor": "white",
             "startlinecolor": "#2a3f5f"
            },
            "baxis": {
             "endlinecolor": "#2a3f5f",
             "gridcolor": "white",
             "linecolor": "white",
             "minorgridcolor": "white",
             "startlinecolor": "#2a3f5f"
            },
            "type": "carpet"
           }
          ],
          "choropleth": [
           {
            "colorbar": {
             "outlinewidth": 0,
             "ticks": ""
            },
            "type": "choropleth"
           }
          ],
          "contour": [
           {
            "colorbar": {
             "outlinewidth": 0,
             "ticks": ""
            },
            "colorscale": [
             [
              0,
              "#0d0887"
             ],
             [
              0.1111111111111111,
              "#46039f"
             ],
             [
              0.2222222222222222,
              "#7201a8"
             ],
             [
              0.3333333333333333,
              "#9c179e"
             ],
             [
              0.4444444444444444,
              "#bd3786"
             ],
             [
              0.5555555555555556,
              "#d8576b"
             ],
             [
              0.6666666666666666,
              "#ed7953"
             ],
             [
              0.7777777777777778,
              "#fb9f3a"
             ],
             [
              0.8888888888888888,
              "#fdca26"
             ],
             [
              1,
              "#f0f921"
             ]
            ],
            "type": "contour"
           }
          ],
          "contourcarpet": [
           {
            "colorbar": {
             "outlinewidth": 0,
             "ticks": ""
            },
            "type": "contourcarpet"
           }
          ],
          "heatmap": [
           {
            "colorbar": {
             "outlinewidth": 0,
             "ticks": ""
            },
            "colorscale": [
             [
              0,
              "#0d0887"
             ],
             [
              0.1111111111111111,
              "#46039f"
             ],
             [
              0.2222222222222222,
              "#7201a8"
             ],
             [
              0.3333333333333333,
              "#9c179e"
             ],
             [
              0.4444444444444444,
              "#bd3786"
             ],
             [
              0.5555555555555556,
              "#d8576b"
             ],
             [
              0.6666666666666666,
              "#ed7953"
             ],
             [
              0.7777777777777778,
              "#fb9f3a"
             ],
             [
              0.8888888888888888,
              "#fdca26"
             ],
             [
              1,
              "#f0f921"
             ]
            ],
            "type": "heatmap"
           }
          ],
          "heatmapgl": [
           {
            "colorbar": {
             "outlinewidth": 0,
             "ticks": ""
            },
            "colorscale": [
             [
              0,
              "#0d0887"
             ],
             [
              0.1111111111111111,
              "#46039f"
             ],
             [
              0.2222222222222222,
              "#7201a8"
             ],
             [
              0.3333333333333333,
              "#9c179e"
             ],
             [
              0.4444444444444444,
              "#bd3786"
             ],
             [
              0.5555555555555556,
              "#d8576b"
             ],
             [
              0.6666666666666666,
              "#ed7953"
             ],
             [
              0.7777777777777778,
              "#fb9f3a"
             ],
             [
              0.8888888888888888,
              "#fdca26"
             ],
             [
              1,
              "#f0f921"
             ]
            ],
            "type": "heatmapgl"
           }
          ],
          "histogram": [
           {
            "marker": {
             "pattern": {
              "fillmode": "overlay",
              "size": 10,
              "solidity": 0.2
             }
            },
            "type": "histogram"
           }
          ],
          "histogram2d": [
           {
            "colorbar": {
             "outlinewidth": 0,
             "ticks": ""
            },
            "colorscale": [
             [
              0,
              "#0d0887"
             ],
             [
              0.1111111111111111,
              "#46039f"
             ],
             [
              0.2222222222222222,
              "#7201a8"
             ],
             [
              0.3333333333333333,
              "#9c179e"
             ],
             [
              0.4444444444444444,
              "#bd3786"
             ],
             [
              0.5555555555555556,
              "#d8576b"
             ],
             [
              0.6666666666666666,
              "#ed7953"
             ],
             [
              0.7777777777777778,
              "#fb9f3a"
             ],
             [
              0.8888888888888888,
              "#fdca26"
             ],
             [
              1,
              "#f0f921"
             ]
            ],
            "type": "histogram2d"
           }
          ],
          "histogram2dcontour": [
           {
            "colorbar": {
             "outlinewidth": 0,
             "ticks": ""
            },
            "colorscale": [
             [
              0,
              "#0d0887"
             ],
             [
              0.1111111111111111,
              "#46039f"
             ],
             [
              0.2222222222222222,
              "#7201a8"
             ],
             [
              0.3333333333333333,
              "#9c179e"
             ],
             [
              0.4444444444444444,
              "#bd3786"
             ],
             [
              0.5555555555555556,
              "#d8576b"
             ],
             [
              0.6666666666666666,
              "#ed7953"
             ],
             [
              0.7777777777777778,
              "#fb9f3a"
             ],
             [
              0.8888888888888888,
              "#fdca26"
             ],
             [
              1,
              "#f0f921"
             ]
            ],
            "type": "histogram2dcontour"
           }
          ],
          "mesh3d": [
           {
            "colorbar": {
             "outlinewidth": 0,
             "ticks": ""
            },
            "type": "mesh3d"
           }
          ],
          "parcoords": [
           {
            "line": {
             "colorbar": {
              "outlinewidth": 0,
              "ticks": ""
             }
            },
            "type": "parcoords"
           }
          ],
          "pie": [
           {
            "automargin": true,
            "type": "pie"
           }
          ],
          "scatter": [
           {
            "fillpattern": {
             "fillmode": "overlay",
             "size": 10,
             "solidity": 0.2
            },
            "type": "scatter"
           }
          ],
          "scatter3d": [
           {
            "line": {
             "colorbar": {
              "outlinewidth": 0,
              "ticks": ""
             }
            },
            "marker": {
             "colorbar": {
              "outlinewidth": 0,
              "ticks": ""
             }
            },
            "type": "scatter3d"
           }
          ],
          "scattercarpet": [
           {
            "marker": {
             "colorbar": {
              "outlinewidth": 0,
              "ticks": ""
             }
            },
            "type": "scattercarpet"
           }
          ],
          "scattergeo": [
           {
            "marker": {
             "colorbar": {
              "outlinewidth": 0,
              "ticks": ""
             }
            },
            "type": "scattergeo"
           }
          ],
          "scattergl": [
           {
            "marker": {
             "colorbar": {
              "outlinewidth": 0,
              "ticks": ""
             }
            },
            "type": "scattergl"
           }
          ],
          "scattermapbox": [
           {
            "marker": {
             "colorbar": {
              "outlinewidth": 0,
              "ticks": ""
             }
            },
            "type": "scattermapbox"
           }
          ],
          "scatterpolar": [
           {
            "marker": {
             "colorbar": {
              "outlinewidth": 0,
              "ticks": ""
             }
            },
            "type": "scatterpolar"
           }
          ],
          "scatterpolargl": [
           {
            "marker": {
             "colorbar": {
              "outlinewidth": 0,
              "ticks": ""
             }
            },
            "type": "scatterpolargl"
           }
          ],
          "scatterternary": [
           {
            "marker": {
             "colorbar": {
              "outlinewidth": 0,
              "ticks": ""
             }
            },
            "type": "scatterternary"
           }
          ],
          "surface": [
           {
            "colorbar": {
             "outlinewidth": 0,
             "ticks": ""
            },
            "colorscale": [
             [
              0,
              "#0d0887"
             ],
             [
              0.1111111111111111,
              "#46039f"
             ],
             [
              0.2222222222222222,
              "#7201a8"
             ],
             [
              0.3333333333333333,
              "#9c179e"
             ],
             [
              0.4444444444444444,
              "#bd3786"
             ],
             [
              0.5555555555555556,
              "#d8576b"
             ],
             [
              0.6666666666666666,
              "#ed7953"
             ],
             [
              0.7777777777777778,
              "#fb9f3a"
             ],
             [
              0.8888888888888888,
              "#fdca26"
             ],
             [
              1,
              "#f0f921"
             ]
            ],
            "type": "surface"
           }
          ],
          "table": [
           {
            "cells": {
             "fill": {
              "color": "#EBF0F8"
             },
             "line": {
              "color": "white"
             }
            },
            "header": {
             "fill": {
              "color": "#C8D4E3"
             },
             "line": {
              "color": "white"
             }
            },
            "type": "table"
           }
          ]
         },
         "layout": {
          "annotationdefaults": {
           "arrowcolor": "#2a3f5f",
           "arrowhead": 0,
           "arrowwidth": 1
          },
          "autotypenumbers": "strict",
          "coloraxis": {
           "colorbar": {
            "outlinewidth": 0,
            "ticks": ""
           }
          },
          "colorscale": {
           "diverging": [
            [
             0,
             "#8e0152"
            ],
            [
             0.1,
             "#c51b7d"
            ],
            [
             0.2,
             "#de77ae"
            ],
            [
             0.3,
             "#f1b6da"
            ],
            [
             0.4,
             "#fde0ef"
            ],
            [
             0.5,
             "#f7f7f7"
            ],
            [
             0.6,
             "#e6f5d0"
            ],
            [
             0.7,
             "#b8e186"
            ],
            [
             0.8,
             "#7fbc41"
            ],
            [
             0.9,
             "#4d9221"
            ],
            [
             1,
             "#276419"
            ]
           ],
           "sequential": [
            [
             0,
             "#0d0887"
            ],
            [
             0.1111111111111111,
             "#46039f"
            ],
            [
             0.2222222222222222,
             "#7201a8"
            ],
            [
             0.3333333333333333,
             "#9c179e"
            ],
            [
             0.4444444444444444,
             "#bd3786"
            ],
            [
             0.5555555555555556,
             "#d8576b"
            ],
            [
             0.6666666666666666,
             "#ed7953"
            ],
            [
             0.7777777777777778,
             "#fb9f3a"
            ],
            [
             0.8888888888888888,
             "#fdca26"
            ],
            [
             1,
             "#f0f921"
            ]
           ],
           "sequentialminus": [
            [
             0,
             "#0d0887"
            ],
            [
             0.1111111111111111,
             "#46039f"
            ],
            [
             0.2222222222222222,
             "#7201a8"
            ],
            [
             0.3333333333333333,
             "#9c179e"
            ],
            [
             0.4444444444444444,
             "#bd3786"
            ],
            [
             0.5555555555555556,
             "#d8576b"
            ],
            [
             0.6666666666666666,
             "#ed7953"
            ],
            [
             0.7777777777777778,
             "#fb9f3a"
            ],
            [
             0.8888888888888888,
             "#fdca26"
            ],
            [
             1,
             "#f0f921"
            ]
           ]
          },
          "colorway": [
           "#636efa",
           "#EF553B",
           "#00cc96",
           "#ab63fa",
           "#FFA15A",
           "#19d3f3",
           "#FF6692",
           "#B6E880",
           "#FF97FF",
           "#FECB52"
          ],
          "font": {
           "color": "#2a3f5f"
          },
          "geo": {
           "bgcolor": "white",
           "lakecolor": "white",
           "landcolor": "#E5ECF6",
           "showlakes": true,
           "showland": true,
           "subunitcolor": "white"
          },
          "hoverlabel": {
           "align": "left"
          },
          "hovermode": "closest",
          "mapbox": {
           "style": "light"
          },
          "paper_bgcolor": "white",
          "plot_bgcolor": "#E5ECF6",
          "polar": {
           "angularaxis": {
            "gridcolor": "white",
            "linecolor": "white",
            "ticks": ""
           },
           "bgcolor": "#E5ECF6",
           "radialaxis": {
            "gridcolor": "white",
            "linecolor": "white",
            "ticks": ""
           }
          },
          "scene": {
           "xaxis": {
            "backgroundcolor": "#E5ECF6",
            "gridcolor": "white",
            "gridwidth": 2,
            "linecolor": "white",
            "showbackground": true,
            "ticks": "",
            "zerolinecolor": "white"
           },
           "yaxis": {
            "backgroundcolor": "#E5ECF6",
            "gridcolor": "white",
            "gridwidth": 2,
            "linecolor": "white",
            "showbackground": true,
            "ticks": "",
            "zerolinecolor": "white"
           },
           "zaxis": {
            "backgroundcolor": "#E5ECF6",
            "gridcolor": "white",
            "gridwidth": 2,
            "linecolor": "white",
            "showbackground": true,
            "ticks": "",
            "zerolinecolor": "white"
           }
          },
          "shapedefaults": {
           "line": {
            "color": "#2a3f5f"
           }
          },
          "ternary": {
           "aaxis": {
            "gridcolor": "white",
            "linecolor": "white",
            "ticks": ""
           },
           "baxis": {
            "gridcolor": "white",
            "linecolor": "white",
            "ticks": ""
           },
           "bgcolor": "#E5ECF6",
           "caxis": {
            "gridcolor": "white",
            "linecolor": "white",
            "ticks": ""
           }
          },
          "title": {
           "x": 0.05
          },
          "xaxis": {
           "automargin": true,
           "gridcolor": "white",
           "linecolor": "white",
           "ticks": "",
           "title": {
            "standoff": 15
           },
           "zerolinecolor": "white",
           "zerolinewidth": 2
          },
          "yaxis": {
           "automargin": true,
           "gridcolor": "white",
           "linecolor": "white",
           "ticks": "",
           "title": {
            "standoff": 15
           },
           "zerolinecolor": "white",
           "zerolinewidth": 2
          }
         }
        },
        "title": {
         "text": "Violin Plot: Population Distribution by Country"
        }
       }
      }
     },
     "metadata": {},
     "output_type": "display_data"
    }
   ],
   "source": [
    "import plotly.graph_objects as go\n",
    "\n",
    "# Assuming you have a dataframe 'df' with columns 'country' and 'population'\n",
    "\n",
    "fig = go.Figure(data=[go.Violin(\n",
    "  x=df['country'],\n",
    "  y=df['population'],\n",
    "  points='all', # Show all data points (default: 'suspectedoutliers')\n",
    "  jitter=0.3, # Add jitter to scatter points\n",
    "  line={'width': 1}, # Show lines for box plot\n",
    "  meanline={'visible': True}, # Show mean line\n",
    "  name='Population Distribution'\n",
    ")])\n",
    "\n",
    "fig.update_layout(title='Violin Plot: Population Distribution by Country')\n",
    "fig.show()"
   ]
  },
  {
   "cell_type": "code",
   "execution_count": 26,
   "metadata": {},
   "outputs": [
    {
     "data": {
      "application/vnd.plotly.v1+json": {
       "config": {
        "plotlyServerURL": "https://plot.ly"
       },
       "data": [
        {
         "coloraxis": "coloraxis",
         "hovertemplate": "year: %{x}<br>country: %{y}<br>color: %{z}<extra></extra>",
         "name": "0",
         "type": "heatmap",
         "x": [
          2023
         ],
         "xaxis": "x",
         "y": [
          "China",
          "Germany",
          "Japan",
          "UK",
          "US"
         ],
         "yaxis": "y",
         "z": [
          [
           1.2257617728531855e-8
          ],
          [
           4.805382027871216e-8
          ],
          [
           4.052894243300804e-8
          ],
          [
           4.521916709211582e-8
          ],
          [
           7.574995449014592e-8
          ]
         ]
        }
       ],
       "layout": {
        "coloraxis": {
         "colorscale": [
          [
           0,
           "#0d0887"
          ],
          [
           0.1111111111111111,
           "#46039f"
          ],
          [
           0.2222222222222222,
           "#7201a8"
          ],
          [
           0.3333333333333333,
           "#9c179e"
          ],
          [
           0.4444444444444444,
           "#bd3786"
          ],
          [
           0.5555555555555556,
           "#d8576b"
          ],
          [
           0.6666666666666666,
           "#ed7953"
          ],
          [
           0.7777777777777778,
           "#fb9f3a"
          ],
          [
           0.8888888888888888,
           "#fdca26"
          ],
          [
           1,
           "#f0f921"
          ]
         ]
        },
        "template": {
         "data": {
          "bar": [
           {
            "error_x": {
             "color": "#2a3f5f"
            },
            "error_y": {
             "color": "#2a3f5f"
            },
            "marker": {
             "line": {
              "color": "#E5ECF6",
              "width": 0.5
             },
             "pattern": {
              "fillmode": "overlay",
              "size": 10,
              "solidity": 0.2
             }
            },
            "type": "bar"
           }
          ],
          "barpolar": [
           {
            "marker": {
             "line": {
              "color": "#E5ECF6",
              "width": 0.5
             },
             "pattern": {
              "fillmode": "overlay",
              "size": 10,
              "solidity": 0.2
             }
            },
            "type": "barpolar"
           }
          ],
          "carpet": [
           {
            "aaxis": {
             "endlinecolor": "#2a3f5f",
             "gridcolor": "white",
             "linecolor": "white",
             "minorgridcolor": "white",
             "startlinecolor": "#2a3f5f"
            },
            "baxis": {
             "endlinecolor": "#2a3f5f",
             "gridcolor": "white",
             "linecolor": "white",
             "minorgridcolor": "white",
             "startlinecolor": "#2a3f5f"
            },
            "type": "carpet"
           }
          ],
          "choropleth": [
           {
            "colorbar": {
             "outlinewidth": 0,
             "ticks": ""
            },
            "type": "choropleth"
           }
          ],
          "contour": [
           {
            "colorbar": {
             "outlinewidth": 0,
             "ticks": ""
            },
            "colorscale": [
             [
              0,
              "#0d0887"
             ],
             [
              0.1111111111111111,
              "#46039f"
             ],
             [
              0.2222222222222222,
              "#7201a8"
             ],
             [
              0.3333333333333333,
              "#9c179e"
             ],
             [
              0.4444444444444444,
              "#bd3786"
             ],
             [
              0.5555555555555556,
              "#d8576b"
             ],
             [
              0.6666666666666666,
              "#ed7953"
             ],
             [
              0.7777777777777778,
              "#fb9f3a"
             ],
             [
              0.8888888888888888,
              "#fdca26"
             ],
             [
              1,
              "#f0f921"
             ]
            ],
            "type": "contour"
           }
          ],
          "contourcarpet": [
           {
            "colorbar": {
             "outlinewidth": 0,
             "ticks": ""
            },
            "type": "contourcarpet"
           }
          ],
          "heatmap": [
           {
            "colorbar": {
             "outlinewidth": 0,
             "ticks": ""
            },
            "colorscale": [
             [
              0,
              "#0d0887"
             ],
             [
              0.1111111111111111,
              "#46039f"
             ],
             [
              0.2222222222222222,
              "#7201a8"
             ],
             [
              0.3333333333333333,
              "#9c179e"
             ],
             [
              0.4444444444444444,
              "#bd3786"
             ],
             [
              0.5555555555555556,
              "#d8576b"
             ],
             [
              0.6666666666666666,
              "#ed7953"
             ],
             [
              0.7777777777777778,
              "#fb9f3a"
             ],
             [
              0.8888888888888888,
              "#fdca26"
             ],
             [
              1,
              "#f0f921"
             ]
            ],
            "type": "heatmap"
           }
          ],
          "heatmapgl": [
           {
            "colorbar": {
             "outlinewidth": 0,
             "ticks": ""
            },
            "colorscale": [
             [
              0,
              "#0d0887"
             ],
             [
              0.1111111111111111,
              "#46039f"
             ],
             [
              0.2222222222222222,
              "#7201a8"
             ],
             [
              0.3333333333333333,
              "#9c179e"
             ],
             [
              0.4444444444444444,
              "#bd3786"
             ],
             [
              0.5555555555555556,
              "#d8576b"
             ],
             [
              0.6666666666666666,
              "#ed7953"
             ],
             [
              0.7777777777777778,
              "#fb9f3a"
             ],
             [
              0.8888888888888888,
              "#fdca26"
             ],
             [
              1,
              "#f0f921"
             ]
            ],
            "type": "heatmapgl"
           }
          ],
          "histogram": [
           {
            "marker": {
             "pattern": {
              "fillmode": "overlay",
              "size": 10,
              "solidity": 0.2
             }
            },
            "type": "histogram"
           }
          ],
          "histogram2d": [
           {
            "colorbar": {
             "outlinewidth": 0,
             "ticks": ""
            },
            "colorscale": [
             [
              0,
              "#0d0887"
             ],
             [
              0.1111111111111111,
              "#46039f"
             ],
             [
              0.2222222222222222,
              "#7201a8"
             ],
             [
              0.3333333333333333,
              "#9c179e"
             ],
             [
              0.4444444444444444,
              "#bd3786"
             ],
             [
              0.5555555555555556,
              "#d8576b"
             ],
             [
              0.6666666666666666,
              "#ed7953"
             ],
             [
              0.7777777777777778,
              "#fb9f3a"
             ],
             [
              0.8888888888888888,
              "#fdca26"
             ],
             [
              1,
              "#f0f921"
             ]
            ],
            "type": "histogram2d"
           }
          ],
          "histogram2dcontour": [
           {
            "colorbar": {
             "outlinewidth": 0,
             "ticks": ""
            },
            "colorscale": [
             [
              0,
              "#0d0887"
             ],
             [
              0.1111111111111111,
              "#46039f"
             ],
             [
              0.2222222222222222,
              "#7201a8"
             ],
             [
              0.3333333333333333,
              "#9c179e"
             ],
             [
              0.4444444444444444,
              "#bd3786"
             ],
             [
              0.5555555555555556,
              "#d8576b"
             ],
             [
              0.6666666666666666,
              "#ed7953"
             ],
             [
              0.7777777777777778,
              "#fb9f3a"
             ],
             [
              0.8888888888888888,
              "#fdca26"
             ],
             [
              1,
              "#f0f921"
             ]
            ],
            "type": "histogram2dcontour"
           }
          ],
          "mesh3d": [
           {
            "colorbar": {
             "outlinewidth": 0,
             "ticks": ""
            },
            "type": "mesh3d"
           }
          ],
          "parcoords": [
           {
            "line": {
             "colorbar": {
              "outlinewidth": 0,
              "ticks": ""
             }
            },
            "type": "parcoords"
           }
          ],
          "pie": [
           {
            "automargin": true,
            "type": "pie"
           }
          ],
          "scatter": [
           {
            "fillpattern": {
             "fillmode": "overlay",
             "size": 10,
             "solidity": 0.2
            },
            "type": "scatter"
           }
          ],
          "scatter3d": [
           {
            "line": {
             "colorbar": {
              "outlinewidth": 0,
              "ticks": ""
             }
            },
            "marker": {
             "colorbar": {
              "outlinewidth": 0,
              "ticks": ""
             }
            },
            "type": "scatter3d"
           }
          ],
          "scattercarpet": [
           {
            "marker": {
             "colorbar": {
              "outlinewidth": 0,
              "ticks": ""
             }
            },
            "type": "scattercarpet"
           }
          ],
          "scattergeo": [
           {
            "marker": {
             "colorbar": {
              "outlinewidth": 0,
              "ticks": ""
             }
            },
            "type": "scattergeo"
           }
          ],
          "scattergl": [
           {
            "marker": {
             "colorbar": {
              "outlinewidth": 0,
              "ticks": ""
             }
            },
            "type": "scattergl"
           }
          ],
          "scattermapbox": [
           {
            "marker": {
             "colorbar": {
              "outlinewidth": 0,
              "ticks": ""
             }
            },
            "type": "scattermapbox"
           }
          ],
          "scatterpolar": [
           {
            "marker": {
             "colorbar": {
              "outlinewidth": 0,
              "ticks": ""
             }
            },
            "type": "scatterpolar"
           }
          ],
          "scatterpolargl": [
           {
            "marker": {
             "colorbar": {
              "outlinewidth": 0,
              "ticks": ""
             }
            },
            "type": "scatterpolargl"
           }
          ],
          "scatterternary": [
           {
            "marker": {
             "colorbar": {
              "outlinewidth": 0,
              "ticks": ""
             }
            },
            "type": "scatterternary"
           }
          ],
          "surface": [
           {
            "colorbar": {
             "outlinewidth": 0,
             "ticks": ""
            },
            "colorscale": [
             [
              0,
              "#0d0887"
             ],
             [
              0.1111111111111111,
              "#46039f"
             ],
             [
              0.2222222222222222,
              "#7201a8"
             ],
             [
              0.3333333333333333,
              "#9c179e"
             ],
             [
              0.4444444444444444,
              "#bd3786"
             ],
             [
              0.5555555555555556,
              "#d8576b"
             ],
             [
              0.6666666666666666,
              "#ed7953"
             ],
             [
              0.7777777777777778,
              "#fb9f3a"
             ],
             [
              0.8888888888888888,
              "#fdca26"
             ],
             [
              1,
              "#f0f921"
             ]
            ],
            "type": "surface"
           }
          ],
          "table": [
           {
            "cells": {
             "fill": {
              "color": "#EBF0F8"
             },
             "line": {
              "color": "white"
             }
            },
            "header": {
             "fill": {
              "color": "#C8D4E3"
             },
             "line": {
              "color": "white"
             }
            },
            "type": "table"
           }
          ]
         },
         "layout": {
          "annotationdefaults": {
           "arrowcolor": "#2a3f5f",
           "arrowhead": 0,
           "arrowwidth": 1
          },
          "autotypenumbers": "strict",
          "coloraxis": {
           "colorbar": {
            "outlinewidth": 0,
            "ticks": ""
           }
          },
          "colorscale": {
           "diverging": [
            [
             0,
             "#8e0152"
            ],
            [
             0.1,
             "#c51b7d"
            ],
            [
             0.2,
             "#de77ae"
            ],
            [
             0.3,
             "#f1b6da"
            ],
            [
             0.4,
             "#fde0ef"
            ],
            [
             0.5,
             "#f7f7f7"
            ],
            [
             0.6,
             "#e6f5d0"
            ],
            [
             0.7,
             "#b8e186"
            ],
            [
             0.8,
             "#7fbc41"
            ],
            [
             0.9,
             "#4d9221"
            ],
            [
             1,
             "#276419"
            ]
           ],
           "sequential": [
            [
             0,
             "#0d0887"
            ],
            [
             0.1111111111111111,
             "#46039f"
            ],
            [
             0.2222222222222222,
             "#7201a8"
            ],
            [
             0.3333333333333333,
             "#9c179e"
            ],
            [
             0.4444444444444444,
             "#bd3786"
            ],
            [
             0.5555555555555556,
             "#d8576b"
            ],
            [
             0.6666666666666666,
             "#ed7953"
            ],
            [
             0.7777777777777778,
             "#fb9f3a"
            ],
            [
             0.8888888888888888,
             "#fdca26"
            ],
            [
             1,
             "#f0f921"
            ]
           ],
           "sequentialminus": [
            [
             0,
             "#0d0887"
            ],
            [
             0.1111111111111111,
             "#46039f"
            ],
            [
             0.2222222222222222,
             "#7201a8"
            ],
            [
             0.3333333333333333,
             "#9c179e"
            ],
            [
             0.4444444444444444,
             "#bd3786"
            ],
            [
             0.5555555555555556,
             "#d8576b"
            ],
            [
             0.6666666666666666,
             "#ed7953"
            ],
            [
             0.7777777777777778,
             "#fb9f3a"
            ],
            [
             0.8888888888888888,
             "#fdca26"
            ],
            [
             1,
             "#f0f921"
            ]
           ]
          },
          "colorway": [
           "#636efa",
           "#EF553B",
           "#00cc96",
           "#ab63fa",
           "#FFA15A",
           "#19d3f3",
           "#FF6692",
           "#B6E880",
           "#FF97FF",
           "#FECB52"
          ],
          "font": {
           "color": "#2a3f5f"
          },
          "geo": {
           "bgcolor": "white",
           "lakecolor": "white",
           "landcolor": "#E5ECF6",
           "showlakes": true,
           "showland": true,
           "subunitcolor": "white"
          },
          "hoverlabel": {
           "align": "left"
          },
          "hovermode": "closest",
          "mapbox": {
           "style": "light"
          },
          "paper_bgcolor": "white",
          "plot_bgcolor": "#E5ECF6",
          "polar": {
           "angularaxis": {
            "gridcolor": "white",
            "linecolor": "white",
            "ticks": ""
           },
           "bgcolor": "#E5ECF6",
           "radialaxis": {
            "gridcolor": "white",
            "linecolor": "white",
            "ticks": ""
           }
          },
          "scene": {
           "xaxis": {
            "backgroundcolor": "#E5ECF6",
            "gridcolor": "white",
            "gridwidth": 2,
            "linecolor": "white",
            "showbackground": true,
            "ticks": "",
            "zerolinecolor": "white"
           },
           "yaxis": {
            "backgroundcolor": "#E5ECF6",
            "gridcolor": "white",
            "gridwidth": 2,
            "linecolor": "white",
            "showbackground": true,
            "ticks": "",
            "zerolinecolor": "white"
           },
           "zaxis": {
            "backgroundcolor": "#E5ECF6",
            "gridcolor": "white",
            "gridwidth": 2,
            "linecolor": "white",
            "showbackground": true,
            "ticks": "",
            "zerolinecolor": "white"
           }
          },
          "shapedefaults": {
           "line": {
            "color": "#2a3f5f"
           }
          },
          "ternary": {
           "aaxis": {
            "gridcolor": "white",
            "linecolor": "white",
            "ticks": ""
           },
           "baxis": {
            "gridcolor": "white",
            "linecolor": "white",
            "ticks": ""
           },
           "bgcolor": "#E5ECF6",
           "caxis": {
            "gridcolor": "white",
            "linecolor": "white",
            "ticks": ""
           }
          },
          "title": {
           "x": 0.05
          },
          "xaxis": {
           "automargin": true,
           "gridcolor": "white",
           "linecolor": "white",
           "ticks": "",
           "title": {
            "standoff": 15
           },
           "zerolinecolor": "white",
           "zerolinewidth": 2
          },
          "yaxis": {
           "automargin": true,
           "gridcolor": "white",
           "linecolor": "white",
           "ticks": "",
           "title": {
            "standoff": 15
           },
           "zerolinecolor": "white",
           "zerolinewidth": 2
          }
         }
        },
        "title": {
         "text": "Heatmap: GDP per Capita by Country and Year"
        },
        "xaxis": {
         "anchor": "y",
         "constrain": "domain",
         "domain": [
          0,
          1
         ],
         "scaleanchor": "y",
         "title": {
          "text": "year"
         }
        },
        "yaxis": {
         "anchor": "x",
         "autorange": "reversed",
         "constrain": "domain",
         "domain": [
          0,
          1
         ],
         "title": {
          "text": "country"
         }
        }
       }
      }
     },
     "metadata": {},
     "output_type": "display_data"
    }
   ],
   "source": [
    "# Assuming you have a 'year' column in your DataFrame\n",
    "df['year'] = [2023, 2023, 2023, 2023, 2023]\n",
    "\n",
    "# Calculate GDP per capita\n",
    "df['gdp_per_capita'] = df['gdp'] / df['population']\n",
    "\n",
    "fig = px.imshow(df.pivot_table(index='country', columns='year', values='gdp_per_capita'),\n",
    "                 title='Heatmap: GDP per Capita by Country and Year')\n",
    "fig.show()"
   ]
  },
  {
   "cell_type": "code",
   "execution_count": 27,
   "metadata": {},
   "outputs": [
    {
     "data": {
      "application/vnd.plotly.v1+json": {
       "config": {
        "plotlyServerURL": "https://plot.ly"
       },
       "data": [
        {
         "hovertemplate": "country=US<br>population=%{x}<br>gdp=%{y}<br>z_value=%{z}<extra></extra>",
         "legendgroup": "US",
         "marker": {
          "color": "#636efa",
          "symbol": "circle"
         },
         "mode": "markers",
         "name": "US",
         "scene": "scene",
         "showlegend": true,
         "type": "scatter3d",
         "x": [
          333993600
         ],
         "y": [
          25.3
         ],
         "z": [
          10
         ]
        },
        {
         "hovertemplate": "country=China<br>population=%{x}<br>gdp=%{y}<br>z_value=%{z}<extra></extra>",
         "legendgroup": "China",
         "marker": {
          "color": "#EF553B",
          "symbol": "circle"
         },
         "mode": "markers",
         "name": "China",
         "scene": "scene",
         "showlegend": true,
         "type": "scatter3d",
         "x": [
          1444000000
         ],
         "y": [
          17.7
         ],
         "z": [
          15
         ]
        },
        {
         "hovertemplate": "country=Japan<br>population=%{x}<br>gdp=%{y}<br>z_value=%{z}<extra></extra>",
         "legendgroup": "Japan",
         "marker": {
          "color": "#00cc96",
          "symbol": "circle"
         },
         "mode": "markers",
         "name": "Japan",
         "scene": "scene",
         "showlegend": true,
         "type": "scatter3d",
         "x": [
          125836000
         ],
         "y": [
          5.1
         ],
         "z": [
          8
         ]
        },
        {
         "hovertemplate": "country=Germany<br>population=%{x}<br>gdp=%{y}<br>z_value=%{z}<extra></extra>",
         "legendgroup": "Germany",
         "marker": {
          "color": "#ab63fa",
          "symbol": "circle"
         },
         "mode": "markers",
         "name": "Germany",
         "scene": "scene",
         "showlegend": true,
         "type": "scatter3d",
         "x": [
          83240000
         ],
         "y": [
          4
         ],
         "z": [
          12
         ]
        },
        {
         "hovertemplate": "country=UK<br>population=%{x}<br>gdp=%{y}<br>z_value=%{z}<extra></extra>",
         "legendgroup": "UK",
         "marker": {
          "color": "#FFA15A",
          "symbol": "circle"
         },
         "mode": "markers",
         "name": "UK",
         "scene": "scene",
         "showlegend": true,
         "type": "scatter3d",
         "x": [
          68555000
         ],
         "y": [
          3.1
         ],
         "z": [
          9
         ]
        }
       ],
       "layout": {
        "legend": {
         "title": {
          "text": "country"
         },
         "tracegroupgap": 0
        },
        "scene": {
         "domain": {
          "x": [
           0,
           1
          ],
          "y": [
           0,
           1
          ]
         },
         "xaxis": {
          "title": {
           "text": "population"
          }
         },
         "yaxis": {
          "title": {
           "text": "gdp"
          }
         },
         "zaxis": {
          "title": {
           "text": "z_value"
          }
         }
        },
        "template": {
         "data": {
          "bar": [
           {
            "error_x": {
             "color": "#2a3f5f"
            },
            "error_y": {
             "color": "#2a3f5f"
            },
            "marker": {
             "line": {
              "color": "#E5ECF6",
              "width": 0.5
             },
             "pattern": {
              "fillmode": "overlay",
              "size": 10,
              "solidity": 0.2
             }
            },
            "type": "bar"
           }
          ],
          "barpolar": [
           {
            "marker": {
             "line": {
              "color": "#E5ECF6",
              "width": 0.5
             },
             "pattern": {
              "fillmode": "overlay",
              "size": 10,
              "solidity": 0.2
             }
            },
            "type": "barpolar"
           }
          ],
          "carpet": [
           {
            "aaxis": {
             "endlinecolor": "#2a3f5f",
             "gridcolor": "white",
             "linecolor": "white",
             "minorgridcolor": "white",
             "startlinecolor": "#2a3f5f"
            },
            "baxis": {
             "endlinecolor": "#2a3f5f",
             "gridcolor": "white",
             "linecolor": "white",
             "minorgridcolor": "white",
             "startlinecolor": "#2a3f5f"
            },
            "type": "carpet"
           }
          ],
          "choropleth": [
           {
            "colorbar": {
             "outlinewidth": 0,
             "ticks": ""
            },
            "type": "choropleth"
           }
          ],
          "contour": [
           {
            "colorbar": {
             "outlinewidth": 0,
             "ticks": ""
            },
            "colorscale": [
             [
              0,
              "#0d0887"
             ],
             [
              0.1111111111111111,
              "#46039f"
             ],
             [
              0.2222222222222222,
              "#7201a8"
             ],
             [
              0.3333333333333333,
              "#9c179e"
             ],
             [
              0.4444444444444444,
              "#bd3786"
             ],
             [
              0.5555555555555556,
              "#d8576b"
             ],
             [
              0.6666666666666666,
              "#ed7953"
             ],
             [
              0.7777777777777778,
              "#fb9f3a"
             ],
             [
              0.8888888888888888,
              "#fdca26"
             ],
             [
              1,
              "#f0f921"
             ]
            ],
            "type": "contour"
           }
          ],
          "contourcarpet": [
           {
            "colorbar": {
             "outlinewidth": 0,
             "ticks": ""
            },
            "type": "contourcarpet"
           }
          ],
          "heatmap": [
           {
            "colorbar": {
             "outlinewidth": 0,
             "ticks": ""
            },
            "colorscale": [
             [
              0,
              "#0d0887"
             ],
             [
              0.1111111111111111,
              "#46039f"
             ],
             [
              0.2222222222222222,
              "#7201a8"
             ],
             [
              0.3333333333333333,
              "#9c179e"
             ],
             [
              0.4444444444444444,
              "#bd3786"
             ],
             [
              0.5555555555555556,
              "#d8576b"
             ],
             [
              0.6666666666666666,
              "#ed7953"
             ],
             [
              0.7777777777777778,
              "#fb9f3a"
             ],
             [
              0.8888888888888888,
              "#fdca26"
             ],
             [
              1,
              "#f0f921"
             ]
            ],
            "type": "heatmap"
           }
          ],
          "heatmapgl": [
           {
            "colorbar": {
             "outlinewidth": 0,
             "ticks": ""
            },
            "colorscale": [
             [
              0,
              "#0d0887"
             ],
             [
              0.1111111111111111,
              "#46039f"
             ],
             [
              0.2222222222222222,
              "#7201a8"
             ],
             [
              0.3333333333333333,
              "#9c179e"
             ],
             [
              0.4444444444444444,
              "#bd3786"
             ],
             [
              0.5555555555555556,
              "#d8576b"
             ],
             [
              0.6666666666666666,
              "#ed7953"
             ],
             [
              0.7777777777777778,
              "#fb9f3a"
             ],
             [
              0.8888888888888888,
              "#fdca26"
             ],
             [
              1,
              "#f0f921"
             ]
            ],
            "type": "heatmapgl"
           }
          ],
          "histogram": [
           {
            "marker": {
             "pattern": {
              "fillmode": "overlay",
              "size": 10,
              "solidity": 0.2
             }
            },
            "type": "histogram"
           }
          ],
          "histogram2d": [
           {
            "colorbar": {
             "outlinewidth": 0,
             "ticks": ""
            },
            "colorscale": [
             [
              0,
              "#0d0887"
             ],
             [
              0.1111111111111111,
              "#46039f"
             ],
             [
              0.2222222222222222,
              "#7201a8"
             ],
             [
              0.3333333333333333,
              "#9c179e"
             ],
             [
              0.4444444444444444,
              "#bd3786"
             ],
             [
              0.5555555555555556,
              "#d8576b"
             ],
             [
              0.6666666666666666,
              "#ed7953"
             ],
             [
              0.7777777777777778,
              "#fb9f3a"
             ],
             [
              0.8888888888888888,
              "#fdca26"
             ],
             [
              1,
              "#f0f921"
             ]
            ],
            "type": "histogram2d"
           }
          ],
          "histogram2dcontour": [
           {
            "colorbar": {
             "outlinewidth": 0,
             "ticks": ""
            },
            "colorscale": [
             [
              0,
              "#0d0887"
             ],
             [
              0.1111111111111111,
              "#46039f"
             ],
             [
              0.2222222222222222,
              "#7201a8"
             ],
             [
              0.3333333333333333,
              "#9c179e"
             ],
             [
              0.4444444444444444,
              "#bd3786"
             ],
             [
              0.5555555555555556,
              "#d8576b"
             ],
             [
              0.6666666666666666,
              "#ed7953"
             ],
             [
              0.7777777777777778,
              "#fb9f3a"
             ],
             [
              0.8888888888888888,
              "#fdca26"
             ],
             [
              1,
              "#f0f921"
             ]
            ],
            "type": "histogram2dcontour"
           }
          ],
          "mesh3d": [
           {
            "colorbar": {
             "outlinewidth": 0,
             "ticks": ""
            },
            "type": "mesh3d"
           }
          ],
          "parcoords": [
           {
            "line": {
             "colorbar": {
              "outlinewidth": 0,
              "ticks": ""
             }
            },
            "type": "parcoords"
           }
          ],
          "pie": [
           {
            "automargin": true,
            "type": "pie"
           }
          ],
          "scatter": [
           {
            "fillpattern": {
             "fillmode": "overlay",
             "size": 10,
             "solidity": 0.2
            },
            "type": "scatter"
           }
          ],
          "scatter3d": [
           {
            "line": {
             "colorbar": {
              "outlinewidth": 0,
              "ticks": ""
             }
            },
            "marker": {
             "colorbar": {
              "outlinewidth": 0,
              "ticks": ""
             }
            },
            "type": "scatter3d"
           }
          ],
          "scattercarpet": [
           {
            "marker": {
             "colorbar": {
              "outlinewidth": 0,
              "ticks": ""
             }
            },
            "type": "scattercarpet"
           }
          ],
          "scattergeo": [
           {
            "marker": {
             "colorbar": {
              "outlinewidth": 0,
              "ticks": ""
             }
            },
            "type": "scattergeo"
           }
          ],
          "scattergl": [
           {
            "marker": {
             "colorbar": {
              "outlinewidth": 0,
              "ticks": ""
             }
            },
            "type": "scattergl"
           }
          ],
          "scattermapbox": [
           {
            "marker": {
             "colorbar": {
              "outlinewidth": 0,
              "ticks": ""
             }
            },
            "type": "scattermapbox"
           }
          ],
          "scatterpolar": [
           {
            "marker": {
             "colorbar": {
              "outlinewidth": 0,
              "ticks": ""
             }
            },
            "type": "scatterpolar"
           }
          ],
          "scatterpolargl": [
           {
            "marker": {
             "colorbar": {
              "outlinewidth": 0,
              "ticks": ""
             }
            },
            "type": "scatterpolargl"
           }
          ],
          "scatterternary": [
           {
            "marker": {
             "colorbar": {
              "outlinewidth": 0,
              "ticks": ""
             }
            },
            "type": "scatterternary"
           }
          ],
          "surface": [
           {
            "colorbar": {
             "outlinewidth": 0,
             "ticks": ""
            },
            "colorscale": [
             [
              0,
              "#0d0887"
             ],
             [
              0.1111111111111111,
              "#46039f"
             ],
             [
              0.2222222222222222,
              "#7201a8"
             ],
             [
              0.3333333333333333,
              "#9c179e"
             ],
             [
              0.4444444444444444,
              "#bd3786"
             ],
             [
              0.5555555555555556,
              "#d8576b"
             ],
             [
              0.6666666666666666,
              "#ed7953"
             ],
             [
              0.7777777777777778,
              "#fb9f3a"
             ],
             [
              0.8888888888888888,
              "#fdca26"
             ],
             [
              1,
              "#f0f921"
             ]
            ],
            "type": "surface"
           }
          ],
          "table": [
           {
            "cells": {
             "fill": {
              "color": "#EBF0F8"
             },
             "line": {
              "color": "white"
             }
            },
            "header": {
             "fill": {
              "color": "#C8D4E3"
             },
             "line": {
              "color": "white"
             }
            },
            "type": "table"
           }
          ]
         },
         "layout": {
          "annotationdefaults": {
           "arrowcolor": "#2a3f5f",
           "arrowhead": 0,
           "arrowwidth": 1
          },
          "autotypenumbers": "strict",
          "coloraxis": {
           "colorbar": {
            "outlinewidth": 0,
            "ticks": ""
           }
          },
          "colorscale": {
           "diverging": [
            [
             0,
             "#8e0152"
            ],
            [
             0.1,
             "#c51b7d"
            ],
            [
             0.2,
             "#de77ae"
            ],
            [
             0.3,
             "#f1b6da"
            ],
            [
             0.4,
             "#fde0ef"
            ],
            [
             0.5,
             "#f7f7f7"
            ],
            [
             0.6,
             "#e6f5d0"
            ],
            [
             0.7,
             "#b8e186"
            ],
            [
             0.8,
             "#7fbc41"
            ],
            [
             0.9,
             "#4d9221"
            ],
            [
             1,
             "#276419"
            ]
           ],
           "sequential": [
            [
             0,
             "#0d0887"
            ],
            [
             0.1111111111111111,
             "#46039f"
            ],
            [
             0.2222222222222222,
             "#7201a8"
            ],
            [
             0.3333333333333333,
             "#9c179e"
            ],
            [
             0.4444444444444444,
             "#bd3786"
            ],
            [
             0.5555555555555556,
             "#d8576b"
            ],
            [
             0.6666666666666666,
             "#ed7953"
            ],
            [
             0.7777777777777778,
             "#fb9f3a"
            ],
            [
             0.8888888888888888,
             "#fdca26"
            ],
            [
             1,
             "#f0f921"
            ]
           ],
           "sequentialminus": [
            [
             0,
             "#0d0887"
            ],
            [
             0.1111111111111111,
             "#46039f"
            ],
            [
             0.2222222222222222,
             "#7201a8"
            ],
            [
             0.3333333333333333,
             "#9c179e"
            ],
            [
             0.4444444444444444,
             "#bd3786"
            ],
            [
             0.5555555555555556,
             "#d8576b"
            ],
            [
             0.6666666666666666,
             "#ed7953"
            ],
            [
             0.7777777777777778,
             "#fb9f3a"
            ],
            [
             0.8888888888888888,
             "#fdca26"
            ],
            [
             1,
             "#f0f921"
            ]
           ]
          },
          "colorway": [
           "#636efa",
           "#EF553B",
           "#00cc96",
           "#ab63fa",
           "#FFA15A",
           "#19d3f3",
           "#FF6692",
           "#B6E880",
           "#FF97FF",
           "#FECB52"
          ],
          "font": {
           "color": "#2a3f5f"
          },
          "geo": {
           "bgcolor": "white",
           "lakecolor": "white",
           "landcolor": "#E5ECF6",
           "showlakes": true,
           "showland": true,
           "subunitcolor": "white"
          },
          "hoverlabel": {
           "align": "left"
          },
          "hovermode": "closest",
          "mapbox": {
           "style": "light"
          },
          "paper_bgcolor": "white",
          "plot_bgcolor": "#E5ECF6",
          "polar": {
           "angularaxis": {
            "gridcolor": "white",
            "linecolor": "white",
            "ticks": ""
           },
           "bgcolor": "#E5ECF6",
           "radialaxis": {
            "gridcolor": "white",
            "linecolor": "white",
            "ticks": ""
           }
          },
          "scene": {
           "xaxis": {
            "backgroundcolor": "#E5ECF6",
            "gridcolor": "white",
            "gridwidth": 2,
            "linecolor": "white",
            "showbackground": true,
            "ticks": "",
            "zerolinecolor": "white"
           },
           "yaxis": {
            "backgroundcolor": "#E5ECF6",
            "gridcolor": "white",
            "gridwidth": 2,
            "linecolor": "white",
            "showbackground": true,
            "ticks": "",
            "zerolinecolor": "white"
           },
           "zaxis": {
            "backgroundcolor": "#E5ECF6",
            "gridcolor": "white",
            "gridwidth": 2,
            "linecolor": "white",
            "showbackground": true,
            "ticks": "",
            "zerolinecolor": "white"
           }
          },
          "shapedefaults": {
           "line": {
            "color": "#2a3f5f"
           }
          },
          "ternary": {
           "aaxis": {
            "gridcolor": "white",
            "linecolor": "white",
            "ticks": ""
           },
           "baxis": {
            "gridcolor": "white",
            "linecolor": "white",
            "ticks": ""
           },
           "bgcolor": "#E5ECF6",
           "caxis": {
            "gridcolor": "white",
            "linecolor": "white",
            "ticks": ""
           }
          },
          "title": {
           "x": 0.05
          },
          "xaxis": {
           "automargin": true,
           "gridcolor": "white",
           "linecolor": "white",
           "ticks": "",
           "title": {
            "standoff": 15
           },
           "zerolinecolor": "white",
           "zerolinewidth": 2
          },
          "yaxis": {
           "automargin": true,
           "gridcolor": "white",
           "linecolor": "white",
           "ticks": "",
           "title": {
            "standoff": 15
           },
           "zerolinecolor": "white",
           "zerolinewidth": 2
          }
         }
        },
        "title": {
         "text": "3D Scatter Plot: Population, GDP, and Z-Value"
        }
       }
      }
     },
     "metadata": {},
     "output_type": "display_data"
    }
   ],
   "source": [
    "# Assuming you have a hypothetical 'z_value' column\n",
    "df['z_value'] = [10, 15, 8, 12, 9]\n",
    "\n",
    "fig = px.scatter_3d(df, x='population', y='gdp', z='z_value',\n",
    "                    color='country', title='3D Scatter Plot: Population, GDP, and Z-Value')\n",
    "fig.show()"
   ]
  }
 ],
 "metadata": {
  "kernelspec": {
   "display_name": ".venv",
   "language": "python",
   "name": "python3"
  },
  "language_info": {
   "codemirror_mode": {
    "name": "ipython",
    "version": 3
   },
   "file_extension": ".py",
   "mimetype": "text/x-python",
   "name": "python",
   "nbconvert_exporter": "python",
   "pygments_lexer": "ipython3",
   "version": "3.11.2"
  }
 },
 "nbformat": 4,
 "nbformat_minor": 2
}
